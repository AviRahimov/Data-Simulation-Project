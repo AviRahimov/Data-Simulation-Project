{
 "cells": [
  {
   "cell_type": "code",
   "execution_count": 83,
   "id": "f8491775",
   "metadata": {},
   "outputs": [],
   "source": [
    "import pandas as pd\n",
    "from matplotlib import pyplot as plt\n",
    "from matplotlib.animation import FuncAnimation\n",
    "import numpy as np\n",
    "import math\n",
    "from datetime import datetime\n",
    "import plotly.express as px"
   ]
  },
  {
   "cell_type": "code",
   "execution_count": 187,
   "id": "178e6434",
   "metadata": {},
   "outputs": [
    {
     "data": {
      "text/html": [
       "<div>\n",
       "<style scoped>\n",
       "    .dataframe tbody tr th:only-of-type {\n",
       "        vertical-align: middle;\n",
       "    }\n",
       "\n",
       "    .dataframe tbody tr th {\n",
       "        vertical-align: top;\n",
       "    }\n",
       "\n",
       "    .dataframe thead th {\n",
       "        text-align: right;\n",
       "    }\n",
       "</style>\n",
       "<table border=\"1\" class=\"dataframe\">\n",
       "  <thead>\n",
       "    <tr style=\"text-align: right;\">\n",
       "      <th></th>\n",
       "      <th>X</th>\n",
       "      <th>Y</th>\n",
       "      <th>Pressure</th>\n",
       "      <th>TiltX</th>\n",
       "      <th>TiltY</th>\n",
       "      <th>Time</th>\n",
       "    </tr>\n",
       "  </thead>\n",
       "  <tbody>\n",
       "    <tr>\n",
       "      <th>0</th>\n",
       "      <td>688.818570273704</td>\n",
       "      <td>526.514378</td>\n",
       "      <td>0.071031</td>\n",
       "      <td>-4515.0</td>\n",
       "      <td>2197.0</td>\n",
       "      <td>00:18.1988702</td>\n",
       "    </tr>\n",
       "    <tr>\n",
       "      <th>1</th>\n",
       "      <td>688.66058436309</td>\n",
       "      <td>525.724449</td>\n",
       "      <td>0.078355</td>\n",
       "      <td>-4515.0</td>\n",
       "      <td>2197.0</td>\n",
       "      <td>00:18.2144819</td>\n",
       "    </tr>\n",
       "    <tr>\n",
       "      <th>2</th>\n",
       "      <td>688.29195057166</td>\n",
       "      <td>523.670632</td>\n",
       "      <td>0.089586</td>\n",
       "      <td>-4515.0</td>\n",
       "      <td>2197.0</td>\n",
       "      <td>00:18.2302213</td>\n",
       "    </tr>\n",
       "    <tr>\n",
       "      <th>3</th>\n",
       "      <td>687.607344959002</td>\n",
       "      <td>520.405590</td>\n",
       "      <td>0.152819</td>\n",
       "      <td>-4515.0</td>\n",
       "      <td>2197.0</td>\n",
       "      <td>00:18.2458102</td>\n",
       "    </tr>\n",
       "    <tr>\n",
       "      <th>4</th>\n",
       "      <td>686.764753435732</td>\n",
       "      <td>517.719829</td>\n",
       "      <td>0.191394</td>\n",
       "      <td>-4515.0</td>\n",
       "      <td>2197.0</td>\n",
       "      <td>00:18.2613566</td>\n",
       "    </tr>\n",
       "    <tr>\n",
       "      <th>...</th>\n",
       "      <td>...</td>\n",
       "      <td>...</td>\n",
       "      <td>...</td>\n",
       "      <td>...</td>\n",
       "      <td>...</td>\n",
       "      <td>...</td>\n",
       "    </tr>\n",
       "    <tr>\n",
       "      <th>524</th>\n",
       "      <td>744.008315047927</td>\n",
       "      <td>252.882781</td>\n",
       "      <td>0.682612</td>\n",
       "      <td>-2757.0</td>\n",
       "      <td>-1514.0</td>\n",
       "      <td>00:27.5764537</td>\n",
       "    </tr>\n",
       "    <tr>\n",
       "      <th>525</th>\n",
       "      <td>745.324864303037</td>\n",
       "      <td>252.988105</td>\n",
       "      <td>0.672847</td>\n",
       "      <td>-2757.0</td>\n",
       "      <td>-1514.0</td>\n",
       "      <td>00:27.5920828</td>\n",
       "    </tr>\n",
       "    <tr>\n",
       "      <th>526</th>\n",
       "      <td>747.852638872849</td>\n",
       "      <td>253.304077</td>\n",
       "      <td>0.630610</td>\n",
       "      <td>-2757.0</td>\n",
       "      <td>-1514.0</td>\n",
       "      <td>00:27.6077052</td>\n",
       "    </tr>\n",
       "    <tr>\n",
       "      <th>527</th>\n",
       "      <td>Time Elapsed till drawing started: 00:04.9671808</td>\n",
       "      <td>NaN</td>\n",
       "      <td>NaN</td>\n",
       "      <td>NaN</td>\n",
       "      <td>NaN</td>\n",
       "      <td>NaN</td>\n",
       "    </tr>\n",
       "    <tr>\n",
       "      <th>528</th>\n",
       "      <td>Time Elapsed till drawing submit: 00:28.5419362</td>\n",
       "      <td>NaN</td>\n",
       "      <td>NaN</td>\n",
       "      <td>NaN</td>\n",
       "      <td>NaN</td>\n",
       "      <td>NaN</td>\n",
       "    </tr>\n",
       "  </tbody>\n",
       "</table>\n",
       "<p>529 rows × 6 columns</p>\n",
       "</div>"
      ],
      "text/plain": [
       "                                                    X           Y   Pressure  \\\n",
       "0                                    688.818570273704  526.514378   0.071031   \n",
       "1                                     688.66058436309  525.724449   0.078355   \n",
       "2                                     688.29195057166  523.670632   0.089586   \n",
       "3                                    687.607344959002  520.405590   0.152819   \n",
       "4                                    686.764753435732  517.719829   0.191394   \n",
       "..                                                ...         ...        ...   \n",
       "524                                  744.008315047927  252.882781   0.682612   \n",
       "525                                  745.324864303037  252.988105   0.672847   \n",
       "526                                  747.852638872849  253.304077   0.630610   \n",
       "527  Time Elapsed till drawing started: 00:04.9671808         NaN        NaN   \n",
       "528   Time Elapsed till drawing submit: 00:28.5419362         NaN        NaN   \n",
       "\n",
       "      TiltX   TiltY           Time  \n",
       "0   -4515.0  2197.0  00:18.1988702  \n",
       "1   -4515.0  2197.0  00:18.2144819  \n",
       "2   -4515.0  2197.0  00:18.2302213  \n",
       "3   -4515.0  2197.0  00:18.2458102  \n",
       "4   -4515.0  2197.0  00:18.2613566  \n",
       "..      ...     ...            ...  \n",
       "524 -2757.0 -1514.0  00:27.5764537  \n",
       "525 -2757.0 -1514.0  00:27.5920828  \n",
       "526 -2757.0 -1514.0  00:27.6077052  \n",
       "527     NaN     NaN            NaN  \n",
       "528     NaN     NaN            NaN  \n",
       "\n",
       "[529 rows x 6 columns]"
      ]
     },
     "execution_count": 187,
     "metadata": {},
     "output_type": "execute_result"
    }
   ],
   "source": [
    "df = pd.read_csv('draw_12.csv')\n",
    "df"
   ]
  },
  {
   "cell_type": "code",
   "execution_count": 190,
   "id": "55d3d63e",
   "metadata": {},
   "outputs": [
    {
     "data": {
      "text/plain": [
       "X             object\n",
       " Y           float64\n",
       " Pressure    float64\n",
       " TiltX       float64\n",
       " TiltY       float64\n",
       " Time         object\n",
       "dtype: object"
      ]
     },
     "execution_count": 190,
     "metadata": {},
     "output_type": "execute_result"
    }
   ],
   "source": [
    "df.dtypes"
   ]
  },
  {
   "cell_type": "code",
   "execution_count": 191,
   "id": "aa9c660f",
   "metadata": {},
   "outputs": [],
   "source": [
    "df['X'] = df['X'].loc[0:526].astype(float)\n",
    "# df[' Time'] = pd.to_datetime(df[' Time'])"
   ]
  },
  {
   "cell_type": "code",
   "execution_count": 192,
   "id": "7e802337",
   "metadata": {},
   "outputs": [],
   "source": [
    "Distance = []\n",
    "for i in range(529):\n",
    "    if(i==527 or i==528):\n",
    "        Distance.append(None)\n",
    "    else:\n",
    "        p1 = [df['X'].loc[i], df[' Y'].loc[i]]\n",
    "        p2 = [df['X'].loc[i+1], df[' Y'].loc[i+1]]\n",
    "        Distance.append(math.dist(p1, p2))\n",
    "df['Distance'] = Distance"
   ]
  },
  {
   "cell_type": "code",
   "execution_count": 193,
   "id": "309e778e",
   "metadata": {},
   "outputs": [
    {
     "data": {
      "text/html": [
       "<div>\n",
       "<style scoped>\n",
       "    .dataframe tbody tr th:only-of-type {\n",
       "        vertical-align: middle;\n",
       "    }\n",
       "\n",
       "    .dataframe tbody tr th {\n",
       "        vertical-align: top;\n",
       "    }\n",
       "\n",
       "    .dataframe thead th {\n",
       "        text-align: right;\n",
       "    }\n",
       "</style>\n",
       "<table border=\"1\" class=\"dataframe\">\n",
       "  <thead>\n",
       "    <tr style=\"text-align: right;\">\n",
       "      <th></th>\n",
       "      <th>X</th>\n",
       "      <th>Y</th>\n",
       "      <th>Pressure</th>\n",
       "      <th>TiltX</th>\n",
       "      <th>TiltY</th>\n",
       "      <th>Time</th>\n",
       "      <th>Distance</th>\n",
       "    </tr>\n",
       "  </thead>\n",
       "  <tbody>\n",
       "    <tr>\n",
       "      <th>0</th>\n",
       "      <td>688.818570</td>\n",
       "      <td>526.514378</td>\n",
       "      <td>0.071031</td>\n",
       "      <td>-4515.0</td>\n",
       "      <td>2197.0</td>\n",
       "      <td>00:18.1988702</td>\n",
       "      <td>0.805573</td>\n",
       "    </tr>\n",
       "    <tr>\n",
       "      <th>1</th>\n",
       "      <td>688.660584</td>\n",
       "      <td>525.724449</td>\n",
       "      <td>0.078355</td>\n",
       "      <td>-4515.0</td>\n",
       "      <td>2197.0</td>\n",
       "      <td>00:18.2144819</td>\n",
       "      <td>2.086637</td>\n",
       "    </tr>\n",
       "    <tr>\n",
       "      <th>2</th>\n",
       "      <td>688.291951</td>\n",
       "      <td>523.670632</td>\n",
       "      <td>0.089586</td>\n",
       "      <td>-4515.0</td>\n",
       "      <td>2197.0</td>\n",
       "      <td>00:18.2302213</td>\n",
       "      <td>3.336043</td>\n",
       "    </tr>\n",
       "    <tr>\n",
       "      <th>3</th>\n",
       "      <td>687.607345</td>\n",
       "      <td>520.405590</td>\n",
       "      <td>0.152819</td>\n",
       "      <td>-4515.0</td>\n",
       "      <td>2197.0</td>\n",
       "      <td>00:18.2458102</td>\n",
       "      <td>2.814830</td>\n",
       "    </tr>\n",
       "    <tr>\n",
       "      <th>4</th>\n",
       "      <td>686.764753</td>\n",
       "      <td>517.719829</td>\n",
       "      <td>0.191394</td>\n",
       "      <td>-4515.0</td>\n",
       "      <td>2197.0</td>\n",
       "      <td>00:18.2613566</td>\n",
       "      <td>3.326053</td>\n",
       "    </tr>\n",
       "    <tr>\n",
       "      <th>...</th>\n",
       "      <td>...</td>\n",
       "      <td>...</td>\n",
       "      <td>...</td>\n",
       "      <td>...</td>\n",
       "      <td>...</td>\n",
       "      <td>...</td>\n",
       "      <td>...</td>\n",
       "    </tr>\n",
       "    <tr>\n",
       "      <th>524</th>\n",
       "      <td>744.008315</td>\n",
       "      <td>252.882781</td>\n",
       "      <td>0.682612</td>\n",
       "      <td>-2757.0</td>\n",
       "      <td>-1514.0</td>\n",
       "      <td>00:27.5764537</td>\n",
       "      <td>1.320755</td>\n",
       "    </tr>\n",
       "    <tr>\n",
       "      <th>525</th>\n",
       "      <td>745.324864</td>\n",
       "      <td>252.988105</td>\n",
       "      <td>0.672847</td>\n",
       "      <td>-2757.0</td>\n",
       "      <td>-1514.0</td>\n",
       "      <td>00:27.5920828</td>\n",
       "      <td>2.547446</td>\n",
       "    </tr>\n",
       "    <tr>\n",
       "      <th>526</th>\n",
       "      <td>747.852639</td>\n",
       "      <td>253.304077</td>\n",
       "      <td>0.630610</td>\n",
       "      <td>-2757.0</td>\n",
       "      <td>-1514.0</td>\n",
       "      <td>00:27.6077052</td>\n",
       "      <td>NaN</td>\n",
       "    </tr>\n",
       "    <tr>\n",
       "      <th>527</th>\n",
       "      <td>NaN</td>\n",
       "      <td>NaN</td>\n",
       "      <td>NaN</td>\n",
       "      <td>NaN</td>\n",
       "      <td>NaN</td>\n",
       "      <td>NaN</td>\n",
       "      <td>NaN</td>\n",
       "    </tr>\n",
       "    <tr>\n",
       "      <th>528</th>\n",
       "      <td>NaN</td>\n",
       "      <td>NaN</td>\n",
       "      <td>NaN</td>\n",
       "      <td>NaN</td>\n",
       "      <td>NaN</td>\n",
       "      <td>NaN</td>\n",
       "      <td>NaN</td>\n",
       "    </tr>\n",
       "  </tbody>\n",
       "</table>\n",
       "<p>529 rows × 7 columns</p>\n",
       "</div>"
      ],
      "text/plain": [
       "              X           Y   Pressure   TiltX   TiltY           Time  \\\n",
       "0    688.818570  526.514378   0.071031 -4515.0  2197.0  00:18.1988702   \n",
       "1    688.660584  525.724449   0.078355 -4515.0  2197.0  00:18.2144819   \n",
       "2    688.291951  523.670632   0.089586 -4515.0  2197.0  00:18.2302213   \n",
       "3    687.607345  520.405590   0.152819 -4515.0  2197.0  00:18.2458102   \n",
       "4    686.764753  517.719829   0.191394 -4515.0  2197.0  00:18.2613566   \n",
       "..          ...         ...        ...     ...     ...            ...   \n",
       "524  744.008315  252.882781   0.682612 -2757.0 -1514.0  00:27.5764537   \n",
       "525  745.324864  252.988105   0.672847 -2757.0 -1514.0  00:27.5920828   \n",
       "526  747.852639  253.304077   0.630610 -2757.0 -1514.0  00:27.6077052   \n",
       "527         NaN         NaN        NaN     NaN     NaN            NaN   \n",
       "528         NaN         NaN        NaN     NaN     NaN            NaN   \n",
       "\n",
       "     Distance  \n",
       "0    0.805573  \n",
       "1    2.086637  \n",
       "2    3.336043  \n",
       "3    2.814830  \n",
       "4    3.326053  \n",
       "..        ...  \n",
       "524  1.320755  \n",
       "525  2.547446  \n",
       "526       NaN  \n",
       "527       NaN  \n",
       "528       NaN  \n",
       "\n",
       "[529 rows x 7 columns]"
      ]
     },
     "execution_count": 193,
     "metadata": {},
     "output_type": "execute_result"
    }
   ],
   "source": [
    "df"
   ]
  },
  {
   "cell_type": "code",
   "execution_count": 115,
   "id": "a0574891",
   "metadata": {},
   "outputs": [],
   "source": [
    "# for i in range(527):\n",
    "#     df[' Time'].loc[i] = df[' Time'].loc[i].strftime('%H:%M:%S')\n",
    "#     df[' Time'].loc[i] = df[' Time'].loc[i].strptime(df[' Time'].loc[i], '%H:%M:%S')"
   ]
  },
  {
   "cell_type": "code",
   "execution_count": 229,
   "id": "745916ce",
   "metadata": {},
   "outputs": [],
   "source": [
    "# datetime.strptime(df[' Time'].loc[0], \"%d/%m/%Y %H:%M:%S\")"
   ]
  },
  {
   "cell_type": "code",
   "execution_count": 230,
   "id": "9d06e278",
   "metadata": {},
   "outputs": [],
   "source": [
    "# df[' Time'] =\n",
    "# df[' Time'].loc[0].strftime('%H:%M:%S')"
   ]
  },
  {
   "cell_type": "code",
   "execution_count": 172,
   "id": "6dd00194",
   "metadata": {},
   "outputs": [
    {
     "data": {
      "text/plain": [
       "X            float64\n",
       " Y           float64\n",
       " Pressure    float64\n",
       " TiltX       float64\n",
       " TiltY       float64\n",
       " Time         object\n",
       "Distance     float64\n",
       "dtype: object"
      ]
     },
     "execution_count": 172,
     "metadata": {},
     "output_type": "execute_result"
    }
   ],
   "source": [
    "df.dtypes"
   ]
  },
  {
   "cell_type": "code",
   "execution_count": 159,
   "id": "83b1e1d6",
   "metadata": {},
   "outputs": [
    {
     "data": {
      "text/plain": [
       "<matplotlib.collections.PathCollection at 0x24e091003d0>"
      ]
     },
     "execution_count": 159,
     "metadata": {},
     "output_type": "execute_result"
    },
    {
     "data": {
      "image/png": "[encoded data removed]",
      "text/plain": [
       "<Figure size 432x288 with 1 Axes>"
      ]
     },
     "metadata": {
      "needs_background": "light"
     },
     "output_type": "display_data"
    }
   ],
   "source": [
    "plt.scatter(df['X'], df[' Y'], s = 15, c = 'b', marker = '.')"
   ]
  },
  {
   "cell_type": "code",
   "execution_count": 210,
   "id": "42d315f8",
   "metadata": {},
   "outputs": [
    {
     "data": {
      "application/vnd.plotly.v1+json": {
       "config": {
        "plotlyServerURL": "https://plot.ly"
       },
       "data": [
        {
         "line": {
          "color": "blue",
          "width": 2
         },
         "mode": "markers",
         "type": "scatter",
         "x": [
          688.818570273704,
          688.66058436309,
          688.29195057166,
          687.607344959002,
          686.764753435732,
          685.448204180621,
          684.131654925511,
          680.18200716018,
          679.392077607114,
          677.443584709551,
          669.43896523848,
          667.859106132348,
          662.487585171498,
          657.274050121261,
          650.638641875505,
          645.267120914655,
          639.684952072988,
          638.210416907264,
          633.470839588867,
          631.785656542326,
          622.569811756554,
          620.621318858991,
          613.459290911191,
          606.139277052777,
          599.187896985795,
          597.555375909458,
          592.815798591061,
          591.235939484929,
          586.285714285714,
          584.653193209377,
          579.808291950572,
          573.646841436655,
          572.172306270932,
          567.643376833353,
          561.113292528006,
          555.162489894907,
          553.845940639797,
          547.737152096085,
          546.683912691997,
          543.313546598914,
          542.154983254417,
          540.99641990992,
          534.203025753551,
          533.202448319667,
          529.252800554337,
          528.304885090657,
          526.356392193094,
          519.826307887747,
          515.823998152212,
          509.820533548909,
          508.76729414482,
          505.712899872965,
          504.764984409285,
          502.184547869269,
          501.23663240559,
          498.49820995496,
          497.602956461485,
          495.022519921469,
          494.127266427994,
          491.757477768795,
          489.177041228779,
          488.492435616122,
          486.701928629172,
          486.069984986719,
          484.121492089156,
          481.804365400162,
          481.277745698118,
          479.645224621781,
          477.4860838434,
          477.01212611156,
          473.852407899296,
          473.115140316434,
          470.79801362744,
          467.427647534357,
          466.479732070678,
          465.584478577203,
          461.740154752281,
          458.159140778381,
          454.420140893868,
          453.419563459984,
          448.258690379951,
          444.625014435847,
          441.623282134196,
          439.306155445202,
          438.884859683566,
          437.778958309274,
          437.410324517843,
          436.831042845594,
          436.462409054163,
          435.093197828849,
          433.355352812103,
          432.828733110059,
          762.440004619471,
          762.492666589675,
          761.966046887631,
          761.281441274974,
          760.386187781499,
          758.174385032914,
          755.435962582284,
          750.801709204296,
          745.008892481811,
          743.745005196905,
          738.584132116873,
          730.000230973553,
          727.946414135581,
          721.942949532279,
          712.253147014667,
          710.199330176695,
          702.563344497055,
          700.772837510105,
          695.295992608846,
          687.870654810024,
          686.02748585287,
          680.866612772837,
          679.076105785888,
          673.283289063402,
          663.962120337221,
          661.697655618432,
          654.746275551449,
          645.372444855064,
          637.262501443585,
          635.366670516226,
          629.152558032105,
          620.779304769604,
          613.037995149555,
          611.036840281788,
          604.61207991685,
          602.505601108673,
          596.554798475575,
          594.658967548216,
          589.076798706548,
          587.180967779189,
          581.388151056704,
          579.54498209955,
          574.331447049313,
          564.009700889248,
          562.166531932094,
          557.163644762675,
          551.528813950803,
          546.631250721792,
          541.839011433191,
          540.522462178081,
          536.625476382954,
          535.308927127844,
          531.359279362513,
          525.882434461254,
          524.88185702737,
          520.405589559995,
          519.14170227509,
          515.455364360781,
          510.241829310544,
          509.24125187666,
          506.450167455826,
          503.290449243562,
          502.658505601109,
          500.394040882319,
          499.604111329253,
          496.971012819032,
          493.12668899411,
          489.703660930823,
          488.861069407553,
          486.596604688763,
          483.752858297725,
          483.120914655272,
          481.277745698118,
          480.751125996073,
          479.381914770759,
          477.854717634831,
          477.538745813604,
          476.485506409516,
          476.274858528698,
          475.748238826654,
          474.37902760134,
          474.115717750318,
          473.273126227047,
          472.957154405821,
          471.851253031528,
          471.377295299688,
          470.113408014782,
          468.270239057628,
          466.479732070678,
          466.111098279247,
          465.005196904954,
          463.1620279478,
          462.846056126574,
          461.950802633098,
          460.844901258806,
          459.633675944104,
          459.317704122878,
          458.527774569812,
          458.053816837972,
          457.895830927359,
          457.895830927359,
          457.79050698695,
          457.79050698695,
          457.737845016746,
          457.527197135928,
          457.211225314701,
          455.894676059591,
          455.578704238365,
          454.578126804481,
          454.262154983254,
          453.314239519575,
          453.050929668553,
          452.366324055896,
          451.787042383647,
          451.155098741194,
          450.944450860376,
          450.733802979559,
          450.470493128537,
          509.399237787273,
          510.241829310544,
          511.03175886361,
          512.190322208107,
          512.980251761173,
          514.244139046079,
          515.666012241598,
          517.298533317935,
          519.089040304885,
          521.30084305347,
          522.512068368172,
          524.934518997575,
          526.251068252685,
          526.883011895138,
          530.358701928629,
          531.043307541286,
          533.307772260076,
          533.992377872734,
          535.466913038457,
          536.204180621319,
          540.785772029103,
          543.840166300959,
          544.524771913616,
          546.683912691997,
          547.368518304654,
          548.737729529969,
          549.422335142626,
          552.318743503869,
          552.898025176117,
          553.52996881857,
          554.056588520614,
          556.900334911653,
          559.691419332486,
          562.219193902298,
          562.798475574547,
          564.483658621088,
          565.010278323132,
          566.53747545906,
          567.0114331909,
          568.380644416214,
          568.80194017785,
          570.11848943296,
          570.539785194595,
          572.698925972976,
          573.646841436655,
          576.753897678716,
          579.281672248528,
          580.018939831389,
          582.915348192632,
          587.865573391847,
          588.760826885322,
          592.44716479963,
          597.713361820072,
          598.871925164569,
          602.084305347038,
          603.19020672133,
          606.297262963391,
          610.088924818108,
          610.931516341379,
          613.353966970782,
          615.987065481002,
          617.830234438157,
          618.356854140201,
          620.463332948377,
          621.253262501444,
          623.254417369211,
          625.729529968819,
          628.783924240674,
          629.257881972514,
          630.99572698926,
          631.627670631713,
          633.470839588867,
          636.419909920314,
          637.157177503176,
          639.263656311352,
          642.58136043423,
          646.057050467721,
          649.638064441621,
          650.480655964892,
          653.166416445317,
          656.378796627786,
          657.168726180852,
          659.907148631482,
          663.804134426608,
          666.279247026215,
          667.17450051969,
          670.597528582977,
          673.809908765446,
          677.285598798937,
          680.392655040998,
          683.078415521423,
          686.080147823074,
          686.659429495323,
          688.555260422682,
          691.293682873311,
          693.558147592101,
          694.242753204758,
          697.876429148862,
          698.719020672133,
          701.141471301536,
          701.931400854602,
          704.195865573392,
          707.618893636679,
          708.461485159949,
          711.09458367017,
          714.359625822843,
          717.414020094699,
          718.203949647765,
          720.573738306964,
          721.36366786003,
          723.62813257882,
          724.312738191477,
          726.419216999653,
          729.473611271509,
          732.422681602956,
          733.212611156023,
          735.529737845017,
          738.742118027486,
          739.637371520961,
          742.270470031181,
          746.799399468761,
          747.694652962236,
          751.591638757362,
          755.225314701467,
          758.227047003118,
          758.911652615775,
          760.702159602725,
          762.861300381106,
          765.073103129692,
          767.179581937868,
          767.706201639912,
          769.338722716249,
          773.393694421989,
          776.290102783231,
          776.974708395889,
          778.765215382839,
          780.819032220811,
          781.240327982446,
          782.71486314817,
          783.241482850214,
          784.663356045733,
          786.453863032683,
          788.297031989837,
          789.718905185356,
          791.878045963737,
          792.50998960619,
          794.511144473958,
          797.091581013974,
          800.251299226239,
          800.883242868691,
          802.147130153597,
          805.886130038111,
          808.203256727105,
          808.782538399353,
          810.204411594872,
          811.626284790392,
          811.626284790392,
          812.521538283866,
          813.574777687955,
          813.785425568772,
          814.048735419794,
          814.312045270817,
          814.996650883474,
          814.996650883474,
          455.684028178774,
          456.210647880818,
          457.053239404088,
          457.737845016746,
          458.633098510221,
          459.686337914309,
          461.055549139624,
          462.003464603303,
          463.793971590253,
          464.373253262501,
          464.636563113523,
          465.847788428225,
          466.163760249451,
          466.795703891904,
          467.164337683335,
          468.53354890865,
          468.954844670285,
          470.113408014782,
          470.482041806213,
          472.009238942141,
          472.535858644185,
          474.115717750318,
          476.432844439312,
          479.013280979328,
          480.277168264234,
          480.909111906687,
          483.278900565885,
          483.858182238134,
          486.175308927128,
          486.807252569581,
          488.492435616122,
          489.019055318166,
          490.49359048389,
          490.967548215729,
          492.494745351657,
          494.653886130038,
          495.180505832082,
          496.181083265966,
          497.550294491281,
          499.867421180275,
          501.183970435385,
          502.658505601109,
          504.133040766832,
          505.976209723987,
          506.344843515417,
          507.134773068484,
          508.925280055434,
          509.346575817069,
          511.400392655041,
          514.086153135466,
          514.718096777919,
          516.034646033029,
          517.561843168957,
          518.983716364476,
          521.195519113062,
          523.56530777226,
          526.356392193094,
          527.040997805751,
          528.989490703314,
          529.568772375563,
          531.780575124148,
          534.676983485391,
          537.678715787042,
          540.627786118489,
          541.365053701351,
          543.682180390345,
          544.419447973207,
          546.683912691997,
          550.370250606306,
          553.371982907957,
          557.532278554106,
          561.271278438619,
          564.74696847211,
          568.222658505601,
          569.065250028872,
          572.962235823998,
          573.752165377064,
          576.385263887285,
          580.124263771798,
          584.021249566925,
          587.918235362051,
          588.86615082573,
          591.657235246564,
          594.869615429033,
          598.187319551911,
          601.452361704585,
          606.402586903799,
          607.192516456866,
          608.877699503407,
          613.09065711976,
          613.880586672826,
          616.355699272433,
          619.884051276129,
          624.044346922277,
          625.097586326366,
          628.309966508835,
          629.415867883127,
          632.680910035801,
          633.734149439889,
          636.683219771336,
          637.578473264811,
          640.158909804827,
          643.739923778727,
          644.687839242407,
          647.426261693036,
          651.059937637141,
          654.588289640836,
          659.696500750664,
          665.594641413558,
          669.649613119298,
          672.809331331562,
          673.546598914424,
          675.863725603418,
          676.653655156485,
          678.918119875274,
          679.602725487932,
          681.656542325904,
          684.552950687146,
          685.342880240212,
          687.765330869615,
          690.819725141471,
          691.609654694537,
          695.45397851946,
          698.56103476152,
          699.350964314586,
          700.878161450514,
          704.195865573392,
          704.933133156254,
          707.197597875043,
          710.251992146899,
          710.989259729761,
          713.201062478346,
          713.938330061208,
          716.044808869385,
          718.888555260423,
          721.521653770643,
          722.100935442892,
          723.838780459637,
          725.892597297609,
          728.209723986604,
          728.789005658852,
          730.526850675598,
          731.053470377642,
          733.159949185818,
          733.739230858067,
          734.897794202564,
          735.424413904608,
          738.531470146668,
          739.216075759326,
          741.164568656889,
          744.008315047927,
          745.324864303037,
          747.852638872849,
          null,
          null
         ],
         "y": [
          526.514378103707,
          525.724448550641,
          523.670631712669,
          520.405589559995,
          517.71982907957,
          514.665434807715,
          512.032336297494,
          505.238942141125,
          503.922392886015,
          501.025984524772,
          490.01963275205,
          487.965815914078,
          480.645802055665,
          472.693844554798,
          463.1620279478,
          455.736690148978,
          447.152789005659,
          444.993648227278,
          438.56888786234,
          436.357085113754,
          425.350733341032,
          423.033606652038,
          414.660353389537,
          407.340339531124,
          401.284212957616,
          399.757015821688,
          395.754706086153,
          394.385494860838,
          390.593833006121,
          389.27728375101,
          385.274974015475,
          379.745467144012,
          378.428917888902,
          374.531932093775,
          369.265735073334,
          364.473495784733,
          363.420256380644,
          358.575355121839,
          357.785425568772,
          355.520960849983,
          354.88901720753,
          354.362397505486,
          351.044693382608,
          350.36008776995,
          347.990299110752,
          347.411017438503,
          346.199792123802,
          342.724102090311,
          340.775609192747,
          337.457905069869,
          336.773299457212,
          334.982792470262,
          334.350848827809,
          332.507679870655,
          332.086384109019,
          330.717172883705,
          330.190553181661,
          328.979327866959,
          328.558032105324,
          327.399468760827,
          325.819609654695,
          325.398313893059,
          324.397736459175,
          324.029102667745,
          322.870539323248,
          321.290680217115,
          320.922046425684,
          319.974130962005,
          318.552257766486,
          318.236285945259,
          316.287793047696,
          315.813835315856,
          314.54994803095,
          312.127497401548,
          311.548215729299,
          310.916272086846,
          308.388497517034,
          306.07137082804,
          304.228201870886,
          303.754244139046,
          301.911075181892,
          300.173230165146,
          298.804018939831,
          297.698117565539,
          297.434807714517,
          296.539554221042,
          296.170920429611,
          295.644300727567,
          295.32832890634,
          293.801131770412,
          292.115948723871,
          291.589329021827,
          486.227970897332,
          484.384801940178,
          481.0670978173,
          477.433421873196,
          472.58852061439,
          466.058436309043,
          461.160873080032,
          454.314816953459,
          446.204873541979,
          444.519690495438,
          438.147592100704,
          428.299803672479,
          425.982676983485,
          418.978634946299,
          408.077607113985,
          405.8658043654,
          396.807945490241,
          394.596142741656,
          388.066058436309,
          380.166762905647,
          378.376255918697,
          373.057396928052,
          371.319551911306,
          366.316664741887,
          359.575932555722,
          357.627439658159,
          352.519228548331,
          345.989144242984,
          339.827693729068,
          338.353158563344,
          334.403510798014,
          329.505947569003,
          324.029102667745,
          322.65989144243,
          318.499595796281,
          317.183046541171,
          313.444046656658,
          312.232821341956,
          308.441159487239,
          307.282596142742,
          303.964892019864,
          302.858990645571,
          299.646610463102,
          293.327174038573,
          292.379258574893,
          289.798822034877,
          286.323132001386,
          283.216075759326,
          280.688301189514,
          280.056357547061,
          278.265850560111,
          277.633906917658,
          275.896061900912,
          273.368287331101,
          272.894329599261,
          270.73518882088,
          270.313893059245,
          269.313315625361,
          267.62813257882,
          267.312160757593,
          266.153597413096,
          264.995034068599,
          264.626400277168,
          264.04711860492,
          263.783808753898,
          262.993879200831,
          261.940639796743,
          260.782076452246,
          260.518766601224,
          259.728837048158,
          258.359625822843,
          258.043654001617,
          257.095738537937,
          256.832428686915,
          256.200485044462,
          255.726527312623,
          255.673865342418,
          255.515879431805,
          255.515879431805,
          255.515879431805,
          255.410555491396,
          255.410555491396,
          255.410555491396,
          255.410555491396,
          255.252569580783,
          255.09458367017,
          254.725949878739,
          254.094006236286,
          253.30407668322,
          253.146090772607,
          252.619471070562,
          251.671555606883,
          251.566231666474,
          251.092273934634,
          250.512992262386,
          249.986372560342,
          249.933710590137,
          249.670400739115,
          249.459752858298,
          249.354428917889,
          249.354428917889,
          249.143781037071,
          249.143781037071,
          248.933133156254,
          248.511837394618,
          248.248527543596,
          247.616583901143,
          247.405936020326,
          246.879316318282,
          246.668668437464,
          246.089386765215,
          245.984062824807,
          245.615429033376,
          245.299457212149,
          244.983485390923,
          244.983485390923,
          244.983485390923,
          245.19413327174,
          506.871463217462,
          506.397505485622,
          505.870885783578,
          504.870308349694,
          504.185702737037,
          502.605843630904,
          501.289294375794,
          499.920083150479,
          498.287562074143,
          496.497055087193,
          495.496477653309,
          493.547984755745,
          492.389421411248,
          491.757477768795,
          488.913731377757,
          488.281787735304,
          486.859914539785,
          486.43861877815,
          485.543365284675,
          485.12206952304,
          482.752280863841,
          480.909111906687,
          480.382492204643,
          478.80263309851,
          478.276013396466,
          477.222773992378,
          476.696154290334,
          474.273703660931,
          473.694421988682,
          473.115140316434,
          472.641182584594,
          469.85009816376,
          467.322323593949,
          465.057858875159,
          464.531239173115,
          463.1620279478,
          462.793394156369,
          461.687492782076,
          461.37152096085,
          460.212957616353,
          459.791661854718,
          458.685760480425,
          458.317126688994,
          456.47395773184,
          455.578704238365,
          452.366324055896,
          450.15452130731,
          449.469915694653,
          447.416098856681,
          444.414366555029,
          443.887746852985,
          441.991915925627,
          439.516803326019,
          439.042845594179,
          437.62097239866,
          437.199676637025,
          435.777803441506,
          433.408014782307,
          432.72340916965,
          430.511606421065,
          428.194479732071,
          426.509296685529,
          426.03533895369,
          424.402817877353,
          423.718212264696,
          422.033029218155,
          419.821226469569,
          416.503522346691,
          415.871578704238,
          414.028409747084,
          413.396466104631,
          411.447973207068,
          409.183508488278,
          408.551564845825,
          406.866381799284,
          404.759902991108,
          402.495438272318,
          400.072987642915,
          399.546367940871,
          397.913846864534,
          395.491396235131,
          394.806790622474,
          391.752396350618,
          387.750086615083,
          385.32763598568,
          384.590368402818,
          381.904607922393,
          379.429495322786,
          377.481002425222,
          375.42718558725,
          373.057396928052,
          370.687608268853,
          370.108326596605,
          368.475805520268,
          366.316664741887,
          364.473495784733,
          363.946876082689,
          361.682411363899,
          361.155791661855,
          359.78658043654,
          359.259960734496,
          357.680101628364,
          355.994918581822,
          355.626284790391,
          354.41505947569,
          352.835200369558,
          351.097355352812,
          350.570735650768,
          348.990876544636,
          348.464256842592,
          346.77907379605,
          346.094468183393,
          344.303961196443,
          341.4075528352,
          338.511144473958,
          337.8265388613,
          335.878045963737,
          333.297609423721,
          332.770989721677,
          330.927820764522,
          328.084074373484,
          327.55745467144,
          325.76694768449,
          324.45039842938,
          323.449820995496,
          323.291835084883,
          322.607229472225,
          321.553990068137,
          320.184778842822,
          318.868229587712,
          318.552257766486,
          317.76232821342,
          316.761750779536,
          316.393116988105,
          316.3404550179,
          316.024483196674,
          315.708511375448,
          315.603187435039,
          315.287215613812,
          315.181891673403,
          314.813257881973,
          314.286638179928,
          313.70735650768,
          313.286060746045,
          312.443469222774,
          312.232821341956,
          311.864187550525,
          311.44289178889,
          310.863610116642,
          310.758286176233,
          310.547638295415,
          309.757708742349,
          309.231089040305,
          309.125765099896,
          308.757131308465,
          308.283173576625,
          308.283173576625,
          307.86187781499,
          306.913962351311,
          306.54532855988,
          306.229356738653,
          305.860722947223,
          305.281441274974,
          305.281441274974,
          469.639450282943,
          471.219309389075,
          472.061900912346,
          472.219886822959,
          472.377872733572,
          472.377872733572,
          472.061900912346,
          471.745929091119,
          471.061323478462,
          470.745351657235,
          470.534703776418,
          469.639450282943,
          469.376140431921,
          469.00750664049,
          468.849520729876,
          468.164915117219,
          468.006929206606,
          467.480309504562,
          467.269661623744,
          466.7430419217,
          466.585056011087,
          466.111098279247,
          465.268506755976,
          464.425915232706,
          464.004619471071,
          463.793971590253,
          463.004042037187,
          462.793394156369,
          462.056126573507,
          461.84547869269,
          461.318858990646,
          461.108211109828,
          460.634253377988,
          460.423605497171,
          459.791661854718,
          458.949070331447,
          458.580436540016,
          457.948492897563,
          456.947915463679,
          454.788774685299,
          453.208915579166,
          451.523732532625,
          449.733225545675,
          447.310774916272,
          446.889479154637,
          446.099549601571,
          444.414366555029,
          443.993070793394,
          442.623859568079,
          440.833352581129,
          440.412056819494,
          439.41147938561,
          437.568310428456,
          435.251183739462,
          431.828155676175,
          429.089733225546,
          425.982676983485,
          425.298071370828,
          423.191592562652,
          422.401663009585,
          420.453170112022,
          417.609423720984,
          414.449705508719,
          411.184663356046,
          410.39473380298,
          408.182931054394,
          407.393001501328,
          405.075874812334,
          401.284212957616,
          398.387804596374,
          394.64880471186,
          391.06779073796,
          387.276128883243,
          383.642452939138,
          382.747199445663,
          378.639565769719,
          377.902298186858,
          375.637833468068,
          372.583439196212,
          369.687030834969,
          366.895946414136,
          366.211340801478,
          364.315509874119,
          362.103707125534,
          359.891904376949,
          357.52211571775,
          354.046425684259,
          353.467144012011,
          352.097932786696,
          348.200946991569,
          347.305693498094,
          344.777918928283,
          341.4075528352,
          338.405820533549,
          337.668552950687,
          335.509412172306,
          334.824806559649,
          332.770989721677,
          332.033722138815,
          329.874581360434,
          329.189975747777,
          327.188820880009,
          324.608384339993,
          323.97644069754,
          322.080609770181,
          319.394849289756,
          316.709088809331,
          313.075412865227,
          308.651807368056,
          305.22877930477,
          302.332370943527,
          301.542441390461,
          299.330638641876,
          298.593371059014,
          296.328906340224,
          295.644300727567,
          293.748469800208,
          291.168033260192,
          290.536089617739,
          288.64025869038,
          285.954498209955,
          285.269892597298,
          281.794202563806,
          279.266427993995,
          278.687146321746,
          277.475921007045,
          274.737498556415,
          274.158216884167,
          272.683681718443,
          270.840512761289,
          270.419216999654,
          269.313315625361,
          268.94468183393,
          267.838780459637,
          266.416907264118,
          265.047696038804,
          264.679062247373,
          263.625822843284,
          262.098625707357,
          260.46610463102,
          260.097470839589,
          258.833583554683,
          258.359625822843,
          256.621780806098,
          256.200485044462,
          255.463217461601,
          255.09458367017,
          253.778034415059,
          253.567386534242,
          253.040766832198,
          252.882780921584,
          252.988104861993,
          253.30407668322,
          null,
          null
         ]
        },
        {
         "line": {
          "color": "blue",
          "width": 2
         },
         "mode": "markers",
         "type": "scatter",
         "x": [
          688.818570273704,
          688.66058436309,
          688.29195057166,
          687.607344959002,
          686.764753435732,
          685.448204180621,
          684.131654925511,
          680.18200716018,
          679.392077607114,
          677.443584709551,
          669.43896523848,
          667.859106132348,
          662.487585171498,
          657.274050121261,
          650.638641875505,
          645.267120914655,
          639.684952072988,
          638.210416907264,
          633.470839588867,
          631.785656542326,
          622.569811756554,
          620.621318858991,
          613.459290911191,
          606.139277052777,
          599.187896985795,
          597.555375909458,
          592.815798591061,
          591.235939484929,
          586.285714285714,
          584.653193209377,
          579.808291950572,
          573.646841436655,
          572.172306270932,
          567.643376833353,
          561.113292528006,
          555.162489894907,
          553.845940639797,
          547.737152096085,
          546.683912691997,
          543.313546598914,
          542.154983254417,
          540.99641990992,
          534.203025753551,
          533.202448319667,
          529.252800554337,
          528.304885090657,
          526.356392193094,
          519.826307887747,
          515.823998152212,
          509.820533548909,
          508.76729414482,
          505.712899872965,
          504.764984409285,
          502.184547869269,
          501.23663240559,
          498.49820995496,
          497.602956461485,
          495.022519921469,
          494.127266427994,
          491.757477768795,
          489.177041228779,
          488.492435616122,
          486.701928629172,
          486.069984986719,
          484.121492089156,
          481.804365400162,
          481.277745698118,
          479.645224621781,
          477.4860838434,
          477.01212611156,
          473.852407899296,
          473.115140316434,
          470.79801362744,
          467.427647534357,
          466.479732070678,
          465.584478577203,
          461.740154752281,
          458.159140778381,
          454.420140893868,
          453.419563459984,
          448.258690379951,
          444.625014435847,
          441.623282134196,
          439.306155445202,
          438.884859683566,
          437.778958309274,
          437.410324517843,
          436.831042845594,
          436.462409054163,
          435.093197828849,
          433.355352812103,
          432.828733110059,
          762.440004619471,
          762.492666589675,
          761.966046887631,
          761.281441274974,
          760.386187781499,
          758.174385032914,
          755.435962582284,
          750.801709204296,
          745.008892481811,
          743.745005196905,
          738.584132116873,
          730.000230973553,
          727.946414135581,
          721.942949532279,
          712.253147014667,
          710.199330176695,
          702.563344497055,
          700.772837510105,
          695.295992608846,
          687.870654810024,
          686.02748585287,
          680.866612772837,
          679.076105785888,
          673.283289063402,
          663.962120337221,
          661.697655618432,
          654.746275551449,
          645.372444855064,
          637.262501443585,
          635.366670516226,
          629.152558032105,
          620.779304769604,
          613.037995149555,
          611.036840281788,
          604.61207991685,
          602.505601108673,
          596.554798475575,
          594.658967548216,
          589.076798706548,
          587.180967779189,
          581.388151056704,
          579.54498209955,
          574.331447049313,
          564.009700889248,
          562.166531932094,
          557.163644762675,
          551.528813950803,
          546.631250721792,
          541.839011433191,
          540.522462178081,
          536.625476382954,
          535.308927127844,
          531.359279362513,
          525.882434461254,
          524.88185702737,
          520.405589559995,
          519.14170227509,
          515.455364360781,
          510.241829310544,
          509.24125187666,
          506.450167455826,
          503.290449243562,
          502.658505601109,
          500.394040882319,
          499.604111329253,
          496.971012819032,
          493.12668899411,
          489.703660930823,
          488.861069407553,
          486.596604688763,
          483.752858297725,
          483.120914655272,
          481.277745698118,
          480.751125996073,
          479.381914770759,
          477.854717634831,
          477.538745813604,
          476.485506409516,
          476.274858528698,
          475.748238826654,
          474.37902760134,
          474.115717750318,
          473.273126227047,
          472.957154405821,
          471.851253031528,
          471.377295299688,
          470.113408014782,
          468.270239057628,
          466.479732070678,
          466.111098279247,
          465.005196904954,
          463.1620279478,
          462.846056126574,
          461.950802633098,
          460.844901258806,
          459.633675944104,
          459.317704122878,
          458.527774569812,
          458.053816837972,
          457.895830927359,
          457.895830927359,
          457.79050698695,
          457.79050698695,
          457.737845016746,
          457.527197135928,
          457.211225314701,
          455.894676059591,
          455.578704238365,
          454.578126804481,
          454.262154983254,
          453.314239519575,
          453.050929668553,
          452.366324055896,
          451.787042383647,
          451.155098741194,
          450.944450860376,
          450.733802979559,
          450.470493128537,
          509.399237787273,
          510.241829310544,
          511.03175886361,
          512.190322208107,
          512.980251761173,
          514.244139046079,
          515.666012241598,
          517.298533317935,
          519.089040304885,
          521.30084305347,
          522.512068368172,
          524.934518997575,
          526.251068252685,
          526.883011895138,
          530.358701928629,
          531.043307541286,
          533.307772260076,
          533.992377872734,
          535.466913038457,
          536.204180621319,
          540.785772029103,
          543.840166300959,
          544.524771913616,
          546.683912691997,
          547.368518304654,
          548.737729529969,
          549.422335142626,
          552.318743503869,
          552.898025176117,
          553.52996881857,
          554.056588520614,
          556.900334911653,
          559.691419332486,
          562.219193902298,
          562.798475574547,
          564.483658621088,
          565.010278323132,
          566.53747545906,
          567.0114331909,
          568.380644416214,
          568.80194017785,
          570.11848943296,
          570.539785194595,
          572.698925972976,
          573.646841436655,
          576.753897678716,
          579.281672248528,
          580.018939831389,
          582.915348192632,
          587.865573391847,
          588.760826885322,
          592.44716479963,
          597.713361820072,
          598.871925164569,
          602.084305347038,
          603.19020672133,
          606.297262963391,
          610.088924818108,
          610.931516341379,
          613.353966970782,
          615.987065481002,
          617.830234438157,
          618.356854140201,
          620.463332948377,
          621.253262501444,
          623.254417369211,
          625.729529968819,
          628.783924240674,
          629.257881972514,
          630.99572698926,
          631.627670631713,
          633.470839588867,
          636.419909920314,
          637.157177503176,
          639.263656311352,
          642.58136043423,
          646.057050467721,
          649.638064441621,
          650.480655964892,
          653.166416445317,
          656.378796627786,
          657.168726180852,
          659.907148631482,
          663.804134426608,
          666.279247026215,
          667.17450051969,
          670.597528582977,
          673.809908765446,
          677.285598798937,
          680.392655040998,
          683.078415521423,
          686.080147823074,
          686.659429495323,
          688.555260422682,
          691.293682873311,
          693.558147592101,
          694.242753204758,
          697.876429148862,
          698.719020672133,
          701.141471301536,
          701.931400854602,
          704.195865573392,
          707.618893636679,
          708.461485159949,
          711.09458367017,
          714.359625822843,
          717.414020094699,
          718.203949647765,
          720.573738306964,
          721.36366786003,
          723.62813257882,
          724.312738191477,
          726.419216999653,
          729.473611271509,
          732.422681602956,
          733.212611156023,
          735.529737845017,
          738.742118027486,
          739.637371520961,
          742.270470031181,
          746.799399468761,
          747.694652962236,
          751.591638757362,
          755.225314701467,
          758.227047003118,
          758.911652615775,
          760.702159602725,
          762.861300381106,
          765.073103129692,
          767.179581937868,
          767.706201639912,
          769.338722716249,
          773.393694421989,
          776.290102783231,
          776.974708395889,
          778.765215382839,
          780.819032220811,
          781.240327982446,
          782.71486314817,
          783.241482850214,
          784.663356045733,
          786.453863032683,
          788.297031989837,
          789.718905185356,
          791.878045963737,
          792.50998960619,
          794.511144473958,
          797.091581013974,
          800.251299226239,
          800.883242868691,
          802.147130153597,
          805.886130038111,
          808.203256727105,
          808.782538399353,
          810.204411594872,
          811.626284790392,
          811.626284790392,
          812.521538283866,
          813.574777687955,
          813.785425568772,
          814.048735419794,
          814.312045270817,
          814.996650883474,
          814.996650883474,
          455.684028178774,
          456.210647880818,
          457.053239404088,
          457.737845016746,
          458.633098510221,
          459.686337914309,
          461.055549139624,
          462.003464603303,
          463.793971590253,
          464.373253262501,
          464.636563113523,
          465.847788428225,
          466.163760249451,
          466.795703891904,
          467.164337683335,
          468.53354890865,
          468.954844670285,
          470.113408014782,
          470.482041806213,
          472.009238942141,
          472.535858644185,
          474.115717750318,
          476.432844439312,
          479.013280979328,
          480.277168264234,
          480.909111906687,
          483.278900565885,
          483.858182238134,
          486.175308927128,
          486.807252569581,
          488.492435616122,
          489.019055318166,
          490.49359048389,
          490.967548215729,
          492.494745351657,
          494.653886130038,
          495.180505832082,
          496.181083265966,
          497.550294491281,
          499.867421180275,
          501.183970435385,
          502.658505601109,
          504.133040766832,
          505.976209723987,
          506.344843515417,
          507.134773068484,
          508.925280055434,
          509.346575817069,
          511.400392655041,
          514.086153135466,
          514.718096777919,
          516.034646033029,
          517.561843168957,
          518.983716364476,
          521.195519113062,
          523.56530777226,
          526.356392193094,
          527.040997805751,
          528.989490703314,
          529.568772375563,
          531.780575124148,
          534.676983485391,
          537.678715787042,
          540.627786118489,
          541.365053701351,
          543.682180390345,
          544.419447973207,
          546.683912691997,
          550.370250606306,
          553.371982907957,
          557.532278554106,
          561.271278438619,
          564.74696847211,
          568.222658505601,
          569.065250028872,
          572.962235823998,
          573.752165377064,
          576.385263887285,
          580.124263771798,
          584.021249566925,
          587.918235362051,
          588.86615082573,
          591.657235246564,
          594.869615429033,
          598.187319551911,
          601.452361704585,
          606.402586903799,
          607.192516456866,
          608.877699503407,
          613.09065711976,
          613.880586672826,
          616.355699272433,
          619.884051276129,
          624.044346922277,
          625.097586326366,
          628.309966508835,
          629.415867883127,
          632.680910035801,
          633.734149439889,
          636.683219771336,
          637.578473264811,
          640.158909804827,
          643.739923778727,
          644.687839242407,
          647.426261693036,
          651.059937637141,
          654.588289640836,
          659.696500750664,
          665.594641413558,
          669.649613119298,
          672.809331331562,
          673.546598914424,
          675.863725603418,
          676.653655156485,
          678.918119875274,
          679.602725487932,
          681.656542325904,
          684.552950687146,
          685.342880240212,
          687.765330869615,
          690.819725141471,
          691.609654694537,
          695.45397851946,
          698.56103476152,
          699.350964314586,
          700.878161450514,
          704.195865573392,
          704.933133156254,
          707.197597875043,
          710.251992146899,
          710.989259729761,
          713.201062478346,
          713.938330061208,
          716.044808869385,
          718.888555260423,
          721.521653770643,
          722.100935442892,
          723.838780459637,
          725.892597297609,
          728.209723986604,
          728.789005658852,
          730.526850675598,
          731.053470377642,
          733.159949185818,
          733.739230858067,
          734.897794202564,
          735.424413904608,
          738.531470146668,
          739.216075759326,
          741.164568656889,
          744.008315047927,
          745.324864303037,
          747.852638872849,
          null,
          null
         ],
         "y": [
          526.514378103707,
          525.724448550641,
          523.670631712669,
          520.405589559995,
          517.71982907957,
          514.665434807715,
          512.032336297494,
          505.238942141125,
          503.922392886015,
          501.025984524772,
          490.01963275205,
          487.965815914078,
          480.645802055665,
          472.693844554798,
          463.1620279478,
          455.736690148978,
          447.152789005659,
          444.993648227278,
          438.56888786234,
          436.357085113754,
          425.350733341032,
          423.033606652038,
          414.660353389537,
          407.340339531124,
          401.284212957616,
          399.757015821688,
          395.754706086153,
          394.385494860838,
          390.593833006121,
          389.27728375101,
          385.274974015475,
          379.745467144012,
          378.428917888902,
          374.531932093775,
          369.265735073334,
          364.473495784733,
          363.420256380644,
          358.575355121839,
          357.785425568772,
          355.520960849983,
          354.88901720753,
          354.362397505486,
          351.044693382608,
          350.36008776995,
          347.990299110752,
          347.411017438503,
          346.199792123802,
          342.724102090311,
          340.775609192747,
          337.457905069869,
          336.773299457212,
          334.982792470262,
          334.350848827809,
          332.507679870655,
          332.086384109019,
          330.717172883705,
          330.190553181661,
          328.979327866959,
          328.558032105324,
          327.399468760827,
          325.819609654695,
          325.398313893059,
          324.397736459175,
          324.029102667745,
          322.870539323248,
          321.290680217115,
          320.922046425684,
          319.974130962005,
          318.552257766486,
          318.236285945259,
          316.287793047696,
          315.813835315856,
          314.54994803095,
          312.127497401548,
          311.548215729299,
          310.916272086846,
          308.388497517034,
          306.07137082804,
          304.228201870886,
          303.754244139046,
          301.911075181892,
          300.173230165146,
          298.804018939831,
          297.698117565539,
          297.434807714517,
          296.539554221042,
          296.170920429611,
          295.644300727567,
          295.32832890634,
          293.801131770412,
          292.115948723871,
          291.589329021827,
          486.227970897332,
          484.384801940178,
          481.0670978173,
          477.433421873196,
          472.58852061439,
          466.058436309043,
          461.160873080032,
          454.314816953459,
          446.204873541979,
          444.519690495438,
          438.147592100704,
          428.299803672479,
          425.982676983485,
          418.978634946299,
          408.077607113985,
          405.8658043654,
          396.807945490241,
          394.596142741656,
          388.066058436309,
          380.166762905647,
          378.376255918697,
          373.057396928052,
          371.319551911306,
          366.316664741887,
          359.575932555722,
          357.627439658159,
          352.519228548331,
          345.989144242984,
          339.827693729068,
          338.353158563344,
          334.403510798014,
          329.505947569003,
          324.029102667745,
          322.65989144243,
          318.499595796281,
          317.183046541171,
          313.444046656658,
          312.232821341956,
          308.441159487239,
          307.282596142742,
          303.964892019864,
          302.858990645571,
          299.646610463102,
          293.327174038573,
          292.379258574893,
          289.798822034877,
          286.323132001386,
          283.216075759326,
          280.688301189514,
          280.056357547061,
          278.265850560111,
          277.633906917658,
          275.896061900912,
          273.368287331101,
          272.894329599261,
          270.73518882088,
          270.313893059245,
          269.313315625361,
          267.62813257882,
          267.312160757593,
          266.153597413096,
          264.995034068599,
          264.626400277168,
          264.04711860492,
          263.783808753898,
          262.993879200831,
          261.940639796743,
          260.782076452246,
          260.518766601224,
          259.728837048158,
          258.359625822843,
          258.043654001617,
          257.095738537937,
          256.832428686915,
          256.200485044462,
          255.726527312623,
          255.673865342418,
          255.515879431805,
          255.515879431805,
          255.515879431805,
          255.410555491396,
          255.410555491396,
          255.410555491396,
          255.410555491396,
          255.252569580783,
          255.09458367017,
          254.725949878739,
          254.094006236286,
          253.30407668322,
          253.146090772607,
          252.619471070562,
          251.671555606883,
          251.566231666474,
          251.092273934634,
          250.512992262386,
          249.986372560342,
          249.933710590137,
          249.670400739115,
          249.459752858298,
          249.354428917889,
          249.354428917889,
          249.143781037071,
          249.143781037071,
          248.933133156254,
          248.511837394618,
          248.248527543596,
          247.616583901143,
          247.405936020326,
          246.879316318282,
          246.668668437464,
          246.089386765215,
          245.984062824807,
          245.615429033376,
          245.299457212149,
          244.983485390923,
          244.983485390923,
          244.983485390923,
          245.19413327174,
          506.871463217462,
          506.397505485622,
          505.870885783578,
          504.870308349694,
          504.185702737037,
          502.605843630904,
          501.289294375794,
          499.920083150479,
          498.287562074143,
          496.497055087193,
          495.496477653309,
          493.547984755745,
          492.389421411248,
          491.757477768795,
          488.913731377757,
          488.281787735304,
          486.859914539785,
          486.43861877815,
          485.543365284675,
          485.12206952304,
          482.752280863841,
          480.909111906687,
          480.382492204643,
          478.80263309851,
          478.276013396466,
          477.222773992378,
          476.696154290334,
          474.273703660931,
          473.694421988682,
          473.115140316434,
          472.641182584594,
          469.85009816376,
          467.322323593949,
          465.057858875159,
          464.531239173115,
          463.1620279478,
          462.793394156369,
          461.687492782076,
          461.37152096085,
          460.212957616353,
          459.791661854718,
          458.685760480425,
          458.317126688994,
          456.47395773184,
          455.578704238365,
          452.366324055896,
          450.15452130731,
          449.469915694653,
          447.416098856681,
          444.414366555029,
          443.887746852985,
          441.991915925627,
          439.516803326019,
          439.042845594179,
          437.62097239866,
          437.199676637025,
          435.777803441506,
          433.408014782307,
          432.72340916965,
          430.511606421065,
          428.194479732071,
          426.509296685529,
          426.03533895369,
          424.402817877353,
          423.718212264696,
          422.033029218155,
          419.821226469569,
          416.503522346691,
          415.871578704238,
          414.028409747084,
          413.396466104631,
          411.447973207068,
          409.183508488278,
          408.551564845825,
          406.866381799284,
          404.759902991108,
          402.495438272318,
          400.072987642915,
          399.546367940871,
          397.913846864534,
          395.491396235131,
          394.806790622474,
          391.752396350618,
          387.750086615083,
          385.32763598568,
          384.590368402818,
          381.904607922393,
          379.429495322786,
          377.481002425222,
          375.42718558725,
          373.057396928052,
          370.687608268853,
          370.108326596605,
          368.475805520268,
          366.316664741887,
          364.473495784733,
          363.946876082689,
          361.682411363899,
          361.155791661855,
          359.78658043654,
          359.259960734496,
          357.680101628364,
          355.994918581822,
          355.626284790391,
          354.41505947569,
          352.835200369558,
          351.097355352812,
          350.570735650768,
          348.990876544636,
          348.464256842592,
          346.77907379605,
          346.094468183393,
          344.303961196443,
          341.4075528352,
          338.511144473958,
          337.8265388613,
          335.878045963737,
          333.297609423721,
          332.770989721677,
          330.927820764522,
          328.084074373484,
          327.55745467144,
          325.76694768449,
          324.45039842938,
          323.449820995496,
          323.291835084883,
          322.607229472225,
          321.553990068137,
          320.184778842822,
          318.868229587712,
          318.552257766486,
          317.76232821342,
          316.761750779536,
          316.393116988105,
          316.3404550179,
          316.024483196674,
          315.708511375448,
          315.603187435039,
          315.287215613812,
          315.181891673403,
          314.813257881973,
          314.286638179928,
          313.70735650768,
          313.286060746045,
          312.443469222774,
          312.232821341956,
          311.864187550525,
          311.44289178889,
          310.863610116642,
          310.758286176233,
          310.547638295415,
          309.757708742349,
          309.231089040305,
          309.125765099896,
          308.757131308465,
          308.283173576625,
          308.283173576625,
          307.86187781499,
          306.913962351311,
          306.54532855988,
          306.229356738653,
          305.860722947223,
          305.281441274974,
          305.281441274974,
          469.639450282943,
          471.219309389075,
          472.061900912346,
          472.219886822959,
          472.377872733572,
          472.377872733572,
          472.061900912346,
          471.745929091119,
          471.061323478462,
          470.745351657235,
          470.534703776418,
          469.639450282943,
          469.376140431921,
          469.00750664049,
          468.849520729876,
          468.164915117219,
          468.006929206606,
          467.480309504562,
          467.269661623744,
          466.7430419217,
          466.585056011087,
          466.111098279247,
          465.268506755976,
          464.425915232706,
          464.004619471071,
          463.793971590253,
          463.004042037187,
          462.793394156369,
          462.056126573507,
          461.84547869269,
          461.318858990646,
          461.108211109828,
          460.634253377988,
          460.423605497171,
          459.791661854718,
          458.949070331447,
          458.580436540016,
          457.948492897563,
          456.947915463679,
          454.788774685299,
          453.208915579166,
          451.523732532625,
          449.733225545675,
          447.310774916272,
          446.889479154637,
          446.099549601571,
          444.414366555029,
          443.993070793394,
          442.623859568079,
          440.833352581129,
          440.412056819494,
          439.41147938561,
          437.568310428456,
          435.251183739462,
          431.828155676175,
          429.089733225546,
          425.982676983485,
          425.298071370828,
          423.191592562652,
          422.401663009585,
          420.453170112022,
          417.609423720984,
          414.449705508719,
          411.184663356046,
          410.39473380298,
          408.182931054394,
          407.393001501328,
          405.075874812334,
          401.284212957616,
          398.387804596374,
          394.64880471186,
          391.06779073796,
          387.276128883243,
          383.642452939138,
          382.747199445663,
          378.639565769719,
          377.902298186858,
          375.637833468068,
          372.583439196212,
          369.687030834969,
          366.895946414136,
          366.211340801478,
          364.315509874119,
          362.103707125534,
          359.891904376949,
          357.52211571775,
          354.046425684259,
          353.467144012011,
          352.097932786696,
          348.200946991569,
          347.305693498094,
          344.777918928283,
          341.4075528352,
          338.405820533549,
          337.668552950687,
          335.509412172306,
          334.824806559649,
          332.770989721677,
          332.033722138815,
          329.874581360434,
          329.189975747777,
          327.188820880009,
          324.608384339993,
          323.97644069754,
          322.080609770181,
          319.394849289756,
          316.709088809331,
          313.075412865227,
          308.651807368056,
          305.22877930477,
          302.332370943527,
          301.542441390461,
          299.330638641876,
          298.593371059014,
          296.328906340224,
          295.644300727567,
          293.748469800208,
          291.168033260192,
          290.536089617739,
          288.64025869038,
          285.954498209955,
          285.269892597298,
          281.794202563806,
          279.266427993995,
          278.687146321746,
          277.475921007045,
          274.737498556415,
          274.158216884167,
          272.683681718443,
          270.840512761289,
          270.419216999654,
          269.313315625361,
          268.94468183393,
          267.838780459637,
          266.416907264118,
          265.047696038804,
          264.679062247373,
          263.625822843284,
          262.098625707357,
          260.46610463102,
          260.097470839589,
          258.833583554683,
          258.359625822843,
          256.621780806098,
          256.200485044462,
          255.463217461601,
          255.09458367017,
          253.778034415059,
          253.567386534242,
          253.040766832198,
          252.882780921584,
          252.988104861993,
          253.30407668322,
          null,
          null
         ]
        }
       ],
       "frames": [
        {
         "data": [
          {
           "marker": {
            "color": "red",
            "size": 15
           },
           "mode": "markers",
           "type": "scatter",
           "x": [
            688.818570273704
           ],
           "y": [
            526.514378103707
           ]
          }
         ]
        },
        {
         "data": [
          {
           "marker": {
            "color": "red",
            "size": 15
           },
           "mode": "markers",
           "type": "scatter",
           "x": [
            688.66058436309
           ],
           "y": [
            525.724448550641
           ]
          }
         ]
        },
        {
         "data": [
          {
           "marker": {
            "color": "red",
            "size": 15
           },
           "mode": "markers",
           "type": "scatter",
           "x": [
            688.29195057166
           ],
           "y": [
            523.670631712669
           ]
          }
         ]
        },
        {
         "data": [
          {
           "marker": {
            "color": "red",
            "size": 15
           },
           "mode": "markers",
           "type": "scatter",
           "x": [
            687.607344959002
           ],
           "y": [
            520.405589559995
           ]
          }
         ]
        },
        {
         "data": [
          {
           "marker": {
            "color": "red",
            "size": 15
           },
           "mode": "markers",
           "type": "scatter",
           "x": [
            686.764753435732
           ],
           "y": [
            517.71982907957
           ]
          }
         ]
        },
        {
         "data": [
          {
           "marker": {
            "color": "red",
            "size": 15
           },
           "mode": "markers",
           "type": "scatter",
           "x": [
            685.448204180621
           ],
           "y": [
            514.665434807715
           ]
          }
         ]
        },
        {
         "data": [
          {
           "marker": {
            "color": "red",
            "size": 15
           },
           "mode": "markers",
           "type": "scatter",
           "x": [
            684.131654925511
           ],
           "y": [
            512.032336297494
           ]
          }
         ]
        },
        {
         "data": [
          {
           "marker": {
            "color": "red",
            "size": 15
           },
           "mode": "markers",
           "type": "scatter",
           "x": [
            680.18200716018
           ],
           "y": [
            505.238942141125
           ]
          }
         ]
        },
        {
         "data": [
          {
           "marker": {
            "color": "red",
            "size": 15
           },
           "mode": "markers",
           "type": "scatter",
           "x": [
            679.392077607114
           ],
           "y": [
            503.922392886015
           ]
          }
         ]
        },
        {
         "data": [
          {
           "marker": {
            "color": "red",
            "size": 15
           },
           "mode": "markers",
           "type": "scatter",
           "x": [
            677.443584709551
           ],
           "y": [
            501.025984524772
           ]
          }
         ]
        },
        {
         "data": [
          {
           "marker": {
            "color": "red",
            "size": 15
           },
           "mode": "markers",
           "type": "scatter",
           "x": [
            669.43896523848
           ],
           "y": [
            490.01963275205
           ]
          }
         ]
        },
        {
         "data": [
          {
           "marker": {
            "color": "red",
            "size": 15
           },
           "mode": "markers",
           "type": "scatter",
           "x": [
            667.859106132348
           ],
           "y": [
            487.965815914078
           ]
          }
         ]
        },
        {
         "data": [
          {
           "marker": {
            "color": "red",
            "size": 15
           },
           "mode": "markers",
           "type": "scatter",
           "x": [
            662.487585171498
           ],
           "y": [
            480.645802055665
           ]
          }
         ]
        },
        {
         "data": [
          {
           "marker": {
            "color": "red",
            "size": 15
           },
           "mode": "markers",
           "type": "scatter",
           "x": [
            657.274050121261
           ],
           "y": [
            472.693844554798
           ]
          }
         ]
        },
        {
         "data": [
          {
           "marker": {
            "color": "red",
            "size": 15
           },
           "mode": "markers",
           "type": "scatter",
           "x": [
            650.638641875505
           ],
           "y": [
            463.1620279478
           ]
          }
         ]
        },
        {
         "data": [
          {
           "marker": {
            "color": "red",
            "size": 15
           },
           "mode": "markers",
           "type": "scatter",
           "x": [
            645.267120914655
           ],
           "y": [
            455.736690148978
           ]
          }
         ]
        },
        {
         "data": [
          {
           "marker": {
            "color": "red",
            "size": 15
           },
           "mode": "markers",
           "type": "scatter",
           "x": [
            639.684952072988
           ],
           "y": [
            447.152789005659
           ]
          }
         ]
        },
        {
         "data": [
          {
           "marker": {
            "color": "red",
            "size": 15
           },
           "mode": "markers",
           "type": "scatter",
           "x": [
            638.210416907264
           ],
           "y": [
            444.993648227278
           ]
          }
         ]
        },
        {
         "data": [
          {
           "marker": {
            "color": "red",
            "size": 15
           },
           "mode": "markers",
           "type": "scatter",
           "x": [
            633.470839588867
           ],
           "y": [
            438.56888786234
           ]
          }
         ]
        },
        {
         "data": [
          {
           "marker": {
            "color": "red",
            "size": 15
           },
           "mode": "markers",
           "type": "scatter",
           "x": [
            631.785656542326
           ],
           "y": [
            436.357085113754
           ]
          }
         ]
        },
        {
         "data": [
          {
           "marker": {
            "color": "red",
            "size": 15
           },
           "mode": "markers",
           "type": "scatter",
           "x": [
            622.569811756554
           ],
           "y": [
            425.350733341032
           ]
          }
         ]
        },
        {
         "data": [
          {
           "marker": {
            "color": "red",
            "size": 15
           },
           "mode": "markers",
           "type": "scatter",
           "x": [
            620.621318858991
           ],
           "y": [
            423.033606652038
           ]
          }
         ]
        },
        {
         "data": [
          {
           "marker": {
            "color": "red",
            "size": 15
           },
           "mode": "markers",
           "type": "scatter",
           "x": [
            613.459290911191
           ],
           "y": [
            414.660353389537
           ]
          }
         ]
        },
        {
         "data": [
          {
           "marker": {
            "color": "red",
            "size": 15
           },
           "mode": "markers",
           "type": "scatter",
           "x": [
            606.139277052777
           ],
           "y": [
            407.340339531124
           ]
          }
         ]
        },
        {
         "data": [
          {
           "marker": {
            "color": "red",
            "size": 15
           },
           "mode": "markers",
           "type": "scatter",
           "x": [
            599.187896985795
           ],
           "y": [
            401.284212957616
           ]
          }
         ]
        },
        {
         "data": [
          {
           "marker": {
            "color": "red",
            "size": 15
           },
           "mode": "markers",
           "type": "scatter",
           "x": [
            597.555375909458
           ],
           "y": [
            399.757015821688
           ]
          }
         ]
        },
        {
         "data": [
          {
           "marker": {
            "color": "red",
            "size": 15
           },
           "mode": "markers",
           "type": "scatter",
           "x": [
            592.815798591061
           ],
           "y": [
            395.754706086153
           ]
          }
         ]
        },
        {
         "data": [
          {
           "marker": {
            "color": "red",
            "size": 15
           },
           "mode": "markers",
           "type": "scatter",
           "x": [
            591.235939484929
           ],
           "y": [
            394.385494860838
           ]
          }
         ]
        },
        {
         "data": [
          {
           "marker": {
            "color": "red",
            "size": 15
           },
           "mode": "markers",
           "type": "scatter",
           "x": [
            586.285714285714
           ],
           "y": [
            390.593833006121
           ]
          }
         ]
        },
        {
         "data": [
          {
           "marker": {
            "color": "red",
            "size": 15
           },
           "mode": "markers",
           "type": "scatter",
           "x": [
            584.653193209377
           ],
           "y": [
            389.27728375101
           ]
          }
         ]
        },
        {
         "data": [
          {
           "marker": {
            "color": "red",
            "size": 15
           },
           "mode": "markers",
           "type": "scatter",
           "x": [
            579.808291950572
           ],
           "y": [
            385.274974015475
           ]
          }
         ]
        },
        {
         "data": [
          {
           "marker": {
            "color": "red",
            "size": 15
           },
           "mode": "markers",
           "type": "scatter",
           "x": [
            573.646841436655
           ],
           "y": [
            379.745467144012
           ]
          }
         ]
        },
        {
         "data": [
          {
           "marker": {
            "color": "red",
            "size": 15
           },
           "mode": "markers",
           "type": "scatter",
           "x": [
            572.172306270932
           ],
           "y": [
            378.428917888902
           ]
          }
         ]
        },
        {
         "data": [
          {
           "marker": {
            "color": "red",
            "size": 15
           },
           "mode": "markers",
           "type": "scatter",
           "x": [
            567.643376833353
           ],
           "y": [
            374.531932093775
           ]
          }
         ]
        },
        {
         "data": [
          {
           "marker": {
            "color": "red",
            "size": 15
           },
           "mode": "markers",
           "type": "scatter",
           "x": [
            561.113292528006
           ],
           "y": [
            369.265735073334
           ]
          }
         ]
        },
        {
         "data": [
          {
           "marker": {
            "color": "red",
            "size": 15
           },
           "mode": "markers",
           "type": "scatter",
           "x": [
            555.162489894907
           ],
           "y": [
            364.473495784733
           ]
          }
         ]
        },
        {
         "data": [
          {
           "marker": {
            "color": "red",
            "size": 15
           },
           "mode": "markers",
           "type": "scatter",
           "x": [
            553.845940639797
           ],
           "y": [
            363.420256380644
           ]
          }
         ]
        },
        {
         "data": [
          {
           "marker": {
            "color": "red",
            "size": 15
           },
           "mode": "markers",
           "type": "scatter",
           "x": [
            547.737152096085
           ],
           "y": [
            358.575355121839
           ]
          }
         ]
        },
        {
         "data": [
          {
           "marker": {
            "color": "red",
            "size": 15
           },
           "mode": "markers",
           "type": "scatter",
           "x": [
            546.683912691997
           ],
           "y": [
            357.785425568772
           ]
          }
         ]
        },
        {
         "data": [
          {
           "marker": {
            "color": "red",
            "size": 15
           },
           "mode": "markers",
           "type": "scatter",
           "x": [
            543.313546598914
           ],
           "y": [
            355.520960849983
           ]
          }
         ]
        },
        {
         "data": [
          {
           "marker": {
            "color": "red",
            "size": 15
           },
           "mode": "markers",
           "type": "scatter",
           "x": [
            542.154983254417
           ],
           "y": [
            354.88901720753
           ]
          }
         ]
        },
        {
         "data": [
          {
           "marker": {
            "color": "red",
            "size": 15
           },
           "mode": "markers",
           "type": "scatter",
           "x": [
            540.99641990992
           ],
           "y": [
            354.362397505486
           ]
          }
         ]
        },
        {
         "data": [
          {
           "marker": {
            "color": "red",
            "size": 15
           },
           "mode": "markers",
           "type": "scatter",
           "x": [
            534.203025753551
           ],
           "y": [
            351.044693382608
           ]
          }
         ]
        },
        {
         "data": [
          {
           "marker": {
            "color": "red",
            "size": 15
           },
           "mode": "markers",
           "type": "scatter",
           "x": [
            533.202448319667
           ],
           "y": [
            350.36008776995
           ]
          }
         ]
        },
        {
         "data": [
          {
           "marker": {
            "color": "red",
            "size": 15
           },
           "mode": "markers",
           "type": "scatter",
           "x": [
            529.252800554337
           ],
           "y": [
            347.990299110752
           ]
          }
         ]
        },
        {
         "data": [
          {
           "marker": {
            "color": "red",
            "size": 15
           },
           "mode": "markers",
           "type": "scatter",
           "x": [
            528.304885090657
           ],
           "y": [
            347.411017438503
           ]
          }
         ]
        },
        {
         "data": [
          {
           "marker": {
            "color": "red",
            "size": 15
           },
           "mode": "markers",
           "type": "scatter",
           "x": [
            526.356392193094
           ],
           "y": [
            346.199792123802
           ]
          }
         ]
        },
        {
         "data": [
          {
           "marker": {
            "color": "red",
            "size": 15
           },
           "mode": "markers",
           "type": "scatter",
           "x": [
            519.826307887747
           ],
           "y": [
            342.724102090311
           ]
          }
         ]
        },
        {
         "data": [
          {
           "marker": {
            "color": "red",
            "size": 15
           },
           "mode": "markers",
           "type": "scatter",
           "x": [
            515.823998152212
           ],
           "y": [
            340.775609192747
           ]
          }
         ]
        },
        {
         "data": [
          {
           "marker": {
            "color": "red",
            "size": 15
           },
           "mode": "markers",
           "type": "scatter",
           "x": [
            509.820533548909
           ],
           "y": [
            337.457905069869
           ]
          }
         ]
        },
        {
         "data": [
          {
           "marker": {
            "color": "red",
            "size": 15
           },
           "mode": "markers",
           "type": "scatter",
           "x": [
            508.76729414482
           ],
           "y": [
            336.773299457212
           ]
          }
         ]
        },
        {
         "data": [
          {
           "marker": {
            "color": "red",
            "size": 15
           },
           "mode": "markers",
           "type": "scatter",
           "x": [
            505.712899872965
           ],
           "y": [
            334.982792470262
           ]
          }
         ]
        },
        {
         "data": [
          {
           "marker": {
            "color": "red",
            "size": 15
           },
           "mode": "markers",
           "type": "scatter",
           "x": [
            504.764984409285
           ],
           "y": [
            334.350848827809
           ]
          }
         ]
        },
        {
         "data": [
          {
           "marker": {
            "color": "red",
            "size": 15
           },
           "mode": "markers",
           "type": "scatter",
           "x": [
            502.184547869269
           ],
           "y": [
            332.507679870655
           ]
          }
         ]
        },
        {
         "data": [
          {
           "marker": {
            "color": "red",
            "size": 15
           },
           "mode": "markers",
           "type": "scatter",
           "x": [
            501.23663240559
           ],
           "y": [
            332.086384109019
           ]
          }
         ]
        },
        {
         "data": [
          {
           "marker": {
            "color": "red",
            "size": 15
           },
           "mode": "markers",
           "type": "scatter",
           "x": [
            498.49820995496
           ],
           "y": [
            330.717172883705
           ]
          }
         ]
        },
        {
         "data": [
          {
           "marker": {
            "color": "red",
            "size": 15
           },
           "mode": "markers",
           "type": "scatter",
           "x": [
            497.602956461485
           ],
           "y": [
            330.190553181661
           ]
          }
         ]
        },
        {
         "data": [
          {
           "marker": {
            "color": "red",
            "size": 15
           },
           "mode": "markers",
           "type": "scatter",
           "x": [
            495.022519921469
           ],
           "y": [
            328.979327866959
           ]
          }
         ]
        },
        {
         "data": [
          {
           "marker": {
            "color": "red",
            "size": 15
           },
           "mode": "markers",
           "type": "scatter",
           "x": [
            494.127266427994
           ],
           "y": [
            328.558032105324
           ]
          }
         ]
        },
        {
         "data": [
          {
           "marker": {
            "color": "red",
            "size": 15
           },
           "mode": "markers",
           "type": "scatter",
           "x": [
            491.757477768795
           ],
           "y": [
            327.399468760827
           ]
          }
         ]
        },
        {
         "data": [
          {
           "marker": {
            "color": "red",
            "size": 15
           },
           "mode": "markers",
           "type": "scatter",
           "x": [
            489.177041228779
           ],
           "y": [
            325.819609654695
           ]
          }
         ]
        },
        {
         "data": [
          {
           "marker": {
            "color": "red",
            "size": 15
           },
           "mode": "markers",
           "type": "scatter",
           "x": [
            488.492435616122
           ],
           "y": [
            325.398313893059
           ]
          }
         ]
        },
        {
         "data": [
          {
           "marker": {
            "color": "red",
            "size": 15
           },
           "mode": "markers",
           "type": "scatter",
           "x": [
            486.701928629172
           ],
           "y": [
            324.397736459175
           ]
          }
         ]
        },
        {
         "data": [
          {
           "marker": {
            "color": "red",
            "size": 15
           },
           "mode": "markers",
           "type": "scatter",
           "x": [
            486.069984986719
           ],
           "y": [
            324.029102667745
           ]
          }
         ]
        },
        {
         "data": [
          {
           "marker": {
            "color": "red",
            "size": 15
           },
           "mode": "markers",
           "type": "scatter",
           "x": [
            484.121492089156
           ],
           "y": [
            322.870539323248
           ]
          }
         ]
        },
        {
         "data": [
          {
           "marker": {
            "color": "red",
            "size": 15
           },
           "mode": "markers",
           "type": "scatter",
           "x": [
            481.804365400162
           ],
           "y": [
            321.290680217115
           ]
          }
         ]
        },
        {
         "data": [
          {
           "marker": {
            "color": "red",
            "size": 15
           },
           "mode": "markers",
           "type": "scatter",
           "x": [
            481.277745698118
           ],
           "y": [
            320.922046425684
           ]
          }
         ]
        },
        {
         "data": [
          {
           "marker": {
            "color": "red",
            "size": 15
           },
           "mode": "markers",
           "type": "scatter",
           "x": [
            479.645224621781
           ],
           "y": [
            319.974130962005
           ]
          }
         ]
        },
        {
         "data": [
          {
           "marker": {
            "color": "red",
            "size": 15
           },
           "mode": "markers",
           "type": "scatter",
           "x": [
            477.4860838434
           ],
           "y": [
            318.552257766486
           ]
          }
         ]
        },
        {
         "data": [
          {
           "marker": {
            "color": "red",
            "size": 15
           },
           "mode": "markers",
           "type": "scatter",
           "x": [
            477.01212611156
           ],
           "y": [
            318.236285945259
           ]
          }
         ]
        },
        {
         "data": [
          {
           "marker": {
            "color": "red",
            "size": 15
           },
           "mode": "markers",
           "type": "scatter",
           "x": [
            473.852407899296
           ],
           "y": [
            316.287793047696
           ]
          }
         ]
        },
        {
         "data": [
          {
           "marker": {
            "color": "red",
            "size": 15
           },
           "mode": "markers",
           "type": "scatter",
           "x": [
            473.115140316434
           ],
           "y": [
            315.813835315856
           ]
          }
         ]
        },
        {
         "data": [
          {
           "marker": {
            "color": "red",
            "size": 15
           },
           "mode": "markers",
           "type": "scatter",
           "x": [
            470.79801362744
           ],
           "y": [
            314.54994803095
           ]
          }
         ]
        },
        {
         "data": [
          {
           "marker": {
            "color": "red",
            "size": 15
           },
           "mode": "markers",
           "type": "scatter",
           "x": [
            467.427647534357
           ],
           "y": [
            312.127497401548
           ]
          }
         ]
        },
        {
         "data": [
          {
           "marker": {
            "color": "red",
            "size": 15
           },
           "mode": "markers",
           "type": "scatter",
           "x": [
            466.479732070678
           ],
           "y": [
            311.548215729299
           ]
          }
         ]
        },
        {
         "data": [
          {
           "marker": {
            "color": "red",
            "size": 15
           },
           "mode": "markers",
           "type": "scatter",
           "x": [
            465.584478577203
           ],
           "y": [
            310.916272086846
           ]
          }
         ]
        },
        {
         "data": [
          {
           "marker": {
            "color": "red",
            "size": 15
           },
           "mode": "markers",
           "type": "scatter",
           "x": [
            461.740154752281
           ],
           "y": [
            308.388497517034
           ]
          }
         ]
        },
        {
         "data": [
          {
           "marker": {
            "color": "red",
            "size": 15
           },
           "mode": "markers",
           "type": "scatter",
           "x": [
            458.159140778381
           ],
           "y": [
            306.07137082804
           ]
          }
         ]
        },
        {
         "data": [
          {
           "marker": {
            "color": "red",
            "size": 15
           },
           "mode": "markers",
           "type": "scatter",
           "x": [
            454.420140893868
           ],
           "y": [
            304.228201870886
           ]
          }
         ]
        },
        {
         "data": [
          {
           "marker": {
            "color": "red",
            "size": 15
           },
           "mode": "markers",
           "type": "scatter",
           "x": [
            453.419563459984
           ],
           "y": [
            303.754244139046
           ]
          }
         ]
        },
        {
         "data": [
          {
           "marker": {
            "color": "red",
            "size": 15
           },
           "mode": "markers",
           "type": "scatter",
           "x": [
            448.258690379951
           ],
           "y": [
            301.911075181892
           ]
          }
         ]
        },
        {
         "data": [
          {
           "marker": {
            "color": "red",
            "size": 15
           },
           "mode": "markers",
           "type": "scatter",
           "x": [
            444.625014435847
           ],
           "y": [
            300.173230165146
           ]
          }
         ]
        },
        {
         "data": [
          {
           "marker": {
            "color": "red",
            "size": 15
           },
           "mode": "markers",
           "type": "scatter",
           "x": [
            441.623282134196
           ],
           "y": [
            298.804018939831
           ]
          }
         ]
        },
        {
         "data": [
          {
           "marker": {
            "color": "red",
            "size": 15
           },
           "mode": "markers",
           "type": "scatter",
           "x": [
            439.306155445202
           ],
           "y": [
            297.698117565539
           ]
          }
         ]
        },
        {
         "data": [
          {
           "marker": {
            "color": "red",
            "size": 15
           },
           "mode": "markers",
           "type": "scatter",
           "x": [
            438.884859683566
           ],
           "y": [
            297.434807714517
           ]
          }
         ]
        },
        {
         "data": [
          {
           "marker": {
            "color": "red",
            "size": 15
           },
           "mode": "markers",
           "type": "scatter",
           "x": [
            437.778958309274
           ],
           "y": [
            296.539554221042
           ]
          }
         ]
        },
        {
         "data": [
          {
           "marker": {
            "color": "red",
            "size": 15
           },
           "mode": "markers",
           "type": "scatter",
           "x": [
            437.410324517843
           ],
           "y": [
            296.170920429611
           ]
          }
         ]
        },
        {
         "data": [
          {
           "marker": {
            "color": "red",
            "size": 15
           },
           "mode": "markers",
           "type": "scatter",
           "x": [
            436.831042845594
           ],
           "y": [
            295.644300727567
           ]
          }
         ]
        },
        {
         "data": [
          {
           "marker": {
            "color": "red",
            "size": 15
           },
           "mode": "markers",
           "type": "scatter",
           "x": [
            436.462409054163
           ],
           "y": [
            295.32832890634
           ]
          }
         ]
        },
        {
         "data": [
          {
           "marker": {
            "color": "red",
            "size": 15
           },
           "mode": "markers",
           "type": "scatter",
           "x": [
            435.093197828849
           ],
           "y": [
            293.801131770412
           ]
          }
         ]
        },
        {
         "data": [
          {
           "marker": {
            "color": "red",
            "size": 15
           },
           "mode": "markers",
           "type": "scatter",
           "x": [
            433.355352812103
           ],
           "y": [
            292.115948723871
           ]
          }
         ]
        },
        {
         "data": [
          {
           "marker": {
            "color": "red",
            "size": 15
           },
           "mode": "markers",
           "type": "scatter",
           "x": [
            432.828733110059
           ],
           "y": [
            291.589329021827
           ]
          }
         ]
        },
        {
         "data": [
          {
           "marker": {
            "color": "red",
            "size": 15
           },
           "mode": "markers",
           "type": "scatter",
           "x": [
            762.440004619471
           ],
           "y": [
            486.227970897332
           ]
          }
         ]
        },
        {
         "data": [
          {
           "marker": {
            "color": "red",
            "size": 15
           },
           "mode": "markers",
           "type": "scatter",
           "x": [
            762.492666589675
           ],
           "y": [
            484.384801940178
           ]
          }
         ]
        },
        {
         "data": [
          {
           "marker": {
            "color": "red",
            "size": 15
           },
           "mode": "markers",
           "type": "scatter",
           "x": [
            761.966046887631
           ],
           "y": [
            481.0670978173
           ]
          }
         ]
        },
        {
         "data": [
          {
           "marker": {
            "color": "red",
            "size": 15
           },
           "mode": "markers",
           "type": "scatter",
           "x": [
            761.281441274974
           ],
           "y": [
            477.433421873196
           ]
          }
         ]
        },
        {
         "data": [
          {
           "marker": {
            "color": "red",
            "size": 15
           },
           "mode": "markers",
           "type": "scatter",
           "x": [
            760.386187781499
           ],
           "y": [
            472.58852061439
           ]
          }
         ]
        },
        {
         "data": [
          {
           "marker": {
            "color": "red",
            "size": 15
           },
           "mode": "markers",
           "type": "scatter",
           "x": [
            758.174385032914
           ],
           "y": [
            466.058436309043
           ]
          }
         ]
        },
        {
         "data": [
          {
           "marker": {
            "color": "red",
            "size": 15
           },
           "mode": "markers",
           "type": "scatter",
           "x": [
            755.435962582284
           ],
           "y": [
            461.160873080032
           ]
          }
         ]
        },
        {
         "data": [
          {
           "marker": {
            "color": "red",
            "size": 15
           },
           "mode": "markers",
           "type": "scatter",
           "x": [
            750.801709204296
           ],
           "y": [
            454.314816953459
           ]
          }
         ]
        },
        {
         "data": [
          {
           "marker": {
            "color": "red",
            "size": 15
           },
           "mode": "markers",
           "type": "scatter",
           "x": [
            745.008892481811
           ],
           "y": [
            446.204873541979
           ]
          }
         ]
        },
        {
         "data": [
          {
           "marker": {
            "color": "red",
            "size": 15
           },
           "mode": "markers",
           "type": "scatter",
           "x": [
            743.745005196905
           ],
           "y": [
            444.519690495438
           ]
          }
         ]
        },
        {
         "data": [
          {
           "marker": {
            "color": "red",
            "size": 15
           },
           "mode": "markers",
           "type": "scatter",
           "x": [
            738.584132116873
           ],
           "y": [
            438.147592100704
           ]
          }
         ]
        },
        {
         "data": [
          {
           "marker": {
            "color": "red",
            "size": 15
           },
           "mode": "markers",
           "type": "scatter",
           "x": [
            730.000230973553
           ],
           "y": [
            428.299803672479
           ]
          }
         ]
        },
        {
         "data": [
          {
           "marker": {
            "color": "red",
            "size": 15
           },
           "mode": "markers",
           "type": "scatter",
           "x": [
            727.946414135581
           ],
           "y": [
            425.982676983485
           ]
          }
         ]
        },
        {
         "data": [
          {
           "marker": {
            "color": "red",
            "size": 15
           },
           "mode": "markers",
           "type": "scatter",
           "x": [
            721.942949532279
           ],
           "y": [
            418.978634946299
           ]
          }
         ]
        },
        {
         "data": [
          {
           "marker": {
            "color": "red",
            "size": 15
           },
           "mode": "markers",
           "type": "scatter",
           "x": [
            712.253147014667
           ],
           "y": [
            408.077607113985
           ]
          }
         ]
        },
        {
         "data": [
          {
           "marker": {
            "color": "red",
            "size": 15
           },
           "mode": "markers",
           "type": "scatter",
           "x": [
            710.199330176695
           ],
           "y": [
            405.8658043654
           ]
          }
         ]
        },
        {
         "data": [
          {
           "marker": {
            "color": "red",
            "size": 15
           },
           "mode": "markers",
           "type": "scatter",
           "x": [
            702.563344497055
           ],
           "y": [
            396.807945490241
           ]
          }
         ]
        },
        {
         "data": [
          {
           "marker": {
            "color": "red",
            "size": 15
           },
           "mode": "markers",
           "type": "scatter",
           "x": [
            700.772837510105
           ],
           "y": [
            394.596142741656
           ]
          }
         ]
        },
        {
         "data": [
          {
           "marker": {
            "color": "red",
            "size": 15
           },
           "mode": "markers",
           "type": "scatter",
           "x": [
            695.295992608846
           ],
           "y": [
            388.066058436309
           ]
          }
         ]
        },
        {
         "data": [
          {
           "marker": {
            "color": "red",
            "size": 15
           },
           "mode": "markers",
           "type": "scatter",
           "x": [
            687.870654810024
           ],
           "y": [
            380.166762905647
           ]
          }
         ]
        },
        {
         "data": [
          {
           "marker": {
            "color": "red",
            "size": 15
           },
           "mode": "markers",
           "type": "scatter",
           "x": [
            686.02748585287
           ],
           "y": [
            378.376255918697
           ]
          }
         ]
        },
        {
         "data": [
          {
           "marker": {
            "color": "red",
            "size": 15
           },
           "mode": "markers",
           "type": "scatter",
           "x": [
            680.866612772837
           ],
           "y": [
            373.057396928052
           ]
          }
         ]
        },
        {
         "data": [
          {
           "marker": {
            "color": "red",
            "size": 15
           },
           "mode": "markers",
           "type": "scatter",
           "x": [
            679.076105785888
           ],
           "y": [
            371.319551911306
           ]
          }
         ]
        },
        {
         "data": [
          {
           "marker": {
            "color": "red",
            "size": 15
           },
           "mode": "markers",
           "type": "scatter",
           "x": [
            673.283289063402
           ],
           "y": [
            366.316664741887
           ]
          }
         ]
        },
        {
         "data": [
          {
           "marker": {
            "color": "red",
            "size": 15
           },
           "mode": "markers",
           "type": "scatter",
           "x": [
            663.962120337221
           ],
           "y": [
            359.575932555722
           ]
          }
         ]
        },
        {
         "data": [
          {
           "marker": {
            "color": "red",
            "size": 15
           },
           "mode": "markers",
           "type": "scatter",
           "x": [
            661.697655618432
           ],
           "y": [
            357.627439658159
           ]
          }
         ]
        },
        {
         "data": [
          {
           "marker": {
            "color": "red",
            "size": 15
           },
           "mode": "markers",
           "type": "scatter",
           "x": [
            654.746275551449
           ],
           "y": [
            352.519228548331
           ]
          }
         ]
        },
        {
         "data": [
          {
           "marker": {
            "color": "red",
            "size": 15
           },
           "mode": "markers",
           "type": "scatter",
           "x": [
            645.372444855064
           ],
           "y": [
            345.989144242984
           ]
          }
         ]
        },
        {
         "data": [
          {
           "marker": {
            "color": "red",
            "size": 15
           },
           "mode": "markers",
           "type": "scatter",
           "x": [
            637.262501443585
           ],
           "y": [
            339.827693729068
           ]
          }
         ]
        },
        {
         "data": [
          {
           "marker": {
            "color": "red",
            "size": 15
           },
           "mode": "markers",
           "type": "scatter",
           "x": [
            635.366670516226
           ],
           "y": [
            338.353158563344
           ]
          }
         ]
        },
        {
         "data": [
          {
           "marker": {
            "color": "red",
            "size": 15
           },
           "mode": "markers",
           "type": "scatter",
           "x": [
            629.152558032105
           ],
           "y": [
            334.403510798014
           ]
          }
         ]
        },
        {
         "data": [
          {
           "marker": {
            "color": "red",
            "size": 15
           },
           "mode": "markers",
           "type": "scatter",
           "x": [
            620.779304769604
           ],
           "y": [
            329.505947569003
           ]
          }
         ]
        },
        {
         "data": [
          {
           "marker": {
            "color": "red",
            "size": 15
           },
           "mode": "markers",
           "type": "scatter",
           "x": [
            613.037995149555
           ],
           "y": [
            324.029102667745
           ]
          }
         ]
        },
        {
         "data": [
          {
           "marker": {
            "color": "red",
            "size": 15
           },
           "mode": "markers",
           "type": "scatter",
           "x": [
            611.036840281788
           ],
           "y": [
            322.65989144243
           ]
          }
         ]
        },
        {
         "data": [
          {
           "marker": {
            "color": "red",
            "size": 15
           },
           "mode": "markers",
           "type": "scatter",
           "x": [
            604.61207991685
           ],
           "y": [
            318.499595796281
           ]
          }
         ]
        },
        {
         "data": [
          {
           "marker": {
            "color": "red",
            "size": 15
           },
           "mode": "markers",
           "type": "scatter",
           "x": [
            602.505601108673
           ],
           "y": [
            317.183046541171
           ]
          }
         ]
        },
        {
         "data": [
          {
           "marker": {
            "color": "red",
            "size": 15
           },
           "mode": "markers",
           "type": "scatter",
           "x": [
            596.554798475575
           ],
           "y": [
            313.444046656658
           ]
          }
         ]
        },
        {
         "data": [
          {
           "marker": {
            "color": "red",
            "size": 15
           },
           "mode": "markers",
           "type": "scatter",
           "x": [
            594.658967548216
           ],
           "y": [
            312.232821341956
           ]
          }
         ]
        },
        {
         "data": [
          {
           "marker": {
            "color": "red",
            "size": 15
           },
           "mode": "markers",
           "type": "scatter",
           "x": [
            589.076798706548
           ],
           "y": [
            308.441159487239
           ]
          }
         ]
        },
        {
         "data": [
          {
           "marker": {
            "color": "red",
            "size": 15
           },
           "mode": "markers",
           "type": "scatter",
           "x": [
            587.180967779189
           ],
           "y": [
            307.282596142742
           ]
          }
         ]
        },
        {
         "data": [
          {
           "marker": {
            "color": "red",
            "size": 15
           },
           "mode": "markers",
           "type": "scatter",
           "x": [
            581.388151056704
           ],
           "y": [
            303.964892019864
           ]
          }
         ]
        },
        {
         "data": [
          {
           "marker": {
            "color": "red",
            "size": 15
           },
           "mode": "markers",
           "type": "scatter",
           "x": [
            579.54498209955
           ],
           "y": [
            302.858990645571
           ]
          }
         ]
        },
        {
         "data": [
          {
           "marker": {
            "color": "red",
            "size": 15
           },
           "mode": "markers",
           "type": "scatter",
           "x": [
            574.331447049313
           ],
           "y": [
            299.646610463102
           ]
          }
         ]
        },
        {
         "data": [
          {
           "marker": {
            "color": "red",
            "size": 15
           },
           "mode": "markers",
           "type": "scatter",
           "x": [
            564.009700889248
           ],
           "y": [
            293.327174038573
           ]
          }
         ]
        },
        {
         "data": [
          {
           "marker": {
            "color": "red",
            "size": 15
           },
           "mode": "markers",
           "type": "scatter",
           "x": [
            562.166531932094
           ],
           "y": [
            292.379258574893
           ]
          }
         ]
        },
        {
         "data": [
          {
           "marker": {
            "color": "red",
            "size": 15
           },
           "mode": "markers",
           "type": "scatter",
           "x": [
            557.163644762675
           ],
           "y": [
            289.798822034877
           ]
          }
         ]
        },
        {
         "data": [
          {
           "marker": {
            "color": "red",
            "size": 15
           },
           "mode": "markers",
           "type": "scatter",
           "x": [
            551.528813950803
           ],
           "y": [
            286.323132001386
           ]
          }
         ]
        },
        {
         "data": [
          {
           "marker": {
            "color": "red",
            "size": 15
           },
           "mode": "markers",
           "type": "scatter",
           "x": [
            546.631250721792
           ],
           "y": [
            283.216075759326
           ]
          }
         ]
        },
        {
         "data": [
          {
           "marker": {
            "color": "red",
            "size": 15
           },
           "mode": "markers",
           "type": "scatter",
           "x": [
            541.839011433191
           ],
           "y": [
            280.688301189514
           ]
          }
         ]
        },
        {
         "data": [
          {
           "marker": {
            "color": "red",
            "size": 15
           },
           "mode": "markers",
           "type": "scatter",
           "x": [
            540.522462178081
           ],
           "y": [
            280.056357547061
           ]
          }
         ]
        },
        {
         "data": [
          {
           "marker": {
            "color": "red",
            "size": 15
           },
           "mode": "markers",
           "type": "scatter",
           "x": [
            536.625476382954
           ],
           "y": [
            278.265850560111
           ]
          }
         ]
        },
        {
         "data": [
          {
           "marker": {
            "color": "red",
            "size": 15
           },
           "mode": "markers",
           "type": "scatter",
           "x": [
            535.308927127844
           ],
           "y": [
            277.633906917658
           ]
          }
         ]
        },
        {
         "data": [
          {
           "marker": {
            "color": "red",
            "size": 15
           },
           "mode": "markers",
           "type": "scatter",
           "x": [
            531.359279362513
           ],
           "y": [
            275.896061900912
           ]
          }
         ]
        },
        {
         "data": [
          {
           "marker": {
            "color": "red",
            "size": 15
           },
           "mode": "markers",
           "type": "scatter",
           "x": [
            525.882434461254
           ],
           "y": [
            273.368287331101
           ]
          }
         ]
        },
        {
         "data": [
          {
           "marker": {
            "color": "red",
            "size": 15
           },
           "mode": "markers",
           "type": "scatter",
           "x": [
            524.88185702737
           ],
           "y": [
            272.894329599261
           ]
          }
         ]
        },
        {
         "data": [
          {
           "marker": {
            "color": "red",
            "size": 15
           },
           "mode": "markers",
           "type": "scatter",
           "x": [
            520.405589559995
           ],
           "y": [
            270.73518882088
           ]
          }
         ]
        },
        {
         "data": [
          {
           "marker": {
            "color": "red",
            "size": 15
           },
           "mode": "markers",
           "type": "scatter",
           "x": [
            519.14170227509
           ],
           "y": [
            270.313893059245
           ]
          }
         ]
        },
        {
         "data": [
          {
           "marker": {
            "color": "red",
            "size": 15
           },
           "mode": "markers",
           "type": "scatter",
           "x": [
            515.455364360781
           ],
           "y": [
            269.313315625361
           ]
          }
         ]
        },
        {
         "data": [
          {
           "marker": {
            "color": "red",
            "size": 15
           },
           "mode": "markers",
           "type": "scatter",
           "x": [
            510.241829310544
           ],
           "y": [
            267.62813257882
           ]
          }
         ]
        },
        {
         "data": [
          {
           "marker": {
            "color": "red",
            "size": 15
           },
           "mode": "markers",
           "type": "scatter",
           "x": [
            509.24125187666
           ],
           "y": [
            267.312160757593
           ]
          }
         ]
        },
        {
         "data": [
          {
           "marker": {
            "color": "red",
            "size": 15
           },
           "mode": "markers",
           "type": "scatter",
           "x": [
            506.450167455826
           ],
           "y": [
            266.153597413096
           ]
          }
         ]
        },
        {
         "data": [
          {
           "marker": {
            "color": "red",
            "size": 15
           },
           "mode": "markers",
           "type": "scatter",
           "x": [
            503.290449243562
           ],
           "y": [
            264.995034068599
           ]
          }
         ]
        },
        {
         "data": [
          {
           "marker": {
            "color": "red",
            "size": 15
           },
           "mode": "markers",
           "type": "scatter",
           "x": [
            502.658505601109
           ],
           "y": [
            264.626400277168
           ]
          }
         ]
        },
        {
         "data": [
          {
           "marker": {
            "color": "red",
            "size": 15
           },
           "mode": "markers",
           "type": "scatter",
           "x": [
            500.394040882319
           ],
           "y": [
            264.04711860492
           ]
          }
         ]
        },
        {
         "data": [
          {
           "marker": {
            "color": "red",
            "size": 15
           },
           "mode": "markers",
           "type": "scatter",
           "x": [
            499.604111329253
           ],
           "y": [
            263.783808753898
           ]
          }
         ]
        },
        {
         "data": [
          {
           "marker": {
            "color": "red",
            "size": 15
           },
           "mode": "markers",
           "type": "scatter",
           "x": [
            496.971012819032
           ],
           "y": [
            262.993879200831
           ]
          }
         ]
        },
        {
         "data": [
          {
           "marker": {
            "color": "red",
            "size": 15
           },
           "mode": "markers",
           "type": "scatter",
           "x": [
            493.12668899411
           ],
           "y": [
            261.940639796743
           ]
          }
         ]
        },
        {
         "data": [
          {
           "marker": {
            "color": "red",
            "size": 15
           },
           "mode": "markers",
           "type": "scatter",
           "x": [
            489.703660930823
           ],
           "y": [
            260.782076452246
           ]
          }
         ]
        },
        {
         "data": [
          {
           "marker": {
            "color": "red",
            "size": 15
           },
           "mode": "markers",
           "type": "scatter",
           "x": [
            488.861069407553
           ],
           "y": [
            260.518766601224
           ]
          }
         ]
        },
        {
         "data": [
          {
           "marker": {
            "color": "red",
            "size": 15
           },
           "mode": "markers",
           "type": "scatter",
           "x": [
            486.596604688763
           ],
           "y": [
            259.728837048158
           ]
          }
         ]
        },
        {
         "data": [
          {
           "marker": {
            "color": "red",
            "size": 15
           },
           "mode": "markers",
           "type": "scatter",
           "x": [
            483.752858297725
           ],
           "y": [
            258.359625822843
           ]
          }
         ]
        },
        {
         "data": [
          {
           "marker": {
            "color": "red",
            "size": 15
           },
           "mode": "markers",
           "type": "scatter",
           "x": [
            483.120914655272
           ],
           "y": [
            258.043654001617
           ]
          }
         ]
        },
        {
         "data": [
          {
           "marker": {
            "color": "red",
            "size": 15
           },
           "mode": "markers",
           "type": "scatter",
           "x": [
            481.277745698118
           ],
           "y": [
            257.095738537937
           ]
          }
         ]
        },
        {
         "data": [
          {
           "marker": {
            "color": "red",
            "size": 15
           },
           "mode": "markers",
           "type": "scatter",
           "x": [
            480.751125996073
           ],
           "y": [
            256.832428686915
           ]
          }
         ]
        },
        {
         "data": [
          {
           "marker": {
            "color": "red",
            "size": 15
           },
           "mode": "markers",
           "type": "scatter",
           "x": [
            479.381914770759
           ],
           "y": [
            256.200485044462
           ]
          }
         ]
        },
        {
         "data": [
          {
           "marker": {
            "color": "red",
            "size": 15
           },
           "mode": "markers",
           "type": "scatter",
           "x": [
            477.854717634831
           ],
           "y": [
            255.726527312623
           ]
          }
         ]
        },
        {
         "data": [
          {
           "marker": {
            "color": "red",
            "size": 15
           },
           "mode": "markers",
           "type": "scatter",
           "x": [
            477.538745813604
           ],
           "y": [
            255.673865342418
           ]
          }
         ]
        },
        {
         "data": [
          {
           "marker": {
            "color": "red",
            "size": 15
           },
           "mode": "markers",
           "type": "scatter",
           "x": [
            476.485506409516
           ],
           "y": [
            255.515879431805
           ]
          }
         ]
        },
        {
         "data": [
          {
           "marker": {
            "color": "red",
            "size": 15
           },
           "mode": "markers",
           "type": "scatter",
           "x": [
            476.274858528698
           ],
           "y": [
            255.515879431805
           ]
          }
         ]
        },
        {
         "data": [
          {
           "marker": {
            "color": "red",
            "size": 15
           },
           "mode": "markers",
           "type": "scatter",
           "x": [
            475.748238826654
           ],
           "y": [
            255.515879431805
           ]
          }
         ]
        },
        {
         "data": [
          {
           "marker": {
            "color": "red",
            "size": 15
           },
           "mode": "markers",
           "type": "scatter",
           "x": [
            474.37902760134
           ],
           "y": [
            255.410555491396
           ]
          }
         ]
        },
        {
         "data": [
          {
           "marker": {
            "color": "red",
            "size": 15
           },
           "mode": "markers",
           "type": "scatter",
           "x": [
            474.115717750318
           ],
           "y": [
            255.410555491396
           ]
          }
         ]
        },
        {
         "data": [
          {
           "marker": {
            "color": "red",
            "size": 15
           },
           "mode": "markers",
           "type": "scatter",
           "x": [
            473.273126227047
           ],
           "y": [
            255.410555491396
           ]
          }
         ]
        },
        {
         "data": [
          {
           "marker": {
            "color": "red",
            "size": 15
           },
           "mode": "markers",
           "type": "scatter",
           "x": [
            472.957154405821
           ],
           "y": [
            255.410555491396
           ]
          }
         ]
        },
        {
         "data": [
          {
           "marker": {
            "color": "red",
            "size": 15
           },
           "mode": "markers",
           "type": "scatter",
           "x": [
            471.851253031528
           ],
           "y": [
            255.252569580783
           ]
          }
         ]
        },
        {
         "data": [
          {
           "marker": {
            "color": "red",
            "size": 15
           },
           "mode": "markers",
           "type": "scatter",
           "x": [
            471.377295299688
           ],
           "y": [
            255.09458367017
           ]
          }
         ]
        },
        {
         "data": [
          {
           "marker": {
            "color": "red",
            "size": 15
           },
           "mode": "markers",
           "type": "scatter",
           "x": [
            470.113408014782
           ],
           "y": [
            254.725949878739
           ]
          }
         ]
        },
        {
         "data": [
          {
           "marker": {
            "color": "red",
            "size": 15
           },
           "mode": "markers",
           "type": "scatter",
           "x": [
            468.270239057628
           ],
           "y": [
            254.094006236286
           ]
          }
         ]
        },
        {
         "data": [
          {
           "marker": {
            "color": "red",
            "size": 15
           },
           "mode": "markers",
           "type": "scatter",
           "x": [
            466.479732070678
           ],
           "y": [
            253.30407668322
           ]
          }
         ]
        },
        {
         "data": [
          {
           "marker": {
            "color": "red",
            "size": 15
           },
           "mode": "markers",
           "type": "scatter",
           "x": [
            466.111098279247
           ],
           "y": [
            253.146090772607
           ]
          }
         ]
        },
        {
         "data": [
          {
           "marker": {
            "color": "red",
            "size": 15
           },
           "mode": "markers",
           "type": "scatter",
           "x": [
            465.005196904954
           ],
           "y": [
            252.619471070562
           ]
          }
         ]
        },
        {
         "data": [
          {
           "marker": {
            "color": "red",
            "size": 15
           },
           "mode": "markers",
           "type": "scatter",
           "x": [
            463.1620279478
           ],
           "y": [
            251.671555606883
           ]
          }
         ]
        },
        {
         "data": [
          {
           "marker": {
            "color": "red",
            "size": 15
           },
           "mode": "markers",
           "type": "scatter",
           "x": [
            462.846056126574
           ],
           "y": [
            251.566231666474
           ]
          }
         ]
        },
        {
         "data": [
          {
           "marker": {
            "color": "red",
            "size": 15
           },
           "mode": "markers",
           "type": "scatter",
           "x": [
            461.950802633098
           ],
           "y": [
            251.092273934634
           ]
          }
         ]
        },
        {
         "data": [
          {
           "marker": {
            "color": "red",
            "size": 15
           },
           "mode": "markers",
           "type": "scatter",
           "x": [
            460.844901258806
           ],
           "y": [
            250.512992262386
           ]
          }
         ]
        },
        {
         "data": [
          {
           "marker": {
            "color": "red",
            "size": 15
           },
           "mode": "markers",
           "type": "scatter",
           "x": [
            459.633675944104
           ],
           "y": [
            249.986372560342
           ]
          }
         ]
        },
        {
         "data": [
          {
           "marker": {
            "color": "red",
            "size": 15
           },
           "mode": "markers",
           "type": "scatter",
           "x": [
            459.317704122878
           ],
           "y": [
            249.933710590137
           ]
          }
         ]
        },
        {
         "data": [
          {
           "marker": {
            "color": "red",
            "size": 15
           },
           "mode": "markers",
           "type": "scatter",
           "x": [
            458.527774569812
           ],
           "y": [
            249.670400739115
           ]
          }
         ]
        },
        {
         "data": [
          {
           "marker": {
            "color": "red",
            "size": 15
           },
           "mode": "markers",
           "type": "scatter",
           "x": [
            458.053816837972
           ],
           "y": [
            249.459752858298
           ]
          }
         ]
        },
        {
         "data": [
          {
           "marker": {
            "color": "red",
            "size": 15
           },
           "mode": "markers",
           "type": "scatter",
           "x": [
            457.895830927359
           ],
           "y": [
            249.354428917889
           ]
          }
         ]
        },
        {
         "data": [
          {
           "marker": {
            "color": "red",
            "size": 15
           },
           "mode": "markers",
           "type": "scatter",
           "x": [
            457.895830927359
           ],
           "y": [
            249.354428917889
           ]
          }
         ]
        },
        {
         "data": [
          {
           "marker": {
            "color": "red",
            "size": 15
           },
           "mode": "markers",
           "type": "scatter",
           "x": [
            457.79050698695
           ],
           "y": [
            249.143781037071
           ]
          }
         ]
        },
        {
         "data": [
          {
           "marker": {
            "color": "red",
            "size": 15
           },
           "mode": "markers",
           "type": "scatter",
           "x": [
            457.79050698695
           ],
           "y": [
            249.143781037071
           ]
          }
         ]
        },
        {
         "data": [
          {
           "marker": {
            "color": "red",
            "size": 15
           },
           "mode": "markers",
           "type": "scatter",
           "x": [
            457.737845016746
           ],
           "y": [
            248.933133156254
           ]
          }
         ]
        },
        {
         "data": [
          {
           "marker": {
            "color": "red",
            "size": 15
           },
           "mode": "markers",
           "type": "scatter",
           "x": [
            457.527197135928
           ],
           "y": [
            248.511837394618
           ]
          }
         ]
        },
        {
         "data": [
          {
           "marker": {
            "color": "red",
            "size": 15
           },
           "mode": "markers",
           "type": "scatter",
           "x": [
            457.211225314701
           ],
           "y": [
            248.248527543596
           ]
          }
         ]
        },
        {
         "data": [
          {
           "marker": {
            "color": "red",
            "size": 15
           },
           "mode": "markers",
           "type": "scatter",
           "x": [
            455.894676059591
           ],
           "y": [
            247.616583901143
           ]
          }
         ]
        },
        {
         "data": [
          {
           "marker": {
            "color": "red",
            "size": 15
           },
           "mode": "markers",
           "type": "scatter",
           "x": [
            455.578704238365
           ],
           "y": [
            247.405936020326
           ]
          }
         ]
        },
        {
         "data": [
          {
           "marker": {
            "color": "red",
            "size": 15
           },
           "mode": "markers",
           "type": "scatter",
           "x": [
            454.578126804481
           ],
           "y": [
            246.879316318282
           ]
          }
         ]
        },
        {
         "data": [
          {
           "marker": {
            "color": "red",
            "size": 15
           },
           "mode": "markers",
           "type": "scatter",
           "x": [
            454.262154983254
           ],
           "y": [
            246.668668437464
           ]
          }
         ]
        },
        {
         "data": [
          {
           "marker": {
            "color": "red",
            "size": 15
           },
           "mode": "markers",
           "type": "scatter",
           "x": [
            453.314239519575
           ],
           "y": [
            246.089386765215
           ]
          }
         ]
        },
        {
         "data": [
          {
           "marker": {
            "color": "red",
            "size": 15
           },
           "mode": "markers",
           "type": "scatter",
           "x": [
            453.050929668553
           ],
           "y": [
            245.984062824807
           ]
          }
         ]
        },
        {
         "data": [
          {
           "marker": {
            "color": "red",
            "size": 15
           },
           "mode": "markers",
           "type": "scatter",
           "x": [
            452.366324055896
           ],
           "y": [
            245.615429033376
           ]
          }
         ]
        },
        {
         "data": [
          {
           "marker": {
            "color": "red",
            "size": 15
           },
           "mode": "markers",
           "type": "scatter",
           "x": [
            451.787042383647
           ],
           "y": [
            245.299457212149
           ]
          }
         ]
        },
        {
         "data": [
          {
           "marker": {
            "color": "red",
            "size": 15
           },
           "mode": "markers",
           "type": "scatter",
           "x": [
            451.155098741194
           ],
           "y": [
            244.983485390923
           ]
          }
         ]
        },
        {
         "data": [
          {
           "marker": {
            "color": "red",
            "size": 15
           },
           "mode": "markers",
           "type": "scatter",
           "x": [
            450.944450860376
           ],
           "y": [
            244.983485390923
           ]
          }
         ]
        },
        {
         "data": [
          {
           "marker": {
            "color": "red",
            "size": 15
           },
           "mode": "markers",
           "type": "scatter",
           "x": [
            450.733802979559
           ],
           "y": [
            244.983485390923
           ]
          }
         ]
        },
        {
         "data": [
          {
           "marker": {
            "color": "red",
            "size": 15
           },
           "mode": "markers",
           "type": "scatter",
           "x": [
            450.470493128537
           ],
           "y": [
            245.19413327174
           ]
          }
         ]
        },
        {
         "data": [
          {
           "marker": {
            "color": "red",
            "size": 15
           },
           "mode": "markers",
           "type": "scatter",
           "x": [
            509.399237787273
           ],
           "y": [
            506.871463217462
           ]
          }
         ]
        },
        {
         "data": [
          {
           "marker": {
            "color": "red",
            "size": 15
           },
           "mode": "markers",
           "type": "scatter",
           "x": [
            510.241829310544
           ],
           "y": [
            506.397505485622
           ]
          }
         ]
        },
        {
         "data": [
          {
           "marker": {
            "color": "red",
            "size": 15
           },
           "mode": "markers",
           "type": "scatter",
           "x": [
            511.03175886361
           ],
           "y": [
            505.870885783578
           ]
          }
         ]
        },
        {
         "data": [
          {
           "marker": {
            "color": "red",
            "size": 15
           },
           "mode": "markers",
           "type": "scatter",
           "x": [
            512.190322208107
           ],
           "y": [
            504.870308349694
           ]
          }
         ]
        },
        {
         "data": [
          {
           "marker": {
            "color": "red",
            "size": 15
           },
           "mode": "markers",
           "type": "scatter",
           "x": [
            512.980251761173
           ],
           "y": [
            504.185702737037
           ]
          }
         ]
        },
        {
         "data": [
          {
           "marker": {
            "color": "red",
            "size": 15
           },
           "mode": "markers",
           "type": "scatter",
           "x": [
            514.244139046079
           ],
           "y": [
            502.605843630904
           ]
          }
         ]
        },
        {
         "data": [
          {
           "marker": {
            "color": "red",
            "size": 15
           },
           "mode": "markers",
           "type": "scatter",
           "x": [
            515.666012241598
           ],
           "y": [
            501.289294375794
           ]
          }
         ]
        },
        {
         "data": [
          {
           "marker": {
            "color": "red",
            "size": 15
           },
           "mode": "markers",
           "type": "scatter",
           "x": [
            517.298533317935
           ],
           "y": [
            499.920083150479
           ]
          }
         ]
        },
        {
         "data": [
          {
           "marker": {
            "color": "red",
            "size": 15
           },
           "mode": "markers",
           "type": "scatter",
           "x": [
            519.089040304885
           ],
           "y": [
            498.287562074143
           ]
          }
         ]
        },
        {
         "data": [
          {
           "marker": {
            "color": "red",
            "size": 15
           },
           "mode": "markers",
           "type": "scatter",
           "x": [
            521.30084305347
           ],
           "y": [
            496.497055087193
           ]
          }
         ]
        },
        {
         "data": [
          {
           "marker": {
            "color": "red",
            "size": 15
           },
           "mode": "markers",
           "type": "scatter",
           "x": [
            522.512068368172
           ],
           "y": [
            495.496477653309
           ]
          }
         ]
        },
        {
         "data": [
          {
           "marker": {
            "color": "red",
            "size": 15
           },
           "mode": "markers",
           "type": "scatter",
           "x": [
            524.934518997575
           ],
           "y": [
            493.547984755745
           ]
          }
         ]
        },
        {
         "data": [
          {
           "marker": {
            "color": "red",
            "size": 15
           },
           "mode": "markers",
           "type": "scatter",
           "x": [
            526.251068252685
           ],
           "y": [
            492.389421411248
           ]
          }
         ]
        },
        {
         "data": [
          {
           "marker": {
            "color": "red",
            "size": 15
           },
           "mode": "markers",
           "type": "scatter",
           "x": [
            526.883011895138
           ],
           "y": [
            491.757477768795
           ]
          }
         ]
        },
        {
         "data": [
          {
           "marker": {
            "color": "red",
            "size": 15
           },
           "mode": "markers",
           "type": "scatter",
           "x": [
            530.358701928629
           ],
           "y": [
            488.913731377757
           ]
          }
         ]
        },
        {
         "data": [
          {
           "marker": {
            "color": "red",
            "size": 15
           },
           "mode": "markers",
           "type": "scatter",
           "x": [
            531.043307541286
           ],
           "y": [
            488.281787735304
           ]
          }
         ]
        },
        {
         "data": [
          {
           "marker": {
            "color": "red",
            "size": 15
           },
           "mode": "markers",
           "type": "scatter",
           "x": [
            533.307772260076
           ],
           "y": [
            486.859914539785
           ]
          }
         ]
        },
        {
         "data": [
          {
           "marker": {
            "color": "red",
            "size": 15
           },
           "mode": "markers",
           "type": "scatter",
           "x": [
            533.992377872734
           ],
           "y": [
            486.43861877815
           ]
          }
         ]
        },
        {
         "data": [
          {
           "marker": {
            "color": "red",
            "size": 15
           },
           "mode": "markers",
           "type": "scatter",
           "x": [
            535.466913038457
           ],
           "y": [
            485.543365284675
           ]
          }
         ]
        },
        {
         "data": [
          {
           "marker": {
            "color": "red",
            "size": 15
           },
           "mode": "markers",
           "type": "scatter",
           "x": [
            536.204180621319
           ],
           "y": [
            485.12206952304
           ]
          }
         ]
        },
        {
         "data": [
          {
           "marker": {
            "color": "red",
            "size": 15
           },
           "mode": "markers",
           "type": "scatter",
           "x": [
            540.785772029103
           ],
           "y": [
            482.752280863841
           ]
          }
         ]
        },
        {
         "data": [
          {
           "marker": {
            "color": "red",
            "size": 15
           },
           "mode": "markers",
           "type": "scatter",
           "x": [
            543.840166300959
           ],
           "y": [
            480.909111906687
           ]
          }
         ]
        },
        {
         "data": [
          {
           "marker": {
            "color": "red",
            "size": 15
           },
           "mode": "markers",
           "type": "scatter",
           "x": [
            544.524771913616
           ],
           "y": [
            480.382492204643
           ]
          }
         ]
        },
        {
         "data": [
          {
           "marker": {
            "color": "red",
            "size": 15
           },
           "mode": "markers",
           "type": "scatter",
           "x": [
            546.683912691997
           ],
           "y": [
            478.80263309851
           ]
          }
         ]
        },
        {
         "data": [
          {
           "marker": {
            "color": "red",
            "size": 15
           },
           "mode": "markers",
           "type": "scatter",
           "x": [
            547.368518304654
           ],
           "y": [
            478.276013396466
           ]
          }
         ]
        },
        {
         "data": [
          {
           "marker": {
            "color": "red",
            "size": 15
           },
           "mode": "markers",
           "type": "scatter",
           "x": [
            548.737729529969
           ],
           "y": [
            477.222773992378
           ]
          }
         ]
        },
        {
         "data": [
          {
           "marker": {
            "color": "red",
            "size": 15
           },
           "mode": "markers",
           "type": "scatter",
           "x": [
            549.422335142626
           ],
           "y": [
            476.696154290334
           ]
          }
         ]
        },
        {
         "data": [
          {
           "marker": {
            "color": "red",
            "size": 15
           },
           "mode": "markers",
           "type": "scatter",
           "x": [
            552.318743503869
           ],
           "y": [
            474.273703660931
           ]
          }
         ]
        },
        {
         "data": [
          {
           "marker": {
            "color": "red",
            "size": 15
           },
           "mode": "markers",
           "type": "scatter",
           "x": [
            552.898025176117
           ],
           "y": [
            473.694421988682
           ]
          }
         ]
        },
        {
         "data": [
          {
           "marker": {
            "color": "red",
            "size": 15
           },
           "mode": "markers",
           "type": "scatter",
           "x": [
            553.52996881857
           ],
           "y": [
            473.115140316434
           ]
          }
         ]
        },
        {
         "data": [
          {
           "marker": {
            "color": "red",
            "size": 15
           },
           "mode": "markers",
           "type": "scatter",
           "x": [
            554.056588520614
           ],
           "y": [
            472.641182584594
           ]
          }
         ]
        },
        {
         "data": [
          {
           "marker": {
            "color": "red",
            "size": 15
           },
           "mode": "markers",
           "type": "scatter",
           "x": [
            556.900334911653
           ],
           "y": [
            469.85009816376
           ]
          }
         ]
        },
        {
         "data": [
          {
           "marker": {
            "color": "red",
            "size": 15
           },
           "mode": "markers",
           "type": "scatter",
           "x": [
            559.691419332486
           ],
           "y": [
            467.322323593949
           ]
          }
         ]
        },
        {
         "data": [
          {
           "marker": {
            "color": "red",
            "size": 15
           },
           "mode": "markers",
           "type": "scatter",
           "x": [
            562.219193902298
           ],
           "y": [
            465.057858875159
           ]
          }
         ]
        },
        {
         "data": [
          {
           "marker": {
            "color": "red",
            "size": 15
           },
           "mode": "markers",
           "type": "scatter",
           "x": [
            562.798475574547
           ],
           "y": [
            464.531239173115
           ]
          }
         ]
        },
        {
         "data": [
          {
           "marker": {
            "color": "red",
            "size": 15
           },
           "mode": "markers",
           "type": "scatter",
           "x": [
            564.483658621088
           ],
           "y": [
            463.1620279478
           ]
          }
         ]
        },
        {
         "data": [
          {
           "marker": {
            "color": "red",
            "size": 15
           },
           "mode": "markers",
           "type": "scatter",
           "x": [
            565.010278323132
           ],
           "y": [
            462.793394156369
           ]
          }
         ]
        },
        {
         "data": [
          {
           "marker": {
            "color": "red",
            "size": 15
           },
           "mode": "markers",
           "type": "scatter",
           "x": [
            566.53747545906
           ],
           "y": [
            461.687492782076
           ]
          }
         ]
        },
        {
         "data": [
          {
           "marker": {
            "color": "red",
            "size": 15
           },
           "mode": "markers",
           "type": "scatter",
           "x": [
            567.0114331909
           ],
           "y": [
            461.37152096085
           ]
          }
         ]
        },
        {
         "data": [
          {
           "marker": {
            "color": "red",
            "size": 15
           },
           "mode": "markers",
           "type": "scatter",
           "x": [
            568.380644416214
           ],
           "y": [
            460.212957616353
           ]
          }
         ]
        },
        {
         "data": [
          {
           "marker": {
            "color": "red",
            "size": 15
           },
           "mode": "markers",
           "type": "scatter",
           "x": [
            568.80194017785
           ],
           "y": [
            459.791661854718
           ]
          }
         ]
        },
        {
         "data": [
          {
           "marker": {
            "color": "red",
            "size": 15
           },
           "mode": "markers",
           "type": "scatter",
           "x": [
            570.11848943296
           ],
           "y": [
            458.685760480425
           ]
          }
         ]
        },
        {
         "data": [
          {
           "marker": {
            "color": "red",
            "size": 15
           },
           "mode": "markers",
           "type": "scatter",
           "x": [
            570.539785194595
           ],
           "y": [
            458.317126688994
           ]
          }
         ]
        },
        {
         "data": [
          {
           "marker": {
            "color": "red",
            "size": 15
           },
           "mode": "markers",
           "type": "scatter",
           "x": [
            572.698925972976
           ],
           "y": [
            456.47395773184
           ]
          }
         ]
        },
        {
         "data": [
          {
           "marker": {
            "color": "red",
            "size": 15
           },
           "mode": "markers",
           "type": "scatter",
           "x": [
            573.646841436655
           ],
           "y": [
            455.578704238365
           ]
          }
         ]
        },
        {
         "data": [
          {
           "marker": {
            "color": "red",
            "size": 15
           },
           "mode": "markers",
           "type": "scatter",
           "x": [
            576.753897678716
           ],
           "y": [
            452.366324055896
           ]
          }
         ]
        },
        {
         "data": [
          {
           "marker": {
            "color": "red",
            "size": 15
           },
           "mode": "markers",
           "type": "scatter",
           "x": [
            579.281672248528
           ],
           "y": [
            450.15452130731
           ]
          }
         ]
        },
        {
         "data": [
          {
           "marker": {
            "color": "red",
            "size": 15
           },
           "mode": "markers",
           "type": "scatter",
           "x": [
            580.018939831389
           ],
           "y": [
            449.469915694653
           ]
          }
         ]
        },
        {
         "data": [
          {
           "marker": {
            "color": "red",
            "size": 15
           },
           "mode": "markers",
           "type": "scatter",
           "x": [
            582.915348192632
           ],
           "y": [
            447.416098856681
           ]
          }
         ]
        },
        {
         "data": [
          {
           "marker": {
            "color": "red",
            "size": 15
           },
           "mode": "markers",
           "type": "scatter",
           "x": [
            587.865573391847
           ],
           "y": [
            444.414366555029
           ]
          }
         ]
        },
        {
         "data": [
          {
           "marker": {
            "color": "red",
            "size": 15
           },
           "mode": "markers",
           "type": "scatter",
           "x": [
            588.760826885322
           ],
           "y": [
            443.887746852985
           ]
          }
         ]
        },
        {
         "data": [
          {
           "marker": {
            "color": "red",
            "size": 15
           },
           "mode": "markers",
           "type": "scatter",
           "x": [
            592.44716479963
           ],
           "y": [
            441.991915925627
           ]
          }
         ]
        },
        {
         "data": [
          {
           "marker": {
            "color": "red",
            "size": 15
           },
           "mode": "markers",
           "type": "scatter",
           "x": [
            597.713361820072
           ],
           "y": [
            439.516803326019
           ]
          }
         ]
        },
        {
         "data": [
          {
           "marker": {
            "color": "red",
            "size": 15
           },
           "mode": "markers",
           "type": "scatter",
           "x": [
            598.871925164569
           ],
           "y": [
            439.042845594179
           ]
          }
         ]
        },
        {
         "data": [
          {
           "marker": {
            "color": "red",
            "size": 15
           },
           "mode": "markers",
           "type": "scatter",
           "x": [
            602.084305347038
           ],
           "y": [
            437.62097239866
           ]
          }
         ]
        },
        {
         "data": [
          {
           "marker": {
            "color": "red",
            "size": 15
           },
           "mode": "markers",
           "type": "scatter",
           "x": [
            603.19020672133
           ],
           "y": [
            437.199676637025
           ]
          }
         ]
        },
        {
         "data": [
          {
           "marker": {
            "color": "red",
            "size": 15
           },
           "mode": "markers",
           "type": "scatter",
           "x": [
            606.297262963391
           ],
           "y": [
            435.777803441506
           ]
          }
         ]
        },
        {
         "data": [
          {
           "marker": {
            "color": "red",
            "size": 15
           },
           "mode": "markers",
           "type": "scatter",
           "x": [
            610.088924818108
           ],
           "y": [
            433.408014782307
           ]
          }
         ]
        },
        {
         "data": [
          {
           "marker": {
            "color": "red",
            "size": 15
           },
           "mode": "markers",
           "type": "scatter",
           "x": [
            610.931516341379
           ],
           "y": [
            432.72340916965
           ]
          }
         ]
        },
        {
         "data": [
          {
           "marker": {
            "color": "red",
            "size": 15
           },
           "mode": "markers",
           "type": "scatter",
           "x": [
            613.353966970782
           ],
           "y": [
            430.511606421065
           ]
          }
         ]
        },
        {
         "data": [
          {
           "marker": {
            "color": "red",
            "size": 15
           },
           "mode": "markers",
           "type": "scatter",
           "x": [
            615.987065481002
           ],
           "y": [
            428.194479732071
           ]
          }
         ]
        },
        {
         "data": [
          {
           "marker": {
            "color": "red",
            "size": 15
           },
           "mode": "markers",
           "type": "scatter",
           "x": [
            617.830234438157
           ],
           "y": [
            426.509296685529
           ]
          }
         ]
        },
        {
         "data": [
          {
           "marker": {
            "color": "red",
            "size": 15
           },
           "mode": "markers",
           "type": "scatter",
           "x": [
            618.356854140201
           ],
           "y": [
            426.03533895369
           ]
          }
         ]
        },
        {
         "data": [
          {
           "marker": {
            "color": "red",
            "size": 15
           },
           "mode": "markers",
           "type": "scatter",
           "x": [
            620.463332948377
           ],
           "y": [
            424.402817877353
           ]
          }
         ]
        },
        {
         "data": [
          {
           "marker": {
            "color": "red",
            "size": 15
           },
           "mode": "markers",
           "type": "scatter",
           "x": [
            621.253262501444
           ],
           "y": [
            423.718212264696
           ]
          }
         ]
        },
        {
         "data": [
          {
           "marker": {
            "color": "red",
            "size": 15
           },
           "mode": "markers",
           "type": "scatter",
           "x": [
            623.254417369211
           ],
           "y": [
            422.033029218155
           ]
          }
         ]
        },
        {
         "data": [
          {
           "marker": {
            "color": "red",
            "size": 15
           },
           "mode": "markers",
           "type": "scatter",
           "x": [
            625.729529968819
           ],
           "y": [
            419.821226469569
           ]
          }
         ]
        },
        {
         "data": [
          {
           "marker": {
            "color": "red",
            "size": 15
           },
           "mode": "markers",
           "type": "scatter",
           "x": [
            628.783924240674
           ],
           "y": [
            416.503522346691
           ]
          }
         ]
        },
        {
         "data": [
          {
           "marker": {
            "color": "red",
            "size": 15
           },
           "mode": "markers",
           "type": "scatter",
           "x": [
            629.257881972514
           ],
           "y": [
            415.871578704238
           ]
          }
         ]
        },
        {
         "data": [
          {
           "marker": {
            "color": "red",
            "size": 15
           },
           "mode": "markers",
           "type": "scatter",
           "x": [
            630.99572698926
           ],
           "y": [
            414.028409747084
           ]
          }
         ]
        },
        {
         "data": [
          {
           "marker": {
            "color": "red",
            "size": 15
           },
           "mode": "markers",
           "type": "scatter",
           "x": [
            631.627670631713
           ],
           "y": [
            413.396466104631
           ]
          }
         ]
        },
        {
         "data": [
          {
           "marker": {
            "color": "red",
            "size": 15
           },
           "mode": "markers",
           "type": "scatter",
           "x": [
            633.470839588867
           ],
           "y": [
            411.447973207068
           ]
          }
         ]
        },
        {
         "data": [
          {
           "marker": {
            "color": "red",
            "size": 15
           },
           "mode": "markers",
           "type": "scatter",
           "x": [
            636.419909920314
           ],
           "y": [
            409.183508488278
           ]
          }
         ]
        },
        {
         "data": [
          {
           "marker": {
            "color": "red",
            "size": 15
           },
           "mode": "markers",
           "type": "scatter",
           "x": [
            637.157177503176
           ],
           "y": [
            408.551564845825
           ]
          }
         ]
        },
        {
         "data": [
          {
           "marker": {
            "color": "red",
            "size": 15
           },
           "mode": "markers",
           "type": "scatter",
           "x": [
            639.263656311352
           ],
           "y": [
            406.866381799284
           ]
          }
         ]
        },
        {
         "data": [
          {
           "marker": {
            "color": "red",
            "size": 15
           },
           "mode": "markers",
           "type": "scatter",
           "x": [
            642.58136043423
           ],
           "y": [
            404.759902991108
           ]
          }
         ]
        },
        {
         "data": [
          {
           "marker": {
            "color": "red",
            "size": 15
           },
           "mode": "markers",
           "type": "scatter",
           "x": [
            646.057050467721
           ],
           "y": [
            402.495438272318
           ]
          }
         ]
        },
        {
         "data": [
          {
           "marker": {
            "color": "red",
            "size": 15
           },
           "mode": "markers",
           "type": "scatter",
           "x": [
            649.638064441621
           ],
           "y": [
            400.072987642915
           ]
          }
         ]
        },
        {
         "data": [
          {
           "marker": {
            "color": "red",
            "size": 15
           },
           "mode": "markers",
           "type": "scatter",
           "x": [
            650.480655964892
           ],
           "y": [
            399.546367940871
           ]
          }
         ]
        },
        {
         "data": [
          {
           "marker": {
            "color": "red",
            "size": 15
           },
           "mode": "markers",
           "type": "scatter",
           "x": [
            653.166416445317
           ],
           "y": [
            397.913846864534
           ]
          }
         ]
        },
        {
         "data": [
          {
           "marker": {
            "color": "red",
            "size": 15
           },
           "mode": "markers",
           "type": "scatter",
           "x": [
            656.378796627786
           ],
           "y": [
            395.491396235131
           ]
          }
         ]
        },
        {
         "data": [
          {
           "marker": {
            "color": "red",
            "size": 15
           },
           "mode": "markers",
           "type": "scatter",
           "x": [
            657.168726180852
           ],
           "y": [
            394.806790622474
           ]
          }
         ]
        },
        {
         "data": [
          {
           "marker": {
            "color": "red",
            "size": 15
           },
           "mode": "markers",
           "type": "scatter",
           "x": [
            659.907148631482
           ],
           "y": [
            391.752396350618
           ]
          }
         ]
        },
        {
         "data": [
          {
           "marker": {
            "color": "red",
            "size": 15
           },
           "mode": "markers",
           "type": "scatter",
           "x": [
            663.804134426608
           ],
           "y": [
            387.750086615083
           ]
          }
         ]
        },
        {
         "data": [
          {
           "marker": {
            "color": "red",
            "size": 15
           },
           "mode": "markers",
           "type": "scatter",
           "x": [
            666.279247026215
           ],
           "y": [
            385.32763598568
           ]
          }
         ]
        },
        {
         "data": [
          {
           "marker": {
            "color": "red",
            "size": 15
           },
           "mode": "markers",
           "type": "scatter",
           "x": [
            667.17450051969
           ],
           "y": [
            384.590368402818
           ]
          }
         ]
        },
        {
         "data": [
          {
           "marker": {
            "color": "red",
            "size": 15
           },
           "mode": "markers",
           "type": "scatter",
           "x": [
            670.597528582977
           ],
           "y": [
            381.904607922393
           ]
          }
         ]
        },
        {
         "data": [
          {
           "marker": {
            "color": "red",
            "size": 15
           },
           "mode": "markers",
           "type": "scatter",
           "x": [
            673.809908765446
           ],
           "y": [
            379.429495322786
           ]
          }
         ]
        },
        {
         "data": [
          {
           "marker": {
            "color": "red",
            "size": 15
           },
           "mode": "markers",
           "type": "scatter",
           "x": [
            677.285598798937
           ],
           "y": [
            377.481002425222
           ]
          }
         ]
        },
        {
         "data": [
          {
           "marker": {
            "color": "red",
            "size": 15
           },
           "mode": "markers",
           "type": "scatter",
           "x": [
            680.392655040998
           ],
           "y": [
            375.42718558725
           ]
          }
         ]
        },
        {
         "data": [
          {
           "marker": {
            "color": "red",
            "size": 15
           },
           "mode": "markers",
           "type": "scatter",
           "x": [
            683.078415521423
           ],
           "y": [
            373.057396928052
           ]
          }
         ]
        },
        {
         "data": [
          {
           "marker": {
            "color": "red",
            "size": 15
           },
           "mode": "markers",
           "type": "scatter",
           "x": [
            686.080147823074
           ],
           "y": [
            370.687608268853
           ]
          }
         ]
        },
        {
         "data": [
          {
           "marker": {
            "color": "red",
            "size": 15
           },
           "mode": "markers",
           "type": "scatter",
           "x": [
            686.659429495323
           ],
           "y": [
            370.108326596605
           ]
          }
         ]
        },
        {
         "data": [
          {
           "marker": {
            "color": "red",
            "size": 15
           },
           "mode": "markers",
           "type": "scatter",
           "x": [
            688.555260422682
           ],
           "y": [
            368.475805520268
           ]
          }
         ]
        },
        {
         "data": [
          {
           "marker": {
            "color": "red",
            "size": 15
           },
           "mode": "markers",
           "type": "scatter",
           "x": [
            691.293682873311
           ],
           "y": [
            366.316664741887
           ]
          }
         ]
        },
        {
         "data": [
          {
           "marker": {
            "color": "red",
            "size": 15
           },
           "mode": "markers",
           "type": "scatter",
           "x": [
            693.558147592101
           ],
           "y": [
            364.473495784733
           ]
          }
         ]
        },
        {
         "data": [
          {
           "marker": {
            "color": "red",
            "size": 15
           },
           "mode": "markers",
           "type": "scatter",
           "x": [
            694.242753204758
           ],
           "y": [
            363.946876082689
           ]
          }
         ]
        },
        {
         "data": [
          {
           "marker": {
            "color": "red",
            "size": 15
           },
           "mode": "markers",
           "type": "scatter",
           "x": [
            697.876429148862
           ],
           "y": [
            361.682411363899
           ]
          }
         ]
        },
        {
         "data": [
          {
           "marker": {
            "color": "red",
            "size": 15
           },
           "mode": "markers",
           "type": "scatter",
           "x": [
            698.719020672133
           ],
           "y": [
            361.155791661855
           ]
          }
         ]
        },
        {
         "data": [
          {
           "marker": {
            "color": "red",
            "size": 15
           },
           "mode": "markers",
           "type": "scatter",
           "x": [
            701.141471301536
           ],
           "y": [
            359.78658043654
           ]
          }
         ]
        },
        {
         "data": [
          {
           "marker": {
            "color": "red",
            "size": 15
           },
           "mode": "markers",
           "type": "scatter",
           "x": [
            701.931400854602
           ],
           "y": [
            359.259960734496
           ]
          }
         ]
        },
        {
         "data": [
          {
           "marker": {
            "color": "red",
            "size": 15
           },
           "mode": "markers",
           "type": "scatter",
           "x": [
            704.195865573392
           ],
           "y": [
            357.680101628364
           ]
          }
         ]
        },
        {
         "data": [
          {
           "marker": {
            "color": "red",
            "size": 15
           },
           "mode": "markers",
           "type": "scatter",
           "x": [
            707.618893636679
           ],
           "y": [
            355.994918581822
           ]
          }
         ]
        },
        {
         "data": [
          {
           "marker": {
            "color": "red",
            "size": 15
           },
           "mode": "markers",
           "type": "scatter",
           "x": [
            708.461485159949
           ],
           "y": [
            355.626284790391
           ]
          }
         ]
        },
        {
         "data": [
          {
           "marker": {
            "color": "red",
            "size": 15
           },
           "mode": "markers",
           "type": "scatter",
           "x": [
            711.09458367017
           ],
           "y": [
            354.41505947569
           ]
          }
         ]
        },
        {
         "data": [
          {
           "marker": {
            "color": "red",
            "size": 15
           },
           "mode": "markers",
           "type": "scatter",
           "x": [
            714.359625822843
           ],
           "y": [
            352.835200369558
           ]
          }
         ]
        },
        {
         "data": [
          {
           "marker": {
            "color": "red",
            "size": 15
           },
           "mode": "markers",
           "type": "scatter",
           "x": [
            717.414020094699
           ],
           "y": [
            351.097355352812
           ]
          }
         ]
        },
        {
         "data": [
          {
           "marker": {
            "color": "red",
            "size": 15
           },
           "mode": "markers",
           "type": "scatter",
           "x": [
            718.203949647765
           ],
           "y": [
            350.570735650768
           ]
          }
         ]
        },
        {
         "data": [
          {
           "marker": {
            "color": "red",
            "size": 15
           },
           "mode": "markers",
           "type": "scatter",
           "x": [
            720.573738306964
           ],
           "y": [
            348.990876544636
           ]
          }
         ]
        },
        {
         "data": [
          {
           "marker": {
            "color": "red",
            "size": 15
           },
           "mode": "markers",
           "type": "scatter",
           "x": [
            721.36366786003
           ],
           "y": [
            348.464256842592
           ]
          }
         ]
        },
        {
         "data": [
          {
           "marker": {
            "color": "red",
            "size": 15
           },
           "mode": "markers",
           "type": "scatter",
           "x": [
            723.62813257882
           ],
           "y": [
            346.77907379605
           ]
          }
         ]
        },
        {
         "data": [
          {
           "marker": {
            "color": "red",
            "size": 15
           },
           "mode": "markers",
           "type": "scatter",
           "x": [
            724.312738191477
           ],
           "y": [
            346.094468183393
           ]
          }
         ]
        },
        {
         "data": [
          {
           "marker": {
            "color": "red",
            "size": 15
           },
           "mode": "markers",
           "type": "scatter",
           "x": [
            726.419216999653
           ],
           "y": [
            344.303961196443
           ]
          }
         ]
        },
        {
         "data": [
          {
           "marker": {
            "color": "red",
            "size": 15
           },
           "mode": "markers",
           "type": "scatter",
           "x": [
            729.473611271509
           ],
           "y": [
            341.4075528352
           ]
          }
         ]
        },
        {
         "data": [
          {
           "marker": {
            "color": "red",
            "size": 15
           },
           "mode": "markers",
           "type": "scatter",
           "x": [
            732.422681602956
           ],
           "y": [
            338.511144473958
           ]
          }
         ]
        },
        {
         "data": [
          {
           "marker": {
            "color": "red",
            "size": 15
           },
           "mode": "markers",
           "type": "scatter",
           "x": [
            733.212611156023
           ],
           "y": [
            337.8265388613
           ]
          }
         ]
        },
        {
         "data": [
          {
           "marker": {
            "color": "red",
            "size": 15
           },
           "mode": "markers",
           "type": "scatter",
           "x": [
            735.529737845017
           ],
           "y": [
            335.878045963737
           ]
          }
         ]
        },
        {
         "data": [
          {
           "marker": {
            "color": "red",
            "size": 15
           },
           "mode": "markers",
           "type": "scatter",
           "x": [
            738.742118027486
           ],
           "y": [
            333.297609423721
           ]
          }
         ]
        },
        {
         "data": [
          {
           "marker": {
            "color": "red",
            "size": 15
           },
           "mode": "markers",
           "type": "scatter",
           "x": [
            739.637371520961
           ],
           "y": [
            332.770989721677
           ]
          }
         ]
        },
        {
         "data": [
          {
           "marker": {
            "color": "red",
            "size": 15
           },
           "mode": "markers",
           "type": "scatter",
           "x": [
            742.270470031181
           ],
           "y": [
            330.927820764522
           ]
          }
         ]
        },
        {
         "data": [
          {
           "marker": {
            "color": "red",
            "size": 15
           },
           "mode": "markers",
           "type": "scatter",
           "x": [
            746.799399468761
           ],
           "y": [
            328.084074373484
           ]
          }
         ]
        },
        {
         "data": [
          {
           "marker": {
            "color": "red",
            "size": 15
           },
           "mode": "markers",
           "type": "scatter",
           "x": [
            747.694652962236
           ],
           "y": [
            327.55745467144
           ]
          }
         ]
        },
        {
         "data": [
          {
           "marker": {
            "color": "red",
            "size": 15
           },
           "mode": "markers",
           "type": "scatter",
           "x": [
            751.591638757362
           ],
           "y": [
            325.76694768449
           ]
          }
         ]
        },
        {
         "data": [
          {
           "marker": {
            "color": "red",
            "size": 15
           },
           "mode": "markers",
           "type": "scatter",
           "x": [
            755.225314701467
           ],
           "y": [
            324.45039842938
           ]
          }
         ]
        },
        {
         "data": [
          {
           "marker": {
            "color": "red",
            "size": 15
           },
           "mode": "markers",
           "type": "scatter",
           "x": [
            758.227047003118
           ],
           "y": [
            323.449820995496
           ]
          }
         ]
        },
        {
         "data": [
          {
           "marker": {
            "color": "red",
            "size": 15
           },
           "mode": "markers",
           "type": "scatter",
           "x": [
            758.911652615775
           ],
           "y": [
            323.291835084883
           ]
          }
         ]
        },
        {
         "data": [
          {
           "marker": {
            "color": "red",
            "size": 15
           },
           "mode": "markers",
           "type": "scatter",
           "x": [
            760.702159602725
           ],
           "y": [
            322.607229472225
           ]
          }
         ]
        },
        {
         "data": [
          {
           "marker": {
            "color": "red",
            "size": 15
           },
           "mode": "markers",
           "type": "scatter",
           "x": [
            762.861300381106
           ],
           "y": [
            321.553990068137
           ]
          }
         ]
        },
        {
         "data": [
          {
           "marker": {
            "color": "red",
            "size": 15
           },
           "mode": "markers",
           "type": "scatter",
           "x": [
            765.073103129692
           ],
           "y": [
            320.184778842822
           ]
          }
         ]
        },
        {
         "data": [
          {
           "marker": {
            "color": "red",
            "size": 15
           },
           "mode": "markers",
           "type": "scatter",
           "x": [
            767.179581937868
           ],
           "y": [
            318.868229587712
           ]
          }
         ]
        },
        {
         "data": [
          {
           "marker": {
            "color": "red",
            "size": 15
           },
           "mode": "markers",
           "type": "scatter",
           "x": [
            767.706201639912
           ],
           "y": [
            318.552257766486
           ]
          }
         ]
        },
        {
         "data": [
          {
           "marker": {
            "color": "red",
            "size": 15
           },
           "mode": "markers",
           "type": "scatter",
           "x": [
            769.338722716249
           ],
           "y": [
            317.76232821342
           ]
          }
         ]
        },
        {
         "data": [
          {
           "marker": {
            "color": "red",
            "size": 15
           },
           "mode": "markers",
           "type": "scatter",
           "x": [
            773.393694421989
           ],
           "y": [
            316.761750779536
           ]
          }
         ]
        },
        {
         "data": [
          {
           "marker": {
            "color": "red",
            "size": 15
           },
           "mode": "markers",
           "type": "scatter",
           "x": [
            776.290102783231
           ],
           "y": [
            316.393116988105
           ]
          }
         ]
        },
        {
         "data": [
          {
           "marker": {
            "color": "red",
            "size": 15
           },
           "mode": "markers",
           "type": "scatter",
           "x": [
            776.974708395889
           ],
           "y": [
            316.3404550179
           ]
          }
         ]
        },
        {
         "data": [
          {
           "marker": {
            "color": "red",
            "size": 15
           },
           "mode": "markers",
           "type": "scatter",
           "x": [
            778.765215382839
           ],
           "y": [
            316.024483196674
           ]
          }
         ]
        },
        {
         "data": [
          {
           "marker": {
            "color": "red",
            "size": 15
           },
           "mode": "markers",
           "type": "scatter",
           "x": [
            780.819032220811
           ],
           "y": [
            315.708511375448
           ]
          }
         ]
        },
        {
         "data": [
          {
           "marker": {
            "color": "red",
            "size": 15
           },
           "mode": "markers",
           "type": "scatter",
           "x": [
            781.240327982446
           ],
           "y": [
            315.603187435039
           ]
          }
         ]
        },
        {
         "data": [
          {
           "marker": {
            "color": "red",
            "size": 15
           },
           "mode": "markers",
           "type": "scatter",
           "x": [
            782.71486314817
           ],
           "y": [
            315.287215613812
           ]
          }
         ]
        },
        {
         "data": [
          {
           "marker": {
            "color": "red",
            "size": 15
           },
           "mode": "markers",
           "type": "scatter",
           "x": [
            783.241482850214
           ],
           "y": [
            315.181891673403
           ]
          }
         ]
        },
        {
         "data": [
          {
           "marker": {
            "color": "red",
            "size": 15
           },
           "mode": "markers",
           "type": "scatter",
           "x": [
            784.663356045733
           ],
           "y": [
            314.813257881973
           ]
          }
         ]
        },
        {
         "data": [
          {
           "marker": {
            "color": "red",
            "size": 15
           },
           "mode": "markers",
           "type": "scatter",
           "x": [
            786.453863032683
           ],
           "y": [
            314.286638179928
           ]
          }
         ]
        },
        {
         "data": [
          {
           "marker": {
            "color": "red",
            "size": 15
           },
           "mode": "markers",
           "type": "scatter",
           "x": [
            788.297031989837
           ],
           "y": [
            313.70735650768
           ]
          }
         ]
        },
        {
         "data": [
          {
           "marker": {
            "color": "red",
            "size": 15
           },
           "mode": "markers",
           "type": "scatter",
           "x": [
            789.718905185356
           ],
           "y": [
            313.286060746045
           ]
          }
         ]
        },
        {
         "data": [
          {
           "marker": {
            "color": "red",
            "size": 15
           },
           "mode": "markers",
           "type": "scatter",
           "x": [
            791.878045963737
           ],
           "y": [
            312.443469222774
           ]
          }
         ]
        },
        {
         "data": [
          {
           "marker": {
            "color": "red",
            "size": 15
           },
           "mode": "markers",
           "type": "scatter",
           "x": [
            792.50998960619
           ],
           "y": [
            312.232821341956
           ]
          }
         ]
        },
        {
         "data": [
          {
           "marker": {
            "color": "red",
            "size": 15
           },
           "mode": "markers",
           "type": "scatter",
           "x": [
            794.511144473958
           ],
           "y": [
            311.864187550525
           ]
          }
         ]
        },
        {
         "data": [
          {
           "marker": {
            "color": "red",
            "size": 15
           },
           "mode": "markers",
           "type": "scatter",
           "x": [
            797.091581013974
           ],
           "y": [
            311.44289178889
           ]
          }
         ]
        },
        {
         "data": [
          {
           "marker": {
            "color": "red",
            "size": 15
           },
           "mode": "markers",
           "type": "scatter",
           "x": [
            800.251299226239
           ],
           "y": [
            310.863610116642
           ]
          }
         ]
        },
        {
         "data": [
          {
           "marker": {
            "color": "red",
            "size": 15
           },
           "mode": "markers",
           "type": "scatter",
           "x": [
            800.883242868691
           ],
           "y": [
            310.758286176233
           ]
          }
         ]
        },
        {
         "data": [
          {
           "marker": {
            "color": "red",
            "size": 15
           },
           "mode": "markers",
           "type": "scatter",
           "x": [
            802.147130153597
           ],
           "y": [
            310.547638295415
           ]
          }
         ]
        },
        {
         "data": [
          {
           "marker": {
            "color": "red",
            "size": 15
           },
           "mode": "markers",
           "type": "scatter",
           "x": [
            805.886130038111
           ],
           "y": [
            309.757708742349
           ]
          }
         ]
        },
        {
         "data": [
          {
           "marker": {
            "color": "red",
            "size": 15
           },
           "mode": "markers",
           "type": "scatter",
           "x": [
            808.203256727105
           ],
           "y": [
            309.231089040305
           ]
          }
         ]
        },
        {
         "data": [
          {
           "marker": {
            "color": "red",
            "size": 15
           },
           "mode": "markers",
           "type": "scatter",
           "x": [
            808.782538399353
           ],
           "y": [
            309.125765099896
           ]
          }
         ]
        },
        {
         "data": [
          {
           "marker": {
            "color": "red",
            "size": 15
           },
           "mode": "markers",
           "type": "scatter",
           "x": [
            810.204411594872
           ],
           "y": [
            308.757131308465
           ]
          }
         ]
        },
        {
         "data": [
          {
           "marker": {
            "color": "red",
            "size": 15
           },
           "mode": "markers",
           "type": "scatter",
           "x": [
            811.626284790392
           ],
           "y": [
            308.283173576625
           ]
          }
         ]
        },
        {
         "data": [
          {
           "marker": {
            "color": "red",
            "size": 15
           },
           "mode": "markers",
           "type": "scatter",
           "x": [
            811.626284790392
           ],
           "y": [
            308.283173576625
           ]
          }
         ]
        },
        {
         "data": [
          {
           "marker": {
            "color": "red",
            "size": 15
           },
           "mode": "markers",
           "type": "scatter",
           "x": [
            812.521538283866
           ],
           "y": [
            307.86187781499
           ]
          }
         ]
        },
        {
         "data": [
          {
           "marker": {
            "color": "red",
            "size": 15
           },
           "mode": "markers",
           "type": "scatter",
           "x": [
            813.574777687955
           ],
           "y": [
            306.913962351311
           ]
          }
         ]
        },
        {
         "data": [
          {
           "marker": {
            "color": "red",
            "size": 15
           },
           "mode": "markers",
           "type": "scatter",
           "x": [
            813.785425568772
           ],
           "y": [
            306.54532855988
           ]
          }
         ]
        },
        {
         "data": [
          {
           "marker": {
            "color": "red",
            "size": 15
           },
           "mode": "markers",
           "type": "scatter",
           "x": [
            814.048735419794
           ],
           "y": [
            306.229356738653
           ]
          }
         ]
        },
        {
         "data": [
          {
           "marker": {
            "color": "red",
            "size": 15
           },
           "mode": "markers",
           "type": "scatter",
           "x": [
            814.312045270817
           ],
           "y": [
            305.860722947223
           ]
          }
         ]
        },
        {
         "data": [
          {
           "marker": {
            "color": "red",
            "size": 15
           },
           "mode": "markers",
           "type": "scatter",
           "x": [
            814.996650883474
           ],
           "y": [
            305.281441274974
           ]
          }
         ]
        },
        {
         "data": [
          {
           "marker": {
            "color": "red",
            "size": 15
           },
           "mode": "markers",
           "type": "scatter",
           "x": [
            814.996650883474
           ],
           "y": [
            305.281441274974
           ]
          }
         ]
        },
        {
         "data": [
          {
           "marker": {
            "color": "red",
            "size": 15
           },
           "mode": "markers",
           "type": "scatter",
           "x": [
            455.684028178774
           ],
           "y": [
            469.639450282943
           ]
          }
         ]
        },
        {
         "data": [
          {
           "marker": {
            "color": "red",
            "size": 15
           },
           "mode": "markers",
           "type": "scatter",
           "x": [
            456.210647880818
           ],
           "y": [
            471.219309389075
           ]
          }
         ]
        },
        {
         "data": [
          {
           "marker": {
            "color": "red",
            "size": 15
           },
           "mode": "markers",
           "type": "scatter",
           "x": [
            457.053239404088
           ],
           "y": [
            472.061900912346
           ]
          }
         ]
        },
        {
         "data": [
          {
           "marker": {
            "color": "red",
            "size": 15
           },
           "mode": "markers",
           "type": "scatter",
           "x": [
            457.737845016746
           ],
           "y": [
            472.219886822959
           ]
          }
         ]
        },
        {
         "data": [
          {
           "marker": {
            "color": "red",
            "size": 15
           },
           "mode": "markers",
           "type": "scatter",
           "x": [
            458.633098510221
           ],
           "y": [
            472.377872733572
           ]
          }
         ]
        },
        {
         "data": [
          {
           "marker": {
            "color": "red",
            "size": 15
           },
           "mode": "markers",
           "type": "scatter",
           "x": [
            459.686337914309
           ],
           "y": [
            472.377872733572
           ]
          }
         ]
        },
        {
         "data": [
          {
           "marker": {
            "color": "red",
            "size": 15
           },
           "mode": "markers",
           "type": "scatter",
           "x": [
            461.055549139624
           ],
           "y": [
            472.061900912346
           ]
          }
         ]
        },
        {
         "data": [
          {
           "marker": {
            "color": "red",
            "size": 15
           },
           "mode": "markers",
           "type": "scatter",
           "x": [
            462.003464603303
           ],
           "y": [
            471.745929091119
           ]
          }
         ]
        },
        {
         "data": [
          {
           "marker": {
            "color": "red",
            "size": 15
           },
           "mode": "markers",
           "type": "scatter",
           "x": [
            463.793971590253
           ],
           "y": [
            471.061323478462
           ]
          }
         ]
        },
        {
         "data": [
          {
           "marker": {
            "color": "red",
            "size": 15
           },
           "mode": "markers",
           "type": "scatter",
           "x": [
            464.373253262501
           ],
           "y": [
            470.745351657235
           ]
          }
         ]
        },
        {
         "data": [
          {
           "marker": {
            "color": "red",
            "size": 15
           },
           "mode": "markers",
           "type": "scatter",
           "x": [
            464.636563113523
           ],
           "y": [
            470.534703776418
           ]
          }
         ]
        },
        {
         "data": [
          {
           "marker": {
            "color": "red",
            "size": 15
           },
           "mode": "markers",
           "type": "scatter",
           "x": [
            465.847788428225
           ],
           "y": [
            469.639450282943
           ]
          }
         ]
        },
        {
         "data": [
          {
           "marker": {
            "color": "red",
            "size": 15
           },
           "mode": "markers",
           "type": "scatter",
           "x": [
            466.163760249451
           ],
           "y": [
            469.376140431921
           ]
          }
         ]
        },
        {
         "data": [
          {
           "marker": {
            "color": "red",
            "size": 15
           },
           "mode": "markers",
           "type": "scatter",
           "x": [
            466.795703891904
           ],
           "y": [
            469.00750664049
           ]
          }
         ]
        },
        {
         "data": [
          {
           "marker": {
            "color": "red",
            "size": 15
           },
           "mode": "markers",
           "type": "scatter",
           "x": [
            467.164337683335
           ],
           "y": [
            468.849520729876
           ]
          }
         ]
        },
        {
         "data": [
          {
           "marker": {
            "color": "red",
            "size": 15
           },
           "mode": "markers",
           "type": "scatter",
           "x": [
            468.53354890865
           ],
           "y": [
            468.164915117219
           ]
          }
         ]
        },
        {
         "data": [
          {
           "marker": {
            "color": "red",
            "size": 15
           },
           "mode": "markers",
           "type": "scatter",
           "x": [
            468.954844670285
           ],
           "y": [
            468.006929206606
           ]
          }
         ]
        },
        {
         "data": [
          {
           "marker": {
            "color": "red",
            "size": 15
           },
           "mode": "markers",
           "type": "scatter",
           "x": [
            470.113408014782
           ],
           "y": [
            467.480309504562
           ]
          }
         ]
        },
        {
         "data": [
          {
           "marker": {
            "color": "red",
            "size": 15
           },
           "mode": "markers",
           "type": "scatter",
           "x": [
            470.482041806213
           ],
           "y": [
            467.269661623744
           ]
          }
         ]
        },
        {
         "data": [
          {
           "marker": {
            "color": "red",
            "size": 15
           },
           "mode": "markers",
           "type": "scatter",
           "x": [
            472.009238942141
           ],
           "y": [
            466.7430419217
           ]
          }
         ]
        },
        {
         "data": [
          {
           "marker": {
            "color": "red",
            "size": 15
           },
           "mode": "markers",
           "type": "scatter",
           "x": [
            472.535858644185
           ],
           "y": [
            466.585056011087
           ]
          }
         ]
        },
        {
         "data": [
          {
           "marker": {
            "color": "red",
            "size": 15
           },
           "mode": "markers",
           "type": "scatter",
           "x": [
            474.115717750318
           ],
           "y": [
            466.111098279247
           ]
          }
         ]
        },
        {
         "data": [
          {
           "marker": {
            "color": "red",
            "size": 15
           },
           "mode": "markers",
           "type": "scatter",
           "x": [
            476.432844439312
           ],
           "y": [
            465.268506755976
           ]
          }
         ]
        },
        {
         "data": [
          {
           "marker": {
            "color": "red",
            "size": 15
           },
           "mode": "markers",
           "type": "scatter",
           "x": [
            479.013280979328
           ],
           "y": [
            464.425915232706
           ]
          }
         ]
        },
        {
         "data": [
          {
           "marker": {
            "color": "red",
            "size": 15
           },
           "mode": "markers",
           "type": "scatter",
           "x": [
            480.277168264234
           ],
           "y": [
            464.004619471071
           ]
          }
         ]
        },
        {
         "data": [
          {
           "marker": {
            "color": "red",
            "size": 15
           },
           "mode": "markers",
           "type": "scatter",
           "x": [
            480.909111906687
           ],
           "y": [
            463.793971590253
           ]
          }
         ]
        },
        {
         "data": [
          {
           "marker": {
            "color": "red",
            "size": 15
           },
           "mode": "markers",
           "type": "scatter",
           "x": [
            483.278900565885
           ],
           "y": [
            463.004042037187
           ]
          }
         ]
        },
        {
         "data": [
          {
           "marker": {
            "color": "red",
            "size": 15
           },
           "mode": "markers",
           "type": "scatter",
           "x": [
            483.858182238134
           ],
           "y": [
            462.793394156369
           ]
          }
         ]
        },
        {
         "data": [
          {
           "marker": {
            "color": "red",
            "size": 15
           },
           "mode": "markers",
           "type": "scatter",
           "x": [
            486.175308927128
           ],
           "y": [
            462.056126573507
           ]
          }
         ]
        },
        {
         "data": [
          {
           "marker": {
            "color": "red",
            "size": 15
           },
           "mode": "markers",
           "type": "scatter",
           "x": [
            486.807252569581
           ],
           "y": [
            461.84547869269
           ]
          }
         ]
        },
        {
         "data": [
          {
           "marker": {
            "color": "red",
            "size": 15
           },
           "mode": "markers",
           "type": "scatter",
           "x": [
            488.492435616122
           ],
           "y": [
            461.318858990646
           ]
          }
         ]
        },
        {
         "data": [
          {
           "marker": {
            "color": "red",
            "size": 15
           },
           "mode": "markers",
           "type": "scatter",
           "x": [
            489.019055318166
           ],
           "y": [
            461.108211109828
           ]
          }
         ]
        },
        {
         "data": [
          {
           "marker": {
            "color": "red",
            "size": 15
           },
           "mode": "markers",
           "type": "scatter",
           "x": [
            490.49359048389
           ],
           "y": [
            460.634253377988
           ]
          }
         ]
        },
        {
         "data": [
          {
           "marker": {
            "color": "red",
            "size": 15
           },
           "mode": "markers",
           "type": "scatter",
           "x": [
            490.967548215729
           ],
           "y": [
            460.423605497171
           ]
          }
         ]
        },
        {
         "data": [
          {
           "marker": {
            "color": "red",
            "size": 15
           },
           "mode": "markers",
           "type": "scatter",
           "x": [
            492.494745351657
           ],
           "y": [
            459.791661854718
           ]
          }
         ]
        },
        {
         "data": [
          {
           "marker": {
            "color": "red",
            "size": 15
           },
           "mode": "markers",
           "type": "scatter",
           "x": [
            494.653886130038
           ],
           "y": [
            458.949070331447
           ]
          }
         ]
        },
        {
         "data": [
          {
           "marker": {
            "color": "red",
            "size": 15
           },
           "mode": "markers",
           "type": "scatter",
           "x": [
            495.180505832082
           ],
           "y": [
            458.580436540016
           ]
          }
         ]
        },
        {
         "data": [
          {
           "marker": {
            "color": "red",
            "size": 15
           },
           "mode": "markers",
           "type": "scatter",
           "x": [
            496.181083265966
           ],
           "y": [
            457.948492897563
           ]
          }
         ]
        },
        {
         "data": [
          {
           "marker": {
            "color": "red",
            "size": 15
           },
           "mode": "markers",
           "type": "scatter",
           "x": [
            497.550294491281
           ],
           "y": [
            456.947915463679
           ]
          }
         ]
        },
        {
         "data": [
          {
           "marker": {
            "color": "red",
            "size": 15
           },
           "mode": "markers",
           "type": "scatter",
           "x": [
            499.867421180275
           ],
           "y": [
            454.788774685299
           ]
          }
         ]
        },
        {
         "data": [
          {
           "marker": {
            "color": "red",
            "size": 15
           },
           "mode": "markers",
           "type": "scatter",
           "x": [
            501.183970435385
           ],
           "y": [
            453.208915579166
           ]
          }
         ]
        },
        {
         "data": [
          {
           "marker": {
            "color": "red",
            "size": 15
           },
           "mode": "markers",
           "type": "scatter",
           "x": [
            502.658505601109
           ],
           "y": [
            451.523732532625
           ]
          }
         ]
        },
        {
         "data": [
          {
           "marker": {
            "color": "red",
            "size": 15
           },
           "mode": "markers",
           "type": "scatter",
           "x": [
            504.133040766832
           ],
           "y": [
            449.733225545675
           ]
          }
         ]
        },
        {
         "data": [
          {
           "marker": {
            "color": "red",
            "size": 15
           },
           "mode": "markers",
           "type": "scatter",
           "x": [
            505.976209723987
           ],
           "y": [
            447.310774916272
           ]
          }
         ]
        },
        {
         "data": [
          {
           "marker": {
            "color": "red",
            "size": 15
           },
           "mode": "markers",
           "type": "scatter",
           "x": [
            506.344843515417
           ],
           "y": [
            446.889479154637
           ]
          }
         ]
        },
        {
         "data": [
          {
           "marker": {
            "color": "red",
            "size": 15
           },
           "mode": "markers",
           "type": "scatter",
           "x": [
            507.134773068484
           ],
           "y": [
            446.099549601571
           ]
          }
         ]
        },
        {
         "data": [
          {
           "marker": {
            "color": "red",
            "size": 15
           },
           "mode": "markers",
           "type": "scatter",
           "x": [
            508.925280055434
           ],
           "y": [
            444.414366555029
           ]
          }
         ]
        },
        {
         "data": [
          {
           "marker": {
            "color": "red",
            "size": 15
           },
           "mode": "markers",
           "type": "scatter",
           "x": [
            509.346575817069
           ],
           "y": [
            443.993070793394
           ]
          }
         ]
        },
        {
         "data": [
          {
           "marker": {
            "color": "red",
            "size": 15
           },
           "mode": "markers",
           "type": "scatter",
           "x": [
            511.400392655041
           ],
           "y": [
            442.623859568079
           ]
          }
         ]
        },
        {
         "data": [
          {
           "marker": {
            "color": "red",
            "size": 15
           },
           "mode": "markers",
           "type": "scatter",
           "x": [
            514.086153135466
           ],
           "y": [
            440.833352581129
           ]
          }
         ]
        },
        {
         "data": [
          {
           "marker": {
            "color": "red",
            "size": 15
           },
           "mode": "markers",
           "type": "scatter",
           "x": [
            514.718096777919
           ],
           "y": [
            440.412056819494
           ]
          }
         ]
        },
        {
         "data": [
          {
           "marker": {
            "color": "red",
            "size": 15
           },
           "mode": "markers",
           "type": "scatter",
           "x": [
            516.034646033029
           ],
           "y": [
            439.41147938561
           ]
          }
         ]
        },
        {
         "data": [
          {
           "marker": {
            "color": "red",
            "size": 15
           },
           "mode": "markers",
           "type": "scatter",
           "x": [
            517.561843168957
           ],
           "y": [
            437.568310428456
           ]
          }
         ]
        },
        {
         "data": [
          {
           "marker": {
            "color": "red",
            "size": 15
           },
           "mode": "markers",
           "type": "scatter",
           "x": [
            518.983716364476
           ],
           "y": [
            435.251183739462
           ]
          }
         ]
        },
        {
         "data": [
          {
           "marker": {
            "color": "red",
            "size": 15
           },
           "mode": "markers",
           "type": "scatter",
           "x": [
            521.195519113062
           ],
           "y": [
            431.828155676175
           ]
          }
         ]
        },
        {
         "data": [
          {
           "marker": {
            "color": "red",
            "size": 15
           },
           "mode": "markers",
           "type": "scatter",
           "x": [
            523.56530777226
           ],
           "y": [
            429.089733225546
           ]
          }
         ]
        },
        {
         "data": [
          {
           "marker": {
            "color": "red",
            "size": 15
           },
           "mode": "markers",
           "type": "scatter",
           "x": [
            526.356392193094
           ],
           "y": [
            425.982676983485
           ]
          }
         ]
        },
        {
         "data": [
          {
           "marker": {
            "color": "red",
            "size": 15
           },
           "mode": "markers",
           "type": "scatter",
           "x": [
            527.040997805751
           ],
           "y": [
            425.298071370828
           ]
          }
         ]
        },
        {
         "data": [
          {
           "marker": {
            "color": "red",
            "size": 15
           },
           "mode": "markers",
           "type": "scatter",
           "x": [
            528.989490703314
           ],
           "y": [
            423.191592562652
           ]
          }
         ]
        },
        {
         "data": [
          {
           "marker": {
            "color": "red",
            "size": 15
           },
           "mode": "markers",
           "type": "scatter",
           "x": [
            529.568772375563
           ],
           "y": [
            422.401663009585
           ]
          }
         ]
        },
        {
         "data": [
          {
           "marker": {
            "color": "red",
            "size": 15
           },
           "mode": "markers",
           "type": "scatter",
           "x": [
            531.780575124148
           ],
           "y": [
            420.453170112022
           ]
          }
         ]
        },
        {
         "data": [
          {
           "marker": {
            "color": "red",
            "size": 15
           },
           "mode": "markers",
           "type": "scatter",
           "x": [
            534.676983485391
           ],
           "y": [
            417.609423720984
           ]
          }
         ]
        },
        {
         "data": [
          {
           "marker": {
            "color": "red",
            "size": 15
           },
           "mode": "markers",
           "type": "scatter",
           "x": [
            537.678715787042
           ],
           "y": [
            414.449705508719
           ]
          }
         ]
        },
        {
         "data": [
          {
           "marker": {
            "color": "red",
            "size": 15
           },
           "mode": "markers",
           "type": "scatter",
           "x": [
            540.627786118489
           ],
           "y": [
            411.184663356046
           ]
          }
         ]
        },
        {
         "data": [
          {
           "marker": {
            "color": "red",
            "size": 15
           },
           "mode": "markers",
           "type": "scatter",
           "x": [
            541.365053701351
           ],
           "y": [
            410.39473380298
           ]
          }
         ]
        },
        {
         "data": [
          {
           "marker": {
            "color": "red",
            "size": 15
           },
           "mode": "markers",
           "type": "scatter",
           "x": [
            543.682180390345
           ],
           "y": [
            408.182931054394
           ]
          }
         ]
        },
        {
         "data": [
          {
           "marker": {
            "color": "red",
            "size": 15
           },
           "mode": "markers",
           "type": "scatter",
           "x": [
            544.419447973207
           ],
           "y": [
            407.393001501328
           ]
          }
         ]
        },
        {
         "data": [
          {
           "marker": {
            "color": "red",
            "size": 15
           },
           "mode": "markers",
           "type": "scatter",
           "x": [
            546.683912691997
           ],
           "y": [
            405.075874812334
           ]
          }
         ]
        },
        {
         "data": [
          {
           "marker": {
            "color": "red",
            "size": 15
           },
           "mode": "markers",
           "type": "scatter",
           "x": [
            550.370250606306
           ],
           "y": [
            401.284212957616
           ]
          }
         ]
        },
        {
         "data": [
          {
           "marker": {
            "color": "red",
            "size": 15
           },
           "mode": "markers",
           "type": "scatter",
           "x": [
            553.371982907957
           ],
           "y": [
            398.387804596374
           ]
          }
         ]
        },
        {
         "data": [
          {
           "marker": {
            "color": "red",
            "size": 15
           },
           "mode": "markers",
           "type": "scatter",
           "x": [
            557.532278554106
           ],
           "y": [
            394.64880471186
           ]
          }
         ]
        },
        {
         "data": [
          {
           "marker": {
            "color": "red",
            "size": 15
           },
           "mode": "markers",
           "type": "scatter",
           "x": [
            561.271278438619
           ],
           "y": [
            391.06779073796
           ]
          }
         ]
        },
        {
         "data": [
          {
           "marker": {
            "color": "red",
            "size": 15
           },
           "mode": "markers",
           "type": "scatter",
           "x": [
            564.74696847211
           ],
           "y": [
            387.276128883243
           ]
          }
         ]
        },
        {
         "data": [
          {
           "marker": {
            "color": "red",
            "size": 15
           },
           "mode": "markers",
           "type": "scatter",
           "x": [
            568.222658505601
           ],
           "y": [
            383.642452939138
           ]
          }
         ]
        },
        {
         "data": [
          {
           "marker": {
            "color": "red",
            "size": 15
           },
           "mode": "markers",
           "type": "scatter",
           "x": [
            569.065250028872
           ],
           "y": [
            382.747199445663
           ]
          }
         ]
        },
        {
         "data": [
          {
           "marker": {
            "color": "red",
            "size": 15
           },
           "mode": "markers",
           "type": "scatter",
           "x": [
            572.962235823998
           ],
           "y": [
            378.639565769719
           ]
          }
         ]
        },
        {
         "data": [
          {
           "marker": {
            "color": "red",
            "size": 15
           },
           "mode": "markers",
           "type": "scatter",
           "x": [
            573.752165377064
           ],
           "y": [
            377.902298186858
           ]
          }
         ]
        },
        {
         "data": [
          {
           "marker": {
            "color": "red",
            "size": 15
           },
           "mode": "markers",
           "type": "scatter",
           "x": [
            576.385263887285
           ],
           "y": [
            375.637833468068
           ]
          }
         ]
        },
        {
         "data": [
          {
           "marker": {
            "color": "red",
            "size": 15
           },
           "mode": "markers",
           "type": "scatter",
           "x": [
            580.124263771798
           ],
           "y": [
            372.583439196212
           ]
          }
         ]
        },
        {
         "data": [
          {
           "marker": {
            "color": "red",
            "size": 15
           },
           "mode": "markers",
           "type": "scatter",
           "x": [
            584.021249566925
           ],
           "y": [
            369.687030834969
           ]
          }
         ]
        },
        {
         "data": [
          {
           "marker": {
            "color": "red",
            "size": 15
           },
           "mode": "markers",
           "type": "scatter",
           "x": [
            587.918235362051
           ],
           "y": [
            366.895946414136
           ]
          }
         ]
        },
        {
         "data": [
          {
           "marker": {
            "color": "red",
            "size": 15
           },
           "mode": "markers",
           "type": "scatter",
           "x": [
            588.86615082573
           ],
           "y": [
            366.211340801478
           ]
          }
         ]
        },
        {
         "data": [
          {
           "marker": {
            "color": "red",
            "size": 15
           },
           "mode": "markers",
           "type": "scatter",
           "x": [
            591.657235246564
           ],
           "y": [
            364.315509874119
           ]
          }
         ]
        },
        {
         "data": [
          {
           "marker": {
            "color": "red",
            "size": 15
           },
           "mode": "markers",
           "type": "scatter",
           "x": [
            594.869615429033
           ],
           "y": [
            362.103707125534
           ]
          }
         ]
        },
        {
         "data": [
          {
           "marker": {
            "color": "red",
            "size": 15
           },
           "mode": "markers",
           "type": "scatter",
           "x": [
            598.187319551911
           ],
           "y": [
            359.891904376949
           ]
          }
         ]
        },
        {
         "data": [
          {
           "marker": {
            "color": "red",
            "size": 15
           },
           "mode": "markers",
           "type": "scatter",
           "x": [
            601.452361704585
           ],
           "y": [
            357.52211571775
           ]
          }
         ]
        },
        {
         "data": [
          {
           "marker": {
            "color": "red",
            "size": 15
           },
           "mode": "markers",
           "type": "scatter",
           "x": [
            606.402586903799
           ],
           "y": [
            354.046425684259
           ]
          }
         ]
        },
        {
         "data": [
          {
           "marker": {
            "color": "red",
            "size": 15
           },
           "mode": "markers",
           "type": "scatter",
           "x": [
            607.192516456866
           ],
           "y": [
            353.467144012011
           ]
          }
         ]
        },
        {
         "data": [
          {
           "marker": {
            "color": "red",
            "size": 15
           },
           "mode": "markers",
           "type": "scatter",
           "x": [
            608.877699503407
           ],
           "y": [
            352.097932786696
           ]
          }
         ]
        },
        {
         "data": [
          {
           "marker": {
            "color": "red",
            "size": 15
           },
           "mode": "markers",
           "type": "scatter",
           "x": [
            613.09065711976
           ],
           "y": [
            348.200946991569
           ]
          }
         ]
        },
        {
         "data": [
          {
           "marker": {
            "color": "red",
            "size": 15
           },
           "mode": "markers",
           "type": "scatter",
           "x": [
            613.880586672826
           ],
           "y": [
            347.305693498094
           ]
          }
         ]
        },
        {
         "data": [
          {
           "marker": {
            "color": "red",
            "size": 15
           },
           "mode": "markers",
           "type": "scatter",
           "x": [
            616.355699272433
           ],
           "y": [
            344.777918928283
           ]
          }
         ]
        },
        {
         "data": [
          {
           "marker": {
            "color": "red",
            "size": 15
           },
           "mode": "markers",
           "type": "scatter",
           "x": [
            619.884051276129
           ],
           "y": [
            341.4075528352
           ]
          }
         ]
        },
        {
         "data": [
          {
           "marker": {
            "color": "red",
            "size": 15
           },
           "mode": "markers",
           "type": "scatter",
           "x": [
            624.044346922277
           ],
           "y": [
            338.405820533549
           ]
          }
         ]
        },
        {
         "data": [
          {
           "marker": {
            "color": "red",
            "size": 15
           },
           "mode": "markers",
           "type": "scatter",
           "x": [
            625.097586326366
           ],
           "y": [
            337.668552950687
           ]
          }
         ]
        },
        {
         "data": [
          {
           "marker": {
            "color": "red",
            "size": 15
           },
           "mode": "markers",
           "type": "scatter",
           "x": [
            628.309966508835
           ],
           "y": [
            335.509412172306
           ]
          }
         ]
        },
        {
         "data": [
          {
           "marker": {
            "color": "red",
            "size": 15
           },
           "mode": "markers",
           "type": "scatter",
           "x": [
            629.415867883127
           ],
           "y": [
            334.824806559649
           ]
          }
         ]
        },
        {
         "data": [
          {
           "marker": {
            "color": "red",
            "size": 15
           },
           "mode": "markers",
           "type": "scatter",
           "x": [
            632.680910035801
           ],
           "y": [
            332.770989721677
           ]
          }
         ]
        },
        {
         "data": [
          {
           "marker": {
            "color": "red",
            "size": 15
           },
           "mode": "markers",
           "type": "scatter",
           "x": [
            633.734149439889
           ],
           "y": [
            332.033722138815
           ]
          }
         ]
        },
        {
         "data": [
          {
           "marker": {
            "color": "red",
            "size": 15
           },
           "mode": "markers",
           "type": "scatter",
           "x": [
            636.683219771336
           ],
           "y": [
            329.874581360434
           ]
          }
         ]
        },
        {
         "data": [
          {
           "marker": {
            "color": "red",
            "size": 15
           },
           "mode": "markers",
           "type": "scatter",
           "x": [
            637.578473264811
           ],
           "y": [
            329.189975747777
           ]
          }
         ]
        },
        {
         "data": [
          {
           "marker": {
            "color": "red",
            "size": 15
           },
           "mode": "markers",
           "type": "scatter",
           "x": [
            640.158909804827
           ],
           "y": [
            327.188820880009
           ]
          }
         ]
        },
        {
         "data": [
          {
           "marker": {
            "color": "red",
            "size": 15
           },
           "mode": "markers",
           "type": "scatter",
           "x": [
            643.739923778727
           ],
           "y": [
            324.608384339993
           ]
          }
         ]
        },
        {
         "data": [
          {
           "marker": {
            "color": "red",
            "size": 15
           },
           "mode": "markers",
           "type": "scatter",
           "x": [
            644.687839242407
           ],
           "y": [
            323.97644069754
           ]
          }
         ]
        },
        {
         "data": [
          {
           "marker": {
            "color": "red",
            "size": 15
           },
           "mode": "markers",
           "type": "scatter",
           "x": [
            647.426261693036
           ],
           "y": [
            322.080609770181
           ]
          }
         ]
        },
        {
         "data": [
          {
           "marker": {
            "color": "red",
            "size": 15
           },
           "mode": "markers",
           "type": "scatter",
           "x": [
            651.059937637141
           ],
           "y": [
            319.394849289756
           ]
          }
         ]
        },
        {
         "data": [
          {
           "marker": {
            "color": "red",
            "size": 15
           },
           "mode": "markers",
           "type": "scatter",
           "x": [
            654.588289640836
           ],
           "y": [
            316.709088809331
           ]
          }
         ]
        },
        {
         "data": [
          {
           "marker": {
            "color": "red",
            "size": 15
           },
           "mode": "markers",
           "type": "scatter",
           "x": [
            659.696500750664
           ],
           "y": [
            313.075412865227
           ]
          }
         ]
        },
        {
         "data": [
          {
           "marker": {
            "color": "red",
            "size": 15
           },
           "mode": "markers",
           "type": "scatter",
           "x": [
            665.594641413558
           ],
           "y": [
            308.651807368056
           ]
          }
         ]
        },
        {
         "data": [
          {
           "marker": {
            "color": "red",
            "size": 15
           },
           "mode": "markers",
           "type": "scatter",
           "x": [
            669.649613119298
           ],
           "y": [
            305.22877930477
           ]
          }
         ]
        },
        {
         "data": [
          {
           "marker": {
            "color": "red",
            "size": 15
           },
           "mode": "markers",
           "type": "scatter",
           "x": [
            672.809331331562
           ],
           "y": [
            302.332370943527
           ]
          }
         ]
        },
        {
         "data": [
          {
           "marker": {
            "color": "red",
            "size": 15
           },
           "mode": "markers",
           "type": "scatter",
           "x": [
            673.546598914424
           ],
           "y": [
            301.542441390461
           ]
          }
         ]
        },
        {
         "data": [
          {
           "marker": {
            "color": "red",
            "size": 15
           },
           "mode": "markers",
           "type": "scatter",
           "x": [
            675.863725603418
           ],
           "y": [
            299.330638641876
           ]
          }
         ]
        },
        {
         "data": [
          {
           "marker": {
            "color": "red",
            "size": 15
           },
           "mode": "markers",
           "type": "scatter",
           "x": [
            676.653655156485
           ],
           "y": [
            298.593371059014
           ]
          }
         ]
        },
        {
         "data": [
          {
           "marker": {
            "color": "red",
            "size": 15
           },
           "mode": "markers",
           "type": "scatter",
           "x": [
            678.918119875274
           ],
           "y": [
            296.328906340224
           ]
          }
         ]
        },
        {
         "data": [
          {
           "marker": {
            "color": "red",
            "size": 15
           },
           "mode": "markers",
           "type": "scatter",
           "x": [
            679.602725487932
           ],
           "y": [
            295.644300727567
           ]
          }
         ]
        },
        {
         "data": [
          {
           "marker": {
            "color": "red",
            "size": 15
           },
           "mode": "markers",
           "type": "scatter",
           "x": [
            681.656542325904
           ],
           "y": [
            293.748469800208
           ]
          }
         ]
        },
        {
         "data": [
          {
           "marker": {
            "color": "red",
            "size": 15
           },
           "mode": "markers",
           "type": "scatter",
           "x": [
            684.552950687146
           ],
           "y": [
            291.168033260192
           ]
          }
         ]
        },
        {
         "data": [
          {
           "marker": {
            "color": "red",
            "size": 15
           },
           "mode": "markers",
           "type": "scatter",
           "x": [
            685.342880240212
           ],
           "y": [
            290.536089617739
           ]
          }
         ]
        },
        {
         "data": [
          {
           "marker": {
            "color": "red",
            "size": 15
           },
           "mode": "markers",
           "type": "scatter",
           "x": [
            687.765330869615
           ],
           "y": [
            288.64025869038
           ]
          }
         ]
        },
        {
         "data": [
          {
           "marker": {
            "color": "red",
            "size": 15
           },
           "mode": "markers",
           "type": "scatter",
           "x": [
            690.819725141471
           ],
           "y": [
            285.954498209955
           ]
          }
         ]
        },
        {
         "data": [
          {
           "marker": {
            "color": "red",
            "size": 15
           },
           "mode": "markers",
           "type": "scatter",
           "x": [
            691.609654694537
           ],
           "y": [
            285.269892597298
           ]
          }
         ]
        },
        {
         "data": [
          {
           "marker": {
            "color": "red",
            "size": 15
           },
           "mode": "markers",
           "type": "scatter",
           "x": [
            695.45397851946
           ],
           "y": [
            281.794202563806
           ]
          }
         ]
        },
        {
         "data": [
          {
           "marker": {
            "color": "red",
            "size": 15
           },
           "mode": "markers",
           "type": "scatter",
           "x": [
            698.56103476152
           ],
           "y": [
            279.266427993995
           ]
          }
         ]
        },
        {
         "data": [
          {
           "marker": {
            "color": "red",
            "size": 15
           },
           "mode": "markers",
           "type": "scatter",
           "x": [
            699.350964314586
           ],
           "y": [
            278.687146321746
           ]
          }
         ]
        },
        {
         "data": [
          {
           "marker": {
            "color": "red",
            "size": 15
           },
           "mode": "markers",
           "type": "scatter",
           "x": [
            700.878161450514
           ],
           "y": [
            277.475921007045
           ]
          }
         ]
        },
        {
         "data": [
          {
           "marker": {
            "color": "red",
            "size": 15
           },
           "mode": "markers",
           "type": "scatter",
           "x": [
            704.195865573392
           ],
           "y": [
            274.737498556415
           ]
          }
         ]
        },
        {
         "data": [
          {
           "marker": {
            "color": "red",
            "size": 15
           },
           "mode": "markers",
           "type": "scatter",
           "x": [
            704.933133156254
           ],
           "y": [
            274.158216884167
           ]
          }
         ]
        },
        {
         "data": [
          {
           "marker": {
            "color": "red",
            "size": 15
           },
           "mode": "markers",
           "type": "scatter",
           "x": [
            707.197597875043
           ],
           "y": [
            272.683681718443
           ]
          }
         ]
        },
        {
         "data": [
          {
           "marker": {
            "color": "red",
            "size": 15
           },
           "mode": "markers",
           "type": "scatter",
           "x": [
            710.251992146899
           ],
           "y": [
            270.840512761289
           ]
          }
         ]
        },
        {
         "data": [
          {
           "marker": {
            "color": "red",
            "size": 15
           },
           "mode": "markers",
           "type": "scatter",
           "x": [
            710.989259729761
           ],
           "y": [
            270.419216999654
           ]
          }
         ]
        },
        {
         "data": [
          {
           "marker": {
            "color": "red",
            "size": 15
           },
           "mode": "markers",
           "type": "scatter",
           "x": [
            713.201062478346
           ],
           "y": [
            269.313315625361
           ]
          }
         ]
        },
        {
         "data": [
          {
           "marker": {
            "color": "red",
            "size": 15
           },
           "mode": "markers",
           "type": "scatter",
           "x": [
            713.938330061208
           ],
           "y": [
            268.94468183393
           ]
          }
         ]
        },
        {
         "data": [
          {
           "marker": {
            "color": "red",
            "size": 15
           },
           "mode": "markers",
           "type": "scatter",
           "x": [
            716.044808869385
           ],
           "y": [
            267.838780459637
           ]
          }
         ]
        },
        {
         "data": [
          {
           "marker": {
            "color": "red",
            "size": 15
           },
           "mode": "markers",
           "type": "scatter",
           "x": [
            718.888555260423
           ],
           "y": [
            266.416907264118
           ]
          }
         ]
        },
        {
         "data": [
          {
           "marker": {
            "color": "red",
            "size": 15
           },
           "mode": "markers",
           "type": "scatter",
           "x": [
            721.521653770643
           ],
           "y": [
            265.047696038804
           ]
          }
         ]
        },
        {
         "data": [
          {
           "marker": {
            "color": "red",
            "size": 15
           },
           "mode": "markers",
           "type": "scatter",
           "x": [
            722.100935442892
           ],
           "y": [
            264.679062247373
           ]
          }
         ]
        },
        {
         "data": [
          {
           "marker": {
            "color": "red",
            "size": 15
           },
           "mode": "markers",
           "type": "scatter",
           "x": [
            723.838780459637
           ],
           "y": [
            263.625822843284
           ]
          }
         ]
        },
        {
         "data": [
          {
           "marker": {
            "color": "red",
            "size": 15
           },
           "mode": "markers",
           "type": "scatter",
           "x": [
            725.892597297609
           ],
           "y": [
            262.098625707357
           ]
          }
         ]
        },
        {
         "data": [
          {
           "marker": {
            "color": "red",
            "size": 15
           },
           "mode": "markers",
           "type": "scatter",
           "x": [
            728.209723986604
           ],
           "y": [
            260.46610463102
           ]
          }
         ]
        },
        {
         "data": [
          {
           "marker": {
            "color": "red",
            "size": 15
           },
           "mode": "markers",
           "type": "scatter",
           "x": [
            728.789005658852
           ],
           "y": [
            260.097470839589
           ]
          }
         ]
        },
        {
         "data": [
          {
           "marker": {
            "color": "red",
            "size": 15
           },
           "mode": "markers",
           "type": "scatter",
           "x": [
            730.526850675598
           ],
           "y": [
            258.833583554683
           ]
          }
         ]
        },
        {
         "data": [
          {
           "marker": {
            "color": "red",
            "size": 15
           },
           "mode": "markers",
           "type": "scatter",
           "x": [
            731.053470377642
           ],
           "y": [
            258.359625822843
           ]
          }
         ]
        },
        {
         "data": [
          {
           "marker": {
            "color": "red",
            "size": 15
           },
           "mode": "markers",
           "type": "scatter",
           "x": [
            733.159949185818
           ],
           "y": [
            256.621780806098
           ]
          }
         ]
        },
        {
         "data": [
          {
           "marker": {
            "color": "red",
            "size": 15
           },
           "mode": "markers",
           "type": "scatter",
           "x": [
            733.739230858067
           ],
           "y": [
            256.200485044462
           ]
          }
         ]
        },
        {
         "data": [
          {
           "marker": {
            "color": "red",
            "size": 15
           },
           "mode": "markers",
           "type": "scatter",
           "x": [
            734.897794202564
           ],
           "y": [
            255.463217461601
           ]
          }
         ]
        },
        {
         "data": [
          {
           "marker": {
            "color": "red",
            "size": 15
           },
           "mode": "markers",
           "type": "scatter",
           "x": [
            735.424413904608
           ],
           "y": [
            255.09458367017
           ]
          }
         ]
        },
        {
         "data": [
          {
           "marker": {
            "color": "red",
            "size": 15
           },
           "mode": "markers",
           "type": "scatter",
           "x": [
            738.531470146668
           ],
           "y": [
            253.778034415059
           ]
          }
         ]
        },
        {
         "data": [
          {
           "marker": {
            "color": "red",
            "size": 15
           },
           "mode": "markers",
           "type": "scatter",
           "x": [
            739.216075759326
           ],
           "y": [
            253.567386534242
           ]
          }
         ]
        },
        {
         "data": [
          {
           "marker": {
            "color": "red",
            "size": 15
           },
           "mode": "markers",
           "type": "scatter",
           "x": [
            741.164568656889
           ],
           "y": [
            253.040766832198
           ]
          }
         ]
        },
        {
         "data": [
          {
           "marker": {
            "color": "red",
            "size": 15
           },
           "mode": "markers",
           "type": "scatter",
           "x": [
            744.008315047927
           ],
           "y": [
            252.882780921584
           ]
          }
         ]
        },
        {
         "data": [
          {
           "marker": {
            "color": "red",
            "size": 15
           },
           "mode": "markers",
           "type": "scatter",
           "x": [
            745.324864303037
           ],
           "y": [
            252.988104861993
           ]
          }
         ]
        }
       ],
       "layout": {
        "hovermode": "closest",
        "template": {
         "data": {
          "bar": [
           {
            "error_x": {
             "color": "#2a3f5f"
            },
            "error_y": {
             "color": "#2a3f5f"
            },
            "marker": {
             "line": {
              "color": "#E5ECF6",
              "width": 0.5
             },
             "pattern": {
              "fillmode": "overlay",
              "size": 10,
              "solidity": 0.2
             }
            },
            "type": "bar"
           }
          ],
          "barpolar": [
           {
            "marker": {
             "line": {
              "color": "#E5ECF6",
              "width": 0.5
             },
             "pattern": {
              "fillmode": "overlay",
              "size": 10,
              "solidity": 0.2
             }
            },
            "type": "barpolar"
           }
          ],
          "carpet": [
           {
            "aaxis": {
             "endlinecolor": "#2a3f5f",
             "gridcolor": "white",
             "linecolor": "white",
             "minorgridcolor": "white",
             "startlinecolor": "#2a3f5f"
            },
            "baxis": {
             "endlinecolor": "#2a3f5f",
             "gridcolor": "white",
             "linecolor": "white",
             "minorgridcolor": "white",
             "startlinecolor": "#2a3f5f"
            },
            "type": "carpet"
           }
          ],
          "choropleth": [
           {
            "colorbar": {
             "outlinewidth": 0,
             "ticks": ""
            },
            "type": "choropleth"
           }
          ],
          "contour": [
           {
            "colorbar": {
             "outlinewidth": 0,
             "ticks": ""
            },
            "colorscale": [
             [
              0,
              "#0d0887"
             ],
             [
              0.1111111111111111,
              "#46039f"
             ],
             [
              0.2222222222222222,
              "#7201a8"
             ],
             [
              0.3333333333333333,
              "#9c179e"
             ],
             [
              0.4444444444444444,
              "#bd3786"
             ],
             [
              0.5555555555555556,
              "#d8576b"
             ],
             [
              0.6666666666666666,
              "#ed7953"
             ],
             [
              0.7777777777777778,
              "#fb9f3a"
             ],
             [
              0.8888888888888888,
              "#fdca26"
             ],
             [
              1,
              "#f0f921"
             ]
            ],
            "type": "contour"
           }
          ],
          "contourcarpet": [
           {
            "colorbar": {
             "outlinewidth": 0,
             "ticks": ""
            },
            "type": "contourcarpet"
           }
          ],
          "heatmap": [
           {
            "colorbar": {
             "outlinewidth": 0,
             "ticks": ""
            },
            "colorscale": [
             [
              0,
              "#0d0887"
             ],
             [
              0.1111111111111111,
              "#46039f"
             ],
             [
              0.2222222222222222,
              "#7201a8"
             ],
             [
              0.3333333333333333,
              "#9c179e"
             ],
             [
              0.4444444444444444,
              "#bd3786"
             ],
             [
              0.5555555555555556,
              "#d8576b"
             ],
             [
              0.6666666666666666,
              "#ed7953"
             ],
             [
              0.7777777777777778,
              "#fb9f3a"
             ],
             [
              0.8888888888888888,
              "#fdca26"
             ],
             [
              1,
              "#f0f921"
             ]
            ],
            "type": "heatmap"
           }
          ],
          "heatmapgl": [
           {
            "colorbar": {
             "outlinewidth": 0,
             "ticks": ""
            },
            "colorscale": [
             [
              0,
              "#0d0887"
             ],
             [
              0.1111111111111111,
              "#46039f"
             ],
             [
              0.2222222222222222,
              "#7201a8"
             ],
             [
              0.3333333333333333,
              "#9c179e"
             ],
             [
              0.4444444444444444,
              "#bd3786"
             ],
             [
              0.5555555555555556,
              "#d8576b"
             ],
             [
              0.6666666666666666,
              "#ed7953"
             ],
             [
              0.7777777777777778,
              "#fb9f3a"
             ],
             [
              0.8888888888888888,
              "#fdca26"
             ],
             [
              1,
              "#f0f921"
             ]
            ],
            "type": "heatmapgl"
           }
          ],
          "histogram": [
           {
            "marker": {
             "pattern": {
              "fillmode": "overlay",
              "size": 10,
              "solidity": 0.2
             }
            },
            "type": "histogram"
           }
          ],
          "histogram2d": [
           {
            "colorbar": {
             "outlinewidth": 0,
             "ticks": ""
            },
            "colorscale": [
             [
              0,
              "#0d0887"
             ],
             [
              0.1111111111111111,
              "#46039f"
             ],
             [
              0.2222222222222222,
              "#7201a8"
             ],
             [
              0.3333333333333333,
              "#9c179e"
             ],
             [
              0.4444444444444444,
              "#bd3786"
             ],
             [
              0.5555555555555556,
              "#d8576b"
             ],
             [
              0.6666666666666666,
              "#ed7953"
             ],
             [
              0.7777777777777778,
              "#fb9f3a"
             ],
             [
              0.8888888888888888,
              "#fdca26"
             ],
             [
              1,
              "#f0f921"
             ]
            ],
            "type": "histogram2d"
           }
          ],
          "histogram2dcontour": [
           {
            "colorbar": {
             "outlinewidth": 0,
             "ticks": ""
            },
            "colorscale": [
             [
              0,
              "#0d0887"
             ],
             [
              0.1111111111111111,
              "#46039f"
             ],
             [
              0.2222222222222222,
              "#7201a8"
             ],
             [
              0.3333333333333333,
              "#9c179e"
             ],
             [
              0.4444444444444444,
              "#bd3786"
             ],
             [
              0.5555555555555556,
              "#d8576b"
             ],
             [
              0.6666666666666666,
              "#ed7953"
             ],
             [
              0.7777777777777778,
              "#fb9f3a"
             ],
             [
              0.8888888888888888,
              "#fdca26"
             ],
             [
              1,
              "#f0f921"
             ]
            ],
            "type": "histogram2dcontour"
           }
          ],
          "mesh3d": [
           {
            "colorbar": {
             "outlinewidth": 0,
             "ticks": ""
            },
            "type": "mesh3d"
           }
          ],
          "parcoords": [
           {
            "line": {
             "colorbar": {
              "outlinewidth": 0,
              "ticks": ""
             }
            },
            "type": "parcoords"
           }
          ],
          "pie": [
           {
            "automargin": true,
            "type": "pie"
           }
          ],
          "scatter": [
           {
            "marker": {
             "colorbar": {
              "outlinewidth": 0,
              "ticks": ""
             }
            },
            "type": "scatter"
           }
          ],
          "scatter3d": [
           {
            "line": {
             "colorbar": {
              "outlinewidth": 0,
              "ticks": ""
             }
            },
            "marker": {
             "colorbar": {
              "outlinewidth": 0,
              "ticks": ""
             }
            },
            "type": "scatter3d"
           }
          ],
          "scattercarpet": [
           {
            "marker": {
             "colorbar": {
              "outlinewidth": 0,
              "ticks": ""
             }
            },
            "type": "scattercarpet"
           }
          ],
          "scattergeo": [
           {
            "marker": {
             "colorbar": {
              "outlinewidth": 0,
              "ticks": ""
             }
            },
            "type": "scattergeo"
           }
          ],
          "scattergl": [
           {
            "marker": {
             "colorbar": {
              "outlinewidth": 0,
              "ticks": ""
             }
            },
            "type": "scattergl"
           }
          ],
          "scattermapbox": [
           {
            "marker": {
             "colorbar": {
              "outlinewidth": 0,
              "ticks": ""
             }
            },
            "type": "scattermapbox"
           }
          ],
          "scatterpolar": [
           {
            "marker": {
             "colorbar": {
              "outlinewidth": 0,
              "ticks": ""
             }
            },
            "type": "scatterpolar"
           }
          ],
          "scatterpolargl": [
           {
            "marker": {
             "colorbar": {
              "outlinewidth": 0,
              "ticks": ""
             }
            },
            "type": "scatterpolargl"
           }
          ],
          "scatterternary": [
           {
            "marker": {
             "colorbar": {
              "outlinewidth": 0,
              "ticks": ""
             }
            },
            "type": "scatterternary"
           }
          ],
          "surface": [
           {
            "colorbar": {
             "outlinewidth": 0,
             "ticks": ""
            },
            "colorscale": [
             [
              0,
              "#0d0887"
             ],
             [
              0.1111111111111111,
              "#46039f"
             ],
             [
              0.2222222222222222,
              "#7201a8"
             ],
             [
              0.3333333333333333,
              "#9c179e"
             ],
             [
              0.4444444444444444,
              "#bd3786"
             ],
             [
              0.5555555555555556,
              "#d8576b"
             ],
             [
              0.6666666666666666,
              "#ed7953"
             ],
             [
              0.7777777777777778,
              "#fb9f3a"
             ],
             [
              0.8888888888888888,
              "#fdca26"
             ],
             [
              1,
              "#f0f921"
             ]
            ],
            "type": "surface"
           }
          ],
          "table": [
           {
            "cells": {
             "fill": {
              "color": "#EBF0F8"
             },
             "line": {
              "color": "white"
             }
            },
            "header": {
             "fill": {
              "color": "#C8D4E3"
             },
             "line": {
              "color": "white"
             }
            },
            "type": "table"
           }
          ]
         },
         "layout": {
          "annotationdefaults": {
           "arrowcolor": "#2a3f5f",
           "arrowhead": 0,
           "arrowwidth": 1
          },
          "autotypenumbers": "strict",
          "coloraxis": {
           "colorbar": {
            "outlinewidth": 0,
            "ticks": ""
           }
          },
          "colorscale": {
           "diverging": [
            [
             0,
             "#8e0152"
            ],
            [
             0.1,
             "#c51b7d"
            ],
            [
             0.2,
             "#de77ae"
            ],
            [
             0.3,
             "#f1b6da"
            ],
            [
             0.4,
             "#fde0ef"
            ],
            [
             0.5,
             "#f7f7f7"
            ],
            [
             0.6,
             "#e6f5d0"
            ],
            [
             0.7,
             "#b8e186"
            ],
            [
             0.8,
             "#7fbc41"
            ],
            [
             0.9,
             "#4d9221"
            ],
            [
             1,
             "#276419"
            ]
           ],
           "sequential": [
            [
             0,
             "#0d0887"
            ],
            [
             0.1111111111111111,
             "#46039f"
            ],
            [
             0.2222222222222222,
             "#7201a8"
            ],
            [
             0.3333333333333333,
             "#9c179e"
            ],
            [
             0.4444444444444444,
             "#bd3786"
            ],
            [
             0.5555555555555556,
             "#d8576b"
            ],
            [
             0.6666666666666666,
             "#ed7953"
            ],
            [
             0.7777777777777778,
             "#fb9f3a"
            ],
            [
             0.8888888888888888,
             "#fdca26"
            ],
            [
             1,
             "#f0f921"
            ]
           ],
           "sequentialminus": [
            [
             0,
             "#0d0887"
            ],
            [
             0.1111111111111111,
             "#46039f"
            ],
            [
             0.2222222222222222,
             "#7201a8"
            ],
            [
             0.3333333333333333,
             "#9c179e"
            ],
            [
             0.4444444444444444,
             "#bd3786"
            ],
            [
             0.5555555555555556,
             "#d8576b"
            ],
            [
             0.6666666666666666,
             "#ed7953"
            ],
            [
             0.7777777777777778,
             "#fb9f3a"
            ],
            [
             0.8888888888888888,
             "#fdca26"
            ],
            [
             1,
             "#f0f921"
            ]
           ]
          },
          "colorway": [
           "#636efa",
           "#EF553B",
           "#00cc96",
           "#ab63fa",
           "#FFA15A",
           "#19d3f3",
           "#FF6692",
           "#B6E880",
           "#FF97FF",
           "#FECB52"
          ],
          "font": {
           "color": "#2a3f5f"
          },
          "geo": {
           "bgcolor": "white",
           "lakecolor": "white",
           "landcolor": "#E5ECF6",
           "showlakes": true,
           "showland": true,
           "subunitcolor": "white"
          },
          "hoverlabel": {
           "align": "left"
          },
          "hovermode": "closest",
          "mapbox": {
           "style": "light"
          },
          "paper_bgcolor": "white",
          "plot_bgcolor": "#E5ECF6",
          "polar": {
           "angularaxis": {
            "gridcolor": "white",
            "linecolor": "white",
            "ticks": ""
           },
           "bgcolor": "#E5ECF6",
           "radialaxis": {
            "gridcolor": "white",
            "linecolor": "white",
            "ticks": ""
           }
          },
          "scene": {
           "xaxis": {
            "backgroundcolor": "#E5ECF6",
            "gridcolor": "white",
            "gridwidth": 2,
            "linecolor": "white",
            "showbackground": true,
            "ticks": "",
            "zerolinecolor": "white"
           },
           "yaxis": {
            "backgroundcolor": "#E5ECF6",
            "gridcolor": "white",
            "gridwidth": 2,
            "linecolor": "white",
            "showbackground": true,
            "ticks": "",
            "zerolinecolor": "white"
           },
           "zaxis": {
            "backgroundcolor": "#E5ECF6",
            "gridcolor": "white",
            "gridwidth": 2,
            "linecolor": "white",
            "showbackground": true,
            "ticks": "",
            "zerolinecolor": "white"
           }
          },
          "shapedefaults": {
           "line": {
            "color": "#2a3f5f"
           }
          },
          "ternary": {
           "aaxis": {
            "gridcolor": "white",
            "linecolor": "white",
            "ticks": ""
           },
           "baxis": {
            "gridcolor": "white",
            "linecolor": "white",
            "ticks": ""
           },
           "bgcolor": "#E5ECF6",
           "caxis": {
            "gridcolor": "white",
            "linecolor": "white",
            "ticks": ""
           }
          },
          "title": {
           "x": 0.05
          },
          "xaxis": {
           "automargin": true,
           "gridcolor": "white",
           "linecolor": "white",
           "ticks": "",
           "title": {
            "standoff": 15
           },
           "zerolinecolor": "white",
           "zerolinewidth": 2
          },
          "yaxis": {
           "automargin": true,
           "gridcolor": "white",
           "linecolor": "white",
           "ticks": "",
           "title": {
            "standoff": 15
           },
           "zerolinecolor": "white",
           "zerolinewidth": 2
          }
         }
        },
        "title": {
         "text": "Kinematic Generation of a Planar Curve"
        },
        "updatemenus": [
         {
          "buttons": [
           {
            "args": [
             null,
             {
              "frame": {
               "duration": 50,
               "redraw": false
              },
              "fromcurrent": true,
              "transition": {
               "duration": 0
              }
             }
            ],
            "label": "Play",
            "method": "animate"
           }
          ],
          "type": "buttons"
         }
        ],
        "xaxis": {
         "autorange": false,
         "range": [
          431.328733110059,
          816.496650883474
         ],
         "zeroline": false
        },
        "yaxis": {
         "autorange": false,
         "range": [
          243.483485390923,
          528.014378103707
         ],
         "zeroline": false
        }
       }
      },
      "text/html": [
       "<div>                            <div id=\"8c2898c1-a7d8-4bd9-a2f1-630f7949a127\" class=\"plotly-graph-div\" style=\"height:525px; width:100%;\"></div>            <script type=\"text/javascript\">                require([\"plotly\"], function(Plotly) {                    window.PLOTLYENV=window.PLOTLYENV || {};                                    if (document.getElementById(\"8c2898c1-a7d8-4bd9-a2f1-630f7949a127\")) {                    Plotly.newPlot(                        \"8c2898c1-a7d8-4bd9-a2f1-630f7949a127\",                        [{\"line\":{\"color\":\"blue\",\"width\":2},\"mode\":\"markers\",\"x\":[688.818570273704,688.66058436309,688.29195057166,687.607344959002,686.764753435732,685.448204180621,684.131654925511,680.18200716018,679.392077607114,677.443584709551,669.43896523848,667.859106132348,662.487585171498,657.274050121261,650.638641875505,645.267120914655,639.684952072988,638.210416907264,633.470839588867,631.785656542326,622.569811756554,620.621318858991,613.459290911191,606.139277052777,599.187896985795,597.555375909458,592.815798591061,591.235939484929,586.285714285714,584.653193209377,579.808291950572,573.646841436655,572.172306270932,567.643376833353,561.113292528006,555.162489894907,553.845940639797,547.737152096085,546.683912691997,543.313546598914,542.154983254417,540.99641990992,534.203025753551,533.202448319667,529.252800554337,528.304885090657,526.356392193094,519.826307887747,515.823998152212,509.820533548909,508.76729414482,505.712899872965,504.764984409285,502.184547869269,501.23663240559,498.49820995496,497.602956461485,495.022519921469,494.127266427994,491.757477768795,489.177041228779,488.492435616122,486.701928629172,486.069984986719,484.121492089156,481.804365400162,481.277745698118,479.645224621781,477.4860838434,477.01212611156,473.852407899296,473.115140316434,470.79801362744,467.427647534357,466.479732070678,465.584478577203,461.740154752281,458.159140778381,454.420140893868,453.419563459984,448.258690379951,444.625014435847,441.623282134196,439.306155445202,438.884859683566,437.778958309274,437.410324517843,436.831042845594,436.462409054163,435.093197828849,433.355352812103,432.828733110059,762.440004619471,762.492666589675,761.966046887631,761.281441274974,760.386187781499,758.174385032914,755.435962582284,750.801709204296,745.008892481811,743.745005196905,738.584132116873,730.000230973553,727.946414135581,721.942949532279,712.253147014667,710.199330176695,702.563344497055,700.772837510105,695.295992608846,687.870654810024,686.02748585287,680.866612772837,679.076105785888,673.283289063402,663.962120337221,661.697655618432,654.746275551449,645.372444855064,637.262501443585,635.366670516226,629.152558032105,620.779304769604,613.037995149555,611.036840281788,604.61207991685,602.505601108673,596.554798475575,594.658967548216,589.076798706548,587.180967779189,581.388151056704,579.54498209955,574.331447049313,564.009700889248,562.166531932094,557.163644762675,551.528813950803,546.631250721792,541.839011433191,540.522462178081,536.625476382954,535.308927127844,531.359279362513,525.882434461254,524.88185702737,520.405589559995,519.14170227509,515.455364360781,510.241829310544,509.24125187666,506.450167455826,503.290449243562,502.658505601109,500.394040882319,499.604111329253,496.971012819032,493.12668899411,489.703660930823,488.861069407553,486.596604688763,483.752858297725,483.120914655272,481.277745698118,480.751125996073,479.381914770759,477.854717634831,477.538745813604,476.485506409516,476.274858528698,475.748238826654,474.37902760134,474.115717750318,473.273126227047,472.957154405821,471.851253031528,471.377295299688,470.113408014782,468.270239057628,466.479732070678,466.111098279247,465.005196904954,463.1620279478,462.846056126574,461.950802633098,460.844901258806,459.633675944104,459.317704122878,458.527774569812,458.053816837972,457.895830927359,457.895830927359,457.79050698695,457.79050698695,457.737845016746,457.527197135928,457.211225314701,455.894676059591,455.578704238365,454.578126804481,454.262154983254,453.314239519575,453.050929668553,452.366324055896,451.787042383647,451.155098741194,450.944450860376,450.733802979559,450.470493128537,509.399237787273,510.241829310544,511.03175886361,512.190322208107,512.980251761173,514.244139046079,515.666012241598,517.298533317935,519.089040304885,521.30084305347,522.512068368172,524.934518997575,526.251068252685,526.883011895138,530.358701928629,531.043307541286,533.307772260076,533.992377872734,535.466913038457,536.204180621319,540.785772029103,543.840166300959,544.524771913616,546.683912691997,547.368518304654,548.737729529969,549.422335142626,552.318743503869,552.898025176117,553.52996881857,554.056588520614,556.900334911653,559.691419332486,562.219193902298,562.798475574547,564.483658621088,565.010278323132,566.53747545906,567.0114331909,568.380644416214,568.80194017785,570.11848943296,570.539785194595,572.698925972976,573.646841436655,576.753897678716,579.281672248528,580.018939831389,582.915348192632,587.865573391847,588.760826885322,592.44716479963,597.713361820072,598.871925164569,602.084305347038,603.19020672133,606.297262963391,610.088924818108,610.931516341379,613.353966970782,615.987065481002,617.830234438157,618.356854140201,620.463332948377,621.253262501444,623.254417369211,625.729529968819,628.783924240674,629.257881972514,630.99572698926,631.627670631713,633.470839588867,636.419909920314,637.157177503176,639.263656311352,642.58136043423,646.057050467721,649.638064441621,650.480655964892,653.166416445317,656.378796627786,657.168726180852,659.907148631482,663.804134426608,666.279247026215,667.17450051969,670.597528582977,673.809908765446,677.285598798937,680.392655040998,683.078415521423,686.080147823074,686.659429495323,688.555260422682,691.293682873311,693.558147592101,694.242753204758,697.876429148862,698.719020672133,701.141471301536,701.931400854602,704.195865573392,707.618893636679,708.461485159949,711.09458367017,714.359625822843,717.414020094699,718.203949647765,720.573738306964,721.36366786003,723.62813257882,724.312738191477,726.419216999653,729.473611271509,732.422681602956,733.212611156023,735.529737845017,738.742118027486,739.637371520961,742.270470031181,746.799399468761,747.694652962236,751.591638757362,755.225314701467,758.227047003118,758.911652615775,760.702159602725,762.861300381106,765.073103129692,767.179581937868,767.706201639912,769.338722716249,773.393694421989,776.290102783231,776.974708395889,778.765215382839,780.819032220811,781.240327982446,782.71486314817,783.241482850214,784.663356045733,786.453863032683,788.297031989837,789.718905185356,791.878045963737,792.50998960619,794.511144473958,797.091581013974,800.251299226239,800.883242868691,802.147130153597,805.886130038111,808.203256727105,808.782538399353,810.204411594872,811.626284790392,811.626284790392,812.521538283866,813.574777687955,813.785425568772,814.048735419794,814.312045270817,814.996650883474,814.996650883474,455.684028178774,456.210647880818,457.053239404088,457.737845016746,458.633098510221,459.686337914309,461.055549139624,462.003464603303,463.793971590253,464.373253262501,464.636563113523,465.847788428225,466.163760249451,466.795703891904,467.164337683335,468.53354890865,468.954844670285,470.113408014782,470.482041806213,472.009238942141,472.535858644185,474.115717750318,476.432844439312,479.013280979328,480.277168264234,480.909111906687,483.278900565885,483.858182238134,486.175308927128,486.807252569581,488.492435616122,489.019055318166,490.49359048389,490.967548215729,492.494745351657,494.653886130038,495.180505832082,496.181083265966,497.550294491281,499.867421180275,501.183970435385,502.658505601109,504.133040766832,505.976209723987,506.344843515417,507.134773068484,508.925280055434,509.346575817069,511.400392655041,514.086153135466,514.718096777919,516.034646033029,517.561843168957,518.983716364476,521.195519113062,523.56530777226,526.356392193094,527.040997805751,528.989490703314,529.568772375563,531.780575124148,534.676983485391,537.678715787042,540.627786118489,541.365053701351,543.682180390345,544.419447973207,546.683912691997,550.370250606306,553.371982907957,557.532278554106,561.271278438619,564.74696847211,568.222658505601,569.065250028872,572.962235823998,573.752165377064,576.385263887285,580.124263771798,584.021249566925,587.918235362051,588.86615082573,591.657235246564,594.869615429033,598.187319551911,601.452361704585,606.402586903799,607.192516456866,608.877699503407,613.09065711976,613.880586672826,616.355699272433,619.884051276129,624.044346922277,625.097586326366,628.309966508835,629.415867883127,632.680910035801,633.734149439889,636.683219771336,637.578473264811,640.158909804827,643.739923778727,644.687839242407,647.426261693036,651.059937637141,654.588289640836,659.696500750664,665.594641413558,669.649613119298,672.809331331562,673.546598914424,675.863725603418,676.653655156485,678.918119875274,679.602725487932,681.656542325904,684.552950687146,685.342880240212,687.765330869615,690.819725141471,691.609654694537,695.45397851946,698.56103476152,699.350964314586,700.878161450514,704.195865573392,704.933133156254,707.197597875043,710.251992146899,710.989259729761,713.201062478346,713.938330061208,716.044808869385,718.888555260423,721.521653770643,722.100935442892,723.838780459637,725.892597297609,728.209723986604,728.789005658852,730.526850675598,731.053470377642,733.159949185818,733.739230858067,734.897794202564,735.424413904608,738.531470146668,739.216075759326,741.164568656889,744.008315047927,745.324864303037,747.852638872849,null,null],\"y\":[526.514378103707,525.724448550641,523.670631712669,520.405589559995,517.71982907957,514.665434807715,512.032336297494,505.238942141125,503.922392886015,501.025984524772,490.01963275205,487.965815914078,480.645802055665,472.693844554798,463.1620279478,455.736690148978,447.152789005659,444.993648227278,438.56888786234,436.357085113754,425.350733341032,423.033606652038,414.660353389537,407.340339531124,401.284212957616,399.757015821688,395.754706086153,394.385494860838,390.593833006121,389.27728375101,385.274974015475,379.745467144012,378.428917888902,374.531932093775,369.265735073334,364.473495784733,363.420256380644,358.575355121839,357.785425568772,355.520960849983,354.88901720753,354.362397505486,351.044693382608,350.36008776995,347.990299110752,347.411017438503,346.199792123802,342.724102090311,340.775609192747,337.457905069869,336.773299457212,334.982792470262,334.350848827809,332.507679870655,332.086384109019,330.717172883705,330.190553181661,328.979327866959,328.558032105324,327.399468760827,325.819609654695,325.398313893059,324.397736459175,324.029102667745,322.870539323248,321.290680217115,320.922046425684,319.974130962005,318.552257766486,318.236285945259,316.287793047696,315.813835315856,314.54994803095,312.127497401548,311.548215729299,310.916272086846,308.388497517034,306.07137082804,304.228201870886,303.754244139046,301.911075181892,300.173230165146,298.804018939831,297.698117565539,297.434807714517,296.539554221042,296.170920429611,295.644300727567,295.32832890634,293.801131770412,292.115948723871,291.589329021827,486.227970897332,484.384801940178,481.0670978173,477.433421873196,472.58852061439,466.058436309043,461.160873080032,454.314816953459,446.204873541979,444.519690495438,438.147592100704,428.299803672479,425.982676983485,418.978634946299,408.077607113985,405.8658043654,396.807945490241,394.596142741656,388.066058436309,380.166762905647,378.376255918697,373.057396928052,371.319551911306,366.316664741887,359.575932555722,357.627439658159,352.519228548331,345.989144242984,339.827693729068,338.353158563344,334.403510798014,329.505947569003,324.029102667745,322.65989144243,318.499595796281,317.183046541171,313.444046656658,312.232821341956,308.441159487239,307.282596142742,303.964892019864,302.858990645571,299.646610463102,293.327174038573,292.379258574893,289.798822034877,286.323132001386,283.216075759326,280.688301189514,280.056357547061,278.265850560111,277.633906917658,275.896061900912,273.368287331101,272.894329599261,270.73518882088,270.313893059245,269.313315625361,267.62813257882,267.312160757593,266.153597413096,264.995034068599,264.626400277168,264.04711860492,263.783808753898,262.993879200831,261.940639796743,260.782076452246,260.518766601224,259.728837048158,258.359625822843,258.043654001617,257.095738537937,256.832428686915,256.200485044462,255.726527312623,255.673865342418,255.515879431805,255.515879431805,255.515879431805,255.410555491396,255.410555491396,255.410555491396,255.410555491396,255.252569580783,255.09458367017,254.725949878739,254.094006236286,253.30407668322,253.146090772607,252.619471070562,251.671555606883,251.566231666474,251.092273934634,250.512992262386,249.986372560342,249.933710590137,249.670400739115,249.459752858298,249.354428917889,249.354428917889,249.143781037071,249.143781037071,248.933133156254,248.511837394618,248.248527543596,247.616583901143,247.405936020326,246.879316318282,246.668668437464,246.089386765215,245.984062824807,245.615429033376,245.299457212149,244.983485390923,244.983485390923,244.983485390923,245.19413327174,506.871463217462,506.397505485622,505.870885783578,504.870308349694,504.185702737037,502.605843630904,501.289294375794,499.920083150479,498.287562074143,496.497055087193,495.496477653309,493.547984755745,492.389421411248,491.757477768795,488.913731377757,488.281787735304,486.859914539785,486.43861877815,485.543365284675,485.12206952304,482.752280863841,480.909111906687,480.382492204643,478.80263309851,478.276013396466,477.222773992378,476.696154290334,474.273703660931,473.694421988682,473.115140316434,472.641182584594,469.85009816376,467.322323593949,465.057858875159,464.531239173115,463.1620279478,462.793394156369,461.687492782076,461.37152096085,460.212957616353,459.791661854718,458.685760480425,458.317126688994,456.47395773184,455.578704238365,452.366324055896,450.15452130731,449.469915694653,447.416098856681,444.414366555029,443.887746852985,441.991915925627,439.516803326019,439.042845594179,437.62097239866,437.199676637025,435.777803441506,433.408014782307,432.72340916965,430.511606421065,428.194479732071,426.509296685529,426.03533895369,424.402817877353,423.718212264696,422.033029218155,419.821226469569,416.503522346691,415.871578704238,414.028409747084,413.396466104631,411.447973207068,409.183508488278,408.551564845825,406.866381799284,404.759902991108,402.495438272318,400.072987642915,399.546367940871,397.913846864534,395.491396235131,394.806790622474,391.752396350618,387.750086615083,385.32763598568,384.590368402818,381.904607922393,379.429495322786,377.481002425222,375.42718558725,373.057396928052,370.687608268853,370.108326596605,368.475805520268,366.316664741887,364.473495784733,363.946876082689,361.682411363899,361.155791661855,359.78658043654,359.259960734496,357.680101628364,355.994918581822,355.626284790391,354.41505947569,352.835200369558,351.097355352812,350.570735650768,348.990876544636,348.464256842592,346.77907379605,346.094468183393,344.303961196443,341.4075528352,338.511144473958,337.8265388613,335.878045963737,333.297609423721,332.770989721677,330.927820764522,328.084074373484,327.55745467144,325.76694768449,324.45039842938,323.449820995496,323.291835084883,322.607229472225,321.553990068137,320.184778842822,318.868229587712,318.552257766486,317.76232821342,316.761750779536,316.393116988105,316.3404550179,316.024483196674,315.708511375448,315.603187435039,315.287215613812,315.181891673403,314.813257881973,314.286638179928,313.70735650768,313.286060746045,312.443469222774,312.232821341956,311.864187550525,311.44289178889,310.863610116642,310.758286176233,310.547638295415,309.757708742349,309.231089040305,309.125765099896,308.757131308465,308.283173576625,308.283173576625,307.86187781499,306.913962351311,306.54532855988,306.229356738653,305.860722947223,305.281441274974,305.281441274974,469.639450282943,471.219309389075,472.061900912346,472.219886822959,472.377872733572,472.377872733572,472.061900912346,471.745929091119,471.061323478462,470.745351657235,470.534703776418,469.639450282943,469.376140431921,469.00750664049,468.849520729876,468.164915117219,468.006929206606,467.480309504562,467.269661623744,466.7430419217,466.585056011087,466.111098279247,465.268506755976,464.425915232706,464.004619471071,463.793971590253,463.004042037187,462.793394156369,462.056126573507,461.84547869269,461.318858990646,461.108211109828,460.634253377988,460.423605497171,459.791661854718,458.949070331447,458.580436540016,457.948492897563,456.947915463679,454.788774685299,453.208915579166,451.523732532625,449.733225545675,447.310774916272,446.889479154637,446.099549601571,444.414366555029,443.993070793394,442.623859568079,440.833352581129,440.412056819494,439.41147938561,437.568310428456,435.251183739462,431.828155676175,429.089733225546,425.982676983485,425.298071370828,423.191592562652,422.401663009585,420.453170112022,417.609423720984,414.449705508719,411.184663356046,410.39473380298,408.182931054394,407.393001501328,405.075874812334,401.284212957616,398.387804596374,394.64880471186,391.06779073796,387.276128883243,383.642452939138,382.747199445663,378.639565769719,377.902298186858,375.637833468068,372.583439196212,369.687030834969,366.895946414136,366.211340801478,364.315509874119,362.103707125534,359.891904376949,357.52211571775,354.046425684259,353.467144012011,352.097932786696,348.200946991569,347.305693498094,344.777918928283,341.4075528352,338.405820533549,337.668552950687,335.509412172306,334.824806559649,332.770989721677,332.033722138815,329.874581360434,329.189975747777,327.188820880009,324.608384339993,323.97644069754,322.080609770181,319.394849289756,316.709088809331,313.075412865227,308.651807368056,305.22877930477,302.332370943527,301.542441390461,299.330638641876,298.593371059014,296.328906340224,295.644300727567,293.748469800208,291.168033260192,290.536089617739,288.64025869038,285.954498209955,285.269892597298,281.794202563806,279.266427993995,278.687146321746,277.475921007045,274.737498556415,274.158216884167,272.683681718443,270.840512761289,270.419216999654,269.313315625361,268.94468183393,267.838780459637,266.416907264118,265.047696038804,264.679062247373,263.625822843284,262.098625707357,260.46610463102,260.097470839589,258.833583554683,258.359625822843,256.621780806098,256.200485044462,255.463217461601,255.09458367017,253.778034415059,253.567386534242,253.040766832198,252.882780921584,252.988104861993,253.30407668322,null,null],\"type\":\"scatter\"},{\"line\":{\"color\":\"blue\",\"width\":2},\"mode\":\"markers\",\"x\":[688.818570273704,688.66058436309,688.29195057166,687.607344959002,686.764753435732,685.448204180621,684.131654925511,680.18200716018,679.392077607114,677.443584709551,669.43896523848,667.859106132348,662.487585171498,657.274050121261,650.638641875505,645.267120914655,639.684952072988,638.210416907264,633.470839588867,631.785656542326,622.569811756554,620.621318858991,613.459290911191,606.139277052777,599.187896985795,597.555375909458,592.815798591061,591.235939484929,586.285714285714,584.653193209377,579.808291950572,573.646841436655,572.172306270932,567.643376833353,561.113292528006,555.162489894907,553.845940639797,547.737152096085,546.683912691997,543.313546598914,542.154983254417,540.99641990992,534.203025753551,533.202448319667,529.252800554337,528.304885090657,526.356392193094,519.826307887747,515.823998152212,509.820533548909,508.76729414482,505.712899872965,504.764984409285,502.184547869269,501.23663240559,498.49820995496,497.602956461485,495.022519921469,494.127266427994,491.757477768795,489.177041228779,488.492435616122,486.701928629172,486.069984986719,484.121492089156,481.804365400162,481.277745698118,479.645224621781,477.4860838434,477.01212611156,473.852407899296,473.115140316434,470.79801362744,467.427647534357,466.479732070678,465.584478577203,461.740154752281,458.159140778381,454.420140893868,453.419563459984,448.258690379951,444.625014435847,441.623282134196,439.306155445202,438.884859683566,437.778958309274,437.410324517843,436.831042845594,436.462409054163,435.093197828849,433.355352812103,432.828733110059,762.440004619471,762.492666589675,761.966046887631,761.281441274974,760.386187781499,758.174385032914,755.435962582284,750.801709204296,745.008892481811,743.745005196905,738.584132116873,730.000230973553,727.946414135581,721.942949532279,712.253147014667,710.199330176695,702.563344497055,700.772837510105,695.295992608846,687.870654810024,686.02748585287,680.866612772837,679.076105785888,673.283289063402,663.962120337221,661.697655618432,654.746275551449,645.372444855064,637.262501443585,635.366670516226,629.152558032105,620.779304769604,613.037995149555,611.036840281788,604.61207991685,602.505601108673,596.554798475575,594.658967548216,589.076798706548,587.180967779189,581.388151056704,579.54498209955,574.331447049313,564.009700889248,562.166531932094,557.163644762675,551.528813950803,546.631250721792,541.839011433191,540.522462178081,536.625476382954,535.308927127844,531.359279362513,525.882434461254,524.88185702737,520.405589559995,519.14170227509,515.455364360781,510.241829310544,509.24125187666,506.450167455826,503.290449243562,502.658505601109,500.394040882319,499.604111329253,496.971012819032,493.12668899411,489.703660930823,488.861069407553,486.596604688763,483.752858297725,483.120914655272,481.277745698118,480.751125996073,479.381914770759,477.854717634831,477.538745813604,476.485506409516,476.274858528698,475.748238826654,474.37902760134,474.115717750318,473.273126227047,472.957154405821,471.851253031528,471.377295299688,470.113408014782,468.270239057628,466.479732070678,466.111098279247,465.005196904954,463.1620279478,462.846056126574,461.950802633098,460.844901258806,459.633675944104,459.317704122878,458.527774569812,458.053816837972,457.895830927359,457.895830927359,457.79050698695,457.79050698695,457.737845016746,457.527197135928,457.211225314701,455.894676059591,455.578704238365,454.578126804481,454.262154983254,453.314239519575,453.050929668553,452.366324055896,451.787042383647,451.155098741194,450.944450860376,450.733802979559,450.470493128537,509.399237787273,510.241829310544,511.03175886361,512.190322208107,512.980251761173,514.244139046079,515.666012241598,517.298533317935,519.089040304885,521.30084305347,522.512068368172,524.934518997575,526.251068252685,526.883011895138,530.358701928629,531.043307541286,533.307772260076,533.992377872734,535.466913038457,536.204180621319,540.785772029103,543.840166300959,544.524771913616,546.683912691997,547.368518304654,548.737729529969,549.422335142626,552.318743503869,552.898025176117,553.52996881857,554.056588520614,556.900334911653,559.691419332486,562.219193902298,562.798475574547,564.483658621088,565.010278323132,566.53747545906,567.0114331909,568.380644416214,568.80194017785,570.11848943296,570.539785194595,572.698925972976,573.646841436655,576.753897678716,579.281672248528,580.018939831389,582.915348192632,587.865573391847,588.760826885322,592.44716479963,597.713361820072,598.871925164569,602.084305347038,603.19020672133,606.297262963391,610.088924818108,610.931516341379,613.353966970782,615.987065481002,617.830234438157,618.356854140201,620.463332948377,621.253262501444,623.254417369211,625.729529968819,628.783924240674,629.257881972514,630.99572698926,631.627670631713,633.470839588867,636.419909920314,637.157177503176,639.263656311352,642.58136043423,646.057050467721,649.638064441621,650.480655964892,653.166416445317,656.378796627786,657.168726180852,659.907148631482,663.804134426608,666.279247026215,667.17450051969,670.597528582977,673.809908765446,677.285598798937,680.392655040998,683.078415521423,686.080147823074,686.659429495323,688.555260422682,691.293682873311,693.558147592101,694.242753204758,697.876429148862,698.719020672133,701.141471301536,701.931400854602,704.195865573392,707.618893636679,708.461485159949,711.09458367017,714.359625822843,717.414020094699,718.203949647765,720.573738306964,721.36366786003,723.62813257882,724.312738191477,726.419216999653,729.473611271509,732.422681602956,733.212611156023,735.529737845017,738.742118027486,739.637371520961,742.270470031181,746.799399468761,747.694652962236,751.591638757362,755.225314701467,758.227047003118,758.911652615775,760.702159602725,762.861300381106,765.073103129692,767.179581937868,767.706201639912,769.338722716249,773.393694421989,776.290102783231,776.974708395889,778.765215382839,780.819032220811,781.240327982446,782.71486314817,783.241482850214,784.663356045733,786.453863032683,788.297031989837,789.718905185356,791.878045963737,792.50998960619,794.511144473958,797.091581013974,800.251299226239,800.883242868691,802.147130153597,805.886130038111,808.203256727105,808.782538399353,810.204411594872,811.626284790392,811.626284790392,812.521538283866,813.574777687955,813.785425568772,814.048735419794,814.312045270817,814.996650883474,814.996650883474,455.684028178774,456.210647880818,457.053239404088,457.737845016746,458.633098510221,459.686337914309,461.055549139624,462.003464603303,463.793971590253,464.373253262501,464.636563113523,465.847788428225,466.163760249451,466.795703891904,467.164337683335,468.53354890865,468.954844670285,470.113408014782,470.482041806213,472.009238942141,472.535858644185,474.115717750318,476.432844439312,479.013280979328,480.277168264234,480.909111906687,483.278900565885,483.858182238134,486.175308927128,486.807252569581,488.492435616122,489.019055318166,490.49359048389,490.967548215729,492.494745351657,494.653886130038,495.180505832082,496.181083265966,497.550294491281,499.867421180275,501.183970435385,502.658505601109,504.133040766832,505.976209723987,506.344843515417,507.134773068484,508.925280055434,509.346575817069,511.400392655041,514.086153135466,514.718096777919,516.034646033029,517.561843168957,518.983716364476,521.195519113062,523.56530777226,526.356392193094,527.040997805751,528.989490703314,529.568772375563,531.780575124148,534.676983485391,537.678715787042,540.627786118489,541.365053701351,543.682180390345,544.419447973207,546.683912691997,550.370250606306,553.371982907957,557.532278554106,561.271278438619,564.74696847211,568.222658505601,569.065250028872,572.962235823998,573.752165377064,576.385263887285,580.124263771798,584.021249566925,587.918235362051,588.86615082573,591.657235246564,594.869615429033,598.187319551911,601.452361704585,606.402586903799,607.192516456866,608.877699503407,613.09065711976,613.880586672826,616.355699272433,619.884051276129,624.044346922277,625.097586326366,628.309966508835,629.415867883127,632.680910035801,633.734149439889,636.683219771336,637.578473264811,640.158909804827,643.739923778727,644.687839242407,647.426261693036,651.059937637141,654.588289640836,659.696500750664,665.594641413558,669.649613119298,672.809331331562,673.546598914424,675.863725603418,676.653655156485,678.918119875274,679.602725487932,681.656542325904,684.552950687146,685.342880240212,687.765330869615,690.819725141471,691.609654694537,695.45397851946,698.56103476152,699.350964314586,700.878161450514,704.195865573392,704.933133156254,707.197597875043,710.251992146899,710.989259729761,713.201062478346,713.938330061208,716.044808869385,718.888555260423,721.521653770643,722.100935442892,723.838780459637,725.892597297609,728.209723986604,728.789005658852,730.526850675598,731.053470377642,733.159949185818,733.739230858067,734.897794202564,735.424413904608,738.531470146668,739.216075759326,741.164568656889,744.008315047927,745.324864303037,747.852638872849,null,null],\"y\":[526.514378103707,525.724448550641,523.670631712669,520.405589559995,517.71982907957,514.665434807715,512.032336297494,505.238942141125,503.922392886015,501.025984524772,490.01963275205,487.965815914078,480.645802055665,472.693844554798,463.1620279478,455.736690148978,447.152789005659,444.993648227278,438.56888786234,436.357085113754,425.350733341032,423.033606652038,414.660353389537,407.340339531124,401.284212957616,399.757015821688,395.754706086153,394.385494860838,390.593833006121,389.27728375101,385.274974015475,379.745467144012,378.428917888902,374.531932093775,369.265735073334,364.473495784733,363.420256380644,358.575355121839,357.785425568772,355.520960849983,354.88901720753,354.362397505486,351.044693382608,350.36008776995,347.990299110752,347.411017438503,346.199792123802,342.724102090311,340.775609192747,337.457905069869,336.773299457212,334.982792470262,334.350848827809,332.507679870655,332.086384109019,330.717172883705,330.190553181661,328.979327866959,328.558032105324,327.399468760827,325.819609654695,325.398313893059,324.397736459175,324.029102667745,322.870539323248,321.290680217115,320.922046425684,319.974130962005,318.552257766486,318.236285945259,316.287793047696,315.813835315856,314.54994803095,312.127497401548,311.548215729299,310.916272086846,308.388497517034,306.07137082804,304.228201870886,303.754244139046,301.911075181892,300.173230165146,298.804018939831,297.698117565539,297.434807714517,296.539554221042,296.170920429611,295.644300727567,295.32832890634,293.801131770412,292.115948723871,291.589329021827,486.227970897332,484.384801940178,481.0670978173,477.433421873196,472.58852061439,466.058436309043,461.160873080032,454.314816953459,446.204873541979,444.519690495438,438.147592100704,428.299803672479,425.982676983485,418.978634946299,408.077607113985,405.8658043654,396.807945490241,394.596142741656,388.066058436309,380.166762905647,378.376255918697,373.057396928052,371.319551911306,366.316664741887,359.575932555722,357.627439658159,352.519228548331,345.989144242984,339.827693729068,338.353158563344,334.403510798014,329.505947569003,324.029102667745,322.65989144243,318.499595796281,317.183046541171,313.444046656658,312.232821341956,308.441159487239,307.282596142742,303.964892019864,302.858990645571,299.646610463102,293.327174038573,292.379258574893,289.798822034877,286.323132001386,283.216075759326,280.688301189514,280.056357547061,278.265850560111,277.633906917658,275.896061900912,273.368287331101,272.894329599261,270.73518882088,270.313893059245,269.313315625361,267.62813257882,267.312160757593,266.153597413096,264.995034068599,264.626400277168,264.04711860492,263.783808753898,262.993879200831,261.940639796743,260.782076452246,260.518766601224,259.728837048158,258.359625822843,258.043654001617,257.095738537937,256.832428686915,256.200485044462,255.726527312623,255.673865342418,255.515879431805,255.515879431805,255.515879431805,255.410555491396,255.410555491396,255.410555491396,255.410555491396,255.252569580783,255.09458367017,254.725949878739,254.094006236286,253.30407668322,253.146090772607,252.619471070562,251.671555606883,251.566231666474,251.092273934634,250.512992262386,249.986372560342,249.933710590137,249.670400739115,249.459752858298,249.354428917889,249.354428917889,249.143781037071,249.143781037071,248.933133156254,248.511837394618,248.248527543596,247.616583901143,247.405936020326,246.879316318282,246.668668437464,246.089386765215,245.984062824807,245.615429033376,245.299457212149,244.983485390923,244.983485390923,244.983485390923,245.19413327174,506.871463217462,506.397505485622,505.870885783578,504.870308349694,504.185702737037,502.605843630904,501.289294375794,499.920083150479,498.287562074143,496.497055087193,495.496477653309,493.547984755745,492.389421411248,491.757477768795,488.913731377757,488.281787735304,486.859914539785,486.43861877815,485.543365284675,485.12206952304,482.752280863841,480.909111906687,480.382492204643,478.80263309851,478.276013396466,477.222773992378,476.696154290334,474.273703660931,473.694421988682,473.115140316434,472.641182584594,469.85009816376,467.322323593949,465.057858875159,464.531239173115,463.1620279478,462.793394156369,461.687492782076,461.37152096085,460.212957616353,459.791661854718,458.685760480425,458.317126688994,456.47395773184,455.578704238365,452.366324055896,450.15452130731,449.469915694653,447.416098856681,444.414366555029,443.887746852985,441.991915925627,439.516803326019,439.042845594179,437.62097239866,437.199676637025,435.777803441506,433.408014782307,432.72340916965,430.511606421065,428.194479732071,426.509296685529,426.03533895369,424.402817877353,423.718212264696,422.033029218155,419.821226469569,416.503522346691,415.871578704238,414.028409747084,413.396466104631,411.447973207068,409.183508488278,408.551564845825,406.866381799284,404.759902991108,402.495438272318,400.072987642915,399.546367940871,397.913846864534,395.491396235131,394.806790622474,391.752396350618,387.750086615083,385.32763598568,384.590368402818,381.904607922393,379.429495322786,377.481002425222,375.42718558725,373.057396928052,370.687608268853,370.108326596605,368.475805520268,366.316664741887,364.473495784733,363.946876082689,361.682411363899,361.155791661855,359.78658043654,359.259960734496,357.680101628364,355.994918581822,355.626284790391,354.41505947569,352.835200369558,351.097355352812,350.570735650768,348.990876544636,348.464256842592,346.77907379605,346.094468183393,344.303961196443,341.4075528352,338.511144473958,337.8265388613,335.878045963737,333.297609423721,332.770989721677,330.927820764522,328.084074373484,327.55745467144,325.76694768449,324.45039842938,323.449820995496,323.291835084883,322.607229472225,321.553990068137,320.184778842822,318.868229587712,318.552257766486,317.76232821342,316.761750779536,316.393116988105,316.3404550179,316.024483196674,315.708511375448,315.603187435039,315.287215613812,315.181891673403,314.813257881973,314.286638179928,313.70735650768,313.286060746045,312.443469222774,312.232821341956,311.864187550525,311.44289178889,310.863610116642,310.758286176233,310.547638295415,309.757708742349,309.231089040305,309.125765099896,308.757131308465,308.283173576625,308.283173576625,307.86187781499,306.913962351311,306.54532855988,306.229356738653,305.860722947223,305.281441274974,305.281441274974,469.639450282943,471.219309389075,472.061900912346,472.219886822959,472.377872733572,472.377872733572,472.061900912346,471.745929091119,471.061323478462,470.745351657235,470.534703776418,469.639450282943,469.376140431921,469.00750664049,468.849520729876,468.164915117219,468.006929206606,467.480309504562,467.269661623744,466.7430419217,466.585056011087,466.111098279247,465.268506755976,464.425915232706,464.004619471071,463.793971590253,463.004042037187,462.793394156369,462.056126573507,461.84547869269,461.318858990646,461.108211109828,460.634253377988,460.423605497171,459.791661854718,458.949070331447,458.580436540016,457.948492897563,456.947915463679,454.788774685299,453.208915579166,451.523732532625,449.733225545675,447.310774916272,446.889479154637,446.099549601571,444.414366555029,443.993070793394,442.623859568079,440.833352581129,440.412056819494,439.41147938561,437.568310428456,435.251183739462,431.828155676175,429.089733225546,425.982676983485,425.298071370828,423.191592562652,422.401663009585,420.453170112022,417.609423720984,414.449705508719,411.184663356046,410.39473380298,408.182931054394,407.393001501328,405.075874812334,401.284212957616,398.387804596374,394.64880471186,391.06779073796,387.276128883243,383.642452939138,382.747199445663,378.639565769719,377.902298186858,375.637833468068,372.583439196212,369.687030834969,366.895946414136,366.211340801478,364.315509874119,362.103707125534,359.891904376949,357.52211571775,354.046425684259,353.467144012011,352.097932786696,348.200946991569,347.305693498094,344.777918928283,341.4075528352,338.405820533549,337.668552950687,335.509412172306,334.824806559649,332.770989721677,332.033722138815,329.874581360434,329.189975747777,327.188820880009,324.608384339993,323.97644069754,322.080609770181,319.394849289756,316.709088809331,313.075412865227,308.651807368056,305.22877930477,302.332370943527,301.542441390461,299.330638641876,298.593371059014,296.328906340224,295.644300727567,293.748469800208,291.168033260192,290.536089617739,288.64025869038,285.954498209955,285.269892597298,281.794202563806,279.266427993995,278.687146321746,277.475921007045,274.737498556415,274.158216884167,272.683681718443,270.840512761289,270.419216999654,269.313315625361,268.94468183393,267.838780459637,266.416907264118,265.047696038804,264.679062247373,263.625822843284,262.098625707357,260.46610463102,260.097470839589,258.833583554683,258.359625822843,256.621780806098,256.200485044462,255.463217461601,255.09458367017,253.778034415059,253.567386534242,253.040766832198,252.882780921584,252.988104861993,253.30407668322,null,null],\"type\":\"scatter\"}],                        {\"hovermode\":\"closest\",\"title\":{\"text\":\"Kinematic Generation of a Planar Curve\"},\"updatemenus\":[{\"buttons\":[{\"args\":[null,{\"frame\":{\"duration\":50,\"redraw\":false},\"fromcurrent\":true,\"transition\":{\"duration\":0}}],\"label\":\"Play\",\"method\":\"animate\"}],\"type\":\"buttons\"}],\"xaxis\":{\"autorange\":false,\"range\":[431.328733110059,816.496650883474],\"zeroline\":false},\"yaxis\":{\"autorange\":false,\"range\":[243.483485390923,528.014378103707],\"zeroline\":false},\"template\":{\"data\":{\"bar\":[{\"error_x\":{\"color\":\"#2a3f5f\"},\"error_y\":{\"color\":\"#2a3f5f\"},\"marker\":{\"line\":{\"color\":\"#E5ECF6\",\"width\":0.5},\"pattern\":{\"fillmode\":\"overlay\",\"size\":10,\"solidity\":0.2}},\"type\":\"bar\"}],\"barpolar\":[{\"marker\":{\"line\":{\"color\":\"#E5ECF6\",\"width\":0.5},\"pattern\":{\"fillmode\":\"overlay\",\"size\":10,\"solidity\":0.2}},\"type\":\"barpolar\"}],\"carpet\":[{\"aaxis\":{\"endlinecolor\":\"#2a3f5f\",\"gridcolor\":\"white\",\"linecolor\":\"white\",\"minorgridcolor\":\"white\",\"startlinecolor\":\"#2a3f5f\"},\"baxis\":{\"endlinecolor\":\"#2a3f5f\",\"gridcolor\":\"white\",\"linecolor\":\"white\",\"minorgridcolor\":\"white\",\"startlinecolor\":\"#2a3f5f\"},\"type\":\"carpet\"}],\"choropleth\":[{\"colorbar\":{\"outlinewidth\":0,\"ticks\":\"\"},\"type\":\"choropleth\"}],\"contour\":[{\"colorbar\":{\"outlinewidth\":0,\"ticks\":\"\"},\"colorscale\":[[0.0,\"#0d0887\"],[0.1111111111111111,\"#46039f\"],[0.2222222222222222,\"#7201a8\"],[0.3333333333333333,\"#9c179e\"],[0.4444444444444444,\"#bd3786\"],[0.5555555555555556,\"#d8576b\"],[0.6666666666666666,\"#ed7953\"],[0.7777777777777778,\"#fb9f3a\"],[0.8888888888888888,\"#fdca26\"],[1.0,\"#f0f921\"]],\"type\":\"contour\"}],\"contourcarpet\":[{\"colorbar\":{\"outlinewidth\":0,\"ticks\":\"\"},\"type\":\"contourcarpet\"}],\"heatmap\":[{\"colorbar\":{\"outlinewidth\":0,\"ticks\":\"\"},\"colorscale\":[[0.0,\"#0d0887\"],[0.1111111111111111,\"#46039f\"],[0.2222222222222222,\"#7201a8\"],[0.3333333333333333,\"#9c179e\"],[0.4444444444444444,\"#bd3786\"],[0.5555555555555556,\"#d8576b\"],[0.6666666666666666,\"#ed7953\"],[0.7777777777777778,\"#fb9f3a\"],[0.8888888888888888,\"#fdca26\"],[1.0,\"#f0f921\"]],\"type\":\"heatmap\"}],\"heatmapgl\":[{\"colorbar\":{\"outlinewidth\":0,\"ticks\":\"\"},\"colorscale\":[[0.0,\"#0d0887\"],[0.1111111111111111,\"#46039f\"],[0.2222222222222222,\"#7201a8\"],[0.3333333333333333,\"#9c179e\"],[0.4444444444444444,\"#bd3786\"],[0.5555555555555556,\"#d8576b\"],[0.6666666666666666,\"#ed7953\"],[0.7777777777777778,\"#fb9f3a\"],[0.8888888888888888,\"#fdca26\"],[1.0,\"#f0f921\"]],\"type\":\"heatmapgl\"}],\"histogram\":[{\"marker\":{\"pattern\":{\"fillmode\":\"overlay\",\"size\":10,\"solidity\":0.2}},\"type\":\"histogram\"}],\"histogram2d\":[{\"colorbar\":{\"outlinewidth\":0,\"ticks\":\"\"},\"colorscale\":[[0.0,\"#0d0887\"],[0.1111111111111111,\"#46039f\"],[0.2222222222222222,\"#7201a8\"],[0.3333333333333333,\"#9c179e\"],[0.4444444444444444,\"#bd3786\"],[0.5555555555555556,\"#d8576b\"],[0.6666666666666666,\"#ed7953\"],[0.7777777777777778,\"#fb9f3a\"],[0.8888888888888888,\"#fdca26\"],[1.0,\"#f0f921\"]],\"type\":\"histogram2d\"}],\"histogram2dcontour\":[{\"colorbar\":{\"outlinewidth\":0,\"ticks\":\"\"},\"colorscale\":[[0.0,\"#0d0887\"],[0.1111111111111111,\"#46039f\"],[0.2222222222222222,\"#7201a8\"],[0.3333333333333333,\"#9c179e\"],[0.4444444444444444,\"#bd3786\"],[0.5555555555555556,\"#d8576b\"],[0.6666666666666666,\"#ed7953\"],[0.7777777777777778,\"#fb9f3a\"],[0.8888888888888888,\"#fdca26\"],[1.0,\"#f0f921\"]],\"type\":\"histogram2dcontour\"}],\"mesh3d\":[{\"colorbar\":{\"outlinewidth\":0,\"ticks\":\"\"},\"type\":\"mesh3d\"}],\"parcoords\":[{\"line\":{\"colorbar\":{\"outlinewidth\":0,\"ticks\":\"\"}},\"type\":\"parcoords\"}],\"pie\":[{\"automargin\":true,\"type\":\"pie\"}],\"scatter\":[{\"marker\":{\"colorbar\":{\"outlinewidth\":0,\"ticks\":\"\"}},\"type\":\"scatter\"}],\"scatter3d\":[{\"line\":{\"colorbar\":{\"outlinewidth\":0,\"ticks\":\"\"}},\"marker\":{\"colorbar\":{\"outlinewidth\":0,\"ticks\":\"\"}},\"type\":\"scatter3d\"}],\"scattercarpet\":[{\"marker\":{\"colorbar\":{\"outlinewidth\":0,\"ticks\":\"\"}},\"type\":\"scattercarpet\"}],\"scattergeo\":[{\"marker\":{\"colorbar\":{\"outlinewidth\":0,\"ticks\":\"\"}},\"type\":\"scattergeo\"}],\"scattergl\":[{\"marker\":{\"colorbar\":{\"outlinewidth\":0,\"ticks\":\"\"}},\"type\":\"scattergl\"}],\"scattermapbox\":[{\"marker\":{\"colorbar\":{\"outlinewidth\":0,\"ticks\":\"\"}},\"type\":\"scattermapbox\"}],\"scatterpolar\":[{\"marker\":{\"colorbar\":{\"outlinewidth\":0,\"ticks\":\"\"}},\"type\":\"scatterpolar\"}],\"scatterpolargl\":[{\"marker\":{\"colorbar\":{\"outlinewidth\":0,\"ticks\":\"\"}},\"type\":\"scatterpolargl\"}],\"scatterternary\":[{\"marker\":{\"colorbar\":{\"outlinewidth\":0,\"ticks\":\"\"}},\"type\":\"scatterternary\"}],\"surface\":[{\"colorbar\":{\"outlinewidth\":0,\"ticks\":\"\"},\"colorscale\":[[0.0,\"#0d0887\"],[0.1111111111111111,\"#46039f\"],[0.2222222222222222,\"#7201a8\"],[0.3333333333333333,\"#9c179e\"],[0.4444444444444444,\"#bd3786\"],[0.5555555555555556,\"#d8576b\"],[0.6666666666666666,\"#ed7953\"],[0.7777777777777778,\"#fb9f3a\"],[0.8888888888888888,\"#fdca26\"],[1.0,\"#f0f921\"]],\"type\":\"surface\"}],\"table\":[{\"cells\":{\"fill\":{\"color\":\"#EBF0F8\"},\"line\":{\"color\":\"white\"}},\"header\":{\"fill\":{\"color\":\"#C8D4E3\"},\"line\":{\"color\":\"white\"}},\"type\":\"table\"}]},\"layout\":{\"annotationdefaults\":{\"arrowcolor\":\"#2a3f5f\",\"arrowhead\":0,\"arrowwidth\":1},\"autotypenumbers\":\"strict\",\"coloraxis\":{\"colorbar\":{\"outlinewidth\":0,\"ticks\":\"\"}},\"colorscale\":{\"diverging\":[[0,\"#8e0152\"],[0.1,\"#c51b7d\"],[0.2,\"#de77ae\"],[0.3,\"#f1b6da\"],[0.4,\"#fde0ef\"],[0.5,\"#f7f7f7\"],[0.6,\"#e6f5d0\"],[0.7,\"#b8e186\"],[0.8,\"#7fbc41\"],[0.9,\"#4d9221\"],[1,\"#276419\"]],\"sequential\":[[0.0,\"#0d0887\"],[0.1111111111111111,\"#46039f\"],[0.2222222222222222,\"#7201a8\"],[0.3333333333333333,\"#9c179e\"],[0.4444444444444444,\"#bd3786\"],[0.5555555555555556,\"#d8576b\"],[0.6666666666666666,\"#ed7953\"],[0.7777777777777778,\"#fb9f3a\"],[0.8888888888888888,\"#fdca26\"],[1.0,\"#f0f921\"]],\"sequentialminus\":[[0.0,\"#0d0887\"],[0.1111111111111111,\"#46039f\"],[0.2222222222222222,\"#7201a8\"],[0.3333333333333333,\"#9c179e\"],[0.4444444444444444,\"#bd3786\"],[0.5555555555555556,\"#d8576b\"],[0.6666666666666666,\"#ed7953\"],[0.7777777777777778,\"#fb9f3a\"],[0.8888888888888888,\"#fdca26\"],[1.0,\"#f0f921\"]]},\"colorway\":[\"#636efa\",\"#EF553B\",\"#00cc96\",\"#ab63fa\",\"#FFA15A\",\"#19d3f3\",\"#FF6692\",\"#B6E880\",\"#FF97FF\",\"#FECB52\"],\"font\":{\"color\":\"#2a3f5f\"},\"geo\":{\"bgcolor\":\"white\",\"lakecolor\":\"white\",\"landcolor\":\"#E5ECF6\",\"showlakes\":true,\"showland\":true,\"subunitcolor\":\"white\"},\"hoverlabel\":{\"align\":\"left\"},\"hovermode\":\"closest\",\"mapbox\":{\"style\":\"light\"},\"paper_bgcolor\":\"white\",\"plot_bgcolor\":\"#E5ECF6\",\"polar\":{\"angularaxis\":{\"gridcolor\":\"white\",\"linecolor\":\"white\",\"ticks\":\"\"},\"bgcolor\":\"#E5ECF6\",\"radialaxis\":{\"gridcolor\":\"white\",\"linecolor\":\"white\",\"ticks\":\"\"}},\"scene\":{\"xaxis\":{\"backgroundcolor\":\"#E5ECF6\",\"gridcolor\":\"white\",\"gridwidth\":2,\"linecolor\":\"white\",\"showbackground\":true,\"ticks\":\"\",\"zerolinecolor\":\"white\"},\"yaxis\":{\"backgroundcolor\":\"#E5ECF6\",\"gridcolor\":\"white\",\"gridwidth\":2,\"linecolor\":\"white\",\"showbackground\":true,\"ticks\":\"\",\"zerolinecolor\":\"white\"},\"zaxis\":{\"backgroundcolor\":\"#E5ECF6\",\"gridcolor\":\"white\",\"gridwidth\":2,\"linecolor\":\"white\",\"showbackground\":true,\"ticks\":\"\",\"zerolinecolor\":\"white\"}},\"shapedefaults\":{\"line\":{\"color\":\"#2a3f5f\"}},\"ternary\":{\"aaxis\":{\"gridcolor\":\"white\",\"linecolor\":\"white\",\"ticks\":\"\"},\"baxis\":{\"gridcolor\":\"white\",\"linecolor\":\"white\",\"ticks\":\"\"},\"bgcolor\":\"#E5ECF6\",\"caxis\":{\"gridcolor\":\"white\",\"linecolor\":\"white\",\"ticks\":\"\"}},\"title\":{\"x\":0.05},\"xaxis\":{\"automargin\":true,\"gridcolor\":\"white\",\"linecolor\":\"white\",\"ticks\":\"\",\"title\":{\"standoff\":15},\"zerolinecolor\":\"white\",\"zerolinewidth\":2},\"yaxis\":{\"automargin\":true,\"gridcolor\":\"white\",\"linecolor\":\"white\",\"ticks\":\"\",\"title\":{\"standoff\":15},\"zerolinecolor\":\"white\",\"zerolinewidth\":2}}}},                        {\"responsive\": true}                    ).then(function(){\n",
       "                            Plotly.addFrames('8c2898c1-a7d8-4bd9-a2f1-630f7949a127', [{\"data\":[{\"marker\":{\"color\":\"red\",\"size\":15},\"mode\":\"markers\",\"x\":[688.818570273704],\"y\":[526.514378103707],\"type\":\"scatter\"}]},{\"data\":[{\"marker\":{\"color\":\"red\",\"size\":15},\"mode\":\"markers\",\"x\":[688.66058436309],\"y\":[525.724448550641],\"type\":\"scatter\"}]},{\"data\":[{\"marker\":{\"color\":\"red\",\"size\":15},\"mode\":\"markers\",\"x\":[688.29195057166],\"y\":[523.670631712669],\"type\":\"scatter\"}]},{\"data\":[{\"marker\":{\"color\":\"red\",\"size\":15},\"mode\":\"markers\",\"x\":[687.607344959002],\"y\":[520.405589559995],\"type\":\"scatter\"}]},{\"data\":[{\"marker\":{\"color\":\"red\",\"size\":15},\"mode\":\"markers\",\"x\":[686.764753435732],\"y\":[517.71982907957],\"type\":\"scatter\"}]},{\"data\":[{\"marker\":{\"color\":\"red\",\"size\":15},\"mode\":\"markers\",\"x\":[685.448204180621],\"y\":[514.665434807715],\"type\":\"scatter\"}]},{\"data\":[{\"marker\":{\"color\":\"red\",\"size\":15},\"mode\":\"markers\",\"x\":[684.131654925511],\"y\":[512.032336297494],\"type\":\"scatter\"}]},{\"data\":[{\"marker\":{\"color\":\"red\",\"size\":15},\"mode\":\"markers\",\"x\":[680.18200716018],\"y\":[505.238942141125],\"type\":\"scatter\"}]},{\"data\":[{\"marker\":{\"color\":\"red\",\"size\":15},\"mode\":\"markers\",\"x\":[679.392077607114],\"y\":[503.922392886015],\"type\":\"scatter\"}]},{\"data\":[{\"marker\":{\"color\":\"red\",\"size\":15},\"mode\":\"markers\",\"x\":[677.443584709551],\"y\":[501.025984524772],\"type\":\"scatter\"}]},{\"data\":[{\"marker\":{\"color\":\"red\",\"size\":15},\"mode\":\"markers\",\"x\":[669.43896523848],\"y\":[490.01963275205],\"type\":\"scatter\"}]},{\"data\":[{\"marker\":{\"color\":\"red\",\"size\":15},\"mode\":\"markers\",\"x\":[667.859106132348],\"y\":[487.965815914078],\"type\":\"scatter\"}]},{\"data\":[{\"marker\":{\"color\":\"red\",\"size\":15},\"mode\":\"markers\",\"x\":[662.487585171498],\"y\":[480.645802055665],\"type\":\"scatter\"}]},{\"data\":[{\"marker\":{\"color\":\"red\",\"size\":15},\"mode\":\"markers\",\"x\":[657.274050121261],\"y\":[472.693844554798],\"type\":\"scatter\"}]},{\"data\":[{\"marker\":{\"color\":\"red\",\"size\":15},\"mode\":\"markers\",\"x\":[650.638641875505],\"y\":[463.1620279478],\"type\":\"scatter\"}]},{\"data\":[{\"marker\":{\"color\":\"red\",\"size\":15},\"mode\":\"markers\",\"x\":[645.267120914655],\"y\":[455.736690148978],\"type\":\"scatter\"}]},{\"data\":[{\"marker\":{\"color\":\"red\",\"size\":15},\"mode\":\"markers\",\"x\":[639.684952072988],\"y\":[447.152789005659],\"type\":\"scatter\"}]},{\"data\":[{\"marker\":{\"color\":\"red\",\"size\":15},\"mode\":\"markers\",\"x\":[638.210416907264],\"y\":[444.993648227278],\"type\":\"scatter\"}]},{\"data\":[{\"marker\":{\"color\":\"red\",\"size\":15},\"mode\":\"markers\",\"x\":[633.470839588867],\"y\":[438.56888786234],\"type\":\"scatter\"}]},{\"data\":[{\"marker\":{\"color\":\"red\",\"size\":15},\"mode\":\"markers\",\"x\":[631.785656542326],\"y\":[436.357085113754],\"type\":\"scatter\"}]},{\"data\":[{\"marker\":{\"color\":\"red\",\"size\":15},\"mode\":\"markers\",\"x\":[622.569811756554],\"y\":[425.350733341032],\"type\":\"scatter\"}]},{\"data\":[{\"marker\":{\"color\":\"red\",\"size\":15},\"mode\":\"markers\",\"x\":[620.621318858991],\"y\":[423.033606652038],\"type\":\"scatter\"}]},{\"data\":[{\"marker\":{\"color\":\"red\",\"size\":15},\"mode\":\"markers\",\"x\":[613.459290911191],\"y\":[414.660353389537],\"type\":\"scatter\"}]},{\"data\":[{\"marker\":{\"color\":\"red\",\"size\":15},\"mode\":\"markers\",\"x\":[606.139277052777],\"y\":[407.340339531124],\"type\":\"scatter\"}]},{\"data\":[{\"marker\":{\"color\":\"red\",\"size\":15},\"mode\":\"markers\",\"x\":[599.187896985795],\"y\":[401.284212957616],\"type\":\"scatter\"}]},{\"data\":[{\"marker\":{\"color\":\"red\",\"size\":15},\"mode\":\"markers\",\"x\":[597.555375909458],\"y\":[399.757015821688],\"type\":\"scatter\"}]},{\"data\":[{\"marker\":{\"color\":\"red\",\"size\":15},\"mode\":\"markers\",\"x\":[592.815798591061],\"y\":[395.754706086153],\"type\":\"scatter\"}]},{\"data\":[{\"marker\":{\"color\":\"red\",\"size\":15},\"mode\":\"markers\",\"x\":[591.235939484929],\"y\":[394.385494860838],\"type\":\"scatter\"}]},{\"data\":[{\"marker\":{\"color\":\"red\",\"size\":15},\"mode\":\"markers\",\"x\":[586.285714285714],\"y\":[390.593833006121],\"type\":\"scatter\"}]},{\"data\":[{\"marker\":{\"color\":\"red\",\"size\":15},\"mode\":\"markers\",\"x\":[584.653193209377],\"y\":[389.27728375101],\"type\":\"scatter\"}]},{\"data\":[{\"marker\":{\"color\":\"red\",\"size\":15},\"mode\":\"markers\",\"x\":[579.808291950572],\"y\":[385.274974015475],\"type\":\"scatter\"}]},{\"data\":[{\"marker\":{\"color\":\"red\",\"size\":15},\"mode\":\"markers\",\"x\":[573.646841436655],\"y\":[379.745467144012],\"type\":\"scatter\"}]},{\"data\":[{\"marker\":{\"color\":\"red\",\"size\":15},\"mode\":\"markers\",\"x\":[572.172306270932],\"y\":[378.428917888902],\"type\":\"scatter\"}]},{\"data\":[{\"marker\":{\"color\":\"red\",\"size\":15},\"mode\":\"markers\",\"x\":[567.643376833353],\"y\":[374.531932093775],\"type\":\"scatter\"}]},{\"data\":[{\"marker\":{\"color\":\"red\",\"size\":15},\"mode\":\"markers\",\"x\":[561.113292528006],\"y\":[369.265735073334],\"type\":\"scatter\"}]},{\"data\":[{\"marker\":{\"color\":\"red\",\"size\":15},\"mode\":\"markers\",\"x\":[555.162489894907],\"y\":[364.473495784733],\"type\":\"scatter\"}]},{\"data\":[{\"marker\":{\"color\":\"red\",\"size\":15},\"mode\":\"markers\",\"x\":[553.845940639797],\"y\":[363.420256380644],\"type\":\"scatter\"}]},{\"data\":[{\"marker\":{\"color\":\"red\",\"size\":15},\"mode\":\"markers\",\"x\":[547.737152096085],\"y\":[358.575355121839],\"type\":\"scatter\"}]},{\"data\":[{\"marker\":{\"color\":\"red\",\"size\":15},\"mode\":\"markers\",\"x\":[546.683912691997],\"y\":[357.785425568772],\"type\":\"scatter\"}]},{\"data\":[{\"marker\":{\"color\":\"red\",\"size\":15},\"mode\":\"markers\",\"x\":[543.313546598914],\"y\":[355.520960849983],\"type\":\"scatter\"}]},{\"data\":[{\"marker\":{\"color\":\"red\",\"size\":15},\"mode\":\"markers\",\"x\":[542.154983254417],\"y\":[354.88901720753],\"type\":\"scatter\"}]},{\"data\":[{\"marker\":{\"color\":\"red\",\"size\":15},\"mode\":\"markers\",\"x\":[540.99641990992],\"y\":[354.362397505486],\"type\":\"scatter\"}]},{\"data\":[{\"marker\":{\"color\":\"red\",\"size\":15},\"mode\":\"markers\",\"x\":[534.203025753551],\"y\":[351.044693382608],\"type\":\"scatter\"}]},{\"data\":[{\"marker\":{\"color\":\"red\",\"size\":15},\"mode\":\"markers\",\"x\":[533.202448319667],\"y\":[350.36008776995],\"type\":\"scatter\"}]},{\"data\":[{\"marker\":{\"color\":\"red\",\"size\":15},\"mode\":\"markers\",\"x\":[529.252800554337],\"y\":[347.990299110752],\"type\":\"scatter\"}]},{\"data\":[{\"marker\":{\"color\":\"red\",\"size\":15},\"mode\":\"markers\",\"x\":[528.304885090657],\"y\":[347.411017438503],\"type\":\"scatter\"}]},{\"data\":[{\"marker\":{\"color\":\"red\",\"size\":15},\"mode\":\"markers\",\"x\":[526.356392193094],\"y\":[346.199792123802],\"type\":\"scatter\"}]},{\"data\":[{\"marker\":{\"color\":\"red\",\"size\":15},\"mode\":\"markers\",\"x\":[519.826307887747],\"y\":[342.724102090311],\"type\":\"scatter\"}]},{\"data\":[{\"marker\":{\"color\":\"red\",\"size\":15},\"mode\":\"markers\",\"x\":[515.823998152212],\"y\":[340.775609192747],\"type\":\"scatter\"}]},{\"data\":[{\"marker\":{\"color\":\"red\",\"size\":15},\"mode\":\"markers\",\"x\":[509.820533548909],\"y\":[337.457905069869],\"type\":\"scatter\"}]},{\"data\":[{\"marker\":{\"color\":\"red\",\"size\":15},\"mode\":\"markers\",\"x\":[508.76729414482],\"y\":[336.773299457212],\"type\":\"scatter\"}]},{\"data\":[{\"marker\":{\"color\":\"red\",\"size\":15},\"mode\":\"markers\",\"x\":[505.712899872965],\"y\":[334.982792470262],\"type\":\"scatter\"}]},{\"data\":[{\"marker\":{\"color\":\"red\",\"size\":15},\"mode\":\"markers\",\"x\":[504.764984409285],\"y\":[334.350848827809],\"type\":\"scatter\"}]},{\"data\":[{\"marker\":{\"color\":\"red\",\"size\":15},\"mode\":\"markers\",\"x\":[502.184547869269],\"y\":[332.507679870655],\"type\":\"scatter\"}]},{\"data\":[{\"marker\":{\"color\":\"red\",\"size\":15},\"mode\":\"markers\",\"x\":[501.23663240559],\"y\":[332.086384109019],\"type\":\"scatter\"}]},{\"data\":[{\"marker\":{\"color\":\"red\",\"size\":15},\"mode\":\"markers\",\"x\":[498.49820995496],\"y\":[330.717172883705],\"type\":\"scatter\"}]},{\"data\":[{\"marker\":{\"color\":\"red\",\"size\":15},\"mode\":\"markers\",\"x\":[497.602956461485],\"y\":[330.190553181661],\"type\":\"scatter\"}]},{\"data\":[{\"marker\":{\"color\":\"red\",\"size\":15},\"mode\":\"markers\",\"x\":[495.022519921469],\"y\":[328.979327866959],\"type\":\"scatter\"}]},{\"data\":[{\"marker\":{\"color\":\"red\",\"size\":15},\"mode\":\"markers\",\"x\":[494.127266427994],\"y\":[328.558032105324],\"type\":\"scatter\"}]},{\"data\":[{\"marker\":{\"color\":\"red\",\"size\":15},\"mode\":\"markers\",\"x\":[491.757477768795],\"y\":[327.399468760827],\"type\":\"scatter\"}]},{\"data\":[{\"marker\":{\"color\":\"red\",\"size\":15},\"mode\":\"markers\",\"x\":[489.177041228779],\"y\":[325.819609654695],\"type\":\"scatter\"}]},{\"data\":[{\"marker\":{\"color\":\"red\",\"size\":15},\"mode\":\"markers\",\"x\":[488.492435616122],\"y\":[325.398313893059],\"type\":\"scatter\"}]},{\"data\":[{\"marker\":{\"color\":\"red\",\"size\":15},\"mode\":\"markers\",\"x\":[486.701928629172],\"y\":[324.397736459175],\"type\":\"scatter\"}]},{\"data\":[{\"marker\":{\"color\":\"red\",\"size\":15},\"mode\":\"markers\",\"x\":[486.069984986719],\"y\":[324.029102667745],\"type\":\"scatter\"}]},{\"data\":[{\"marker\":{\"color\":\"red\",\"size\":15},\"mode\":\"markers\",\"x\":[484.121492089156],\"y\":[322.870539323248],\"type\":\"scatter\"}]},{\"data\":[{\"marker\":{\"color\":\"red\",\"size\":15},\"mode\":\"markers\",\"x\":[481.804365400162],\"y\":[321.290680217115],\"type\":\"scatter\"}]},{\"data\":[{\"marker\":{\"color\":\"red\",\"size\":15},\"mode\":\"markers\",\"x\":[481.277745698118],\"y\":[320.922046425684],\"type\":\"scatter\"}]},{\"data\":[{\"marker\":{\"color\":\"red\",\"size\":15},\"mode\":\"markers\",\"x\":[479.645224621781],\"y\":[319.974130962005],\"type\":\"scatter\"}]},{\"data\":[{\"marker\":{\"color\":\"red\",\"size\":15},\"mode\":\"markers\",\"x\":[477.4860838434],\"y\":[318.552257766486],\"type\":\"scatter\"}]},{\"data\":[{\"marker\":{\"color\":\"red\",\"size\":15},\"mode\":\"markers\",\"x\":[477.01212611156],\"y\":[318.236285945259],\"type\":\"scatter\"}]},{\"data\":[{\"marker\":{\"color\":\"red\",\"size\":15},\"mode\":\"markers\",\"x\":[473.852407899296],\"y\":[316.287793047696],\"type\":\"scatter\"}]},{\"data\":[{\"marker\":{\"color\":\"red\",\"size\":15},\"mode\":\"markers\",\"x\":[473.115140316434],\"y\":[315.813835315856],\"type\":\"scatter\"}]},{\"data\":[{\"marker\":{\"color\":\"red\",\"size\":15},\"mode\":\"markers\",\"x\":[470.79801362744],\"y\":[314.54994803095],\"type\":\"scatter\"}]},{\"data\":[{\"marker\":{\"color\":\"red\",\"size\":15},\"mode\":\"markers\",\"x\":[467.427647534357],\"y\":[312.127497401548],\"type\":\"scatter\"}]},{\"data\":[{\"marker\":{\"color\":\"red\",\"size\":15},\"mode\":\"markers\",\"x\":[466.479732070678],\"y\":[311.548215729299],\"type\":\"scatter\"}]},{\"data\":[{\"marker\":{\"color\":\"red\",\"size\":15},\"mode\":\"markers\",\"x\":[465.584478577203],\"y\":[310.916272086846],\"type\":\"scatter\"}]},{\"data\":[{\"marker\":{\"color\":\"red\",\"size\":15},\"mode\":\"markers\",\"x\":[461.740154752281],\"y\":[308.388497517034],\"type\":\"scatter\"}]},{\"data\":[{\"marker\":{\"color\":\"red\",\"size\":15},\"mode\":\"markers\",\"x\":[458.159140778381],\"y\":[306.07137082804],\"type\":\"scatter\"}]},{\"data\":[{\"marker\":{\"color\":\"red\",\"size\":15},\"mode\":\"markers\",\"x\":[454.420140893868],\"y\":[304.228201870886],\"type\":\"scatter\"}]},{\"data\":[{\"marker\":{\"color\":\"red\",\"size\":15},\"mode\":\"markers\",\"x\":[453.419563459984],\"y\":[303.754244139046],\"type\":\"scatter\"}]},{\"data\":[{\"marker\":{\"color\":\"red\",\"size\":15},\"mode\":\"markers\",\"x\":[448.258690379951],\"y\":[301.911075181892],\"type\":\"scatter\"}]},{\"data\":[{\"marker\":{\"color\":\"red\",\"size\":15},\"mode\":\"markers\",\"x\":[444.625014435847],\"y\":[300.173230165146],\"type\":\"scatter\"}]},{\"data\":[{\"marker\":{\"color\":\"red\",\"size\":15},\"mode\":\"markers\",\"x\":[441.623282134196],\"y\":[298.804018939831],\"type\":\"scatter\"}]},{\"data\":[{\"marker\":{\"color\":\"red\",\"size\":15},\"mode\":\"markers\",\"x\":[439.306155445202],\"y\":[297.698117565539],\"type\":\"scatter\"}]},{\"data\":[{\"marker\":{\"color\":\"red\",\"size\":15},\"mode\":\"markers\",\"x\":[438.884859683566],\"y\":[297.434807714517],\"type\":\"scatter\"}]},{\"data\":[{\"marker\":{\"color\":\"red\",\"size\":15},\"mode\":\"markers\",\"x\":[437.778958309274],\"y\":[296.539554221042],\"type\":\"scatter\"}]},{\"data\":[{\"marker\":{\"color\":\"red\",\"size\":15},\"mode\":\"markers\",\"x\":[437.410324517843],\"y\":[296.170920429611],\"type\":\"scatter\"}]},{\"data\":[{\"marker\":{\"color\":\"red\",\"size\":15},\"mode\":\"markers\",\"x\":[436.831042845594],\"y\":[295.644300727567],\"type\":\"scatter\"}]},{\"data\":[{\"marker\":{\"color\":\"red\",\"size\":15},\"mode\":\"markers\",\"x\":[436.462409054163],\"y\":[295.32832890634],\"type\":\"scatter\"}]},{\"data\":[{\"marker\":{\"color\":\"red\",\"size\":15},\"mode\":\"markers\",\"x\":[435.093197828849],\"y\":[293.801131770412],\"type\":\"scatter\"}]},{\"data\":[{\"marker\":{\"color\":\"red\",\"size\":15},\"mode\":\"markers\",\"x\":[433.355352812103],\"y\":[292.115948723871],\"type\":\"scatter\"}]},{\"data\":[{\"marker\":{\"color\":\"red\",\"size\":15},\"mode\":\"markers\",\"x\":[432.828733110059],\"y\":[291.589329021827],\"type\":\"scatter\"}]},{\"data\":[{\"marker\":{\"color\":\"red\",\"size\":15},\"mode\":\"markers\",\"x\":[762.440004619471],\"y\":[486.227970897332],\"type\":\"scatter\"}]},{\"data\":[{\"marker\":{\"color\":\"red\",\"size\":15},\"mode\":\"markers\",\"x\":[762.492666589675],\"y\":[484.384801940178],\"type\":\"scatter\"}]},{\"data\":[{\"marker\":{\"color\":\"red\",\"size\":15},\"mode\":\"markers\",\"x\":[761.966046887631],\"y\":[481.0670978173],\"type\":\"scatter\"}]},{\"data\":[{\"marker\":{\"color\":\"red\",\"size\":15},\"mode\":\"markers\",\"x\":[761.281441274974],\"y\":[477.433421873196],\"type\":\"scatter\"}]},{\"data\":[{\"marker\":{\"color\":\"red\",\"size\":15},\"mode\":\"markers\",\"x\":[760.386187781499],\"y\":[472.58852061439],\"type\":\"scatter\"}]},{\"data\":[{\"marker\":{\"color\":\"red\",\"size\":15},\"mode\":\"markers\",\"x\":[758.174385032914],\"y\":[466.058436309043],\"type\":\"scatter\"}]},{\"data\":[{\"marker\":{\"color\":\"red\",\"size\":15},\"mode\":\"markers\",\"x\":[755.435962582284],\"y\":[461.160873080032],\"type\":\"scatter\"}]},{\"data\":[{\"marker\":{\"color\":\"red\",\"size\":15},\"mode\":\"markers\",\"x\":[750.801709204296],\"y\":[454.314816953459],\"type\":\"scatter\"}]},{\"data\":[{\"marker\":{\"color\":\"red\",\"size\":15},\"mode\":\"markers\",\"x\":[745.008892481811],\"y\":[446.204873541979],\"type\":\"scatter\"}]},{\"data\":[{\"marker\":{\"color\":\"red\",\"size\":15},\"mode\":\"markers\",\"x\":[743.745005196905],\"y\":[444.519690495438],\"type\":\"scatter\"}]},{\"data\":[{\"marker\":{\"color\":\"red\",\"size\":15},\"mode\":\"markers\",\"x\":[738.584132116873],\"y\":[438.147592100704],\"type\":\"scatter\"}]},{\"data\":[{\"marker\":{\"color\":\"red\",\"size\":15},\"mode\":\"markers\",\"x\":[730.000230973553],\"y\":[428.299803672479],\"type\":\"scatter\"}]},{\"data\":[{\"marker\":{\"color\":\"red\",\"size\":15},\"mode\":\"markers\",\"x\":[727.946414135581],\"y\":[425.982676983485],\"type\":\"scatter\"}]},{\"data\":[{\"marker\":{\"color\":\"red\",\"size\":15},\"mode\":\"markers\",\"x\":[721.942949532279],\"y\":[418.978634946299],\"type\":\"scatter\"}]},{\"data\":[{\"marker\":{\"color\":\"red\",\"size\":15},\"mode\":\"markers\",\"x\":[712.253147014667],\"y\":[408.077607113985],\"type\":\"scatter\"}]},{\"data\":[{\"marker\":{\"color\":\"red\",\"size\":15},\"mode\":\"markers\",\"x\":[710.199330176695],\"y\":[405.8658043654],\"type\":\"scatter\"}]},{\"data\":[{\"marker\":{\"color\":\"red\",\"size\":15},\"mode\":\"markers\",\"x\":[702.563344497055],\"y\":[396.807945490241],\"type\":\"scatter\"}]},{\"data\":[{\"marker\":{\"color\":\"red\",\"size\":15},\"mode\":\"markers\",\"x\":[700.772837510105],\"y\":[394.596142741656],\"type\":\"scatter\"}]},{\"data\":[{\"marker\":{\"color\":\"red\",\"size\":15},\"mode\":\"markers\",\"x\":[695.295992608846],\"y\":[388.066058436309],\"type\":\"scatter\"}]},{\"data\":[{\"marker\":{\"color\":\"red\",\"size\":15},\"mode\":\"markers\",\"x\":[687.870654810024],\"y\":[380.166762905647],\"type\":\"scatter\"}]},{\"data\":[{\"marker\":{\"color\":\"red\",\"size\":15},\"mode\":\"markers\",\"x\":[686.02748585287],\"y\":[378.376255918697],\"type\":\"scatter\"}]},{\"data\":[{\"marker\":{\"color\":\"red\",\"size\":15},\"mode\":\"markers\",\"x\":[680.866612772837],\"y\":[373.057396928052],\"type\":\"scatter\"}]},{\"data\":[{\"marker\":{\"color\":\"red\",\"size\":15},\"mode\":\"markers\",\"x\":[679.076105785888],\"y\":[371.319551911306],\"type\":\"scatter\"}]},{\"data\":[{\"marker\":{\"color\":\"red\",\"size\":15},\"mode\":\"markers\",\"x\":[673.283289063402],\"y\":[366.316664741887],\"type\":\"scatter\"}]},{\"data\":[{\"marker\":{\"color\":\"red\",\"size\":15},\"mode\":\"markers\",\"x\":[663.962120337221],\"y\":[359.575932555722],\"type\":\"scatter\"}]},{\"data\":[{\"marker\":{\"color\":\"red\",\"size\":15},\"mode\":\"markers\",\"x\":[661.697655618432],\"y\":[357.627439658159],\"type\":\"scatter\"}]},{\"data\":[{\"marker\":{\"color\":\"red\",\"size\":15},\"mode\":\"markers\",\"x\":[654.746275551449],\"y\":[352.519228548331],\"type\":\"scatter\"}]},{\"data\":[{\"marker\":{\"color\":\"red\",\"size\":15},\"mode\":\"markers\",\"x\":[645.372444855064],\"y\":[345.989144242984],\"type\":\"scatter\"}]},{\"data\":[{\"marker\":{\"color\":\"red\",\"size\":15},\"mode\":\"markers\",\"x\":[637.262501443585],\"y\":[339.827693729068],\"type\":\"scatter\"}]},{\"data\":[{\"marker\":{\"color\":\"red\",\"size\":15},\"mode\":\"markers\",\"x\":[635.366670516226],\"y\":[338.353158563344],\"type\":\"scatter\"}]},{\"data\":[{\"marker\":{\"color\":\"red\",\"size\":15},\"mode\":\"markers\",\"x\":[629.152558032105],\"y\":[334.403510798014],\"type\":\"scatter\"}]},{\"data\":[{\"marker\":{\"color\":\"red\",\"size\":15},\"mode\":\"markers\",\"x\":[620.779304769604],\"y\":[329.505947569003],\"type\":\"scatter\"}]},{\"data\":[{\"marker\":{\"color\":\"red\",\"size\":15},\"mode\":\"markers\",\"x\":[613.037995149555],\"y\":[324.029102667745],\"type\":\"scatter\"}]},{\"data\":[{\"marker\":{\"color\":\"red\",\"size\":15},\"mode\":\"markers\",\"x\":[611.036840281788],\"y\":[322.65989144243],\"type\":\"scatter\"}]},{\"data\":[{\"marker\":{\"color\":\"red\",\"size\":15},\"mode\":\"markers\",\"x\":[604.61207991685],\"y\":[318.499595796281],\"type\":\"scatter\"}]},{\"data\":[{\"marker\":{\"color\":\"red\",\"size\":15},\"mode\":\"markers\",\"x\":[602.505601108673],\"y\":[317.183046541171],\"type\":\"scatter\"}]},{\"data\":[{\"marker\":{\"color\":\"red\",\"size\":15},\"mode\":\"markers\",\"x\":[596.554798475575],\"y\":[313.444046656658],\"type\":\"scatter\"}]},{\"data\":[{\"marker\":{\"color\":\"red\",\"size\":15},\"mode\":\"markers\",\"x\":[594.658967548216],\"y\":[312.232821341956],\"type\":\"scatter\"}]},{\"data\":[{\"marker\":{\"color\":\"red\",\"size\":15},\"mode\":\"markers\",\"x\":[589.076798706548],\"y\":[308.441159487239],\"type\":\"scatter\"}]},{\"data\":[{\"marker\":{\"color\":\"red\",\"size\":15},\"mode\":\"markers\",\"x\":[587.180967779189],\"y\":[307.282596142742],\"type\":\"scatter\"}]},{\"data\":[{\"marker\":{\"color\":\"red\",\"size\":15},\"mode\":\"markers\",\"x\":[581.388151056704],\"y\":[303.964892019864],\"type\":\"scatter\"}]},{\"data\":[{\"marker\":{\"color\":\"red\",\"size\":15},\"mode\":\"markers\",\"x\":[579.54498209955],\"y\":[302.858990645571],\"type\":\"scatter\"}]},{\"data\":[{\"marker\":{\"color\":\"red\",\"size\":15},\"mode\":\"markers\",\"x\":[574.331447049313],\"y\":[299.646610463102],\"type\":\"scatter\"}]},{\"data\":[{\"marker\":{\"color\":\"red\",\"size\":15},\"mode\":\"markers\",\"x\":[564.009700889248],\"y\":[293.327174038573],\"type\":\"scatter\"}]},{\"data\":[{\"marker\":{\"color\":\"red\",\"size\":15},\"mode\":\"markers\",\"x\":[562.166531932094],\"y\":[292.379258574893],\"type\":\"scatter\"}]},{\"data\":[{\"marker\":{\"color\":\"red\",\"size\":15},\"mode\":\"markers\",\"x\":[557.163644762675],\"y\":[289.798822034877],\"type\":\"scatter\"}]},{\"data\":[{\"marker\":{\"color\":\"red\",\"size\":15},\"mode\":\"markers\",\"x\":[551.528813950803],\"y\":[286.323132001386],\"type\":\"scatter\"}]},{\"data\":[{\"marker\":{\"color\":\"red\",\"size\":15},\"mode\":\"markers\",\"x\":[546.631250721792],\"y\":[283.216075759326],\"type\":\"scatter\"}]},{\"data\":[{\"marker\":{\"color\":\"red\",\"size\":15},\"mode\":\"markers\",\"x\":[541.839011433191],\"y\":[280.688301189514],\"type\":\"scatter\"}]},{\"data\":[{\"marker\":{\"color\":\"red\",\"size\":15},\"mode\":\"markers\",\"x\":[540.522462178081],\"y\":[280.056357547061],\"type\":\"scatter\"}]},{\"data\":[{\"marker\":{\"color\":\"red\",\"size\":15},\"mode\":\"markers\",\"x\":[536.625476382954],\"y\":[278.265850560111],\"type\":\"scatter\"}]},{\"data\":[{\"marker\":{\"color\":\"red\",\"size\":15},\"mode\":\"markers\",\"x\":[535.308927127844],\"y\":[277.633906917658],\"type\":\"scatter\"}]},{\"data\":[{\"marker\":{\"color\":\"red\",\"size\":15},\"mode\":\"markers\",\"x\":[531.359279362513],\"y\":[275.896061900912],\"type\":\"scatter\"}]},{\"data\":[{\"marker\":{\"color\":\"red\",\"size\":15},\"mode\":\"markers\",\"x\":[525.882434461254],\"y\":[273.368287331101],\"type\":\"scatter\"}]},{\"data\":[{\"marker\":{\"color\":\"red\",\"size\":15},\"mode\":\"markers\",\"x\":[524.88185702737],\"y\":[272.894329599261],\"type\":\"scatter\"}]},{\"data\":[{\"marker\":{\"color\":\"red\",\"size\":15},\"mode\":\"markers\",\"x\":[520.405589559995],\"y\":[270.73518882088],\"type\":\"scatter\"}]},{\"data\":[{\"marker\":{\"color\":\"red\",\"size\":15},\"mode\":\"markers\",\"x\":[519.14170227509],\"y\":[270.313893059245],\"type\":\"scatter\"}]},{\"data\":[{\"marker\":{\"color\":\"red\",\"size\":15},\"mode\":\"markers\",\"x\":[515.455364360781],\"y\":[269.313315625361],\"type\":\"scatter\"}]},{\"data\":[{\"marker\":{\"color\":\"red\",\"size\":15},\"mode\":\"markers\",\"x\":[510.241829310544],\"y\":[267.62813257882],\"type\":\"scatter\"}]},{\"data\":[{\"marker\":{\"color\":\"red\",\"size\":15},\"mode\":\"markers\",\"x\":[509.24125187666],\"y\":[267.312160757593],\"type\":\"scatter\"}]},{\"data\":[{\"marker\":{\"color\":\"red\",\"size\":15},\"mode\":\"markers\",\"x\":[506.450167455826],\"y\":[266.153597413096],\"type\":\"scatter\"}]},{\"data\":[{\"marker\":{\"color\":\"red\",\"size\":15},\"mode\":\"markers\",\"x\":[503.290449243562],\"y\":[264.995034068599],\"type\":\"scatter\"}]},{\"data\":[{\"marker\":{\"color\":\"red\",\"size\":15},\"mode\":\"markers\",\"x\":[502.658505601109],\"y\":[264.626400277168],\"type\":\"scatter\"}]},{\"data\":[{\"marker\":{\"color\":\"red\",\"size\":15},\"mode\":\"markers\",\"x\":[500.394040882319],\"y\":[264.04711860492],\"type\":\"scatter\"}]},{\"data\":[{\"marker\":{\"color\":\"red\",\"size\":15},\"mode\":\"markers\",\"x\":[499.604111329253],\"y\":[263.783808753898],\"type\":\"scatter\"}]},{\"data\":[{\"marker\":{\"color\":\"red\",\"size\":15},\"mode\":\"markers\",\"x\":[496.971012819032],\"y\":[262.993879200831],\"type\":\"scatter\"}]},{\"data\":[{\"marker\":{\"color\":\"red\",\"size\":15},\"mode\":\"markers\",\"x\":[493.12668899411],\"y\":[261.940639796743],\"type\":\"scatter\"}]},{\"data\":[{\"marker\":{\"color\":\"red\",\"size\":15},\"mode\":\"markers\",\"x\":[489.703660930823],\"y\":[260.782076452246],\"type\":\"scatter\"}]},{\"data\":[{\"marker\":{\"color\":\"red\",\"size\":15},\"mode\":\"markers\",\"x\":[488.861069407553],\"y\":[260.518766601224],\"type\":\"scatter\"}]},{\"data\":[{\"marker\":{\"color\":\"red\",\"size\":15},\"mode\":\"markers\",\"x\":[486.596604688763],\"y\":[259.728837048158],\"type\":\"scatter\"}]},{\"data\":[{\"marker\":{\"color\":\"red\",\"size\":15},\"mode\":\"markers\",\"x\":[483.752858297725],\"y\":[258.359625822843],\"type\":\"scatter\"}]},{\"data\":[{\"marker\":{\"color\":\"red\",\"size\":15},\"mode\":\"markers\",\"x\":[483.120914655272],\"y\":[258.043654001617],\"type\":\"scatter\"}]},{\"data\":[{\"marker\":{\"color\":\"red\",\"size\":15},\"mode\":\"markers\",\"x\":[481.277745698118],\"y\":[257.095738537937],\"type\":\"scatter\"}]},{\"data\":[{\"marker\":{\"color\":\"red\",\"size\":15},\"mode\":\"markers\",\"x\":[480.751125996073],\"y\":[256.832428686915],\"type\":\"scatter\"}]},{\"data\":[{\"marker\":{\"color\":\"red\",\"size\":15},\"mode\":\"markers\",\"x\":[479.381914770759],\"y\":[256.200485044462],\"type\":\"scatter\"}]},{\"data\":[{\"marker\":{\"color\":\"red\",\"size\":15},\"mode\":\"markers\",\"x\":[477.854717634831],\"y\":[255.726527312623],\"type\":\"scatter\"}]},{\"data\":[{\"marker\":{\"color\":\"red\",\"size\":15},\"mode\":\"markers\",\"x\":[477.538745813604],\"y\":[255.673865342418],\"type\":\"scatter\"}]},{\"data\":[{\"marker\":{\"color\":\"red\",\"size\":15},\"mode\":\"markers\",\"x\":[476.485506409516],\"y\":[255.515879431805],\"type\":\"scatter\"}]},{\"data\":[{\"marker\":{\"color\":\"red\",\"size\":15},\"mode\":\"markers\",\"x\":[476.274858528698],\"y\":[255.515879431805],\"type\":\"scatter\"}]},{\"data\":[{\"marker\":{\"color\":\"red\",\"size\":15},\"mode\":\"markers\",\"x\":[475.748238826654],\"y\":[255.515879431805],\"type\":\"scatter\"}]},{\"data\":[{\"marker\":{\"color\":\"red\",\"size\":15},\"mode\":\"markers\",\"x\":[474.37902760134],\"y\":[255.410555491396],\"type\":\"scatter\"}]},{\"data\":[{\"marker\":{\"color\":\"red\",\"size\":15},\"mode\":\"markers\",\"x\":[474.115717750318],\"y\":[255.410555491396],\"type\":\"scatter\"}]},{\"data\":[{\"marker\":{\"color\":\"red\",\"size\":15},\"mode\":\"markers\",\"x\":[473.273126227047],\"y\":[255.410555491396],\"type\":\"scatter\"}]},{\"data\":[{\"marker\":{\"color\":\"red\",\"size\":15},\"mode\":\"markers\",\"x\":[472.957154405821],\"y\":[255.410555491396],\"type\":\"scatter\"}]},{\"data\":[{\"marker\":{\"color\":\"red\",\"size\":15},\"mode\":\"markers\",\"x\":[471.851253031528],\"y\":[255.252569580783],\"type\":\"scatter\"}]},{\"data\":[{\"marker\":{\"color\":\"red\",\"size\":15},\"mode\":\"markers\",\"x\":[471.377295299688],\"y\":[255.09458367017],\"type\":\"scatter\"}]},{\"data\":[{\"marker\":{\"color\":\"red\",\"size\":15},\"mode\":\"markers\",\"x\":[470.113408014782],\"y\":[254.725949878739],\"type\":\"scatter\"}]},{\"data\":[{\"marker\":{\"color\":\"red\",\"size\":15},\"mode\":\"markers\",\"x\":[468.270239057628],\"y\":[254.094006236286],\"type\":\"scatter\"}]},{\"data\":[{\"marker\":{\"color\":\"red\",\"size\":15},\"mode\":\"markers\",\"x\":[466.479732070678],\"y\":[253.30407668322],\"type\":\"scatter\"}]},{\"data\":[{\"marker\":{\"color\":\"red\",\"size\":15},\"mode\":\"markers\",\"x\":[466.111098279247],\"y\":[253.146090772607],\"type\":\"scatter\"}]},{\"data\":[{\"marker\":{\"color\":\"red\",\"size\":15},\"mode\":\"markers\",\"x\":[465.005196904954],\"y\":[252.619471070562],\"type\":\"scatter\"}]},{\"data\":[{\"marker\":{\"color\":\"red\",\"size\":15},\"mode\":\"markers\",\"x\":[463.1620279478],\"y\":[251.671555606883],\"type\":\"scatter\"}]},{\"data\":[{\"marker\":{\"color\":\"red\",\"size\":15},\"mode\":\"markers\",\"x\":[462.846056126574],\"y\":[251.566231666474],\"type\":\"scatter\"}]},{\"data\":[{\"marker\":{\"color\":\"red\",\"size\":15},\"mode\":\"markers\",\"x\":[461.950802633098],\"y\":[251.092273934634],\"type\":\"scatter\"}]},{\"data\":[{\"marker\":{\"color\":\"red\",\"size\":15},\"mode\":\"markers\",\"x\":[460.844901258806],\"y\":[250.512992262386],\"type\":\"scatter\"}]},{\"data\":[{\"marker\":{\"color\":\"red\",\"size\":15},\"mode\":\"markers\",\"x\":[459.633675944104],\"y\":[249.986372560342],\"type\":\"scatter\"}]},{\"data\":[{\"marker\":{\"color\":\"red\",\"size\":15},\"mode\":\"markers\",\"x\":[459.317704122878],\"y\":[249.933710590137],\"type\":\"scatter\"}]},{\"data\":[{\"marker\":{\"color\":\"red\",\"size\":15},\"mode\":\"markers\",\"x\":[458.527774569812],\"y\":[249.670400739115],\"type\":\"scatter\"}]},{\"data\":[{\"marker\":{\"color\":\"red\",\"size\":15},\"mode\":\"markers\",\"x\":[458.053816837972],\"y\":[249.459752858298],\"type\":\"scatter\"}]},{\"data\":[{\"marker\":{\"color\":\"red\",\"size\":15},\"mode\":\"markers\",\"x\":[457.895830927359],\"y\":[249.354428917889],\"type\":\"scatter\"}]},{\"data\":[{\"marker\":{\"color\":\"red\",\"size\":15},\"mode\":\"markers\",\"x\":[457.895830927359],\"y\":[249.354428917889],\"type\":\"scatter\"}]},{\"data\":[{\"marker\":{\"color\":\"red\",\"size\":15},\"mode\":\"markers\",\"x\":[457.79050698695],\"y\":[249.143781037071],\"type\":\"scatter\"}]},{\"data\":[{\"marker\":{\"color\":\"red\",\"size\":15},\"mode\":\"markers\",\"x\":[457.79050698695],\"y\":[249.143781037071],\"type\":\"scatter\"}]},{\"data\":[{\"marker\":{\"color\":\"red\",\"size\":15},\"mode\":\"markers\",\"x\":[457.737845016746],\"y\":[248.933133156254],\"type\":\"scatter\"}]},{\"data\":[{\"marker\":{\"color\":\"red\",\"size\":15},\"mode\":\"markers\",\"x\":[457.527197135928],\"y\":[248.511837394618],\"type\":\"scatter\"}]},{\"data\":[{\"marker\":{\"color\":\"red\",\"size\":15},\"mode\":\"markers\",\"x\":[457.211225314701],\"y\":[248.248527543596],\"type\":\"scatter\"}]},{\"data\":[{\"marker\":{\"color\":\"red\",\"size\":15},\"mode\":\"markers\",\"x\":[455.894676059591],\"y\":[247.616583901143],\"type\":\"scatter\"}]},{\"data\":[{\"marker\":{\"color\":\"red\",\"size\":15},\"mode\":\"markers\",\"x\":[455.578704238365],\"y\":[247.405936020326],\"type\":\"scatter\"}]},{\"data\":[{\"marker\":{\"color\":\"red\",\"size\":15},\"mode\":\"markers\",\"x\":[454.578126804481],\"y\":[246.879316318282],\"type\":\"scatter\"}]},{\"data\":[{\"marker\":{\"color\":\"red\",\"size\":15},\"mode\":\"markers\",\"x\":[454.262154983254],\"y\":[246.668668437464],\"type\":\"scatter\"}]},{\"data\":[{\"marker\":{\"color\":\"red\",\"size\":15},\"mode\":\"markers\",\"x\":[453.314239519575],\"y\":[246.089386765215],\"type\":\"scatter\"}]},{\"data\":[{\"marker\":{\"color\":\"red\",\"size\":15},\"mode\":\"markers\",\"x\":[453.050929668553],\"y\":[245.984062824807],\"type\":\"scatter\"}]},{\"data\":[{\"marker\":{\"color\":\"red\",\"size\":15},\"mode\":\"markers\",\"x\":[452.366324055896],\"y\":[245.615429033376],\"type\":\"scatter\"}]},{\"data\":[{\"marker\":{\"color\":\"red\",\"size\":15},\"mode\":\"markers\",\"x\":[451.787042383647],\"y\":[245.299457212149],\"type\":\"scatter\"}]},{\"data\":[{\"marker\":{\"color\":\"red\",\"size\":15},\"mode\":\"markers\",\"x\":[451.155098741194],\"y\":[244.983485390923],\"type\":\"scatter\"}]},{\"data\":[{\"marker\":{\"color\":\"red\",\"size\":15},\"mode\":\"markers\",\"x\":[450.944450860376],\"y\":[244.983485390923],\"type\":\"scatter\"}]},{\"data\":[{\"marker\":{\"color\":\"red\",\"size\":15},\"mode\":\"markers\",\"x\":[450.733802979559],\"y\":[244.983485390923],\"type\":\"scatter\"}]},{\"data\":[{\"marker\":{\"color\":\"red\",\"size\":15},\"mode\":\"markers\",\"x\":[450.470493128537],\"y\":[245.19413327174],\"type\":\"scatter\"}]},{\"data\":[{\"marker\":{\"color\":\"red\",\"size\":15},\"mode\":\"markers\",\"x\":[509.399237787273],\"y\":[506.871463217462],\"type\":\"scatter\"}]},{\"data\":[{\"marker\":{\"color\":\"red\",\"size\":15},\"mode\":\"markers\",\"x\":[510.241829310544],\"y\":[506.397505485622],\"type\":\"scatter\"}]},{\"data\":[{\"marker\":{\"color\":\"red\",\"size\":15},\"mode\":\"markers\",\"x\":[511.03175886361],\"y\":[505.870885783578],\"type\":\"scatter\"}]},{\"data\":[{\"marker\":{\"color\":\"red\",\"size\":15},\"mode\":\"markers\",\"x\":[512.190322208107],\"y\":[504.870308349694],\"type\":\"scatter\"}]},{\"data\":[{\"marker\":{\"color\":\"red\",\"size\":15},\"mode\":\"markers\",\"x\":[512.980251761173],\"y\":[504.185702737037],\"type\":\"scatter\"}]},{\"data\":[{\"marker\":{\"color\":\"red\",\"size\":15},\"mode\":\"markers\",\"x\":[514.244139046079],\"y\":[502.605843630904],\"type\":\"scatter\"}]},{\"data\":[{\"marker\":{\"color\":\"red\",\"size\":15},\"mode\":\"markers\",\"x\":[515.666012241598],\"y\":[501.289294375794],\"type\":\"scatter\"}]},{\"data\":[{\"marker\":{\"color\":\"red\",\"size\":15},\"mode\":\"markers\",\"x\":[517.298533317935],\"y\":[499.920083150479],\"type\":\"scatter\"}]},{\"data\":[{\"marker\":{\"color\":\"red\",\"size\":15},\"mode\":\"markers\",\"x\":[519.089040304885],\"y\":[498.287562074143],\"type\":\"scatter\"}]},{\"data\":[{\"marker\":{\"color\":\"red\",\"size\":15},\"mode\":\"markers\",\"x\":[521.30084305347],\"y\":[496.497055087193],\"type\":\"scatter\"}]},{\"data\":[{\"marker\":{\"color\":\"red\",\"size\":15},\"mode\":\"markers\",\"x\":[522.512068368172],\"y\":[495.496477653309],\"type\":\"scatter\"}]},{\"data\":[{\"marker\":{\"color\":\"red\",\"size\":15},\"mode\":\"markers\",\"x\":[524.934518997575],\"y\":[493.547984755745],\"type\":\"scatter\"}]},{\"data\":[{\"marker\":{\"color\":\"red\",\"size\":15},\"mode\":\"markers\",\"x\":[526.251068252685],\"y\":[492.389421411248],\"type\":\"scatter\"}]},{\"data\":[{\"marker\":{\"color\":\"red\",\"size\":15},\"mode\":\"markers\",\"x\":[526.883011895138],\"y\":[491.757477768795],\"type\":\"scatter\"}]},{\"data\":[{\"marker\":{\"color\":\"red\",\"size\":15},\"mode\":\"markers\",\"x\":[530.358701928629],\"y\":[488.913731377757],\"type\":\"scatter\"}]},{\"data\":[{\"marker\":{\"color\":\"red\",\"size\":15},\"mode\":\"markers\",\"x\":[531.043307541286],\"y\":[488.281787735304],\"type\":\"scatter\"}]},{\"data\":[{\"marker\":{\"color\":\"red\",\"size\":15},\"mode\":\"markers\",\"x\":[533.307772260076],\"y\":[486.859914539785],\"type\":\"scatter\"}]},{\"data\":[{\"marker\":{\"color\":\"red\",\"size\":15},\"mode\":\"markers\",\"x\":[533.992377872734],\"y\":[486.43861877815],\"type\":\"scatter\"}]},{\"data\":[{\"marker\":{\"color\":\"red\",\"size\":15},\"mode\":\"markers\",\"x\":[535.466913038457],\"y\":[485.543365284675],\"type\":\"scatter\"}]},{\"data\":[{\"marker\":{\"color\":\"red\",\"size\":15},\"mode\":\"markers\",\"x\":[536.204180621319],\"y\":[485.12206952304],\"type\":\"scatter\"}]},{\"data\":[{\"marker\":{\"color\":\"red\",\"size\":15},\"mode\":\"markers\",\"x\":[540.785772029103],\"y\":[482.752280863841],\"type\":\"scatter\"}]},{\"data\":[{\"marker\":{\"color\":\"red\",\"size\":15},\"mode\":\"markers\",\"x\":[543.840166300959],\"y\":[480.909111906687],\"type\":\"scatter\"}]},{\"data\":[{\"marker\":{\"color\":\"red\",\"size\":15},\"mode\":\"markers\",\"x\":[544.524771913616],\"y\":[480.382492204643],\"type\":\"scatter\"}]},{\"data\":[{\"marker\":{\"color\":\"red\",\"size\":15},\"mode\":\"markers\",\"x\":[546.683912691997],\"y\":[478.80263309851],\"type\":\"scatter\"}]},{\"data\":[{\"marker\":{\"color\":\"red\",\"size\":15},\"mode\":\"markers\",\"x\":[547.368518304654],\"y\":[478.276013396466],\"type\":\"scatter\"}]},{\"data\":[{\"marker\":{\"color\":\"red\",\"size\":15},\"mode\":\"markers\",\"x\":[548.737729529969],\"y\":[477.222773992378],\"type\":\"scatter\"}]},{\"data\":[{\"marker\":{\"color\":\"red\",\"size\":15},\"mode\":\"markers\",\"x\":[549.422335142626],\"y\":[476.696154290334],\"type\":\"scatter\"}]},{\"data\":[{\"marker\":{\"color\":\"red\",\"size\":15},\"mode\":\"markers\",\"x\":[552.318743503869],\"y\":[474.273703660931],\"type\":\"scatter\"}]},{\"data\":[{\"marker\":{\"color\":\"red\",\"size\":15},\"mode\":\"markers\",\"x\":[552.898025176117],\"y\":[473.694421988682],\"type\":\"scatter\"}]},{\"data\":[{\"marker\":{\"color\":\"red\",\"size\":15},\"mode\":\"markers\",\"x\":[553.52996881857],\"y\":[473.115140316434],\"type\":\"scatter\"}]},{\"data\":[{\"marker\":{\"color\":\"red\",\"size\":15},\"mode\":\"markers\",\"x\":[554.056588520614],\"y\":[472.641182584594],\"type\":\"scatter\"}]},{\"data\":[{\"marker\":{\"color\":\"red\",\"size\":15},\"mode\":\"markers\",\"x\":[556.900334911653],\"y\":[469.85009816376],\"type\":\"scatter\"}]},{\"data\":[{\"marker\":{\"color\":\"red\",\"size\":15},\"mode\":\"markers\",\"x\":[559.691419332486],\"y\":[467.322323593949],\"type\":\"scatter\"}]},{\"data\":[{\"marker\":{\"color\":\"red\",\"size\":15},\"mode\":\"markers\",\"x\":[562.219193902298],\"y\":[465.057858875159],\"type\":\"scatter\"}]},{\"data\":[{\"marker\":{\"color\":\"red\",\"size\":15},\"mode\":\"markers\",\"x\":[562.798475574547],\"y\":[464.531239173115],\"type\":\"scatter\"}]},{\"data\":[{\"marker\":{\"color\":\"red\",\"size\":15},\"mode\":\"markers\",\"x\":[564.483658621088],\"y\":[463.1620279478],\"type\":\"scatter\"}]},{\"data\":[{\"marker\":{\"color\":\"red\",\"size\":15},\"mode\":\"markers\",\"x\":[565.010278323132],\"y\":[462.793394156369],\"type\":\"scatter\"}]},{\"data\":[{\"marker\":{\"color\":\"red\",\"size\":15},\"mode\":\"markers\",\"x\":[566.53747545906],\"y\":[461.687492782076],\"type\":\"scatter\"}]},{\"data\":[{\"marker\":{\"color\":\"red\",\"size\":15},\"mode\":\"markers\",\"x\":[567.0114331909],\"y\":[461.37152096085],\"type\":\"scatter\"}]},{\"data\":[{\"marker\":{\"color\":\"red\",\"size\":15},\"mode\":\"markers\",\"x\":[568.380644416214],\"y\":[460.212957616353],\"type\":\"scatter\"}]},{\"data\":[{\"marker\":{\"color\":\"red\",\"size\":15},\"mode\":\"markers\",\"x\":[568.80194017785],\"y\":[459.791661854718],\"type\":\"scatter\"}]},{\"data\":[{\"marker\":{\"color\":\"red\",\"size\":15},\"mode\":\"markers\",\"x\":[570.11848943296],\"y\":[458.685760480425],\"type\":\"scatter\"}]},{\"data\":[{\"marker\":{\"color\":\"red\",\"size\":15},\"mode\":\"markers\",\"x\":[570.539785194595],\"y\":[458.317126688994],\"type\":\"scatter\"}]},{\"data\":[{\"marker\":{\"color\":\"red\",\"size\":15},\"mode\":\"markers\",\"x\":[572.698925972976],\"y\":[456.47395773184],\"type\":\"scatter\"}]},{\"data\":[{\"marker\":{\"color\":\"red\",\"size\":15},\"mode\":\"markers\",\"x\":[573.646841436655],\"y\":[455.578704238365],\"type\":\"scatter\"}]},{\"data\":[{\"marker\":{\"color\":\"red\",\"size\":15},\"mode\":\"markers\",\"x\":[576.753897678716],\"y\":[452.366324055896],\"type\":\"scatter\"}]},{\"data\":[{\"marker\":{\"color\":\"red\",\"size\":15},\"mode\":\"markers\",\"x\":[579.281672248528],\"y\":[450.15452130731],\"type\":\"scatter\"}]},{\"data\":[{\"marker\":{\"color\":\"red\",\"size\":15},\"mode\":\"markers\",\"x\":[580.018939831389],\"y\":[449.469915694653],\"type\":\"scatter\"}]},{\"data\":[{\"marker\":{\"color\":\"red\",\"size\":15},\"mode\":\"markers\",\"x\":[582.915348192632],\"y\":[447.416098856681],\"type\":\"scatter\"}]},{\"data\":[{\"marker\":{\"color\":\"red\",\"size\":15},\"mode\":\"markers\",\"x\":[587.865573391847],\"y\":[444.414366555029],\"type\":\"scatter\"}]},{\"data\":[{\"marker\":{\"color\":\"red\",\"size\":15},\"mode\":\"markers\",\"x\":[588.760826885322],\"y\":[443.887746852985],\"type\":\"scatter\"}]},{\"data\":[{\"marker\":{\"color\":\"red\",\"size\":15},\"mode\":\"markers\",\"x\":[592.44716479963],\"y\":[441.991915925627],\"type\":\"scatter\"}]},{\"data\":[{\"marker\":{\"color\":\"red\",\"size\":15},\"mode\":\"markers\",\"x\":[597.713361820072],\"y\":[439.516803326019],\"type\":\"scatter\"}]},{\"data\":[{\"marker\":{\"color\":\"red\",\"size\":15},\"mode\":\"markers\",\"x\":[598.871925164569],\"y\":[439.042845594179],\"type\":\"scatter\"}]},{\"data\":[{\"marker\":{\"color\":\"red\",\"size\":15},\"mode\":\"markers\",\"x\":[602.084305347038],\"y\":[437.62097239866],\"type\":\"scatter\"}]},{\"data\":[{\"marker\":{\"color\":\"red\",\"size\":15},\"mode\":\"markers\",\"x\":[603.19020672133],\"y\":[437.199676637025],\"type\":\"scatter\"}]},{\"data\":[{\"marker\":{\"color\":\"red\",\"size\":15},\"mode\":\"markers\",\"x\":[606.297262963391],\"y\":[435.777803441506],\"type\":\"scatter\"}]},{\"data\":[{\"marker\":{\"color\":\"red\",\"size\":15},\"mode\":\"markers\",\"x\":[610.088924818108],\"y\":[433.408014782307],\"type\":\"scatter\"}]},{\"data\":[{\"marker\":{\"color\":\"red\",\"size\":15},\"mode\":\"markers\",\"x\":[610.931516341379],\"y\":[432.72340916965],\"type\":\"scatter\"}]},{\"data\":[{\"marker\":{\"color\":\"red\",\"size\":15},\"mode\":\"markers\",\"x\":[613.353966970782],\"y\":[430.511606421065],\"type\":\"scatter\"}]},{\"data\":[{\"marker\":{\"color\":\"red\",\"size\":15},\"mode\":\"markers\",\"x\":[615.987065481002],\"y\":[428.194479732071],\"type\":\"scatter\"}]},{\"data\":[{\"marker\":{\"color\":\"red\",\"size\":15},\"mode\":\"markers\",\"x\":[617.830234438157],\"y\":[426.509296685529],\"type\":\"scatter\"}]},{\"data\":[{\"marker\":{\"color\":\"red\",\"size\":15},\"mode\":\"markers\",\"x\":[618.356854140201],\"y\":[426.03533895369],\"type\":\"scatter\"}]},{\"data\":[{\"marker\":{\"color\":\"red\",\"size\":15},\"mode\":\"markers\",\"x\":[620.463332948377],\"y\":[424.402817877353],\"type\":\"scatter\"}]},{\"data\":[{\"marker\":{\"color\":\"red\",\"size\":15},\"mode\":\"markers\",\"x\":[621.253262501444],\"y\":[423.718212264696],\"type\":\"scatter\"}]},{\"data\":[{\"marker\":{\"color\":\"red\",\"size\":15},\"mode\":\"markers\",\"x\":[623.254417369211],\"y\":[422.033029218155],\"type\":\"scatter\"}]},{\"data\":[{\"marker\":{\"color\":\"red\",\"size\":15},\"mode\":\"markers\",\"x\":[625.729529968819],\"y\":[419.821226469569],\"type\":\"scatter\"}]},{\"data\":[{\"marker\":{\"color\":\"red\",\"size\":15},\"mode\":\"markers\",\"x\":[628.783924240674],\"y\":[416.503522346691],\"type\":\"scatter\"}]},{\"data\":[{\"marker\":{\"color\":\"red\",\"size\":15},\"mode\":\"markers\",\"x\":[629.257881972514],\"y\":[415.871578704238],\"type\":\"scatter\"}]},{\"data\":[{\"marker\":{\"color\":\"red\",\"size\":15},\"mode\":\"markers\",\"x\":[630.99572698926],\"y\":[414.028409747084],\"type\":\"scatter\"}]},{\"data\":[{\"marker\":{\"color\":\"red\",\"size\":15},\"mode\":\"markers\",\"x\":[631.627670631713],\"y\":[413.396466104631],\"type\":\"scatter\"}]},{\"data\":[{\"marker\":{\"color\":\"red\",\"size\":15},\"mode\":\"markers\",\"x\":[633.470839588867],\"y\":[411.447973207068],\"type\":\"scatter\"}]},{\"data\":[{\"marker\":{\"color\":\"red\",\"size\":15},\"mode\":\"markers\",\"x\":[636.419909920314],\"y\":[409.183508488278],\"type\":\"scatter\"}]},{\"data\":[{\"marker\":{\"color\":\"red\",\"size\":15},\"mode\":\"markers\",\"x\":[637.157177503176],\"y\":[408.551564845825],\"type\":\"scatter\"}]},{\"data\":[{\"marker\":{\"color\":\"red\",\"size\":15},\"mode\":\"markers\",\"x\":[639.263656311352],\"y\":[406.866381799284],\"type\":\"scatter\"}]},{\"data\":[{\"marker\":{\"color\":\"red\",\"size\":15},\"mode\":\"markers\",\"x\":[642.58136043423],\"y\":[404.759902991108],\"type\":\"scatter\"}]},{\"data\":[{\"marker\":{\"color\":\"red\",\"size\":15},\"mode\":\"markers\",\"x\":[646.057050467721],\"y\":[402.495438272318],\"type\":\"scatter\"}]},{\"data\":[{\"marker\":{\"color\":\"red\",\"size\":15},\"mode\":\"markers\",\"x\":[649.638064441621],\"y\":[400.072987642915],\"type\":\"scatter\"}]},{\"data\":[{\"marker\":{\"color\":\"red\",\"size\":15},\"mode\":\"markers\",\"x\":[650.480655964892],\"y\":[399.546367940871],\"type\":\"scatter\"}]},{\"data\":[{\"marker\":{\"color\":\"red\",\"size\":15},\"mode\":\"markers\",\"x\":[653.166416445317],\"y\":[397.913846864534],\"type\":\"scatter\"}]},{\"data\":[{\"marker\":{\"color\":\"red\",\"size\":15},\"mode\":\"markers\",\"x\":[656.378796627786],\"y\":[395.491396235131],\"type\":\"scatter\"}]},{\"data\":[{\"marker\":{\"color\":\"red\",\"size\":15},\"mode\":\"markers\",\"x\":[657.168726180852],\"y\":[394.806790622474],\"type\":\"scatter\"}]},{\"data\":[{\"marker\":{\"color\":\"red\",\"size\":15},\"mode\":\"markers\",\"x\":[659.907148631482],\"y\":[391.752396350618],\"type\":\"scatter\"}]},{\"data\":[{\"marker\":{\"color\":\"red\",\"size\":15},\"mode\":\"markers\",\"x\":[663.804134426608],\"y\":[387.750086615083],\"type\":\"scatter\"}]},{\"data\":[{\"marker\":{\"color\":\"red\",\"size\":15},\"mode\":\"markers\",\"x\":[666.279247026215],\"y\":[385.32763598568],\"type\":\"scatter\"}]},{\"data\":[{\"marker\":{\"color\":\"red\",\"size\":15},\"mode\":\"markers\",\"x\":[667.17450051969],\"y\":[384.590368402818],\"type\":\"scatter\"}]},{\"data\":[{\"marker\":{\"color\":\"red\",\"size\":15},\"mode\":\"markers\",\"x\":[670.597528582977],\"y\":[381.904607922393],\"type\":\"scatter\"}]},{\"data\":[{\"marker\":{\"color\":\"red\",\"size\":15},\"mode\":\"markers\",\"x\":[673.809908765446],\"y\":[379.429495322786],\"type\":\"scatter\"}]},{\"data\":[{\"marker\":{\"color\":\"red\",\"size\":15},\"mode\":\"markers\",\"x\":[677.285598798937],\"y\":[377.481002425222],\"type\":\"scatter\"}]},{\"data\":[{\"marker\":{\"color\":\"red\",\"size\":15},\"mode\":\"markers\",\"x\":[680.392655040998],\"y\":[375.42718558725],\"type\":\"scatter\"}]},{\"data\":[{\"marker\":{\"color\":\"red\",\"size\":15},\"mode\":\"markers\",\"x\":[683.078415521423],\"y\":[373.057396928052],\"type\":\"scatter\"}]},{\"data\":[{\"marker\":{\"color\":\"red\",\"size\":15},\"mode\":\"markers\",\"x\":[686.080147823074],\"y\":[370.687608268853],\"type\":\"scatter\"}]},{\"data\":[{\"marker\":{\"color\":\"red\",\"size\":15},\"mode\":\"markers\",\"x\":[686.659429495323],\"y\":[370.108326596605],\"type\":\"scatter\"}]},{\"data\":[{\"marker\":{\"color\":\"red\",\"size\":15},\"mode\":\"markers\",\"x\":[688.555260422682],\"y\":[368.475805520268],\"type\":\"scatter\"}]},{\"data\":[{\"marker\":{\"color\":\"red\",\"size\":15},\"mode\":\"markers\",\"x\":[691.293682873311],\"y\":[366.316664741887],\"type\":\"scatter\"}]},{\"data\":[{\"marker\":{\"color\":\"red\",\"size\":15},\"mode\":\"markers\",\"x\":[693.558147592101],\"y\":[364.473495784733],\"type\":\"scatter\"}]},{\"data\":[{\"marker\":{\"color\":\"red\",\"size\":15},\"mode\":\"markers\",\"x\":[694.242753204758],\"y\":[363.946876082689],\"type\":\"scatter\"}]},{\"data\":[{\"marker\":{\"color\":\"red\",\"size\":15},\"mode\":\"markers\",\"x\":[697.876429148862],\"y\":[361.682411363899],\"type\":\"scatter\"}]},{\"data\":[{\"marker\":{\"color\":\"red\",\"size\":15},\"mode\":\"markers\",\"x\":[698.719020672133],\"y\":[361.155791661855],\"type\":\"scatter\"}]},{\"data\":[{\"marker\":{\"color\":\"red\",\"size\":15},\"mode\":\"markers\",\"x\":[701.141471301536],\"y\":[359.78658043654],\"type\":\"scatter\"}]},{\"data\":[{\"marker\":{\"color\":\"red\",\"size\":15},\"mode\":\"markers\",\"x\":[701.931400854602],\"y\":[359.259960734496],\"type\":\"scatter\"}]},{\"data\":[{\"marker\":{\"color\":\"red\",\"size\":15},\"mode\":\"markers\",\"x\":[704.195865573392],\"y\":[357.680101628364],\"type\":\"scatter\"}]},{\"data\":[{\"marker\":{\"color\":\"red\",\"size\":15},\"mode\":\"markers\",\"x\":[707.618893636679],\"y\":[355.994918581822],\"type\":\"scatter\"}]},{\"data\":[{\"marker\":{\"color\":\"red\",\"size\":15},\"mode\":\"markers\",\"x\":[708.461485159949],\"y\":[355.626284790391],\"type\":\"scatter\"}]},{\"data\":[{\"marker\":{\"color\":\"red\",\"size\":15},\"mode\":\"markers\",\"x\":[711.09458367017],\"y\":[354.41505947569],\"type\":\"scatter\"}]},{\"data\":[{\"marker\":{\"color\":\"red\",\"size\":15},\"mode\":\"markers\",\"x\":[714.359625822843],\"y\":[352.835200369558],\"type\":\"scatter\"}]},{\"data\":[{\"marker\":{\"color\":\"red\",\"size\":15},\"mode\":\"markers\",\"x\":[717.414020094699],\"y\":[351.097355352812],\"type\":\"scatter\"}]},{\"data\":[{\"marker\":{\"color\":\"red\",\"size\":15},\"mode\":\"markers\",\"x\":[718.203949647765],\"y\":[350.570735650768],\"type\":\"scatter\"}]},{\"data\":[{\"marker\":{\"color\":\"red\",\"size\":15},\"mode\":\"markers\",\"x\":[720.573738306964],\"y\":[348.990876544636],\"type\":\"scatter\"}]},{\"data\":[{\"marker\":{\"color\":\"red\",\"size\":15},\"mode\":\"markers\",\"x\":[721.36366786003],\"y\":[348.464256842592],\"type\":\"scatter\"}]},{\"data\":[{\"marker\":{\"color\":\"red\",\"size\":15},\"mode\":\"markers\",\"x\":[723.62813257882],\"y\":[346.77907379605],\"type\":\"scatter\"}]},{\"data\":[{\"marker\":{\"color\":\"red\",\"size\":15},\"mode\":\"markers\",\"x\":[724.312738191477],\"y\":[346.094468183393],\"type\":\"scatter\"}]},{\"data\":[{\"marker\":{\"color\":\"red\",\"size\":15},\"mode\":\"markers\",\"x\":[726.419216999653],\"y\":[344.303961196443],\"type\":\"scatter\"}]},{\"data\":[{\"marker\":{\"color\":\"red\",\"size\":15},\"mode\":\"markers\",\"x\":[729.473611271509],\"y\":[341.4075528352],\"type\":\"scatter\"}]},{\"data\":[{\"marker\":{\"color\":\"red\",\"size\":15},\"mode\":\"markers\",\"x\":[732.422681602956],\"y\":[338.511144473958],\"type\":\"scatter\"}]},{\"data\":[{\"marker\":{\"color\":\"red\",\"size\":15},\"mode\":\"markers\",\"x\":[733.212611156023],\"y\":[337.8265388613],\"type\":\"scatter\"}]},{\"data\":[{\"marker\":{\"color\":\"red\",\"size\":15},\"mode\":\"markers\",\"x\":[735.529737845017],\"y\":[335.878045963737],\"type\":\"scatter\"}]},{\"data\":[{\"marker\":{\"color\":\"red\",\"size\":15},\"mode\":\"markers\",\"x\":[738.742118027486],\"y\":[333.297609423721],\"type\":\"scatter\"}]},{\"data\":[{\"marker\":{\"color\":\"red\",\"size\":15},\"mode\":\"markers\",\"x\":[739.637371520961],\"y\":[332.770989721677],\"type\":\"scatter\"}]},{\"data\":[{\"marker\":{\"color\":\"red\",\"size\":15},\"mode\":\"markers\",\"x\":[742.270470031181],\"y\":[330.927820764522],\"type\":\"scatter\"}]},{\"data\":[{\"marker\":{\"color\":\"red\",\"size\":15},\"mode\":\"markers\",\"x\":[746.799399468761],\"y\":[328.084074373484],\"type\":\"scatter\"}]},{\"data\":[{\"marker\":{\"color\":\"red\",\"size\":15},\"mode\":\"markers\",\"x\":[747.694652962236],\"y\":[327.55745467144],\"type\":\"scatter\"}]},{\"data\":[{\"marker\":{\"color\":\"red\",\"size\":15},\"mode\":\"markers\",\"x\":[751.591638757362],\"y\":[325.76694768449],\"type\":\"scatter\"}]},{\"data\":[{\"marker\":{\"color\":\"red\",\"size\":15},\"mode\":\"markers\",\"x\":[755.225314701467],\"y\":[324.45039842938],\"type\":\"scatter\"}]},{\"data\":[{\"marker\":{\"color\":\"red\",\"size\":15},\"mode\":\"markers\",\"x\":[758.227047003118],\"y\":[323.449820995496],\"type\":\"scatter\"}]},{\"data\":[{\"marker\":{\"color\":\"red\",\"size\":15},\"mode\":\"markers\",\"x\":[758.911652615775],\"y\":[323.291835084883],\"type\":\"scatter\"}]},{\"data\":[{\"marker\":{\"color\":\"red\",\"size\":15},\"mode\":\"markers\",\"x\":[760.702159602725],\"y\":[322.607229472225],\"type\":\"scatter\"}]},{\"data\":[{\"marker\":{\"color\":\"red\",\"size\":15},\"mode\":\"markers\",\"x\":[762.861300381106],\"y\":[321.553990068137],\"type\":\"scatter\"}]},{\"data\":[{\"marker\":{\"color\":\"red\",\"size\":15},\"mode\":\"markers\",\"x\":[765.073103129692],\"y\":[320.184778842822],\"type\":\"scatter\"}]},{\"data\":[{\"marker\":{\"color\":\"red\",\"size\":15},\"mode\":\"markers\",\"x\":[767.179581937868],\"y\":[318.868229587712],\"type\":\"scatter\"}]},{\"data\":[{\"marker\":{\"color\":\"red\",\"size\":15},\"mode\":\"markers\",\"x\":[767.706201639912],\"y\":[318.552257766486],\"type\":\"scatter\"}]},{\"data\":[{\"marker\":{\"color\":\"red\",\"size\":15},\"mode\":\"markers\",\"x\":[769.338722716249],\"y\":[317.76232821342],\"type\":\"scatter\"}]},{\"data\":[{\"marker\":{\"color\":\"red\",\"size\":15},\"mode\":\"markers\",\"x\":[773.393694421989],\"y\":[316.761750779536],\"type\":\"scatter\"}]},{\"data\":[{\"marker\":{\"color\":\"red\",\"size\":15},\"mode\":\"markers\",\"x\":[776.290102783231],\"y\":[316.393116988105],\"type\":\"scatter\"}]},{\"data\":[{\"marker\":{\"color\":\"red\",\"size\":15},\"mode\":\"markers\",\"x\":[776.974708395889],\"y\":[316.3404550179],\"type\":\"scatter\"}]},{\"data\":[{\"marker\":{\"color\":\"red\",\"size\":15},\"mode\":\"markers\",\"x\":[778.765215382839],\"y\":[316.024483196674],\"type\":\"scatter\"}]},{\"data\":[{\"marker\":{\"color\":\"red\",\"size\":15},\"mode\":\"markers\",\"x\":[780.819032220811],\"y\":[315.708511375448],\"type\":\"scatter\"}]},{\"data\":[{\"marker\":{\"color\":\"red\",\"size\":15},\"mode\":\"markers\",\"x\":[781.240327982446],\"y\":[315.603187435039],\"type\":\"scatter\"}]},{\"data\":[{\"marker\":{\"color\":\"red\",\"size\":15},\"mode\":\"markers\",\"x\":[782.71486314817],\"y\":[315.287215613812],\"type\":\"scatter\"}]},{\"data\":[{\"marker\":{\"color\":\"red\",\"size\":15},\"mode\":\"markers\",\"x\":[783.241482850214],\"y\":[315.181891673403],\"type\":\"scatter\"}]},{\"data\":[{\"marker\":{\"color\":\"red\",\"size\":15},\"mode\":\"markers\",\"x\":[784.663356045733],\"y\":[314.813257881973],\"type\":\"scatter\"}]},{\"data\":[{\"marker\":{\"color\":\"red\",\"size\":15},\"mode\":\"markers\",\"x\":[786.453863032683],\"y\":[314.286638179928],\"type\":\"scatter\"}]},{\"data\":[{\"marker\":{\"color\":\"red\",\"size\":15},\"mode\":\"markers\",\"x\":[788.297031989837],\"y\":[313.70735650768],\"type\":\"scatter\"}]},{\"data\":[{\"marker\":{\"color\":\"red\",\"size\":15},\"mode\":\"markers\",\"x\":[789.718905185356],\"y\":[313.286060746045],\"type\":\"scatter\"}]},{\"data\":[{\"marker\":{\"color\":\"red\",\"size\":15},\"mode\":\"markers\",\"x\":[791.878045963737],\"y\":[312.443469222774],\"type\":\"scatter\"}]},{\"data\":[{\"marker\":{\"color\":\"red\",\"size\":15},\"mode\":\"markers\",\"x\":[792.50998960619],\"y\":[312.232821341956],\"type\":\"scatter\"}]},{\"data\":[{\"marker\":{\"color\":\"red\",\"size\":15},\"mode\":\"markers\",\"x\":[794.511144473958],\"y\":[311.864187550525],\"type\":\"scatter\"}]},{\"data\":[{\"marker\":{\"color\":\"red\",\"size\":15},\"mode\":\"markers\",\"x\":[797.091581013974],\"y\":[311.44289178889],\"type\":\"scatter\"}]},{\"data\":[{\"marker\":{\"color\":\"red\",\"size\":15},\"mode\":\"markers\",\"x\":[800.251299226239],\"y\":[310.863610116642],\"type\":\"scatter\"}]},{\"data\":[{\"marker\":{\"color\":\"red\",\"size\":15},\"mode\":\"markers\",\"x\":[800.883242868691],\"y\":[310.758286176233],\"type\":\"scatter\"}]},{\"data\":[{\"marker\":{\"color\":\"red\",\"size\":15},\"mode\":\"markers\",\"x\":[802.147130153597],\"y\":[310.547638295415],\"type\":\"scatter\"}]},{\"data\":[{\"marker\":{\"color\":\"red\",\"size\":15},\"mode\":\"markers\",\"x\":[805.886130038111],\"y\":[309.757708742349],\"type\":\"scatter\"}]},{\"data\":[{\"marker\":{\"color\":\"red\",\"size\":15},\"mode\":\"markers\",\"x\":[808.203256727105],\"y\":[309.231089040305],\"type\":\"scatter\"}]},{\"data\":[{\"marker\":{\"color\":\"red\",\"size\":15},\"mode\":\"markers\",\"x\":[808.782538399353],\"y\":[309.125765099896],\"type\":\"scatter\"}]},{\"data\":[{\"marker\":{\"color\":\"red\",\"size\":15},\"mode\":\"markers\",\"x\":[810.204411594872],\"y\":[308.757131308465],\"type\":\"scatter\"}]},{\"data\":[{\"marker\":{\"color\":\"red\",\"size\":15},\"mode\":\"markers\",\"x\":[811.626284790392],\"y\":[308.283173576625],\"type\":\"scatter\"}]},{\"data\":[{\"marker\":{\"color\":\"red\",\"size\":15},\"mode\":\"markers\",\"x\":[811.626284790392],\"y\":[308.283173576625],\"type\":\"scatter\"}]},{\"data\":[{\"marker\":{\"color\":\"red\",\"size\":15},\"mode\":\"markers\",\"x\":[812.521538283866],\"y\":[307.86187781499],\"type\":\"scatter\"}]},{\"data\":[{\"marker\":{\"color\":\"red\",\"size\":15},\"mode\":\"markers\",\"x\":[813.574777687955],\"y\":[306.913962351311],\"type\":\"scatter\"}]},{\"data\":[{\"marker\":{\"color\":\"red\",\"size\":15},\"mode\":\"markers\",\"x\":[813.785425568772],\"y\":[306.54532855988],\"type\":\"scatter\"}]},{\"data\":[{\"marker\":{\"color\":\"red\",\"size\":15},\"mode\":\"markers\",\"x\":[814.048735419794],\"y\":[306.229356738653],\"type\":\"scatter\"}]},{\"data\":[{\"marker\":{\"color\":\"red\",\"size\":15},\"mode\":\"markers\",\"x\":[814.312045270817],\"y\":[305.860722947223],\"type\":\"scatter\"}]},{\"data\":[{\"marker\":{\"color\":\"red\",\"size\":15},\"mode\":\"markers\",\"x\":[814.996650883474],\"y\":[305.281441274974],\"type\":\"scatter\"}]},{\"data\":[{\"marker\":{\"color\":\"red\",\"size\":15},\"mode\":\"markers\",\"x\":[814.996650883474],\"y\":[305.281441274974],\"type\":\"scatter\"}]},{\"data\":[{\"marker\":{\"color\":\"red\",\"size\":15},\"mode\":\"markers\",\"x\":[455.684028178774],\"y\":[469.639450282943],\"type\":\"scatter\"}]},{\"data\":[{\"marker\":{\"color\":\"red\",\"size\":15},\"mode\":\"markers\",\"x\":[456.210647880818],\"y\":[471.219309389075],\"type\":\"scatter\"}]},{\"data\":[{\"marker\":{\"color\":\"red\",\"size\":15},\"mode\":\"markers\",\"x\":[457.053239404088],\"y\":[472.061900912346],\"type\":\"scatter\"}]},{\"data\":[{\"marker\":{\"color\":\"red\",\"size\":15},\"mode\":\"markers\",\"x\":[457.737845016746],\"y\":[472.219886822959],\"type\":\"scatter\"}]},{\"data\":[{\"marker\":{\"color\":\"red\",\"size\":15},\"mode\":\"markers\",\"x\":[458.633098510221],\"y\":[472.377872733572],\"type\":\"scatter\"}]},{\"data\":[{\"marker\":{\"color\":\"red\",\"size\":15},\"mode\":\"markers\",\"x\":[459.686337914309],\"y\":[472.377872733572],\"type\":\"scatter\"}]},{\"data\":[{\"marker\":{\"color\":\"red\",\"size\":15},\"mode\":\"markers\",\"x\":[461.055549139624],\"y\":[472.061900912346],\"type\":\"scatter\"}]},{\"data\":[{\"marker\":{\"color\":\"red\",\"size\":15},\"mode\":\"markers\",\"x\":[462.003464603303],\"y\":[471.745929091119],\"type\":\"scatter\"}]},{\"data\":[{\"marker\":{\"color\":\"red\",\"size\":15},\"mode\":\"markers\",\"x\":[463.793971590253],\"y\":[471.061323478462],\"type\":\"scatter\"}]},{\"data\":[{\"marker\":{\"color\":\"red\",\"size\":15},\"mode\":\"markers\",\"x\":[464.373253262501],\"y\":[470.745351657235],\"type\":\"scatter\"}]},{\"data\":[{\"marker\":{\"color\":\"red\",\"size\":15},\"mode\":\"markers\",\"x\":[464.636563113523],\"y\":[470.534703776418],\"type\":\"scatter\"}]},{\"data\":[{\"marker\":{\"color\":\"red\",\"size\":15},\"mode\":\"markers\",\"x\":[465.847788428225],\"y\":[469.639450282943],\"type\":\"scatter\"}]},{\"data\":[{\"marker\":{\"color\":\"red\",\"size\":15},\"mode\":\"markers\",\"x\":[466.163760249451],\"y\":[469.376140431921],\"type\":\"scatter\"}]},{\"data\":[{\"marker\":{\"color\":\"red\",\"size\":15},\"mode\":\"markers\",\"x\":[466.795703891904],\"y\":[469.00750664049],\"type\":\"scatter\"}]},{\"data\":[{\"marker\":{\"color\":\"red\",\"size\":15},\"mode\":\"markers\",\"x\":[467.164337683335],\"y\":[468.849520729876],\"type\":\"scatter\"}]},{\"data\":[{\"marker\":{\"color\":\"red\",\"size\":15},\"mode\":\"markers\",\"x\":[468.53354890865],\"y\":[468.164915117219],\"type\":\"scatter\"}]},{\"data\":[{\"marker\":{\"color\":\"red\",\"size\":15},\"mode\":\"markers\",\"x\":[468.954844670285],\"y\":[468.006929206606],\"type\":\"scatter\"}]},{\"data\":[{\"marker\":{\"color\":\"red\",\"size\":15},\"mode\":\"markers\",\"x\":[470.113408014782],\"y\":[467.480309504562],\"type\":\"scatter\"}]},{\"data\":[{\"marker\":{\"color\":\"red\",\"size\":15},\"mode\":\"markers\",\"x\":[470.482041806213],\"y\":[467.269661623744],\"type\":\"scatter\"}]},{\"data\":[{\"marker\":{\"color\":\"red\",\"size\":15},\"mode\":\"markers\",\"x\":[472.009238942141],\"y\":[466.7430419217],\"type\":\"scatter\"}]},{\"data\":[{\"marker\":{\"color\":\"red\",\"size\":15},\"mode\":\"markers\",\"x\":[472.535858644185],\"y\":[466.585056011087],\"type\":\"scatter\"}]},{\"data\":[{\"marker\":{\"color\":\"red\",\"size\":15},\"mode\":\"markers\",\"x\":[474.115717750318],\"y\":[466.111098279247],\"type\":\"scatter\"}]},{\"data\":[{\"marker\":{\"color\":\"red\",\"size\":15},\"mode\":\"markers\",\"x\":[476.432844439312],\"y\":[465.268506755976],\"type\":\"scatter\"}]},{\"data\":[{\"marker\":{\"color\":\"red\",\"size\":15},\"mode\":\"markers\",\"x\":[479.013280979328],\"y\":[464.425915232706],\"type\":\"scatter\"}]},{\"data\":[{\"marker\":{\"color\":\"red\",\"size\":15},\"mode\":\"markers\",\"x\":[480.277168264234],\"y\":[464.004619471071],\"type\":\"scatter\"}]},{\"data\":[{\"marker\":{\"color\":\"red\",\"size\":15},\"mode\":\"markers\",\"x\":[480.909111906687],\"y\":[463.793971590253],\"type\":\"scatter\"}]},{\"data\":[{\"marker\":{\"color\":\"red\",\"size\":15},\"mode\":\"markers\",\"x\":[483.278900565885],\"y\":[463.004042037187],\"type\":\"scatter\"}]},{\"data\":[{\"marker\":{\"color\":\"red\",\"size\":15},\"mode\":\"markers\",\"x\":[483.858182238134],\"y\":[462.793394156369],\"type\":\"scatter\"}]},{\"data\":[{\"marker\":{\"color\":\"red\",\"size\":15},\"mode\":\"markers\",\"x\":[486.175308927128],\"y\":[462.056126573507],\"type\":\"scatter\"}]},{\"data\":[{\"marker\":{\"color\":\"red\",\"size\":15},\"mode\":\"markers\",\"x\":[486.807252569581],\"y\":[461.84547869269],\"type\":\"scatter\"}]},{\"data\":[{\"marker\":{\"color\":\"red\",\"size\":15},\"mode\":\"markers\",\"x\":[488.492435616122],\"y\":[461.318858990646],\"type\":\"scatter\"}]},{\"data\":[{\"marker\":{\"color\":\"red\",\"size\":15},\"mode\":\"markers\",\"x\":[489.019055318166],\"y\":[461.108211109828],\"type\":\"scatter\"}]},{\"data\":[{\"marker\":{\"color\":\"red\",\"size\":15},\"mode\":\"markers\",\"x\":[490.49359048389],\"y\":[460.634253377988],\"type\":\"scatter\"}]},{\"data\":[{\"marker\":{\"color\":\"red\",\"size\":15},\"mode\":\"markers\",\"x\":[490.967548215729],\"y\":[460.423605497171],\"type\":\"scatter\"}]},{\"data\":[{\"marker\":{\"color\":\"red\",\"size\":15},\"mode\":\"markers\",\"x\":[492.494745351657],\"y\":[459.791661854718],\"type\":\"scatter\"}]},{\"data\":[{\"marker\":{\"color\":\"red\",\"size\":15},\"mode\":\"markers\",\"x\":[494.653886130038],\"y\":[458.949070331447],\"type\":\"scatter\"}]},{\"data\":[{\"marker\":{\"color\":\"red\",\"size\":15},\"mode\":\"markers\",\"x\":[495.180505832082],\"y\":[458.580436540016],\"type\":\"scatter\"}]},{\"data\":[{\"marker\":{\"color\":\"red\",\"size\":15},\"mode\":\"markers\",\"x\":[496.181083265966],\"y\":[457.948492897563],\"type\":\"scatter\"}]},{\"data\":[{\"marker\":{\"color\":\"red\",\"size\":15},\"mode\":\"markers\",\"x\":[497.550294491281],\"y\":[456.947915463679],\"type\":\"scatter\"}]},{\"data\":[{\"marker\":{\"color\":\"red\",\"size\":15},\"mode\":\"markers\",\"x\":[499.867421180275],\"y\":[454.788774685299],\"type\":\"scatter\"}]},{\"data\":[{\"marker\":{\"color\":\"red\",\"size\":15},\"mode\":\"markers\",\"x\":[501.183970435385],\"y\":[453.208915579166],\"type\":\"scatter\"}]},{\"data\":[{\"marker\":{\"color\":\"red\",\"size\":15},\"mode\":\"markers\",\"x\":[502.658505601109],\"y\":[451.523732532625],\"type\":\"scatter\"}]},{\"data\":[{\"marker\":{\"color\":\"red\",\"size\":15},\"mode\":\"markers\",\"x\":[504.133040766832],\"y\":[449.733225545675],\"type\":\"scatter\"}]},{\"data\":[{\"marker\":{\"color\":\"red\",\"size\":15},\"mode\":\"markers\",\"x\":[505.976209723987],\"y\":[447.310774916272],\"type\":\"scatter\"}]},{\"data\":[{\"marker\":{\"color\":\"red\",\"size\":15},\"mode\":\"markers\",\"x\":[506.344843515417],\"y\":[446.889479154637],\"type\":\"scatter\"}]},{\"data\":[{\"marker\":{\"color\":\"red\",\"size\":15},\"mode\":\"markers\",\"x\":[507.134773068484],\"y\":[446.099549601571],\"type\":\"scatter\"}]},{\"data\":[{\"marker\":{\"color\":\"red\",\"size\":15},\"mode\":\"markers\",\"x\":[508.925280055434],\"y\":[444.414366555029],\"type\":\"scatter\"}]},{\"data\":[{\"marker\":{\"color\":\"red\",\"size\":15},\"mode\":\"markers\",\"x\":[509.346575817069],\"y\":[443.993070793394],\"type\":\"scatter\"}]},{\"data\":[{\"marker\":{\"color\":\"red\",\"size\":15},\"mode\":\"markers\",\"x\":[511.400392655041],\"y\":[442.623859568079],\"type\":\"scatter\"}]},{\"data\":[{\"marker\":{\"color\":\"red\",\"size\":15},\"mode\":\"markers\",\"x\":[514.086153135466],\"y\":[440.833352581129],\"type\":\"scatter\"}]},{\"data\":[{\"marker\":{\"color\":\"red\",\"size\":15},\"mode\":\"markers\",\"x\":[514.718096777919],\"y\":[440.412056819494],\"type\":\"scatter\"}]},{\"data\":[{\"marker\":{\"color\":\"red\",\"size\":15},\"mode\":\"markers\",\"x\":[516.034646033029],\"y\":[439.41147938561],\"type\":\"scatter\"}]},{\"data\":[{\"marker\":{\"color\":\"red\",\"size\":15},\"mode\":\"markers\",\"x\":[517.561843168957],\"y\":[437.568310428456],\"type\":\"scatter\"}]},{\"data\":[{\"marker\":{\"color\":\"red\",\"size\":15},\"mode\":\"markers\",\"x\":[518.983716364476],\"y\":[435.251183739462],\"type\":\"scatter\"}]},{\"data\":[{\"marker\":{\"color\":\"red\",\"size\":15},\"mode\":\"markers\",\"x\":[521.195519113062],\"y\":[431.828155676175],\"type\":\"scatter\"}]},{\"data\":[{\"marker\":{\"color\":\"red\",\"size\":15},\"mode\":\"markers\",\"x\":[523.56530777226],\"y\":[429.089733225546],\"type\":\"scatter\"}]},{\"data\":[{\"marker\":{\"color\":\"red\",\"size\":15},\"mode\":\"markers\",\"x\":[526.356392193094],\"y\":[425.982676983485],\"type\":\"scatter\"}]},{\"data\":[{\"marker\":{\"color\":\"red\",\"size\":15},\"mode\":\"markers\",\"x\":[527.040997805751],\"y\":[425.298071370828],\"type\":\"scatter\"}]},{\"data\":[{\"marker\":{\"color\":\"red\",\"size\":15},\"mode\":\"markers\",\"x\":[528.989490703314],\"y\":[423.191592562652],\"type\":\"scatter\"}]},{\"data\":[{\"marker\":{\"color\":\"red\",\"size\":15},\"mode\":\"markers\",\"x\":[529.568772375563],\"y\":[422.401663009585],\"type\":\"scatter\"}]},{\"data\":[{\"marker\":{\"color\":\"red\",\"size\":15},\"mode\":\"markers\",\"x\":[531.780575124148],\"y\":[420.453170112022],\"type\":\"scatter\"}]},{\"data\":[{\"marker\":{\"color\":\"red\",\"size\":15},\"mode\":\"markers\",\"x\":[534.676983485391],\"y\":[417.609423720984],\"type\":\"scatter\"}]},{\"data\":[{\"marker\":{\"color\":\"red\",\"size\":15},\"mode\":\"markers\",\"x\":[537.678715787042],\"y\":[414.449705508719],\"type\":\"scatter\"}]},{\"data\":[{\"marker\":{\"color\":\"red\",\"size\":15},\"mode\":\"markers\",\"x\":[540.627786118489],\"y\":[411.184663356046],\"type\":\"scatter\"}]},{\"data\":[{\"marker\":{\"color\":\"red\",\"size\":15},\"mode\":\"markers\",\"x\":[541.365053701351],\"y\":[410.39473380298],\"type\":\"scatter\"}]},{\"data\":[{\"marker\":{\"color\":\"red\",\"size\":15},\"mode\":\"markers\",\"x\":[543.682180390345],\"y\":[408.182931054394],\"type\":\"scatter\"}]},{\"data\":[{\"marker\":{\"color\":\"red\",\"size\":15},\"mode\":\"markers\",\"x\":[544.419447973207],\"y\":[407.393001501328],\"type\":\"scatter\"}]},{\"data\":[{\"marker\":{\"color\":\"red\",\"size\":15},\"mode\":\"markers\",\"x\":[546.683912691997],\"y\":[405.075874812334],\"type\":\"scatter\"}]},{\"data\":[{\"marker\":{\"color\":\"red\",\"size\":15},\"mode\":\"markers\",\"x\":[550.370250606306],\"y\":[401.284212957616],\"type\":\"scatter\"}]},{\"data\":[{\"marker\":{\"color\":\"red\",\"size\":15},\"mode\":\"markers\",\"x\":[553.371982907957],\"y\":[398.387804596374],\"type\":\"scatter\"}]},{\"data\":[{\"marker\":{\"color\":\"red\",\"size\":15},\"mode\":\"markers\",\"x\":[557.532278554106],\"y\":[394.64880471186],\"type\":\"scatter\"}]},{\"data\":[{\"marker\":{\"color\":\"red\",\"size\":15},\"mode\":\"markers\",\"x\":[561.271278438619],\"y\":[391.06779073796],\"type\":\"scatter\"}]},{\"data\":[{\"marker\":{\"color\":\"red\",\"size\":15},\"mode\":\"markers\",\"x\":[564.74696847211],\"y\":[387.276128883243],\"type\":\"scatter\"}]},{\"data\":[{\"marker\":{\"color\":\"red\",\"size\":15},\"mode\":\"markers\",\"x\":[568.222658505601],\"y\":[383.642452939138],\"type\":\"scatter\"}]},{\"data\":[{\"marker\":{\"color\":\"red\",\"size\":15},\"mode\":\"markers\",\"x\":[569.065250028872],\"y\":[382.747199445663],\"type\":\"scatter\"}]},{\"data\":[{\"marker\":{\"color\":\"red\",\"size\":15},\"mode\":\"markers\",\"x\":[572.962235823998],\"y\":[378.639565769719],\"type\":\"scatter\"}]},{\"data\":[{\"marker\":{\"color\":\"red\",\"size\":15},\"mode\":\"markers\",\"x\":[573.752165377064],\"y\":[377.902298186858],\"type\":\"scatter\"}]},{\"data\":[{\"marker\":{\"color\":\"red\",\"size\":15},\"mode\":\"markers\",\"x\":[576.385263887285],\"y\":[375.637833468068],\"type\":\"scatter\"}]},{\"data\":[{\"marker\":{\"color\":\"red\",\"size\":15},\"mode\":\"markers\",\"x\":[580.124263771798],\"y\":[372.583439196212],\"type\":\"scatter\"}]},{\"data\":[{\"marker\":{\"color\":\"red\",\"size\":15},\"mode\":\"markers\",\"x\":[584.021249566925],\"y\":[369.687030834969],\"type\":\"scatter\"}]},{\"data\":[{\"marker\":{\"color\":\"red\",\"size\":15},\"mode\":\"markers\",\"x\":[587.918235362051],\"y\":[366.895946414136],\"type\":\"scatter\"}]},{\"data\":[{\"marker\":{\"color\":\"red\",\"size\":15},\"mode\":\"markers\",\"x\":[588.86615082573],\"y\":[366.211340801478],\"type\":\"scatter\"}]},{\"data\":[{\"marker\":{\"color\":\"red\",\"size\":15},\"mode\":\"markers\",\"x\":[591.657235246564],\"y\":[364.315509874119],\"type\":\"scatter\"}]},{\"data\":[{\"marker\":{\"color\":\"red\",\"size\":15},\"mode\":\"markers\",\"x\":[594.869615429033],\"y\":[362.103707125534],\"type\":\"scatter\"}]},{\"data\":[{\"marker\":{\"color\":\"red\",\"size\":15},\"mode\":\"markers\",\"x\":[598.187319551911],\"y\":[359.891904376949],\"type\":\"scatter\"}]},{\"data\":[{\"marker\":{\"color\":\"red\",\"size\":15},\"mode\":\"markers\",\"x\":[601.452361704585],\"y\":[357.52211571775],\"type\":\"scatter\"}]},{\"data\":[{\"marker\":{\"color\":\"red\",\"size\":15},\"mode\":\"markers\",\"x\":[606.402586903799],\"y\":[354.046425684259],\"type\":\"scatter\"}]},{\"data\":[{\"marker\":{\"color\":\"red\",\"size\":15},\"mode\":\"markers\",\"x\":[607.192516456866],\"y\":[353.467144012011],\"type\":\"scatter\"}]},{\"data\":[{\"marker\":{\"color\":\"red\",\"size\":15},\"mode\":\"markers\",\"x\":[608.877699503407],\"y\":[352.097932786696],\"type\":\"scatter\"}]},{\"data\":[{\"marker\":{\"color\":\"red\",\"size\":15},\"mode\":\"markers\",\"x\":[613.09065711976],\"y\":[348.200946991569],\"type\":\"scatter\"}]},{\"data\":[{\"marker\":{\"color\":\"red\",\"size\":15},\"mode\":\"markers\",\"x\":[613.880586672826],\"y\":[347.305693498094],\"type\":\"scatter\"}]},{\"data\":[{\"marker\":{\"color\":\"red\",\"size\":15},\"mode\":\"markers\",\"x\":[616.355699272433],\"y\":[344.777918928283],\"type\":\"scatter\"}]},{\"data\":[{\"marker\":{\"color\":\"red\",\"size\":15},\"mode\":\"markers\",\"x\":[619.884051276129],\"y\":[341.4075528352],\"type\":\"scatter\"}]},{\"data\":[{\"marker\":{\"color\":\"red\",\"size\":15},\"mode\":\"markers\",\"x\":[624.044346922277],\"y\":[338.405820533549],\"type\":\"scatter\"}]},{\"data\":[{\"marker\":{\"color\":\"red\",\"size\":15},\"mode\":\"markers\",\"x\":[625.097586326366],\"y\":[337.668552950687],\"type\":\"scatter\"}]},{\"data\":[{\"marker\":{\"color\":\"red\",\"size\":15},\"mode\":\"markers\",\"x\":[628.309966508835],\"y\":[335.509412172306],\"type\":\"scatter\"}]},{\"data\":[{\"marker\":{\"color\":\"red\",\"size\":15},\"mode\":\"markers\",\"x\":[629.415867883127],\"y\":[334.824806559649],\"type\":\"scatter\"}]},{\"data\":[{\"marker\":{\"color\":\"red\",\"size\":15},\"mode\":\"markers\",\"x\":[632.680910035801],\"y\":[332.770989721677],\"type\":\"scatter\"}]},{\"data\":[{\"marker\":{\"color\":\"red\",\"size\":15},\"mode\":\"markers\",\"x\":[633.734149439889],\"y\":[332.033722138815],\"type\":\"scatter\"}]},{\"data\":[{\"marker\":{\"color\":\"red\",\"size\":15},\"mode\":\"markers\",\"x\":[636.683219771336],\"y\":[329.874581360434],\"type\":\"scatter\"}]},{\"data\":[{\"marker\":{\"color\":\"red\",\"size\":15},\"mode\":\"markers\",\"x\":[637.578473264811],\"y\":[329.189975747777],\"type\":\"scatter\"}]},{\"data\":[{\"marker\":{\"color\":\"red\",\"size\":15},\"mode\":\"markers\",\"x\":[640.158909804827],\"y\":[327.188820880009],\"type\":\"scatter\"}]},{\"data\":[{\"marker\":{\"color\":\"red\",\"size\":15},\"mode\":\"markers\",\"x\":[643.739923778727],\"y\":[324.608384339993],\"type\":\"scatter\"}]},{\"data\":[{\"marker\":{\"color\":\"red\",\"size\":15},\"mode\":\"markers\",\"x\":[644.687839242407],\"y\":[323.97644069754],\"type\":\"scatter\"}]},{\"data\":[{\"marker\":{\"color\":\"red\",\"size\":15},\"mode\":\"markers\",\"x\":[647.426261693036],\"y\":[322.080609770181],\"type\":\"scatter\"}]},{\"data\":[{\"marker\":{\"color\":\"red\",\"size\":15},\"mode\":\"markers\",\"x\":[651.059937637141],\"y\":[319.394849289756],\"type\":\"scatter\"}]},{\"data\":[{\"marker\":{\"color\":\"red\",\"size\":15},\"mode\":\"markers\",\"x\":[654.588289640836],\"y\":[316.709088809331],\"type\":\"scatter\"}]},{\"data\":[{\"marker\":{\"color\":\"red\",\"size\":15},\"mode\":\"markers\",\"x\":[659.696500750664],\"y\":[313.075412865227],\"type\":\"scatter\"}]},{\"data\":[{\"marker\":{\"color\":\"red\",\"size\":15},\"mode\":\"markers\",\"x\":[665.594641413558],\"y\":[308.651807368056],\"type\":\"scatter\"}]},{\"data\":[{\"marker\":{\"color\":\"red\",\"size\":15},\"mode\":\"markers\",\"x\":[669.649613119298],\"y\":[305.22877930477],\"type\":\"scatter\"}]},{\"data\":[{\"marker\":{\"color\":\"red\",\"size\":15},\"mode\":\"markers\",\"x\":[672.809331331562],\"y\":[302.332370943527],\"type\":\"scatter\"}]},{\"data\":[{\"marker\":{\"color\":\"red\",\"size\":15},\"mode\":\"markers\",\"x\":[673.546598914424],\"y\":[301.542441390461],\"type\":\"scatter\"}]},{\"data\":[{\"marker\":{\"color\":\"red\",\"size\":15},\"mode\":\"markers\",\"x\":[675.863725603418],\"y\":[299.330638641876],\"type\":\"scatter\"}]},{\"data\":[{\"marker\":{\"color\":\"red\",\"size\":15},\"mode\":\"markers\",\"x\":[676.653655156485],\"y\":[298.593371059014],\"type\":\"scatter\"}]},{\"data\":[{\"marker\":{\"color\":\"red\",\"size\":15},\"mode\":\"markers\",\"x\":[678.918119875274],\"y\":[296.328906340224],\"type\":\"scatter\"}]},{\"data\":[{\"marker\":{\"color\":\"red\",\"size\":15},\"mode\":\"markers\",\"x\":[679.602725487932],\"y\":[295.644300727567],\"type\":\"scatter\"}]},{\"data\":[{\"marker\":{\"color\":\"red\",\"size\":15},\"mode\":\"markers\",\"x\":[681.656542325904],\"y\":[293.748469800208],\"type\":\"scatter\"}]},{\"data\":[{\"marker\":{\"color\":\"red\",\"size\":15},\"mode\":\"markers\",\"x\":[684.552950687146],\"y\":[291.168033260192],\"type\":\"scatter\"}]},{\"data\":[{\"marker\":{\"color\":\"red\",\"size\":15},\"mode\":\"markers\",\"x\":[685.342880240212],\"y\":[290.536089617739],\"type\":\"scatter\"}]},{\"data\":[{\"marker\":{\"color\":\"red\",\"size\":15},\"mode\":\"markers\",\"x\":[687.765330869615],\"y\":[288.64025869038],\"type\":\"scatter\"}]},{\"data\":[{\"marker\":{\"color\":\"red\",\"size\":15},\"mode\":\"markers\",\"x\":[690.819725141471],\"y\":[285.954498209955],\"type\":\"scatter\"}]},{\"data\":[{\"marker\":{\"color\":\"red\",\"size\":15},\"mode\":\"markers\",\"x\":[691.609654694537],\"y\":[285.269892597298],\"type\":\"scatter\"}]},{\"data\":[{\"marker\":{\"color\":\"red\",\"size\":15},\"mode\":\"markers\",\"x\":[695.45397851946],\"y\":[281.794202563806],\"type\":\"scatter\"}]},{\"data\":[{\"marker\":{\"color\":\"red\",\"size\":15},\"mode\":\"markers\",\"x\":[698.56103476152],\"y\":[279.266427993995],\"type\":\"scatter\"}]},{\"data\":[{\"marker\":{\"color\":\"red\",\"size\":15},\"mode\":\"markers\",\"x\":[699.350964314586],\"y\":[278.687146321746],\"type\":\"scatter\"}]},{\"data\":[{\"marker\":{\"color\":\"red\",\"size\":15},\"mode\":\"markers\",\"x\":[700.878161450514],\"y\":[277.475921007045],\"type\":\"scatter\"}]},{\"data\":[{\"marker\":{\"color\":\"red\",\"size\":15},\"mode\":\"markers\",\"x\":[704.195865573392],\"y\":[274.737498556415],\"type\":\"scatter\"}]},{\"data\":[{\"marker\":{\"color\":\"red\",\"size\":15},\"mode\":\"markers\",\"x\":[704.933133156254],\"y\":[274.158216884167],\"type\":\"scatter\"}]},{\"data\":[{\"marker\":{\"color\":\"red\",\"size\":15},\"mode\":\"markers\",\"x\":[707.197597875043],\"y\":[272.683681718443],\"type\":\"scatter\"}]},{\"data\":[{\"marker\":{\"color\":\"red\",\"size\":15},\"mode\":\"markers\",\"x\":[710.251992146899],\"y\":[270.840512761289],\"type\":\"scatter\"}]},{\"data\":[{\"marker\":{\"color\":\"red\",\"size\":15},\"mode\":\"markers\",\"x\":[710.989259729761],\"y\":[270.419216999654],\"type\":\"scatter\"}]},{\"data\":[{\"marker\":{\"color\":\"red\",\"size\":15},\"mode\":\"markers\",\"x\":[713.201062478346],\"y\":[269.313315625361],\"type\":\"scatter\"}]},{\"data\":[{\"marker\":{\"color\":\"red\",\"size\":15},\"mode\":\"markers\",\"x\":[713.938330061208],\"y\":[268.94468183393],\"type\":\"scatter\"}]},{\"data\":[{\"marker\":{\"color\":\"red\",\"size\":15},\"mode\":\"markers\",\"x\":[716.044808869385],\"y\":[267.838780459637],\"type\":\"scatter\"}]},{\"data\":[{\"marker\":{\"color\":\"red\",\"size\":15},\"mode\":\"markers\",\"x\":[718.888555260423],\"y\":[266.416907264118],\"type\":\"scatter\"}]},{\"data\":[{\"marker\":{\"color\":\"red\",\"size\":15},\"mode\":\"markers\",\"x\":[721.521653770643],\"y\":[265.047696038804],\"type\":\"scatter\"}]},{\"data\":[{\"marker\":{\"color\":\"red\",\"size\":15},\"mode\":\"markers\",\"x\":[722.100935442892],\"y\":[264.679062247373],\"type\":\"scatter\"}]},{\"data\":[{\"marker\":{\"color\":\"red\",\"size\":15},\"mode\":\"markers\",\"x\":[723.838780459637],\"y\":[263.625822843284],\"type\":\"scatter\"}]},{\"data\":[{\"marker\":{\"color\":\"red\",\"size\":15},\"mode\":\"markers\",\"x\":[725.892597297609],\"y\":[262.098625707357],\"type\":\"scatter\"}]},{\"data\":[{\"marker\":{\"color\":\"red\",\"size\":15},\"mode\":\"markers\",\"x\":[728.209723986604],\"y\":[260.46610463102],\"type\":\"scatter\"}]},{\"data\":[{\"marker\":{\"color\":\"red\",\"size\":15},\"mode\":\"markers\",\"x\":[728.789005658852],\"y\":[260.097470839589],\"type\":\"scatter\"}]},{\"data\":[{\"marker\":{\"color\":\"red\",\"size\":15},\"mode\":\"markers\",\"x\":[730.526850675598],\"y\":[258.833583554683],\"type\":\"scatter\"}]},{\"data\":[{\"marker\":{\"color\":\"red\",\"size\":15},\"mode\":\"markers\",\"x\":[731.053470377642],\"y\":[258.359625822843],\"type\":\"scatter\"}]},{\"data\":[{\"marker\":{\"color\":\"red\",\"size\":15},\"mode\":\"markers\",\"x\":[733.159949185818],\"y\":[256.621780806098],\"type\":\"scatter\"}]},{\"data\":[{\"marker\":{\"color\":\"red\",\"size\":15},\"mode\":\"markers\",\"x\":[733.739230858067],\"y\":[256.200485044462],\"type\":\"scatter\"}]},{\"data\":[{\"marker\":{\"color\":\"red\",\"size\":15},\"mode\":\"markers\",\"x\":[734.897794202564],\"y\":[255.463217461601],\"type\":\"scatter\"}]},{\"data\":[{\"marker\":{\"color\":\"red\",\"size\":15},\"mode\":\"markers\",\"x\":[735.424413904608],\"y\":[255.09458367017],\"type\":\"scatter\"}]},{\"data\":[{\"marker\":{\"color\":\"red\",\"size\":15},\"mode\":\"markers\",\"x\":[738.531470146668],\"y\":[253.778034415059],\"type\":\"scatter\"}]},{\"data\":[{\"marker\":{\"color\":\"red\",\"size\":15},\"mode\":\"markers\",\"x\":[739.216075759326],\"y\":[253.567386534242],\"type\":\"scatter\"}]},{\"data\":[{\"marker\":{\"color\":\"red\",\"size\":15},\"mode\":\"markers\",\"x\":[741.164568656889],\"y\":[253.040766832198],\"type\":\"scatter\"}]},{\"data\":[{\"marker\":{\"color\":\"red\",\"size\":15},\"mode\":\"markers\",\"x\":[744.008315047927],\"y\":[252.882780921584],\"type\":\"scatter\"}]},{\"data\":[{\"marker\":{\"color\":\"red\",\"size\":15},\"mode\":\"markers\",\"x\":[745.324864303037],\"y\":[252.988104861993],\"type\":\"scatter\"}]}]);\n",
       "                        }).then(function(){\n",
       "                            \n",
       "var gd = document.getElementById('8c2898c1-a7d8-4bd9-a2f1-630f7949a127');\n",
       "var x = new MutationObserver(function (mutations, observer) {{\n",
       "        var display = window.getComputedStyle(gd).display;\n",
       "        if (!display || display === 'none') {{\n",
       "            console.log([gd, 'removed!']);\n",
       "            Plotly.purge(gd);\n",
       "            observer.disconnect();\n",
       "        }}\n",
       "}});\n",
       "\n",
       "// Listen for the removal of the full notebook cells\n",
       "var notebookContainer = gd.closest('#notebook-container');\n",
       "if (notebookContainer) {{\n",
       "    x.observe(notebookContainer, {childList: true});\n",
       "}}\n",
       "\n",
       "// Listen for the clearing of the current output cell\n",
       "var outputEl = gd.closest('.output');\n",
       "if (outputEl) {{\n",
       "    x.observe(outputEl, {childList: true});\n",
       "}}\n",
       "\n",
       "                        })                };                });            </script>        </div>"
      ]
     },
     "metadata": {},
     "output_type": "display_data"
    }
   ],
   "source": [
    "import plotly.graph_objects as go\n",
    "\n",
    "# Generate curve data\n",
    "x = df['X']\n",
    "y = df[' Y']\n",
    "xm = np.min(x) - 1.5\n",
    "xM = np.max(x) + 1.5\n",
    "ym = np.min(y) - 1.5\n",
    "yM = np.max(y) + 1.5\n",
    "\n",
    "# Create figure\n",
    "fig = go.Figure(\n",
    "    data=[go.Scatter(x=x, y=y,\n",
    "                     mode=\"markers\",\n",
    "                     line=dict(width=2, color=\"blue\")),\n",
    "          go.Scatter(x=x, y=y,\n",
    "                     mode=\"markers\",\n",
    "                     line=dict(width=2, color=\"blue\"))],\n",
    "    layout=go.Layout(\n",
    "        xaxis=dict(range=[xm, xM], autorange=False, zeroline=False),\n",
    "        yaxis=dict(range=[ym, yM], autorange=False, zeroline=False),\n",
    "        title_text=\"Kinematic Generation of a Planar Curve\", hovermode=\"closest\",\n",
    "        updatemenus=[dict(type=\"buttons\",\n",
    "                          buttons=[dict(label=\"Play\",\n",
    "                                        method=\"animate\",\n",
    "                                        args=[None, {\"frame\": {\"duration\": 50, \n",
    "                                                                        \"redraw\": False},\n",
    "                                                              \"fromcurrent\": True, \n",
    "                                                              \"transition\": {\"duration\": 0}}])])]),\n",
    "    frames=[go.Frame(\n",
    "        data=[go.Scatter(\n",
    "            x=[df['X'].loc[k]],\n",
    "            y=[df[' Y'].loc[k]],\n",
    "            mode=\"markers\",\n",
    "            marker=dict(color=\"red\", size=15))])\n",
    "\n",
    "        for k in range(526)]\n",
    ")\n",
    "\n",
    "fig.show()"
   ]
  },
  {
   "cell_type": "code",
   "execution_count": null,
   "id": "16f61a28",
   "metadata": {},
   "outputs": [],
   "source": []
  }
 ],
 "metadata": {
  "kernelspec": {
   "display_name": "Python 3",
   "language": "python",
   "name": "python3"
  },
  "language_info": {
   "codemirror_mode": {
    "name": "ipython",
    "version": 3
   },
   "file_extension": ".py",
   "mimetype": "text/x-python",
   "name": "python",
   "nbconvert_exporter": "python",
   "pygments_lexer": "ipython3",
   "version": "3.8.8"
  }
 },
 "nbformat": 4,
 "nbformat_minor": 5
}
