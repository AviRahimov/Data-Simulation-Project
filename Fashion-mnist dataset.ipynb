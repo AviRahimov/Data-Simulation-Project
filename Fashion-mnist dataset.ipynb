{
 "cells": [
  {
   "cell_type": "code",
   "execution_count": 1,
   "id": "ec5dc650",
   "metadata": {},
   "outputs": [],
   "source": [
    "# \n",
    "# import idx2numpy\n",
    "# import matplotlib.pyplot as plt\n",
    "# \n",
    "\n",
    "# imagefile = 'train-images-idx3-ubyte'\n",
    "# imagearray = idx2numpy.convert_from_file(imagefile)\n",
    "\n",
    "# plt.imshow(imagearray[30], cmap=plt.cm.binary)"
   ]
  },
  {
   "cell_type": "code",
   "execution_count": 66,
   "id": "3abdcead",
   "metadata": {},
   "outputs": [
    {
     "data": {
      "text/html": [
       "<div>\n",
       "<style scoped>\n",
       "    .dataframe tbody tr th:only-of-type {\n",
       "        vertical-align: middle;\n",
       "    }\n",
       "\n",
       "    .dataframe tbody tr th {\n",
       "        vertical-align: top;\n",
       "    }\n",
       "\n",
       "    .dataframe thead th {\n",
       "        text-align: right;\n",
       "    }\n",
       "</style>\n",
       "<table border=\"1\" class=\"dataframe\">\n",
       "  <thead>\n",
       "    <tr style=\"text-align: right;\">\n",
       "      <th></th>\n",
       "      <th>label</th>\n",
       "      <th>pixel1</th>\n",
       "      <th>pixel2</th>\n",
       "      <th>pixel3</th>\n",
       "      <th>pixel4</th>\n",
       "      <th>pixel5</th>\n",
       "      <th>pixel6</th>\n",
       "      <th>pixel7</th>\n",
       "      <th>pixel8</th>\n",
       "      <th>pixel9</th>\n",
       "      <th>...</th>\n",
       "      <th>pixel775</th>\n",
       "      <th>pixel776</th>\n",
       "      <th>pixel777</th>\n",
       "      <th>pixel778</th>\n",
       "      <th>pixel779</th>\n",
       "      <th>pixel780</th>\n",
       "      <th>pixel781</th>\n",
       "      <th>pixel782</th>\n",
       "      <th>pixel783</th>\n",
       "      <th>pixel784</th>\n",
       "    </tr>\n",
       "  </thead>\n",
       "  <tbody>\n",
       "    <tr>\n",
       "      <th>0</th>\n",
       "      <td>2</td>\n",
       "      <td>0</td>\n",
       "      <td>0</td>\n",
       "      <td>0</td>\n",
       "      <td>0</td>\n",
       "      <td>0</td>\n",
       "      <td>0</td>\n",
       "      <td>0</td>\n",
       "      <td>0</td>\n",
       "      <td>0</td>\n",
       "      <td>...</td>\n",
       "      <td>0</td>\n",
       "      <td>0</td>\n",
       "      <td>0</td>\n",
       "      <td>0</td>\n",
       "      <td>0</td>\n",
       "      <td>0</td>\n",
       "      <td>0</td>\n",
       "      <td>0</td>\n",
       "      <td>0</td>\n",
       "      <td>0</td>\n",
       "    </tr>\n",
       "    <tr>\n",
       "      <th>1</th>\n",
       "      <td>9</td>\n",
       "      <td>0</td>\n",
       "      <td>0</td>\n",
       "      <td>0</td>\n",
       "      <td>0</td>\n",
       "      <td>0</td>\n",
       "      <td>0</td>\n",
       "      <td>0</td>\n",
       "      <td>0</td>\n",
       "      <td>0</td>\n",
       "      <td>...</td>\n",
       "      <td>0</td>\n",
       "      <td>0</td>\n",
       "      <td>0</td>\n",
       "      <td>0</td>\n",
       "      <td>0</td>\n",
       "      <td>0</td>\n",
       "      <td>0</td>\n",
       "      <td>0</td>\n",
       "      <td>0</td>\n",
       "      <td>0</td>\n",
       "    </tr>\n",
       "    <tr>\n",
       "      <th>2</th>\n",
       "      <td>6</td>\n",
       "      <td>0</td>\n",
       "      <td>0</td>\n",
       "      <td>0</td>\n",
       "      <td>0</td>\n",
       "      <td>0</td>\n",
       "      <td>0</td>\n",
       "      <td>0</td>\n",
       "      <td>5</td>\n",
       "      <td>0</td>\n",
       "      <td>...</td>\n",
       "      <td>0</td>\n",
       "      <td>0</td>\n",
       "      <td>0</td>\n",
       "      <td>30</td>\n",
       "      <td>43</td>\n",
       "      <td>0</td>\n",
       "      <td>0</td>\n",
       "      <td>0</td>\n",
       "      <td>0</td>\n",
       "      <td>0</td>\n",
       "    </tr>\n",
       "    <tr>\n",
       "      <th>3</th>\n",
       "      <td>0</td>\n",
       "      <td>0</td>\n",
       "      <td>0</td>\n",
       "      <td>0</td>\n",
       "      <td>1</td>\n",
       "      <td>2</td>\n",
       "      <td>0</td>\n",
       "      <td>0</td>\n",
       "      <td>0</td>\n",
       "      <td>0</td>\n",
       "      <td>...</td>\n",
       "      <td>3</td>\n",
       "      <td>0</td>\n",
       "      <td>0</td>\n",
       "      <td>0</td>\n",
       "      <td>0</td>\n",
       "      <td>1</td>\n",
       "      <td>0</td>\n",
       "      <td>0</td>\n",
       "      <td>0</td>\n",
       "      <td>0</td>\n",
       "    </tr>\n",
       "    <tr>\n",
       "      <th>4</th>\n",
       "      <td>3</td>\n",
       "      <td>0</td>\n",
       "      <td>0</td>\n",
       "      <td>0</td>\n",
       "      <td>0</td>\n",
       "      <td>0</td>\n",
       "      <td>0</td>\n",
       "      <td>0</td>\n",
       "      <td>0</td>\n",
       "      <td>0</td>\n",
       "      <td>...</td>\n",
       "      <td>0</td>\n",
       "      <td>0</td>\n",
       "      <td>0</td>\n",
       "      <td>0</td>\n",
       "      <td>0</td>\n",
       "      <td>0</td>\n",
       "      <td>0</td>\n",
       "      <td>0</td>\n",
       "      <td>0</td>\n",
       "      <td>0</td>\n",
       "    </tr>\n",
       "  </tbody>\n",
       "</table>\n",
       "<p>5 rows × 785 columns</p>\n",
       "</div>"
      ],
      "text/plain": [
       "   label  pixel1  pixel2  pixel3  pixel4  pixel5  pixel6  pixel7  pixel8  \\\n",
       "0      2       0       0       0       0       0       0       0       0   \n",
       "1      9       0       0       0       0       0       0       0       0   \n",
       "2      6       0       0       0       0       0       0       0       5   \n",
       "3      0       0       0       0       1       2       0       0       0   \n",
       "4      3       0       0       0       0       0       0       0       0   \n",
       "\n",
       "   pixel9  ...  pixel775  pixel776  pixel777  pixel778  pixel779  pixel780  \\\n",
       "0       0  ...         0         0         0         0         0         0   \n",
       "1       0  ...         0         0         0         0         0         0   \n",
       "2       0  ...         0         0         0        30        43         0   \n",
       "3       0  ...         3         0         0         0         0         1   \n",
       "4       0  ...         0         0         0         0         0         0   \n",
       "\n",
       "   pixel781  pixel782  pixel783  pixel784  \n",
       "0         0         0         0         0  \n",
       "1         0         0         0         0  \n",
       "2         0         0         0         0  \n",
       "3         0         0         0         0  \n",
       "4         0         0         0         0  \n",
       "\n",
       "[5 rows x 785 columns]"
      ]
     },
     "execution_count": 66,
     "metadata": {},
     "output_type": "execute_result"
    }
   ],
   "source": [
    "df = pd.read_csv('fashion-mnist_train.csv')\n",
    "df.head()"
   ]
  },
  {
   "cell_type": "code",
   "execution_count": 3,
   "id": "ab3f589e",
   "metadata": {},
   "outputs": [],
   "source": [
    "# y_train = df['label']\n",
    "# x_train = df.drop('label', axis = 1)"
   ]
  },
  {
   "cell_type": "code",
   "execution_count": 4,
   "id": "ec096fdc",
   "metadata": {},
   "outputs": [],
   "source": [
    "import numpy as np\n",
    "import pandas as pd\n",
    "from sklearn.metrics import accuracy_score\n",
    "from sklearn import tree, metrics\n",
    "from sklearn.ensemble import RandomForestClassifier\n",
    "from sklearn.naive_bayes import GaussianNB\n",
    "from sklearn.ensemble import VotingClassifier\n",
    "from sklearn.ensemble import BaggingClassifier\n",
    "from sklearn.ensemble import AdaBoostClassifier\n",
    "from sklearn.ensemble import GradientBoostingRegressor\n",
    "import xgboost\n",
    "from sklearn.preprocessing import MinMaxScaler, StandardScaler\n",
    "from sklearn.model_selection import train_test_split, cross_val_score,cross_val_predict, GridSearchCV, RandomizedSearchCV\n",
    "import matplotlib.pyplot as plt\n",
    "# from sklearn.svm import SVC\n",
    "%matplotlib inline\n",
    "import warnings\n",
    "warnings.filterwarnings('ignore')\n",
    "from termcolor import colored\n",
    "import seaborn as sns"
   ]
  },
  {
   "cell_type": "code",
   "execution_count": 5,
   "id": "a4e1fe31",
   "metadata": {},
   "outputs": [],
   "source": [
    "from tensorflow.keras.datasets import fashion_mnist\n",
    "(X_train, Y_train),(X_test, Y_test) = fashion_mnist.load_data()"
   ]
  },
  {
   "cell_type": "code",
   "execution_count": 6,
   "id": "ffa1d4dc",
   "metadata": {},
   "outputs": [],
   "source": [
    "Names = ['T-shirt/top', 'Trouser', 'Pullover', 'Dress', 'Coat',\n",
    "               'Sandal', 'Shirt', 'Sneaker', 'Bag', 'Ankle boot']"
   ]
  },
  {
   "cell_type": "code",
   "execution_count": 7,
   "id": "1c1d203f",
   "metadata": {},
   "outputs": [
    {
     "data": {
      "image/png": "[encoded data removed]",
      "text/plain": [
       "<Figure size 1080x1080 with 25 Axes>"
      ]
     },
     "metadata": {},
     "output_type": "display_data"
    }
   ],
   "source": [
    "plt.figure(figsize=(15,15))\n",
    "for i in range(25):\n",
    "    plt.subplot(5,5,i+1)\n",
    "    plt.xticks([])\n",
    "    plt.yticks([])\n",
    "    plt.grid(False)\n",
    "    plt.imshow(X_train[i], cmap=plt.cm.binary)\n",
    "    plt.xlabel(Names[Y_train[i]])\n",
    "plt.show()"
   ]
  },
  {
   "cell_type": "code",
   "execution_count": 40,
   "id": "95cf0095",
   "metadata": {},
   "outputs": [],
   "source": [
    "naive_model = GaussianNB()\n",
    "Rf_model = RandomForestClassifier(criterion = 'entropy', max_depth = 9, max_features = 'sqrt', min_samples_leaf = 1, min_samples_split = 3, n_estimators = 350)\n",
    "Dt_model = tree.DecisionTreeClassifier(criterion = 'gini', max_depth = 14, min_samples_leaf = 3, min_samples_split = 4)\n",
    "voting_model = VotingClassifier(estimators = [('nb', naive_model), ('rf', Rf_model), ('dt', Dt_model),],\n",
    "                                voting = 'soft')"
   ]
  },
  {
   "cell_type": "code",
   "execution_count": 41,
   "id": "26065602",
   "metadata": {},
   "outputs": [],
   "source": [
    "scaler = MinMaxScaler()\n",
    "scaler2 = StandardScaler()"
   ]
  },
  {
   "cell_type": "code",
   "execution_count": 42,
   "id": "18e0ab74",
   "metadata": {},
   "outputs": [],
   "source": [
    "X_train_reshaped = X_train.reshape(60000, 784)"
   ]
  },
  {
   "cell_type": "code",
   "execution_count": 43,
   "id": "20fc22aa",
   "metadata": {},
   "outputs": [],
   "source": [
    "X_train_scaled = scaler.fit_transform(X_train_reshaped)"
   ]
  },
  {
   "cell_type": "code",
   "execution_count": 44,
   "id": "a01474dc",
   "metadata": {},
   "outputs": [],
   "source": [
    "X_train_scaled2 = scaler2.fit_transform(X_train_reshaped)"
   ]
  },
  {
   "cell_type": "markdown",
   "id": "7af40066",
   "metadata": {},
   "source": [
    "there is a function called as_dataframe that convert tensorflow file to dataframe, and there are some features with the load function in tensorflow."
   ]
  },
  {
   "cell_type": "markdown",
   "id": "d10e7627",
   "metadata": {},
   "source": [
    "I need to learn cross_val_score to "
   ]
  },
  {
   "cell_type": "code",
   "execution_count": 45,
   "id": "dde88690",
   "metadata": {},
   "outputs": [],
   "source": [
    "# X_test_train = cross_val_predict(voting_model, X_train_scaled, Y_train)\n",
    "# X_test_train2 = cross_val_predict(voting_model, X_train_scaled2, Y_train)"
   ]
  },
  {
   "cell_type": "code",
   "execution_count": 46,
   "id": "83402361",
   "metadata": {},
   "outputs": [],
   "source": [
    "classifiers = {\"naive_bayes\": naive_model, \n",
    "               \"Random_forest\": Rf_model, \n",
    "               \"Decision_tree\": Dt_model,\n",
    "               \"voting\": voting_model}"
   ]
  },
  {
   "cell_type": "code",
   "execution_count": 47,
   "id": "251b6a08",
   "metadata": {},
   "outputs": [],
   "source": [
    "# f, axes = plt.subplots(1, 5, figsize=(20, 5), sharey='row')\n",
    "# for i, (key, classifier) in enumerate(classifiers.items()):\n",
    "#     y_pred = classifier.fit(X_train_scaled, Y_train).predict(X_test_train.reshape(-1, 1))\n",
    "#     cf_matrix = metrics.confusion_matrix(X_test_train, y_pred)\n",
    "#     disp = metrics.ConfusionMatrixDisplay(cf_matrix)\n",
    "#     disp.plot(ax=axes[i], xticks_rotation=45)\n",
    "#     disp.ax_.set_title(key)\n",
    "#     disp.im_.colorbar.remove()\n",
    "#     disp.ax_.set_xlabel('predicted label')\n",
    "#     disp.ax_.set_ylabel('True label')\n",
    "\n",
    "# f.colorbar(disp.im_, ax=axes)\n",
    "# plt.show()"
   ]
  },
  {
   "cell_type": "markdown",
   "id": "e791284c",
   "metadata": {},
   "source": [
    "# Tunning models"
   ]
  },
  {
   "cell_type": "code",
   "execution_count": 48,
   "id": "36f7e698",
   "metadata": {},
   "outputs": [],
   "source": [
    "# param_grid_random = { \n",
    "#     'n_estimators': range(50,551,50),\n",
    "#     'max_features': ['auto', 'sqrt', 'log2'],\n",
    "#     'max_depth' : range(1,10),\n",
    "#     'criterion' :['gini', 'entropy'],\n",
    "#     \"min_samples_split\": range(1,5), \n",
    "#     \"min_samples_leaf\": range(1,5)\n",
    "# }\n",
    "\n",
    "# rsc1 = RandomizedSearchCV(Rf_model, param_grid_random, n_iter = 20, cv = 10)\n",
    "# rsc1.fit(X_train_scaled, Y_train)"
   ]
  },
  {
   "cell_type": "code",
   "execution_count": null,
   "id": "0987b790",
   "metadata": {},
   "outputs": [],
   "source": []
  },
  {
   "cell_type": "code",
   "execution_count": null,
   "id": "d8585888",
   "metadata": {},
   "outputs": [],
   "source": []
  },
  {
   "cell_type": "code",
   "execution_count": 49,
   "id": "774a75c9",
   "metadata": {},
   "outputs": [],
   "source": [
    "# param_grid_random = { \n",
    "#     'n_estimators': range(50,551,50),\n",
    "#     'max_features': ['auto', 'sqrt', 'log2'],\n",
    "#     'max_depth' : range(1,10),\n",
    "#     'criterion' :['gini', 'entropy'],\n",
    "#     \"min_samples_split\": range(1,5), \n",
    "#     \"min_samples_leaf\": range(1,5)\n",
    "# }\n",
    "\n",
    "# rsc2 = RandomizedSearchCV(Rf_model, param_grid_random, n_iter = 20, cv = 10)\n",
    "# rsc2.fit(X_train_scaled2, Y_train)"
   ]
  },
  {
   "cell_type": "code",
   "execution_count": null,
   "id": "6cb94e0c",
   "metadata": {},
   "outputs": [],
   "source": []
  },
  {
   "cell_type": "code",
   "execution_count": null,
   "id": "f65ea673",
   "metadata": {},
   "outputs": [],
   "source": []
  },
  {
   "cell_type": "code",
   "execution_count": 50,
   "id": "b68fedde",
   "metadata": {},
   "outputs": [],
   "source": [
    "# param_grid_RF = { \n",
    "#     'n_estimators': range(150,351,50),\n",
    "#     \"min_samples_split\": range(2,4),\n",
    "#     \"min_samples_leaf\": range(1,3),\n",
    "#     'max_features': ['sqrt'],\n",
    "#     'max_depth' : range(7,10),\n",
    "#     'criterion' :['entropy']\n",
    "# }\n",
    "\n",
    "# clf1 = GridSearchCV(Rf_model, param_grid = param_grid_RF, cv = 10)\n",
    "# clf1.fit(X_train_scaled, Y_train)"
   ]
  },
  {
   "cell_type": "code",
   "execution_count": 51,
   "id": "3acad222",
   "metadata": {},
   "outputs": [],
   "source": [
    "# print(\"The best parameter for randomForest model is:\",clf1.best_params_,\" and its score was\",clf1.best_score_)"
   ]
  },
  {
   "cell_type": "code",
   "execution_count": 52,
   "id": "8b343ea3",
   "metadata": {},
   "outputs": [],
   "source": [
    "# param_grid_RF = { \n",
    "#     'n_estimators': range(150,351,50),\n",
    "#     \"min_samples_split\": range(2,4),\n",
    "#     \"min_samples_leaf\": range(1,3),\n",
    "#     'max_features': ['sqrt'],\n",
    "#     'max_depth' : range(7,10),\n",
    "#     'criterion' :['entropy']\n",
    "# }\n",
    "\n",
    "# clf2 = GridSearchCV(Rf_model, param_grid = param_grid_RF, cv = 10)\n",
    "# clf2.fit(X_train_scaled2, Y_train)"
   ]
  },
  {
   "cell_type": "code",
   "execution_count": 53,
   "id": "e86197b4",
   "metadata": {},
   "outputs": [],
   "source": [
    "# print(\"The best parameter for randomForest model is:\",clf2.best_params_,\" and its score was\",clf2.best_score_)"
   ]
  },
  {
   "cell_type": "code",
   "execution_count": 54,
   "id": "fe957d15",
   "metadata": {},
   "outputs": [],
   "source": [
    "X_test_scaled = scaler.transform(X_test.reshape(10000, 784))"
   ]
  },
  {
   "cell_type": "code",
   "execution_count": 55,
   "id": "c61a1d56",
   "metadata": {},
   "outputs": [],
   "source": [
    "models = [naive_model, Rf_model, Dt_model, voting_model]"
   ]
  },
  {
   "cell_type": "code",
   "execution_count": 56,
   "id": "e2bde07b",
   "metadata": {},
   "outputs": [
    {
     "name": "stdout",
     "output_type": "stream",
     "text": [
      "The accuracy score in the train set for GaussianNB() model is 0.58515\n",
      "The accuracy score in the test set for GaussianNB() model is 0.5838\n",
      "The accuracy score in the train set for RandomForestClassifier(criterion='entropy', max_depth=9, max_features='sqrt',\n",
      "                       min_samples_split=3, n_estimators=350) model is 0.86625\n",
      "The accuracy score in the test set for RandomForestClassifier(criterion='entropy', max_depth=9, max_features='sqrt',\n",
      "                       min_samples_split=3, n_estimators=350) model is 0.839\n",
      "The accuracy score in the train set for DecisionTreeClassifier(max_depth=14, min_samples_leaf=3, min_samples_split=4) model is 0.9139333333333334\n",
      "The accuracy score in the test set for DecisionTreeClassifier(max_depth=14, min_samples_leaf=3, min_samples_split=4) model is 0.8098\n",
      "The accuracy score in the train set for VotingClassifier(estimators=[('nb', GaussianNB()),\n",
      "                             ('rf',\n",
      "                              RandomForestClassifier(criterion='entropy',\n",
      "                                                     max_depth=9,\n",
      "                                                     max_features='sqrt',\n",
      "                                                     min_samples_split=3,\n",
      "                                                     n_estimators=350)),\n",
      "                             ('dt',\n",
      "                              DecisionTreeClassifier(max_depth=14,\n",
      "                                                     min_samples_leaf=3,\n",
      "                                                     min_samples_split=4))],\n",
      "                 voting='soft') model is 0.84875\n",
      "The accuracy score in the test set for VotingClassifier(estimators=[('nb', GaussianNB()),\n",
      "                             ('rf',\n",
      "                              RandomForestClassifier(criterion='entropy',\n",
      "                                                     max_depth=9,\n",
      "                                                     max_features='sqrt',\n",
      "                                                     min_samples_split=3,\n",
      "                                                     n_estimators=350)),\n",
      "                             ('dt',\n",
      "                              DecisionTreeClassifier(max_depth=14,\n",
      "                                                     min_samples_leaf=3,\n",
      "                                                     min_samples_split=4))],\n",
      "                 voting='soft') model is 0.8047\n"
     ]
    }
   ],
   "source": [
    "for model in models:\n",
    "    model.fit(X_train_scaled, Y_train)\n",
    "    y_pred_train = model.predict(X_train_scaled)\n",
    "    y_pred_test = model.predict(X_test_scaled)\n",
    "    print(f'The accuracy score in the train set for {models[model]} model is', accuracy_score(Y_train, y_pred_train))\n",
    "    print(f'The accuracy score in the test set for {models[model]} model is', accuracy_score(Y_test, y_pred_test))"
   ]
  },
  {
   "cell_type": "code",
   "execution_count": 60,
   "id": "8c46fdba",
   "metadata": {},
   "outputs": [
    {
     "data": {
      "text/plain": [
       "AdaBoostClassifier(base_estimator=DecisionTreeClassifier(max_depth=1),\n",
       "                   learning_rate=0.021, n_estimators=200)"
      ]
     },
     "execution_count": 60,
     "metadata": {},
     "output_type": "execute_result"
    }
   ],
   "source": [
    "ada_clf = AdaBoostClassifier(\n",
    "tree.DecisionTreeClassifier(max_depth=1), n_estimators=200,\n",
    "algorithm=\"SAMME.R\", learning_rate=0.021)\n",
    "ada_clf.fit(X_train_scaled, Y_train)"
   ]
  },
  {
   "cell_type": "code",
   "execution_count": 62,
   "id": "39db467a",
   "metadata": {},
   "outputs": [],
   "source": [
    "y_pred = ada_clf.predict(X_test_scaled)"
   ]
  },
  {
   "cell_type": "code",
   "execution_count": 65,
   "id": "8ea87ea5",
   "metadata": {},
   "outputs": [
    {
     "data": {
      "text/plain": [
       "0.5645"
      ]
     },
     "execution_count": 65,
     "metadata": {},
     "output_type": "execute_result"
    }
   ],
   "source": [
    "accuracy_score(Y_test, y_pred)"
   ]
  },
  {
   "cell_type": "code",
   "execution_count": 70,
   "id": "52a52cf5",
   "metadata": {},
   "outputs": [
    {
     "data": {
      "text/plain": [
       "array([0.        , 0.        , 0.        , 0.        , 0.        ,\n",
       "       0.        , 0.        , 0.        , 0.        , 0.        ,\n",
       "       0.        , 0.        , 0.        , 0.        , 0.        ,\n",
       "       0.        , 0.        , 0.        , 0.        , 0.        ,\n",
       "       0.        , 0.        , 0.        , 0.        , 0.        ,\n",
       "       0.        , 0.        , 0.        , 0.        , 0.        ,\n",
       "       0.        , 0.        , 0.        , 0.        , 0.        ,\n",
       "       0.        , 0.        , 0.        , 0.        , 0.        ,\n",
       "       0.        , 0.        , 0.        , 0.        , 0.        ,\n",
       "       0.        , 0.        , 0.        , 0.        , 0.        ,\n",
       "       0.        , 0.        , 0.        , 0.        , 0.        ,\n",
       "       0.        , 0.        , 0.        , 0.        , 0.        ,\n",
       "       0.        , 0.        , 0.        , 0.        , 0.        ,\n",
       "       0.        , 0.        , 0.        , 0.        , 0.        ,\n",
       "       0.        , 0.        , 0.        , 0.        , 0.        ,\n",
       "       0.        , 0.        , 0.        , 0.        , 0.        ,\n",
       "       0.        , 0.        , 0.        , 0.        , 0.        ,\n",
       "       0.        , 0.        , 0.        , 0.        , 0.        ,\n",
       "       0.        , 0.        , 0.        , 0.        , 0.        ,\n",
       "       0.        , 0.00392157, 0.        , 0.        , 0.05098039,\n",
       "       0.28627451, 0.        , 0.        , 0.00392157, 0.01568627,\n",
       "       0.        , 0.        , 0.        , 0.        , 0.00392157,\n",
       "       0.00392157, 0.        , 0.        , 0.        , 0.        ,\n",
       "       0.        , 0.        , 0.        , 0.        , 0.        ,\n",
       "       0.        , 0.        , 0.        , 0.        , 0.01176471,\n",
       "       0.        , 0.14117647, 0.53333333, 0.49803922, 0.24313725,\n",
       "       0.21176471, 0.        , 0.        , 0.        , 0.00392157,\n",
       "       0.01176471, 0.01568627, 0.        , 0.        , 0.01265823,\n",
       "       0.        , 0.        , 0.        , 0.        , 0.        ,\n",
       "       0.        , 0.        , 0.        , 0.        , 0.        ,\n",
       "       0.        , 0.        , 0.02352941, 0.        , 0.4       ,\n",
       "       0.8       , 0.69019608, 0.5254902 , 0.56470588, 0.48235294,\n",
       "       0.09019608, 0.        , 0.        , 0.        , 0.        ,\n",
       "       0.04705882, 0.03921569, 0.        , 0.        , 0.        ,\n",
       "       0.        , 0.        , 0.        , 0.        , 0.        ,\n",
       "       0.        , 0.        , 0.        , 0.        , 0.        ,\n",
       "       0.        , 0.        , 0.60784314, 0.9254902 , 0.81176471,\n",
       "       0.69803922, 0.41960784, 0.61176471, 0.63137255, 0.42745098,\n",
       "       0.25098039, 0.09019608, 0.30196078, 0.50980392, 0.28235294,\n",
       "       0.05882353, 0.        , 0.        , 0.        , 0.        ,\n",
       "       0.        , 0.        , 0.        , 0.        , 0.        ,\n",
       "       0.        , 0.        , 0.00392157, 0.        , 0.27058824,\n",
       "       0.81176471, 0.8745098 , 0.85490196, 0.84705882, 0.84705882,\n",
       "       0.63921569, 0.49803922, 0.4745098 , 0.47843137, 0.57254902,\n",
       "       0.55294118, 0.34509804, 0.6745098 , 0.25984252, 0.        ,\n",
       "       0.        , 0.        , 0.        , 0.        , 0.        ,\n",
       "       0.        , 0.        , 0.        , 0.00392157, 0.00392157,\n",
       "       0.00392157, 0.        , 0.78431373, 0.90980392, 0.90980392,\n",
       "       0.91372549, 0.89803922, 0.8745098 , 0.8745098 , 0.84313725,\n",
       "       0.83529412, 0.64313725, 0.49803922, 0.48235294, 0.76862745,\n",
       "       0.89803922, 0.        , 0.        , 0.        , 0.        ,\n",
       "       0.        , 0.        , 0.        , 0.        , 0.        ,\n",
       "       0.        , 0.        , 0.        , 0.        , 0.        ,\n",
       "       0.71764706, 0.88235294, 0.84705882, 0.8745098 , 0.89411765,\n",
       "       0.92156863, 0.89019608, 0.87843137, 0.87058824, 0.87843137,\n",
       "       0.86666667, 0.8745098 , 0.96078431, 0.67843137, 0.        ,\n",
       "       0.        , 0.        , 0.        , 0.        , 0.        ,\n",
       "       0.        , 0.        , 0.        , 0.        , 0.        ,\n",
       "       0.        , 0.        , 0.        , 0.75686275, 0.89411765,\n",
       "       0.85490196, 0.83529412, 0.77647059, 0.70588235, 0.83137255,\n",
       "       0.82352941, 0.82745098, 0.83529412, 0.8745098 , 0.8627451 ,\n",
       "       0.95294118, 0.79215686, 0.        , 0.        , 0.        ,\n",
       "       0.        , 0.        , 0.        , 0.        , 0.        ,\n",
       "       0.        , 0.        , 0.00392157, 0.01176471, 0.        ,\n",
       "       0.04705882, 0.85882353, 0.8627451 , 0.83137255, 0.85490196,\n",
       "       0.75294118, 0.6627451 , 0.89019608, 0.81568627, 0.85490196,\n",
       "       0.87843137, 0.83137255, 0.88627451, 0.77254902, 0.81960784,\n",
       "       0.20392157, 0.        , 0.        , 0.        , 0.        ,\n",
       "       0.        , 0.        , 0.        , 0.        , 0.        ,\n",
       "       0.        , 0.02352941, 0.        , 0.38823529, 0.95686275,\n",
       "       0.87058824, 0.8627451 , 0.85490196, 0.79607843, 0.77647059,\n",
       "       0.86666667, 0.84313725, 0.83529412, 0.87058824, 0.8627451 ,\n",
       "       0.96078431, 0.46666667, 0.65490196, 0.22672065, 0.        ,\n",
       "       0.        , 0.        , 0.        , 0.        , 0.        ,\n",
       "       0.        , 0.        , 0.        , 0.01568627, 0.        ,\n",
       "       0.        , 0.21568627, 0.9254902 , 0.89411765, 0.90196078,\n",
       "       0.89411765, 0.94117647, 0.90980392, 0.83529412, 0.85490196,\n",
       "       0.8745098 , 0.91764706, 0.85098039, 0.85098039, 0.81960784,\n",
       "       0.36078431, 0.        , 0.        , 0.        , 0.00392157,\n",
       "       0.01568627, 0.02352941, 0.02745098, 0.00784314, 0.        ,\n",
       "       0.        , 0.        , 0.        , 0.        , 0.92941176,\n",
       "       0.88627451, 0.85098039, 0.8745098 , 0.87058824, 0.85882353,\n",
       "       0.87058824, 0.86666667, 0.84705882, 0.8745098 , 0.89803922,\n",
       "       0.84313725, 0.85490196, 1.        , 0.30196078, 0.        ,\n",
       "       0.        , 0.01176471, 0.        , 0.        , 0.        ,\n",
       "       0.        , 0.        , 0.        , 0.        , 0.24313725,\n",
       "       0.56862745, 0.8       , 0.89411765, 0.81176471, 0.83529412,\n",
       "       0.86666667, 0.85490196, 0.81568627, 0.82745098, 0.85490196,\n",
       "       0.87843137, 0.8745098 , 0.85882353, 0.84313725, 0.87843137,\n",
       "       0.95686275, 0.62352941, 0.        , 0.        , 0.        ,\n",
       "       0.        , 0.        , 0.07058824, 0.17254902, 0.32156863,\n",
       "       0.41960784, 0.74117647, 0.89411765, 0.8627451 , 0.87058824,\n",
       "       0.85098039, 0.88627451, 0.78431373, 0.80392157, 0.82745098,\n",
       "       0.90196078, 0.87843137, 0.91764706, 0.69019608, 0.7372549 ,\n",
       "       0.98039216, 0.97254902, 0.91372549, 0.93333333, 0.84313725,\n",
       "       0.        , 0.        , 0.22352941, 0.73333333, 0.81568627,\n",
       "       0.87843137, 0.86666667, 0.87843137, 0.81568627, 0.8       ,\n",
       "       0.83921569, 0.81568627, 0.81960784, 0.78431373, 0.62352941,\n",
       "       0.96078431, 0.75686275, 0.80784314, 0.8745098 , 1.        ,\n",
       "       1.        , 0.86666667, 0.91764706, 0.86666667, 0.82745098,\n",
       "       0.8627451 , 0.90980392, 0.96470588, 0.        , 0.01176471,\n",
       "       0.79215686, 0.89411765, 0.87843137, 0.86666667, 0.82745098,\n",
       "       0.82745098, 0.83921569, 0.80392157, 0.80392157, 0.80392157,\n",
       "       0.8627451 , 0.94117647, 0.31372549, 0.58823529, 1.        ,\n",
       "       0.89803922, 0.86666667, 0.7372549 , 0.60392157, 0.74901961,\n",
       "       0.82352941, 0.8       , 0.81960784, 0.87058824, 0.89411765,\n",
       "       0.88235294, 0.        , 0.38431373, 0.91372549, 0.77647059,\n",
       "       0.82352941, 0.87058824, 0.89803922, 0.89803922, 0.91764706,\n",
       "       0.97647059, 0.8627451 , 0.76078431, 0.84313725, 0.85098039,\n",
       "       0.94509804, 0.25490196, 0.28627451, 0.41568627, 0.45882353,\n",
       "       0.65882353, 0.85882353, 0.86666667, 0.84313725, 0.85098039,\n",
       "       0.8745098 , 0.8745098 , 0.87843137, 0.89803922, 0.11836735,\n",
       "       0.29527559, 0.8       , 0.83137255, 0.8       , 0.75686275,\n",
       "       0.80392157, 0.82745098, 0.88235294, 0.84705882, 0.7254902 ,\n",
       "       0.77254902, 0.80784314, 0.77647059, 0.83529412, 0.94117647,\n",
       "       0.76470588, 0.89019608, 0.96078431, 0.9372549 , 0.8745098 ,\n",
       "       0.85490196, 0.83137255, 0.81960784, 0.87058824, 0.8627451 ,\n",
       "       0.86666667, 0.90196078, 0.28755365, 0.18823529, 0.79607843,\n",
       "       0.71764706, 0.76078431, 0.83529412, 0.77254902, 0.7254902 ,\n",
       "       0.74509804, 0.76078431, 0.75294118, 0.79215686, 0.83921569,\n",
       "       0.85882353, 0.86666667, 0.8627451 , 0.9254902 , 0.88235294,\n",
       "       0.84705882, 0.78039216, 0.80784314, 0.72941176, 0.70980392,\n",
       "       0.69411765, 0.6745098 , 0.70980392, 0.80392157, 0.80784314,\n",
       "       0.45634921, 0.        , 0.47843137, 0.85882353, 0.75686275,\n",
       "       0.70196078, 0.67058824, 0.71764706, 0.76862745, 0.8       ,\n",
       "       0.82352941, 0.83529412, 0.81176471, 0.82745098, 0.82352941,\n",
       "       0.78431373, 0.76862745, 0.76078431, 0.74901961, 0.76470588,\n",
       "       0.74901961, 0.77647059, 0.75294118, 0.69019608, 0.61176471,\n",
       "       0.65490196, 0.69411765, 0.82352941, 0.39484979, 0.        ,\n",
       "       0.        , 0.29019608, 0.74117647, 0.83137255, 0.74901961,\n",
       "       0.68627451, 0.6745098 , 0.68627451, 0.70980392, 0.7254902 ,\n",
       "       0.7372549 , 0.74117647, 0.7372549 , 0.75686275, 0.77647059,\n",
       "       0.8       , 0.81960784, 0.82352941, 0.82352941, 0.82745098,\n",
       "       0.7372549 , 0.7372549 , 0.76078431, 0.75294118, 0.84705882,\n",
       "       0.66666667, 0.        , 0.00816327, 0.        , 0.        ,\n",
       "       0.        , 0.25882353, 0.78431373, 0.87058824, 0.92941176,\n",
       "       0.9372549 , 0.94901961, 0.96470588, 0.95294118, 0.95686275,\n",
       "       0.86666667, 0.8627451 , 0.75686275, 0.74901961, 0.70196078,\n",
       "       0.71372549, 0.71372549, 0.70980392, 0.69019608, 0.65098039,\n",
       "       0.65882353, 0.38823529, 0.22745098, 0.        , 0.        ,\n",
       "       0.        , 0.        , 0.        , 0.        , 0.        ,\n",
       "       0.        , 0.        , 0.15686275, 0.23921569, 0.17254902,\n",
       "       0.28235294, 0.16078431, 0.1372549 , 0.        , 0.        ,\n",
       "       0.        , 0.        , 0.        , 0.        , 0.        ,\n",
       "       0.        , 0.        , 0.        , 0.        , 0.        ,\n",
       "       0.        , 0.        , 0.        , 0.        , 0.        ,\n",
       "       0.        , 0.        , 0.        , 0.        , 0.        ,\n",
       "       0.        , 0.        , 0.        , 0.        , 0.        ,\n",
       "       0.        , 0.        , 0.        , 0.        , 0.        ,\n",
       "       0.        , 0.        , 0.        , 0.        , 0.        ,\n",
       "       0.        , 0.        , 0.        , 0.        , 0.        ,\n",
       "       0.        , 0.        , 0.        , 0.        , 0.        ,\n",
       "       0.        , 0.        , 0.        , 0.        , 0.        ,\n",
       "       0.        , 0.        , 0.        , 0.        , 0.        ,\n",
       "       0.        , 0.        , 0.        , 0.        , 0.        ,\n",
       "       0.        , 0.        , 0.        , 0.        , 0.        ,\n",
       "       0.        , 0.        , 0.        , 0.        ])"
      ]
     },
     "execution_count": 70,
     "metadata": {},
     "output_type": "execute_result"
    }
   ],
   "source": [
    "X_train_scaled[0]"
   ]
  },
  {
   "cell_type": "code",
   "execution_count": null,
   "id": "6eb807a9",
   "metadata": {},
   "outputs": [],
   "source": []
  }
 ],
 "metadata": {
  "kernelspec": {
   "display_name": "Python 3",
   "language": "python",
   "name": "python3"
  },
  "language_info": {
   "codemirror_mode": {
    "name": "ipython",
    "version": 3
   },
   "file_extension": ".py",
   "mimetype": "text/x-python",
   "name": "python",
   "nbconvert_exporter": "python",
   "pygments_lexer": "ipython3",
   "version": "3.8.8"
  }
 },
 "nbformat": 4,
 "nbformat_minor": 5
}
